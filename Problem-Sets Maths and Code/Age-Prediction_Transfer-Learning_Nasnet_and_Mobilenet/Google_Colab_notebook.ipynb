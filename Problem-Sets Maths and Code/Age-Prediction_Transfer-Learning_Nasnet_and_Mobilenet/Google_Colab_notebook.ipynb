{
  "cells": [
    {
      "cell_type": "markdown",
      "metadata": {
        "id": "mLluQDTZkKtb"
      },
      "source": [
        "# Automatic Apparent Age Estimation (TASK 1)\n",
        "\n",
        "*   Authors: Ikram ACHALI / Lokeshwarn VENGADABADY\n",
        "\n",
        "\n",
        "\n",
        "\n",
        "\n",
        "\n"
      ]
    },
    {
      "cell_type": "markdown",
      "metadata": {
        "id": "6lCa8oSEkmQS"
      },
      "source": [
        "## **I - Introduction**\n",
        "In This task we will try to solve the fairness and bias problem in the APPA-REAL dataset.\n",
        "First we will work on the Data Augmentation stategy to solve the problem. Second, we'll focus on the Custom Loss strategy without data augmentation."
      ]
    },
    {
      "cell_type": "markdown",
      "metadata": {
        "id": "240MHOXMmBEQ"
      },
      "source": [
        "### **1. The setup**\n",
        "We need to install some packages and import some libraries."
      ]
    },
    {
      "cell_type": "code",
      "execution_count": null,
      "metadata": {
        "colab": {
          "base_uri": "https://localhost:8080/"
        },
        "id": "U9sc65KpmZcp",
        "outputId": "29ce354c-7536-4312-fba0-8e195d35373e"
      },
      "outputs": [
        {
          "name": "stdout",
          "output_type": "stream",
          "text": [
            "Requirement already satisfied: tensorflow in /usr/local/lib/python3.10/dist-packages (2.17.1)\n",
            "Requirement already satisfied: absl-py>=1.0.0 in /usr/local/lib/python3.10/dist-packages (from tensorflow) (1.4.0)\n",
            "Requirement already satisfied: astunparse>=1.6.0 in /usr/local/lib/python3.10/dist-packages (from tensorflow) (1.6.3)\n",
            "Requirement already satisfied: flatbuffers>=24.3.25 in /usr/local/lib/python3.10/dist-packages (from tensorflow) (24.3.25)\n",
            "Requirement already satisfied: gast!=0.5.0,!=0.5.1,!=0.5.2,>=0.2.1 in /usr/local/lib/python3.10/dist-packages (from tensorflow) (0.6.0)\n",
            "Requirement already satisfied: google-pasta>=0.1.1 in /usr/local/lib/python3.10/dist-packages (from tensorflow) (0.2.0)\n",
            "Requirement already satisfied: h5py>=3.10.0 in /usr/local/lib/python3.10/dist-packages (from tensorflow) (3.12.1)\n",
            "Requirement already satisfied: libclang>=13.0.0 in /usr/local/lib/python3.10/dist-packages (from tensorflow) (18.1.1)\n",
            "Requirement already satisfied: ml-dtypes<0.5.0,>=0.3.1 in /usr/local/lib/python3.10/dist-packages (from tensorflow) (0.4.1)\n",
            "Requirement already satisfied: opt-einsum>=2.3.2 in /usr/local/lib/python3.10/dist-packages (from tensorflow) (3.4.0)\n",
            "Requirement already satisfied: packaging in /usr/local/lib/python3.10/dist-packages (from tensorflow) (24.2)\n",
            "Requirement already satisfied: protobuf!=4.21.0,!=4.21.1,!=4.21.2,!=4.21.3,!=4.21.4,!=4.21.5,<5.0.0dev,>=3.20.3 in /usr/local/lib/python3.10/dist-packages (from tensorflow) (4.25.5)\n",
            "Requirement already satisfied: requests<3,>=2.21.0 in /usr/local/lib/python3.10/dist-packages (from tensorflow) (2.32.3)\n",
            "Requirement already satisfied: setuptools in /usr/local/lib/python3.10/dist-packages (from tensorflow) (75.1.0)\n",
            "Requirement already satisfied: six>=1.12.0 in /usr/local/lib/python3.10/dist-packages (from tensorflow) (1.16.0)\n",
            "Requirement already satisfied: termcolor>=1.1.0 in /usr/local/lib/python3.10/dist-packages (from tensorflow) (2.5.0)\n",
            "Requirement already satisfied: typing-extensions>=3.6.6 in /usr/local/lib/python3.10/dist-packages (from tensorflow) (4.12.2)\n",
            "Requirement already satisfied: wrapt>=1.11.0 in /usr/local/lib/python3.10/dist-packages (from tensorflow) (1.16.0)\n",
            "Requirement already satisfied: grpcio<2.0,>=1.24.3 in /usr/local/lib/python3.10/dist-packages (from tensorflow) (1.67.1)\n",
            "Requirement already satisfied: tensorboard<2.18,>=2.17 in /usr/local/lib/python3.10/dist-packages (from tensorflow) (2.17.1)\n",
            "Requirement already satisfied: keras>=3.2.0 in /usr/local/lib/python3.10/dist-packages (from tensorflow) (3.5.0)\n",
            "Requirement already satisfied: tensorflow-io-gcs-filesystem>=0.23.1 in /usr/local/lib/python3.10/dist-packages (from tensorflow) (0.37.1)\n",
            "Requirement already satisfied: numpy<2.0.0,>=1.23.5 in /usr/local/lib/python3.10/dist-packages (from tensorflow) (1.26.4)\n",
            "Requirement already satisfied: wheel<1.0,>=0.23.0 in /usr/local/lib/python3.10/dist-packages (from astunparse>=1.6.0->tensorflow) (0.45.0)\n",
            "Requirement already satisfied: rich in /usr/local/lib/python3.10/dist-packages (from keras>=3.2.0->tensorflow) (13.9.4)\n",
            "Requirement already satisfied: namex in /usr/local/lib/python3.10/dist-packages (from keras>=3.2.0->tensorflow) (0.0.8)\n",
            "Requirement already satisfied: optree in /usr/local/lib/python3.10/dist-packages (from keras>=3.2.0->tensorflow) (0.13.1)\n",
            "Requirement already satisfied: charset-normalizer<4,>=2 in /usr/local/lib/python3.10/dist-packages (from requests<3,>=2.21.0->tensorflow) (3.4.0)\n",
            "Requirement already satisfied: idna<4,>=2.5 in /usr/local/lib/python3.10/dist-packages (from requests<3,>=2.21.0->tensorflow) (3.10)\n",
            "Requirement already satisfied: urllib3<3,>=1.21.1 in /usr/local/lib/python3.10/dist-packages (from requests<3,>=2.21.0->tensorflow) (2.2.3)\n",
            "Requirement already satisfied: certifi>=2017.4.17 in /usr/local/lib/python3.10/dist-packages (from requests<3,>=2.21.0->tensorflow) (2024.8.30)\n",
            "Requirement already satisfied: markdown>=2.6.8 in /usr/local/lib/python3.10/dist-packages (from tensorboard<2.18,>=2.17->tensorflow) (3.7)\n",
            "Requirement already satisfied: tensorboard-data-server<0.8.0,>=0.7.0 in /usr/local/lib/python3.10/dist-packages (from tensorboard<2.18,>=2.17->tensorflow) (0.7.2)\n",
            "Requirement already satisfied: werkzeug>=1.0.1 in /usr/local/lib/python3.10/dist-packages (from tensorboard<2.18,>=2.17->tensorflow) (3.1.3)\n",
            "Requirement already satisfied: MarkupSafe>=2.1.1 in /usr/local/lib/python3.10/dist-packages (from werkzeug>=1.0.1->tensorboard<2.18,>=2.17->tensorflow) (3.0.2)\n",
            "Requirement already satisfied: markdown-it-py>=2.2.0 in /usr/local/lib/python3.10/dist-packages (from rich->keras>=3.2.0->tensorflow) (3.0.0)\n",
            "Requirement already satisfied: pygments<3.0.0,>=2.13.0 in /usr/local/lib/python3.10/dist-packages (from rich->keras>=3.2.0->tensorflow) (2.18.0)\n",
            "Requirement already satisfied: mdurl~=0.1 in /usr/local/lib/python3.10/dist-packages (from markdown-it-py>=2.2.0->rich->keras>=3.2.0->tensorflow) (0.1.2)\n",
            "Requirement already satisfied: opencv-python in /usr/local/lib/python3.10/dist-packages (4.10.0.84)\n",
            "Requirement already satisfied: numpy>=1.21.2 in /usr/local/lib/python3.10/dist-packages (from opencv-python) (1.26.4)\n",
            "Requirement already satisfied: h5py in /usr/local/lib/python3.10/dist-packages (3.12.1)\n",
            "Requirement already satisfied: numpy>=1.19.3 in /usr/local/lib/python3.10/dist-packages (from h5py) (1.26.4)\n",
            "Requirement already satisfied: pandas in /usr/local/lib/python3.10/dist-packages (2.2.2)\n",
            "Requirement already satisfied: numpy>=1.22.4 in /usr/local/lib/python3.10/dist-packages (from pandas) (1.26.4)\n",
            "Requirement already satisfied: python-dateutil>=2.8.2 in /usr/local/lib/python3.10/dist-packages (from pandas) (2.8.2)\n",
            "Requirement already satisfied: pytz>=2020.1 in /usr/local/lib/python3.10/dist-packages (from pandas) (2024.2)\n",
            "Requirement already satisfied: tzdata>=2022.7 in /usr/local/lib/python3.10/dist-packages (from pandas) (2024.2)\n",
            "Requirement already satisfied: six>=1.5 in /usr/local/lib/python3.10/dist-packages (from python-dateutil>=2.8.2->pandas) (1.16.0)\n",
            "Collecting image-classifiers==1.0.0b1\n",
            "  Downloading image_classifiers-1.0.0b1.tar.gz (18 kB)\n",
            "  Preparing metadata (setup.py) ... \u001b[?25l\u001b[?25hdone\n",
            "Building wheels for collected packages: image-classifiers\n",
            "  Building wheel for image-classifiers (setup.py) ... \u001b[?25l\u001b[?25hdone\n",
            "  Created wheel for image-classifiers: filename=image_classifiers-1.0.0b1-py3-none-any.whl size=19956 sha256=929f930fcf6313182677e0e536403e93c283439f78af418dc5c2954e71bc4a72\n",
            "  Stored in directory: /root/.cache/pip/wheels/6c/ef/e0/420a70a988dc10cada230cb6f7f2bc028119b69682cda4e8f1\n",
            "Successfully built image-classifiers\n",
            "Installing collected packages: image-classifiers\n",
            "Successfully installed image-classifiers-1.0.0b1\n",
            "Collecting keras_applications\n",
            "  Downloading Keras_Applications-1.0.8-py3-none-any.whl.metadata (1.7 kB)\n",
            "Requirement already satisfied: numpy>=1.9.1 in /usr/local/lib/python3.10/dist-packages (from keras_applications) (1.26.4)\n",
            "Requirement already satisfied: h5py in /usr/local/lib/python3.10/dist-packages (from keras_applications) (3.12.1)\n",
            "Downloading Keras_Applications-1.0.8-py3-none-any.whl (50 kB)\n",
            "\u001b[2K   \u001b[90m━━━━━━━━━━━━━━━━━━━━━━━━━━━━━━━━━━━━━━━━\u001b[0m \u001b[32m50.7/50.7 kB\u001b[0m \u001b[31m2.1 MB/s\u001b[0m eta \u001b[36m0:00:00\u001b[0m\n",
            "\u001b[?25hInstalling collected packages: keras_applications\n",
            "Successfully installed keras_applications-1.0.8\n"
          ]
        }
      ],
      "source": [
        "!pip install tensorflow\n",
        "!pip install opencv-python\n",
        "!pip install h5py\n",
        "!pip install pandas\n",
        "!pip install image-classifiers==1.0.0b1\n",
        "!pip install keras_applications"
      ]
    },
    {
      "cell_type": "code",
      "execution_count": null,
      "metadata": {
        "colab": {
          "base_uri": "https://localhost:8080/"
        },
        "id": "G0AwprppmfhJ",
        "outputId": "8be4dcd4-e0d6-4b1b-c393-3a53b3fe4433"
      },
      "outputs": [
        {
          "output_type": "stream",
          "name": "stdout",
          "text": [
            "2.17.1\n",
            "Num GPUs Available:  1\n"
          ]
        }
      ],
      "source": [
        "# Check the Tensorflow version\n",
        "import tensorflow as tf\n",
        "import pandas as pd\n",
        "import cv2 as cv\n",
        "from PIL import Image\n",
        "import numpy as np\n",
        "print(tf.__version__)\n",
        "print(\"Num GPUs Available: \", len(tf.config.list_physical_devices('GPU')))"
      ]
    },
    {
      "cell_type": "code",
      "execution_count": null,
      "metadata": {
        "colab": {
          "base_uri": "https://localhost:8080/"
        },
        "id": "EIbYrfYFsrTR",
        "outputId": "da68222c-58ea-4f12-81b6-d6b6bbae46ac"
      },
      "outputs": [
        {
          "output_type": "stream",
          "name": "stdout",
          "text": [
            "--2024-11-17 13:51:20--  http://158.109.8.102/AppaRealAge/appa-real-release.zip\n",
            "Connecting to 158.109.8.102:80... connected.\n",
            "HTTP request sent, awaiting response... 200 OK\n",
            "Length: 885442010 (844M) [application/zip]\n",
            "Saving to: ‘appa-real-release.zip’\n",
            "\n",
            "appa-real-release.z 100%[===================>] 844.42M  6.10MB/s    in 2m 8s   \n",
            "\n",
            "2024-11-17 13:53:29 (6.58 MB/s) - ‘appa-real-release.zip’ saved [885442010/885442010]\n",
            "\n"
          ]
        }
      ],
      "source": [
        "# downloading the data\n",
        "!wget http://158.109.8.102/AppaRealAge/appa-real-release.zip"
      ]
    },
    {
      "cell_type": "code",
      "execution_count": null,
      "metadata": {
        "colab": {
          "base_uri": "https://localhost:8080/"
        },
        "id": "gGUfyb70sKmA",
        "outputId": "fcdb1fa8-2d96-42bb-d7f3-dd8ebc8d94d1"
      },
      "outputs": [
        {
          "output_type": "stream",
          "name": "stdout",
          "text": [
            "Data decompressed successfully\n"
          ]
        }
      ],
      "source": [
        "# Unzipping the dataset\n",
        "from zipfile import ZipFile\n",
        "with ZipFile('/content/appa-real-release.zip','r') as zip:\n",
        "   zip.extractall()\n",
        "   print('Data decompressed successfully')"
      ]
    },
    {
      "cell_type": "code",
      "execution_count": null,
      "metadata": {
        "colab": {
          "base_uri": "https://localhost:8080/"
        },
        "id": "CA8lE298lMbO",
        "outputId": "efe63e52-7cdc-42dc-bd14-b1857721a7b2"
      },
      "outputs": [
        {
          "output_type": "stream",
          "name": "stdout",
          "text": [
            "\n",
            "\n",
            "### Train CSV ###\n",
            "    file_name  num_ratings  apparent_age_avg  apparent_age_std  real_age\n",
            "0  000000.jpg           36          5.000000          1.146423         4\n",
            "1  000001.jpg           63         20.079365          4.096819        18\n",
            "2  000002.jpg           38         76.815789          6.133009        80\n",
            "3  000003.jpg           38         55.657895          7.864653        50\n",
            "4  000004.jpg           15         17.666667          3.457222        17\n",
            "\n",
            "\n",
            "### Test CSV ###\n",
            "    file_name  num_ratings  apparent_age_avg  apparent_age_std  real_age\n",
            "0  005613.jpg           39         23.205128          5.530678        19\n",
            "1  005614.jpg           38         70.736842          6.570549        76\n",
            "2  005615.jpg           38         55.368421          5.874457        40\n",
            "3  005616.jpg           36         24.277778          2.224681        21\n",
            "4  005617.jpg           39         25.230769          5.691460        34\n",
            "\n",
            "\n",
            "### Valid CSV ###\n",
            "    file_name  num_ratings  apparent_age_avg  apparent_age_std  real_age\n",
            "0  004113.jpg           26         26.230769          4.003076        29\n",
            "1  004114.jpg           39         27.256410          4.552142        25\n",
            "2  004115.jpg           14         23.142857          7.262730        37\n",
            "3  004116.jpg           38         73.289474          6.472010        80\n",
            "4  004117.jpg           21         20.142857          2.797958        25\n",
            "\n",
            "\n",
            "Number of Examples in Train : 4113  = 54.18258463970491 %\n",
            "Number of Examples in Test  : 1978  = 26.057172967988407 %\n",
            "Number of Examples in Valid : 1500  = 19.76024239230668 %\n"
          ]
        }
      ],
      "source": [
        "#base_dir  = '/home/vlod08/Downloads/appa-real-release/'\n",
        "base_dir = '/content/appa-real-release/'   # base_dir for the google collab\n",
        "\n",
        "train_csv = base_dir + 'gt_avg_train.csv'\n",
        "test_csv  = base_dir + 'gt_avg_test.csv'\n",
        "valid_csv = base_dir + 'gt_avg_valid.csv'\n",
        "\n",
        "train_df = pd.read_csv(train_csv)\n",
        "test_df  = pd.read_csv(test_csv)\n",
        "valid_df = pd.read_csv(valid_csv)\n",
        "\n",
        "print(\"\\n\\n### Train CSV ###\")\n",
        "print(train_df.head(5))\n",
        "print(\"\\n\\n### Test CSV ###\")\n",
        "print(test_df.head(5))\n",
        "print(\"\\n\\n### Valid CSV ###\")\n",
        "print(valid_df.head(5))\n",
        "print(\"\\n\")\n",
        "print(f'Number of Examples in Train : {train_df.shape[0]}  = {100 * train_df.shape[0] / (train_df.shape[0] + test_df.shape[0] + valid_df.shape[0]) } %')\n",
        "print(f'Number of Examples in Test  : { test_df.shape[0]}  = {100 * test_df.shape[0]  / (train_df.shape[0] + test_df.shape[0] + valid_df.shape[0]) } %')\n",
        "print(f'Number of Examples in Valid : {valid_df.shape[0]}  = {100 * valid_df.shape[0] / (train_df.shape[0] + test_df.shape[0] + valid_df.shape[0]) } %')"
      ]
    },
    {
      "cell_type": "code",
      "execution_count": null,
      "metadata": {
        "colab": {
          "base_uri": "https://localhost:8080/"
        },
        "id": "3kB59spWlMbP",
        "outputId": "140ead2e-6a66-43d0-a987-4ce3193978f3"
      },
      "outputs": [
        {
          "output_type": "stream",
          "name": "stdout",
          "text": [
            "completed 000000 images\n",
            "completed 001000 images\n",
            "completed 002000 images\n",
            "completed 003000 images\n",
            "completed 006000 images\n",
            "completed 007000 images\n",
            "completed 005000 images\n"
          ]
        }
      ],
      "source": [
        "train_img_names = train_df['file_name']\n",
        "test_img_names  = test_df['file_name']\n",
        "valid_img_names = valid_df['file_name']\n",
        "image_list = []\n",
        "generate_X = True\n",
        "generate_Y = True\n",
        "generate_Meta = True\n",
        "\n",
        "\n",
        "\n",
        "Nb_train = 4000\n",
        "Nb_test  = 4000\n",
        "Nb_valid = 1000\n",
        "if (generate_X == True):\n",
        "    for i in train_img_names[:Nb_train]:\n",
        "        img = Image.open(f'{base_dir}/train/{i}').convert(\"RGB\")\n",
        "        img = img.resize((224,224))\n",
        "        img_array = np.array(img)\n",
        "        image_list.append(img_array)\n",
        "        if (float(i.strip('.jpg')) % 1000==0):\n",
        "            print(f\"completed {i.strip('.jpg')} images\")\n",
        "    np.save(f'{base_dir}/data_train.npy', image_list)\n",
        "\n",
        "    image_list = []\n",
        "    for i in test_img_names[:Nb_test]:\n",
        "        img = Image.open(f'{base_dir}/test/{i}').convert(\"RGB\")\n",
        "        img = img.resize((224,224))\n",
        "\n",
        "        img_array = np.array(img)\n",
        "        image_list.append(img_array)\n",
        "        if (float(i.strip('.jpg')) % 1000==0):\n",
        "            print(f\"completed {i.strip('.jpg')} images\")\n",
        "\n",
        "    np.save(f'{base_dir}/data_test.npy', image_list)\n",
        "\n",
        "    image_list = []\n",
        "    for i in valid_img_names[:Nb_valid]:\n",
        "        img = Image.open(f'{base_dir}/valid/{i}').convert(\"RGB\")\n",
        "        img = img.resize((224,224))\n",
        "        img_array = np.array(img)\n",
        "        image_list.append(img_array)\n",
        "        if (float(i.strip('.jpg')) % 1000==0):\n",
        "            print(f\"completed {i.strip('.jpg')} images\")\n",
        "    np.save(f'{base_dir}/data_valid.npy', image_list)\n",
        "\n",
        "if (generate_Y==True):\n",
        "    np.save(f'{base_dir}/labels_train.npy', train_df['real_age'][:Nb_train])\n",
        "    np.save(f'{base_dir}/labels_test.npy',   test_df['real_age'][:Nb_test] )\n",
        "    np.save(f'{base_dir}/labels_valid.npy', valid_df['real_age'][:Nb_valid])\n",
        "\n",
        "if (generate_Meta==True):\n",
        "    np.save(f'{base_dir}/meta_data_train.npy', train_df[[col for col in train_df.columns if col not in ['real_age', 'file_name']]][:Nb_train])\n",
        "    np.save(f'{base_dir}/meta_data_test.npy',   test_df[[col for col in test_df.columns if col not in  ['real_age', 'file_name']]][:Nb_test ])\n",
        "    np.save(f'{base_dir}/meta_data_valid.npy', valid_df[[col for col in valid_df.columns if col not in ['real_age', 'file_name']]][:Nb_valid])\n"
      ]
    },
    {
      "cell_type": "code",
      "execution_count": null,
      "metadata": {
        "colab": {
          "base_uri": "https://localhost:8080/"
        },
        "id": "8vIZvFh2m2WB",
        "outputId": "70b88a26-4e4e-4ea9-9743-1c8dba699064"
      },
      "outputs": [
        {
          "output_type": "stream",
          "name": "stdout",
          "text": [
            "Train data size and shape (4000, 224, 224, 3)\n",
            "Train labels size and shape (4000,)\n",
            "Train metadata size and shape (4000, 3)\n",
            "----\n",
            "Valid data size and shape (1000, 224, 224, 3)\n",
            "Valid labels size and shape (1000,)\n",
            "Valid metadata size and shape (1000, 3)\n",
            "----\n"
          ]
        }
      ],
      "source": [
        "import numpy as np\n",
        "\n",
        "# loading the train data (with labels)\n",
        "X_train = np.load(f'{base_dir}data_train.npy')\n",
        "Y_train = np.load(f'{base_dir}/labels_train.npy')\n",
        "M_train = np.load(f'{base_dir}/meta_data_train.npy')\n",
        "\n",
        "# loading the validation data (with labels)\n",
        "X_valid = np.load(f'{base_dir}/data_valid.npy')\n",
        "Y_valid = np.load(f'{base_dir}/labels_valid.npy')\n",
        "M_valid = np.load(f'{base_dir}/meta_data_valid.npy')\n",
        "# train labels are real numbers, ranging from ~0.9 to ~89 (years old);\n",
        "# we will re-scale the labels to [0,1] by using a normalization factor of 100,\n",
        "# assuming there is no sample with age > 100.\n",
        "Y_train = Y_train/100\n",
        "Y_valid = Y_valid/100\n",
        "# them using the raw data, i.e., the apparent age values\n",
        "print('Train data size and shape', X_train.shape)\n",
        "print('Train labels size and shape', Y_train.shape)\n",
        "print('Train metadata size and shape', M_train.shape)\n",
        "print('----')\n",
        "print('Valid data size and shape', X_valid.shape)\n",
        "print('Valid labels size and shape', Y_valid.shape)\n",
        "print('Valid metadata size and shape', M_valid.shape)\n",
        "print('----')\n",
        "#print('Test data size and shape', X_test.shape)"
      ]
    },
    {
      "cell_type": "markdown",
      "metadata": {
        "id": "zCH6JwRSLppI"
      },
      "source": [
        "### **3. Defining the model**"
      ]
    },
    {
      "cell_type": "markdown",
      "metadata": {
        "id": "fnuJ8vCEPN5P"
      },
      "source": [
        "NASNet refers to Neural Architecture Search Network, a family of models that were designed automatically by learning the model architectures directly on the dataset of interest.\n",
        "\n",
        "Here we consider NASNet-A, the highest performance model that was found for the CIFAR-10 dataset, and then extended to ImageNet 2012 dataset, obtaining state of the art performance on CIFAR-10 and ImageNet 2012."
      ]
    },
    {
      "cell_type": "code",
      "execution_count": null,
      "metadata": {
        "colab": {
          "base_uri": "https://localhost:8080/"
        },
        "id": "SBfedVb6Mm0N",
        "outputId": "427f4866-a4d9-47c4-cf16-f570e24ea2cd"
      },
      "outputs": [
        {
          "name": "stdout",
          "output_type": "stream",
          "text": [
            "env: CM_FRAMEWORK=tf.keras\n"
          ]
        }
      ],
      "source": [
        "\n",
        "%env CM_FRAMEWORK=tf.keras\n",
        "#from classification_models.tfkeras import Classifiers\n",
        "\n",
        "#NasNet, preprocess_input = Classifiers.get('nasnetmobile')\n",
        "\n",
        "#Prepare our images\n",
        "#X_train_processed=preprocess_input(np.copy(X_train))\n",
        "#X_valid_processed=preprocess_input(np.copy(X_valid))\n"
      ]
    },
    {
      "cell_type": "code",
      "execution_count": null,
      "metadata": {
        "colab": {
          "base_uri": "https://localhost:8080/"
        },
        "id": "HLKMJ0pVMrku",
        "outputId": "2aacd41e-24a7-4f9a-9f39-dd2353c84245"
      },
      "outputs": [
        {
          "name": "stdout",
          "output_type": "stream",
          "text": [
            "[0.04 0.18 0.8  0.5  0.17 0.27 0.24 0.43 0.26 0.39 0.17 0.51 0.02 0.01\n",
            " 0.06 0.18 0.24 0.05 0.4  0.16]\n",
            "Num GPUs Available:  1\n"
          ]
        }
      ],
      "source": [
        "### Original\n",
        "\n",
        "# # defining the early stop criteria\n",
        "# es = tf.keras.callbacks.EarlyStopping(monitor='val_loss', mode='min', verbose=1, patience=5)\n",
        "# # build model\n",
        "# base_model=NasNet(input_shape=(224,224,3), weights='imagenet', include_top=False)\n",
        "# x = tf.keras.layers.GlobalAveragePooling2D()(base_model.output)\n",
        "# output = tf.keras.layers.Dense(1, activation='sigmoid')(x)\n",
        "# model = tf.keras.models.Model(inputs=[base_model.input], outputs=[output])\n",
        "#\n",
        "\n",
        "es = tf.keras.callbacks.EarlyStopping(monitor='val_loss', mode='min', verbose=1, patience=5)\n",
        "base_model = tf.keras.applications.NASNetMobile(input_shape=(224, 224, 3), weights='imagenet', include_top=False)\n",
        "preprocess_input = tf.keras.applications.nasnet.preprocess_input\n",
        "x = tf.keras.layers.GlobalAveragePooling2D()(base_model.output)\n",
        "output = tf.keras.layers.Dense(1, activation='sigmoid')(x)\n",
        "model = tf.keras.models.Model(inputs=[base_model.input], outputs=[output])\n",
        "for l in model.layers:\n",
        "  l.trainable =False\n",
        "X_train_processed=preprocess_input(np.copy(X_train))\n",
        "X_valid_processed=preprocess_input(np.copy(X_valid))\n",
        "#base_model.summary()\n",
        "print(Y_train[:20])\n",
        "print(\"Num GPUs Available: \", len(tf.config.list_physical_devices('GPU')))"
      ]
    },
    {
      "cell_type": "code",
      "execution_count": null,
      "metadata": {
        "colab": {
          "base_uri": "https://localhost:8080/"
        },
        "id": "ksj7ea5W8unr",
        "outputId": "8fae70ef-f08a-4a96-a745-be64dc5c1126"
      },
      "outputs": [
        {
          "name": "stdout",
          "output_type": "stream",
          "text": [
            "Num GPUs Available:  1\n"
          ]
        }
      ],
      "source": [
        "### Nasnet basic\n",
        "early_stopping_Nasnet = tf.keras.callbacks.EarlyStopping(monitor='val_loss', mode='min', verbose=1, patience=6)\n",
        "# Load NASNetMobile with pre-trained ImageNet weights, excluding the top layer\n",
        "base_model = tf.keras.applications.NASNetMobile(input_shape=(224, 224, 3), weights='imagenet', include_top=False)\n",
        "#preprocess_input = tf.keras.applications.mobilenet.preprocess_input\n",
        "preprocess_input_Nasnet = tf.keras.applications.nasnet.preprocess_input\n",
        "base_model.trainable = False\n",
        "# Adding custom layers\n",
        "x = base_model.output\n",
        "output = tf.keras.layers.Dense(1, activation='sigmoid')(x)\n",
        "# Create the new model with NASNetMobile as the base\n",
        "Nasnet_model = tf.keras.models.Model(inputs=base_model.input, outputs=output)\n",
        "# Preprocess the data\n",
        "X_train_processed_Nasnet = preprocess_input_Nasnet(np.copy(X_train))\n",
        "X_valid_processed_Nasnet = preprocess_input_Nasnet(np.copy(X_valid))\n",
        "print(\"Num GPUs Available: \", len(tf.config.list_physical_devices('GPU')))"
      ]
    },
    {
      "cell_type": "code",
      "execution_count": null,
      "metadata": {
        "colab": {
          "base_uri": "https://localhost:8080/"
        },
        "id": "TBJQr2Lp_5LE",
        "outputId": "00f8e5c3-7d2f-4dab-cad1-5f304a499403"
      },
      "outputs": [
        {
          "name": "stdout",
          "output_type": "stream",
          "text": [
            "Epoch 1/100\n",
            "\u001b[1m125/125\u001b[0m \u001b[32m━━━━━━━━━━━━━━━━━━━━\u001b[0m\u001b[37m\u001b[0m \u001b[1m43s\u001b[0m 144ms/step - loss: 0.0393 - mae: 0.1591 - val_loss: 0.0437 - val_mae: 0.1686\n",
            "Epoch 2/100\n",
            "\u001b[1m125/125\u001b[0m \u001b[32m━━━━━━━━━━━━━━━━━━━━\u001b[0m\u001b[37m\u001b[0m \u001b[1m4s\u001b[0m 30ms/step - loss: 0.0400 - mae: 0.1603 - val_loss: 0.0436 - val_mae: 0.1685\n",
            "Epoch 3/100\n",
            "\u001b[1m125/125\u001b[0m \u001b[32m━━━━━━━━━━━━━━━━━━━━\u001b[0m\u001b[37m\u001b[0m \u001b[1m4s\u001b[0m 29ms/step - loss: 0.0405 - mae: 0.1609 - val_loss: 0.0435 - val_mae: 0.1682\n",
            "Epoch 4/100\n",
            "\u001b[1m125/125\u001b[0m \u001b[32m━━━━━━━━━━━━━━━━━━━━\u001b[0m\u001b[37m\u001b[0m \u001b[1m4s\u001b[0m 30ms/step - loss: 0.0400 - mae: 0.1600 - val_loss: 0.0435 - val_mae: 0.1682\n",
            "Epoch 5/100\n",
            "\u001b[1m125/125\u001b[0m \u001b[32m━━━━━━━━━━━━━━━━━━━━\u001b[0m\u001b[37m\u001b[0m \u001b[1m4s\u001b[0m 30ms/step - loss: 0.0394 - mae: 0.1589 - val_loss: 0.0433 - val_mae: 0.1678\n",
            "Epoch 6/100\n",
            "\u001b[1m125/125\u001b[0m \u001b[32m━━━━━━━━━━━━━━━━━━━━\u001b[0m\u001b[37m\u001b[0m \u001b[1m4s\u001b[0m 28ms/step - loss: 0.0401 - mae: 0.1600 - val_loss: 0.0433 - val_mae: 0.1678\n",
            "Epoch 7/100\n",
            "\u001b[1m125/125\u001b[0m \u001b[32m━━━━━━━━━━━━━━━━━━━━\u001b[0m\u001b[37m\u001b[0m \u001b[1m4s\u001b[0m 29ms/step - loss: 0.0392 - mae: 0.1586 - val_loss: 0.0432 - val_mae: 0.1678\n",
            "Epoch 8/100\n",
            "\u001b[1m125/125\u001b[0m \u001b[32m━━━━━━━━━━━━━━━━━━━━\u001b[0m\u001b[37m\u001b[0m \u001b[1m4s\u001b[0m 29ms/step - loss: 0.0396 - mae: 0.1595 - val_loss: 0.0431 - val_mae: 0.1675\n",
            "Epoch 9/100\n",
            "\u001b[1m125/125\u001b[0m \u001b[32m━━━━━━━━━━━━━━━━━━━━\u001b[0m\u001b[37m\u001b[0m \u001b[1m4s\u001b[0m 28ms/step - loss: 0.0389 - mae: 0.1579 - val_loss: 0.0431 - val_mae: 0.1675\n",
            "Epoch 10/100\n",
            "\u001b[1m125/125\u001b[0m \u001b[32m━━━━━━━━━━━━━━━━━━━━\u001b[0m\u001b[37m\u001b[0m \u001b[1m4s\u001b[0m 29ms/step - loss: 0.0392 - mae: 0.1586 - val_loss: 0.0429 - val_mae: 0.1671\n",
            "Epoch 11/100\n",
            "\u001b[1m125/125\u001b[0m \u001b[32m━━━━━━━━━━━━━━━━━━━━\u001b[0m\u001b[37m\u001b[0m \u001b[1m4s\u001b[0m 29ms/step - loss: 0.0381 - mae: 0.1560 - val_loss: 0.0428 - val_mae: 0.1669\n",
            "Epoch 12/100\n",
            "\u001b[1m125/125\u001b[0m \u001b[32m━━━━━━━━━━━━━━━━━━━━\u001b[0m\u001b[37m\u001b[0m \u001b[1m4s\u001b[0m 29ms/step - loss: 0.0399 - mae: 0.1604 - val_loss: 0.0427 - val_mae: 0.1668\n",
            "Epoch 13/100\n",
            "\u001b[1m125/125\u001b[0m \u001b[32m━━━━━━━━━━━━━━━━━━━━\u001b[0m\u001b[37m\u001b[0m \u001b[1m4s\u001b[0m 28ms/step - loss: 0.0394 - mae: 0.1592 - val_loss: 0.0427 - val_mae: 0.1668\n",
            "Epoch 14/100\n",
            "\u001b[1m125/125\u001b[0m \u001b[32m━━━━━━━━━━━━━━━━━━━━\u001b[0m\u001b[37m\u001b[0m \u001b[1m4s\u001b[0m 29ms/step - loss: 0.0389 - mae: 0.1578 - val_loss: 0.0426 - val_mae: 0.1664\n",
            "Epoch 15/100\n",
            "\u001b[1m125/125\u001b[0m \u001b[32m━━━━━━━━━━━━━━━━━━━━\u001b[0m\u001b[37m\u001b[0m \u001b[1m4s\u001b[0m 30ms/step - loss: 0.0389 - mae: 0.1577 - val_loss: 0.0425 - val_mae: 0.1661\n",
            "Epoch 16/100\n",
            "\u001b[1m125/125\u001b[0m \u001b[32m━━━━━━━━━━━━━━━━━━━━\u001b[0m\u001b[37m\u001b[0m \u001b[1m4s\u001b[0m 29ms/step - loss: 0.0389 - mae: 0.1574 - val_loss: 0.0424 - val_mae: 0.1661\n",
            "Epoch 17/100\n",
            "\u001b[1m125/125\u001b[0m \u001b[32m━━━━━━━━━━━━━━━━━━━━\u001b[0m\u001b[37m\u001b[0m \u001b[1m4s\u001b[0m 29ms/step - loss: 0.0389 - mae: 0.1574 - val_loss: 0.0423 - val_mae: 0.1658\n",
            "Epoch 18/100\n",
            "\u001b[1m125/125\u001b[0m \u001b[32m━━━━━━━━━━━━━━━━━━━━\u001b[0m\u001b[37m\u001b[0m \u001b[1m4s\u001b[0m 29ms/step - loss: 0.0384 - mae: 0.1566 - val_loss: 0.0422 - val_mae: 0.1657\n",
            "Epoch 19/100\n",
            "\u001b[1m125/125\u001b[0m \u001b[32m━━━━━━━━━━━━━━━━━━━━\u001b[0m\u001b[37m\u001b[0m \u001b[1m4s\u001b[0m 28ms/step - loss: 0.0373 - mae: 0.1548 - val_loss: 0.0422 - val_mae: 0.1656\n",
            "Epoch 20/100\n",
            "\u001b[1m125/125\u001b[0m \u001b[32m━━━━━━━━━━━━━━━━━━━━\u001b[0m\u001b[37m\u001b[0m \u001b[1m4s\u001b[0m 29ms/step - loss: 0.0382 - mae: 0.1561 - val_loss: 0.0421 - val_mae: 0.1654\n",
            "Epoch 21/100\n",
            "\u001b[1m125/125\u001b[0m \u001b[32m━━━━━━━━━━━━━━━━━━━━\u001b[0m\u001b[37m\u001b[0m \u001b[1m4s\u001b[0m 29ms/step - loss: 0.0386 - mae: 0.1570 - val_loss: 0.0420 - val_mae: 0.1652\n",
            "Epoch 22/100\n",
            "\u001b[1m125/125\u001b[0m \u001b[32m━━━━━━━━━━━━━━━━━━━━\u001b[0m\u001b[37m\u001b[0m \u001b[1m4s\u001b[0m 30ms/step - loss: 0.0384 - mae: 0.1569 - val_loss: 0.0419 - val_mae: 0.1651\n",
            "Epoch 23/100\n",
            "\u001b[1m125/125\u001b[0m \u001b[32m━━━━━━━━━━━━━━━━━━━━\u001b[0m\u001b[37m\u001b[0m \u001b[1m4s\u001b[0m 29ms/step - loss: 0.0382 - mae: 0.1562 - val_loss: 0.0419 - val_mae: 0.1651\n",
            "Epoch 24/100\n",
            "\u001b[1m125/125\u001b[0m \u001b[32m━━━━━━━━━━━━━━━━━━━━\u001b[0m\u001b[37m\u001b[0m \u001b[1m4s\u001b[0m 30ms/step - loss: 0.0380 - mae: 0.1562 - val_loss: 0.0418 - val_mae: 0.1649\n",
            "Epoch 25/100\n",
            "\u001b[1m125/125\u001b[0m \u001b[32m━━━━━━━━━━━━━━━━━━━━\u001b[0m\u001b[37m\u001b[0m \u001b[1m4s\u001b[0m 29ms/step - loss: 0.0376 - mae: 0.1553 - val_loss: 0.0418 - val_mae: 0.1649\n",
            "Epoch 26/100\n",
            "\u001b[1m125/125\u001b[0m \u001b[32m━━━━━━━━━━━━━━━━━━━━\u001b[0m\u001b[37m\u001b[0m \u001b[1m4s\u001b[0m 29ms/step - loss: 0.0384 - mae: 0.1569 - val_loss: 0.0416 - val_mae: 0.1645\n",
            "Epoch 27/100\n",
            "\u001b[1m125/125\u001b[0m \u001b[32m━━━━━━━━━━━━━━━━━━━━\u001b[0m\u001b[37m\u001b[0m \u001b[1m4s\u001b[0m 30ms/step - loss: 0.0385 - mae: 0.1568 - val_loss: 0.0415 - val_mae: 0.1643\n",
            "Epoch 28/100\n",
            "\u001b[1m125/125\u001b[0m \u001b[32m━━━━━━━━━━━━━━━━━━━━\u001b[0m\u001b[37m\u001b[0m \u001b[1m4s\u001b[0m 30ms/step - loss: 0.0369 - mae: 0.1529 - val_loss: 0.0415 - val_mae: 0.1642\n",
            "Epoch 29/100\n",
            "\u001b[1m125/125\u001b[0m \u001b[32m━━━━━━━━━━━━━━━━━━━━\u001b[0m\u001b[37m\u001b[0m \u001b[1m4s\u001b[0m 29ms/step - loss: 0.0384 - mae: 0.1565 - val_loss: 0.0414 - val_mae: 0.1639\n",
            "Epoch 30/100\n",
            "\u001b[1m125/125\u001b[0m \u001b[32m━━━━━━━━━━━━━━━━━━━━\u001b[0m\u001b[37m\u001b[0m \u001b[1m4s\u001b[0m 29ms/step - loss: 0.0373 - mae: 0.1547 - val_loss: 0.0414 - val_mae: 0.1641\n",
            "Epoch 31/100\n",
            "\u001b[1m125/125\u001b[0m \u001b[32m━━━━━━━━━━━━━━━━━━━━\u001b[0m\u001b[37m\u001b[0m \u001b[1m4s\u001b[0m 30ms/step - loss: 0.0374 - mae: 0.1544 - val_loss: 0.0413 - val_mae: 0.1640\n",
            "Epoch 32/100\n",
            "\u001b[1m125/125\u001b[0m \u001b[32m━━━━━━━━━━━━━━━━━━━━\u001b[0m\u001b[37m\u001b[0m \u001b[1m4s\u001b[0m 29ms/step - loss: 0.0371 - mae: 0.1548 - val_loss: 0.0412 - val_mae: 0.1637\n",
            "Epoch 33/100\n",
            "\u001b[1m125/125\u001b[0m \u001b[32m━━━━━━━━━━━━━━━━━━━━\u001b[0m\u001b[37m\u001b[0m \u001b[1m4s\u001b[0m 29ms/step - loss: 0.0384 - mae: 0.1564 - val_loss: 0.0411 - val_mae: 0.1635\n",
            "Epoch 34/100\n",
            "\u001b[1m125/125\u001b[0m \u001b[32m━━━━━━━━━━━━━━━━━━━━\u001b[0m\u001b[37m\u001b[0m \u001b[1m4s\u001b[0m 30ms/step - loss: 0.0372 - mae: 0.1543 - val_loss: 0.0411 - val_mae: 0.1636\n",
            "Epoch 35/100\n",
            "\u001b[1m125/125\u001b[0m \u001b[32m━━━━━━━━━━━━━━━━━━━━\u001b[0m\u001b[37m\u001b[0m \u001b[1m4s\u001b[0m 29ms/step - loss: 0.0366 - mae: 0.1533 - val_loss: 0.0410 - val_mae: 0.1632\n",
            "Epoch 36/100\n",
            "\u001b[1m125/125\u001b[0m \u001b[32m━━━━━━━━━━━━━━━━━━━━\u001b[0m\u001b[37m\u001b[0m \u001b[1m4s\u001b[0m 29ms/step - loss: 0.0381 - mae: 0.1556 - val_loss: 0.0409 - val_mae: 0.1632\n",
            "Epoch 37/100\n",
            "\u001b[1m125/125\u001b[0m \u001b[32m━━━━━━━━━━━━━━━━━━━━\u001b[0m\u001b[37m\u001b[0m \u001b[1m4s\u001b[0m 30ms/step - loss: 0.0379 - mae: 0.1556 - val_loss: 0.0408 - val_mae: 0.1628\n",
            "Epoch 38/100\n",
            "\u001b[1m125/125\u001b[0m \u001b[32m━━━━━━━━━━━━━━━━━━━━\u001b[0m\u001b[37m\u001b[0m \u001b[1m4s\u001b[0m 29ms/step - loss: 0.0365 - mae: 0.1528 - val_loss: 0.0408 - val_mae: 0.1629\n",
            "Epoch 39/100\n",
            "\u001b[1m125/125\u001b[0m \u001b[32m━━━━━━━━━━━━━━━━━━━━\u001b[0m\u001b[37m\u001b[0m \u001b[1m4s\u001b[0m 29ms/step - loss: 0.0375 - mae: 0.1544 - val_loss: 0.0407 - val_mae: 0.1626\n",
            "Epoch 40/100\n",
            "\u001b[1m125/125\u001b[0m \u001b[32m━━━━━━━━━━━━━━━━━━━━\u001b[0m\u001b[37m\u001b[0m \u001b[1m4s\u001b[0m 29ms/step - loss: 0.0361 - mae: 0.1520 - val_loss: 0.0407 - val_mae: 0.1627\n",
            "Epoch 41/100\n",
            "\u001b[1m125/125\u001b[0m \u001b[32m━━━━━━━━━━━━━━━━━━━━\u001b[0m\u001b[37m\u001b[0m \u001b[1m4s\u001b[0m 30ms/step - loss: 0.0372 - mae: 0.1539 - val_loss: 0.0406 - val_mae: 0.1626\n",
            "Epoch 42/100\n",
            "\u001b[1m125/125\u001b[0m \u001b[32m━━━━━━━━━━━━━━━━━━━━\u001b[0m\u001b[37m\u001b[0m \u001b[1m4s\u001b[0m 29ms/step - loss: 0.0362 - mae: 0.1526 - val_loss: 0.0405 - val_mae: 0.1624\n",
            "Epoch 43/100\n",
            "\u001b[1m125/125\u001b[0m \u001b[32m━━━━━━━━━━━━━━━━━━━━\u001b[0m\u001b[37m\u001b[0m \u001b[1m4s\u001b[0m 30ms/step - loss: 0.0383 - mae: 0.1563 - val_loss: 0.0405 - val_mae: 0.1622\n",
            "Epoch 44/100\n",
            "\u001b[1m125/125\u001b[0m \u001b[32m━━━━━━━━━━━━━━━━━━━━\u001b[0m\u001b[37m\u001b[0m \u001b[1m4s\u001b[0m 31ms/step - loss: 0.0379 - mae: 0.1560 - val_loss: 0.0404 - val_mae: 0.1621\n",
            "Epoch 45/100\n",
            "\u001b[1m125/125\u001b[0m \u001b[32m━━━━━━━━━━━━━━━━━━━━\u001b[0m\u001b[37m\u001b[0m \u001b[1m4s\u001b[0m 29ms/step - loss: 0.0374 - mae: 0.1546 - val_loss: 0.0404 - val_mae: 0.1622\n",
            "Epoch 46/100\n",
            "\u001b[1m125/125\u001b[0m \u001b[32m━━━━━━━━━━━━━━━━━━━━\u001b[0m\u001b[37m\u001b[0m \u001b[1m4s\u001b[0m 31ms/step - loss: 0.0360 - mae: 0.1514 - val_loss: 0.0403 - val_mae: 0.1619\n",
            "Epoch 47/100\n",
            "\u001b[1m125/125\u001b[0m \u001b[32m━━━━━━━━━━━━━━━━━━━━\u001b[0m\u001b[37m\u001b[0m \u001b[1m4s\u001b[0m 29ms/step - loss: 0.0374 - mae: 0.1538 - val_loss: 0.0403 - val_mae: 0.1619\n",
            "Epoch 48/100\n",
            "\u001b[1m125/125\u001b[0m \u001b[32m━━━━━━━━━━━━━━━━━━━━\u001b[0m\u001b[37m\u001b[0m \u001b[1m4s\u001b[0m 29ms/step - loss: 0.0368 - mae: 0.1532 - val_loss: 0.0402 - val_mae: 0.1616\n",
            "Epoch 49/100\n",
            "\u001b[1m125/125\u001b[0m \u001b[32m━━━━━━━━━━━━━━━━━━━━\u001b[0m\u001b[37m\u001b[0m \u001b[1m4s\u001b[0m 30ms/step - loss: 0.0352 - mae: 0.1497 - val_loss: 0.0401 - val_mae: 0.1614\n",
            "Epoch 50/100\n",
            "\u001b[1m125/125\u001b[0m \u001b[32m━━━━━━━━━━━━━━━━━━━━\u001b[0m\u001b[37m\u001b[0m \u001b[1m4s\u001b[0m 30ms/step - loss: 0.0358 - mae: 0.1508 - val_loss: 0.0401 - val_mae: 0.1614\n",
            "Epoch 51/100\n",
            "\u001b[1m125/125\u001b[0m \u001b[32m━━━━━━━━━━━━━━━━━━━━\u001b[0m\u001b[37m\u001b[0m \u001b[1m4s\u001b[0m 30ms/step - loss: 0.0358 - mae: 0.1514 - val_loss: 0.0401 - val_mae: 0.1615\n",
            "Epoch 52/100\n",
            "\u001b[1m125/125\u001b[0m \u001b[32m━━━━━━━━━━━━━━━━━━━━\u001b[0m\u001b[37m\u001b[0m \u001b[1m4s\u001b[0m 29ms/step - loss: 0.0366 - mae: 0.1526 - val_loss: 0.0400 - val_mae: 0.1613\n",
            "Epoch 53/100\n",
            "\u001b[1m125/125\u001b[0m \u001b[32m━━━━━━━━━━━━━━━━━━━━\u001b[0m\u001b[37m\u001b[0m \u001b[1m4s\u001b[0m 31ms/step - loss: 0.0362 - mae: 0.1518 - val_loss: 0.0399 - val_mae: 0.1611\n",
            "Epoch 54/100\n",
            "\u001b[1m125/125\u001b[0m \u001b[32m━━━━━━━━━━━━━━━━━━━━\u001b[0m\u001b[37m\u001b[0m \u001b[1m4s\u001b[0m 29ms/step - loss: 0.0354 - mae: 0.1503 - val_loss: 0.0398 - val_mae: 0.1608\n",
            "Epoch 55/100\n",
            "\u001b[1m125/125\u001b[0m \u001b[32m━━━━━━━━━━━━━━━━━━━━\u001b[0m\u001b[37m\u001b[0m \u001b[1m4s\u001b[0m 29ms/step - loss: 0.0365 - mae: 0.1527 - val_loss: 0.0398 - val_mae: 0.1607\n",
            "Epoch 56/100\n",
            "\u001b[1m125/125\u001b[0m \u001b[32m━━━━━━━━━━━━━━━━━━━━\u001b[0m\u001b[37m\u001b[0m \u001b[1m4s\u001b[0m 30ms/step - loss: 0.0370 - mae: 0.1530 - val_loss: 0.0397 - val_mae: 0.1608\n",
            "Epoch 57/100\n",
            "\u001b[1m125/125\u001b[0m \u001b[32m━━━━━━━━━━━━━━━━━━━━\u001b[0m\u001b[37m\u001b[0m \u001b[1m4s\u001b[0m 31ms/step - loss: 0.0358 - mae: 0.1508 - val_loss: 0.0397 - val_mae: 0.1608\n",
            "Epoch 58/100\n",
            "\u001b[1m125/125\u001b[0m \u001b[32m━━━━━━━━━━━━━━━━━━━━\u001b[0m\u001b[37m\u001b[0m \u001b[1m4s\u001b[0m 31ms/step - loss: 0.0362 - mae: 0.1523 - val_loss: 0.0396 - val_mae: 0.1606\n",
            "Epoch 59/100\n",
            "\u001b[1m125/125\u001b[0m \u001b[32m━━━━━━━━━━━━━━━━━━━━\u001b[0m\u001b[37m\u001b[0m \u001b[1m4s\u001b[0m 32ms/step - loss: 0.0358 - mae: 0.1514 - val_loss: 0.0396 - val_mae: 0.1606\n",
            "Epoch 60/100\n",
            "\u001b[1m125/125\u001b[0m \u001b[32m━━━━━━━━━━━━━━━━━━━━\u001b[0m\u001b[37m\u001b[0m \u001b[1m4s\u001b[0m 31ms/step - loss: 0.0357 - mae: 0.1510 - val_loss: 0.0395 - val_mae: 0.1604\n",
            "Epoch 61/100\n",
            "\u001b[1m125/125\u001b[0m \u001b[32m━━━━━━━━━━━━━━━━━━━━\u001b[0m\u001b[37m\u001b[0m \u001b[1m4s\u001b[0m 30ms/step - loss: 0.0374 - mae: 0.1541 - val_loss: 0.0394 - val_mae: 0.1601\n",
            "Epoch 62/100\n",
            "\u001b[1m125/125\u001b[0m \u001b[32m━━━━━━━━━━━━━━━━━━━━\u001b[0m\u001b[37m\u001b[0m \u001b[1m4s\u001b[0m 29ms/step - loss: 0.0358 - mae: 0.1513 - val_loss: 0.0394 - val_mae: 0.1600\n",
            "Epoch 63/100\n",
            "\u001b[1m125/125\u001b[0m \u001b[32m━━━━━━━━━━━━━━━━━━━━\u001b[0m\u001b[37m\u001b[0m \u001b[1m4s\u001b[0m 31ms/step - loss: 0.0351 - mae: 0.1496 - val_loss: 0.0394 - val_mae: 0.1602\n",
            "Epoch 64/100\n",
            "\u001b[1m125/125\u001b[0m \u001b[32m━━━━━━━━━━━━━━━━━━━━\u001b[0m\u001b[37m\u001b[0m \u001b[1m4s\u001b[0m 28ms/step - loss: 0.0357 - mae: 0.1507 - val_loss: 0.0393 - val_mae: 0.1599\n",
            "Epoch 65/100\n",
            "\u001b[1m125/125\u001b[0m \u001b[32m━━━━━━━━━━━━━━━━━━━━\u001b[0m\u001b[37m\u001b[0m \u001b[1m4s\u001b[0m 30ms/step - loss: 0.0367 - mae: 0.1536 - val_loss: 0.0392 - val_mae: 0.1597\n",
            "Epoch 66/100\n",
            "\u001b[1m125/125\u001b[0m \u001b[32m━━━━━━━━━━━━━━━━━━━━\u001b[0m\u001b[37m\u001b[0m \u001b[1m4s\u001b[0m 29ms/step - loss: 0.0357 - mae: 0.1502 - val_loss: 0.0392 - val_mae: 0.1597\n",
            "Epoch 67/100\n",
            "\u001b[1m125/125\u001b[0m \u001b[32m━━━━━━━━━━━━━━━━━━━━\u001b[0m\u001b[37m\u001b[0m \u001b[1m4s\u001b[0m 29ms/step - loss: 0.0351 - mae: 0.1498 - val_loss: 0.0391 - val_mae: 0.1594\n",
            "Epoch 68/100\n",
            "\u001b[1m125/125\u001b[0m \u001b[32m━━━━━━━━━━━━━━━━━━━━\u001b[0m\u001b[37m\u001b[0m \u001b[1m4s\u001b[0m 29ms/step - loss: 0.0356 - mae: 0.1511 - val_loss: 0.0391 - val_mae: 0.1594\n",
            "Epoch 69/100\n",
            "\u001b[1m125/125\u001b[0m \u001b[32m━━━━━━━━━━━━━━━━━━━━\u001b[0m\u001b[37m\u001b[0m \u001b[1m4s\u001b[0m 29ms/step - loss: 0.0351 - mae: 0.1498 - val_loss: 0.0391 - val_mae: 0.1594\n",
            "Epoch 70/100\n",
            "\u001b[1m125/125\u001b[0m \u001b[32m━━━━━━━━━━━━━━━━━━━━\u001b[0m\u001b[37m\u001b[0m \u001b[1m4s\u001b[0m 29ms/step - loss: 0.0348 - mae: 0.1492 - val_loss: 0.0390 - val_mae: 0.1594\n",
            "Epoch 71/100\n",
            "\u001b[1m125/125\u001b[0m \u001b[32m━━━━━━━━━━━━━━━━━━━━\u001b[0m\u001b[37m\u001b[0m \u001b[1m4s\u001b[0m 30ms/step - loss: 0.0363 - mae: 0.1519 - val_loss: 0.0389 - val_mae: 0.1589\n",
            "Epoch 72/100\n",
            "\u001b[1m125/125\u001b[0m \u001b[32m━━━━━━━━━━━━━━━━━━━━\u001b[0m\u001b[37m\u001b[0m \u001b[1m4s\u001b[0m 29ms/step - loss: 0.0350 - mae: 0.1492 - val_loss: 0.0390 - val_mae: 0.1593\n",
            "Epoch 73/100\n",
            "\u001b[1m125/125\u001b[0m \u001b[32m━━━━━━━━━━━━━━━━━━━━\u001b[0m\u001b[37m\u001b[0m \u001b[1m4s\u001b[0m 30ms/step - loss: 0.0343 - mae: 0.1478 - val_loss: 0.0388 - val_mae: 0.1589\n",
            "Epoch 74/100\n",
            "\u001b[1m125/125\u001b[0m \u001b[32m━━━━━━━━━━━━━━━━━━━━\u001b[0m\u001b[37m\u001b[0m \u001b[1m4s\u001b[0m 29ms/step - loss: 0.0346 - mae: 0.1488 - val_loss: 0.0388 - val_mae: 0.1590\n",
            "Epoch 75/100\n",
            "\u001b[1m125/125\u001b[0m \u001b[32m━━━━━━━━━━━━━━━━━━━━\u001b[0m\u001b[37m\u001b[0m \u001b[1m4s\u001b[0m 28ms/step - loss: 0.0359 - mae: 0.1514 - val_loss: 0.0388 - val_mae: 0.1588\n",
            "Epoch 76/100\n",
            "\u001b[1m125/125\u001b[0m \u001b[32m━━━━━━━━━━━━━━━━━━━━\u001b[0m\u001b[37m\u001b[0m \u001b[1m4s\u001b[0m 30ms/step - loss: 0.0353 - mae: 0.1498 - val_loss: 0.0387 - val_mae: 0.1587\n",
            "Epoch 77/100\n",
            "\u001b[1m125/125\u001b[0m \u001b[32m━━━━━━━━━━━━━━━━━━━━\u001b[0m\u001b[37m\u001b[0m \u001b[1m4s\u001b[0m 30ms/step - loss: 0.0353 - mae: 0.1496 - val_loss: 0.0386 - val_mae: 0.1585\n",
            "Epoch 78/100\n",
            "\u001b[1m125/125\u001b[0m \u001b[32m━━━━━━━━━━━━━━━━━━━━\u001b[0m\u001b[37m\u001b[0m \u001b[1m4s\u001b[0m 29ms/step - loss: 0.0356 - mae: 0.1509 - val_loss: 0.0386 - val_mae: 0.1585\n",
            "Epoch 79/100\n",
            "\u001b[1m125/125\u001b[0m \u001b[32m━━━━━━━━━━━━━━━━━━━━\u001b[0m\u001b[37m\u001b[0m \u001b[1m4s\u001b[0m 29ms/step - loss: 0.0355 - mae: 0.1502 - val_loss: 0.0386 - val_mae: 0.1584\n",
            "Epoch 80/100\n",
            "\u001b[1m125/125\u001b[0m \u001b[32m━━━━━━━━━━━━━━━━━━━━\u001b[0m\u001b[37m\u001b[0m \u001b[1m4s\u001b[0m 31ms/step - loss: 0.0348 - mae: 0.1490 - val_loss: 0.0385 - val_mae: 0.1582\n",
            "Epoch 81/100\n",
            "\u001b[1m125/125\u001b[0m \u001b[32m━━━━━━━━━━━━━━━━━━━━\u001b[0m\u001b[37m\u001b[0m \u001b[1m4s\u001b[0m 29ms/step - loss: 0.0348 - mae: 0.1487 - val_loss: 0.0385 - val_mae: 0.1583\n",
            "Epoch 82/100\n",
            "\u001b[1m125/125\u001b[0m \u001b[32m━━━━━━━━━━━━━━━━━━━━\u001b[0m\u001b[37m\u001b[0m \u001b[1m4s\u001b[0m 30ms/step - loss: 0.0347 - mae: 0.1486 - val_loss: 0.0385 - val_mae: 0.1583\n",
            "Epoch 83/100\n",
            "\u001b[1m125/125\u001b[0m \u001b[32m━━━━━━━━━━━━━━━━━━━━\u001b[0m\u001b[37m\u001b[0m \u001b[1m4s\u001b[0m 30ms/step - loss: 0.0341 - mae: 0.1480 - val_loss: 0.0384 - val_mae: 0.1579\n",
            "Epoch 84/100\n",
            "\u001b[1m125/125\u001b[0m \u001b[32m━━━━━━━━━━━━━━━━━━━━\u001b[0m\u001b[37m\u001b[0m \u001b[1m4s\u001b[0m 30ms/step - loss: 0.0347 - mae: 0.1486 - val_loss: 0.0383 - val_mae: 0.1578\n",
            "Epoch 85/100\n",
            "\u001b[1m125/125\u001b[0m \u001b[32m━━━━━━━━━━━━━━━━━━━━\u001b[0m\u001b[37m\u001b[0m \u001b[1m4s\u001b[0m 30ms/step - loss: 0.0356 - mae: 0.1508 - val_loss: 0.0383 - val_mae: 0.1580\n",
            "Epoch 86/100\n",
            "\u001b[1m125/125\u001b[0m \u001b[32m━━━━━━━━━━━━━━━━━━━━\u001b[0m\u001b[37m\u001b[0m \u001b[1m4s\u001b[0m 31ms/step - loss: 0.0347 - mae: 0.1485 - val_loss: 0.0382 - val_mae: 0.1577\n",
            "Epoch 87/100\n",
            "\u001b[1m125/125\u001b[0m \u001b[32m━━━━━━━━━━━━━━━━━━━━\u001b[0m\u001b[37m\u001b[0m \u001b[1m4s\u001b[0m 29ms/step - loss: 0.0340 - mae: 0.1473 - val_loss: 0.0382 - val_mae: 0.1577\n",
            "Epoch 88/100\n",
            "\u001b[1m125/125\u001b[0m \u001b[32m━━━━━━━━━━━━━━━━━━━━\u001b[0m\u001b[37m\u001b[0m \u001b[1m4s\u001b[0m 29ms/step - loss: 0.0342 - mae: 0.1475 - val_loss: 0.0383 - val_mae: 0.1580\n",
            "Epoch 89/100\n",
            "\u001b[1m125/125\u001b[0m \u001b[32m━━━━━━━━━━━━━━━━━━━━\u001b[0m\u001b[37m\u001b[0m \u001b[1m4s\u001b[0m 31ms/step - loss: 0.0346 - mae: 0.1489 - val_loss: 0.0381 - val_mae: 0.1574\n",
            "Epoch 90/100\n",
            "\u001b[1m125/125\u001b[0m \u001b[32m━━━━━━━━━━━━━━━━━━━━\u001b[0m\u001b[37m\u001b[0m \u001b[1m4s\u001b[0m 31ms/step - loss: 0.0335 - mae: 0.1459 - val_loss: 0.0381 - val_mae: 0.1574\n",
            "Epoch 91/100\n",
            "\u001b[1m125/125\u001b[0m \u001b[32m━━━━━━━━━━━━━━━━━━━━\u001b[0m\u001b[37m\u001b[0m \u001b[1m4s\u001b[0m 30ms/step - loss: 0.0342 - mae: 0.1478 - val_loss: 0.0380 - val_mae: 0.1573\n",
            "Epoch 92/100\n",
            "\u001b[1m125/125\u001b[0m \u001b[32m━━━━━━━━━━━━━━━━━━━━\u001b[0m\u001b[37m\u001b[0m \u001b[1m4s\u001b[0m 31ms/step - loss: 0.0344 - mae: 0.1481 - val_loss: 0.0380 - val_mae: 0.1570\n",
            "Epoch 93/100\n",
            "\u001b[1m125/125\u001b[0m \u001b[32m━━━━━━━━━━━━━━━━━━━━\u001b[0m\u001b[37m\u001b[0m \u001b[1m4s\u001b[0m 30ms/step - loss: 0.0342 - mae: 0.1474 - val_loss: 0.0380 - val_mae: 0.1574\n",
            "Epoch 94/100\n",
            "\u001b[1m125/125\u001b[0m \u001b[32m━━━━━━━━━━━━━━━━━━━━\u001b[0m\u001b[37m\u001b[0m \u001b[1m4s\u001b[0m 31ms/step - loss: 0.0344 - mae: 0.1483 - val_loss: 0.0380 - val_mae: 0.1573\n",
            "Epoch 95/100\n",
            "\u001b[1m125/125\u001b[0m \u001b[32m━━━━━━━━━━━━━━━━━━━━\u001b[0m\u001b[37m\u001b[0m \u001b[1m4s\u001b[0m 30ms/step - loss: 0.0344 - mae: 0.1480 - val_loss: 0.0379 - val_mae: 0.1570\n",
            "Epoch 96/100\n",
            "\u001b[1m125/125\u001b[0m \u001b[32m━━━━━━━━━━━━━━━━━━━━\u001b[0m\u001b[37m\u001b[0m \u001b[1m4s\u001b[0m 30ms/step - loss: 0.0351 - mae: 0.1489 - val_loss: 0.0379 - val_mae: 0.1570\n",
            "Epoch 97/100\n",
            "\u001b[1m125/125\u001b[0m \u001b[32m━━━━━━━━━━━━━━━━━━━━\u001b[0m\u001b[37m\u001b[0m \u001b[1m4s\u001b[0m 30ms/step - loss: 0.0336 - mae: 0.1463 - val_loss: 0.0379 - val_mae: 0.1571\n",
            "Epoch 98/100\n",
            "\u001b[1m125/125\u001b[0m \u001b[32m━━━━━━━━━━━━━━━━━━━━\u001b[0m\u001b[37m\u001b[0m \u001b[1m4s\u001b[0m 31ms/step - loss: 0.0333 - mae: 0.1460 - val_loss: 0.0378 - val_mae: 0.1569\n",
            "Epoch 99/100\n",
            "\u001b[1m125/125\u001b[0m \u001b[32m━━━━━━━━━━━━━━━━━━━━\u001b[0m\u001b[37m\u001b[0m \u001b[1m4s\u001b[0m 30ms/step - loss: 0.0334 - mae: 0.1460 - val_loss: 0.0378 - val_mae: 0.1568\n",
            "Epoch 100/100\n",
            "\u001b[1m125/125\u001b[0m \u001b[32m━━━━━━━━━━━━━━━━━━━━\u001b[0m\u001b[37m\u001b[0m \u001b[1m4s\u001b[0m 29ms/step - loss: 0.0345 - mae: 0.1483 - val_loss: 0.0377 - val_mae: 0.1566\n"
          ]
        }
      ],
      "source": [
        "Nasnet_model.compile(optimizer=tf.keras.optimizers.Adam(learning_rate=1e-5), loss='mse', metrics=['mae'])\n",
        "history = Nasnet_model.fit(X_train_processed_Nasnet, Y_train, validation_data=(X_valid_processed_Nasnet, Y_valid), batch_size=32, epochs=100, shuffle=True, verbose=1)"
      ]
    },
    {
      "cell_type": "code",
      "execution_count": null,
      "metadata": {
        "colab": {
          "base_uri": "https://localhost:8080/",
          "height": 544
        },
        "id": "RKweXbY43huo",
        "outputId": "0fb37a7a-aa95-47a4-8f13-d5699bc90674"
      },
      "outputs": [
        {
          "data": {
            "image/png": "[encoded data removed]",
            "text/plain": [
              "<Figure size 1200x500 with 2 Axes>"
            ]
          },
          "metadata": {},
          "output_type": "display_data"
        },
        {
          "name": "stdout",
          "output_type": "stream",
          "text": [
            "Current learning rate: 1e-05\n"
          ]
        }
      ],
      "source": [
        "import matplotlib.pyplot as plt\n",
        "\n",
        "def plot_training_history(history):\n",
        "    \"\"\"\n",
        "    Plots training and validation metrics from the Keras History object.\n",
        "\n",
        "    Parameters:\n",
        "    - history: Keras History object returned by model.fit()\n",
        "    \"\"\"\n",
        "    # Extract metric names from history\n",
        "    metrics = list(history.history.keys())\n",
        "\n",
        "    # Identify training and validation metrics\n",
        "    train_metrics = [m for m in metrics if not m.startswith('val_')]\n",
        "    val_metrics = [m for m in metrics if m.startswith('val_')]\n",
        "\n",
        "    # Number of metrics to plot\n",
        "    num_metrics = len(train_metrics)\n",
        "\n",
        "    # Set up the matplotlib figure\n",
        "    plt.figure(figsize=(6 * num_metrics, 5))\n",
        "\n",
        "    for i, metric in enumerate(train_metrics):\n",
        "        plt.subplot(1, num_metrics, i + 1)\n",
        "        plt.plot(history.history[metric], label=f'Training {metric.capitalize()}')\n",
        "        # Check if validation metric exists\n",
        "        val_metric = f'val_{metric}'\n",
        "        if val_metric in history.history:\n",
        "            plt.plot(history.history[val_metric], label=f'Validation {metric.capitalize()}')\n",
        "        plt.title(f'{metric.capitalize()} over Epochs')\n",
        "        plt.xlabel('Epoch')\n",
        "        plt.ylabel(metric.capitalize())\n",
        "        plt.legend()\n",
        "        plt.grid(True)\n",
        "\n",
        "    plt.tight_layout()\n",
        "    plt.show()\n",
        "\n",
        "def plot_loss_mae(history):\n",
        "    \"\"\"\n",
        "    Plots training and validation MAE from the Keras history object.\n",
        "\n",
        "    Parameters:\n",
        "    - history: Keras History object from model.fit()\n",
        "    \"\"\"\n",
        "    plt.figure(figsize=(10, 6))\n",
        "\n",
        "    # Plot MAE for training and validation\n",
        "    plt.plot(history.history['mae'], label='Training MAE')\n",
        "    if 'val_mae' in history.history:\n",
        "        plt.plot(history.history['val_mae'], label='Validation MAE')\n",
        "\n",
        "    plt.title('Model Mean Absolute Error (MAE)')\n",
        "    plt.xlabel('Epoch')\n",
        "    plt.ylabel('MAE')\n",
        "    plt.legend()\n",
        "    plt.grid(True)\n",
        "    plt.show()\n",
        "\n",
        "# Example usage:\n",
        "#plot_loss_mae(history)\n",
        "plot_training_history(history)\n",
        "\n",
        "learning_rate = Nasnet_model.optimizer.learning_rate.numpy()\n",
        "print(\"Current learning rate:\", learning_rate)"
      ]
    },
    {
      "cell_type": "code",
      "execution_count": null,
      "metadata": {
        "colab": {
          "base_uri": "https://localhost:8080/"
        },
        "id": "TS7d66tB3Mdf",
        "outputId": "52e0ed0c-0027-4529-f00a-a979978b5690"
      },
      "outputs": [
        {
          "data": {
            "text/plain": [
              "<keras.src.callbacks.history.History at 0x7aaa00dbb3d0>"
            ]
          },
          "execution_count": 13,
          "metadata": {},
          "output_type": "execute_result"
        }
      ],
      "source": [
        "history"
      ]
    },
    {
      "cell_type": "code",
      "execution_count": null,
      "metadata": {
        "colab": {
          "base_uri": "https://localhost:8080/"
        },
        "id": "2g3lSAANGRvg",
        "outputId": "8939f706-6c48-44d2-ba96-d0d61d65dd37"
      },
      "outputs": [
        {
          "output_type": "stream",
          "name": "stdout",
          "text": [
            "Downloading data from https://storage.googleapis.com/tensorflow/keras-applications/nasnet/NASNet-mobile-no-top.h5\n",
            "\u001b[1m19993432/19993432\u001b[0m \u001b[32m━━━━━━━━━━━━━━━━━━━━\u001b[0m\u001b[37m\u001b[0m \u001b[1m2s\u001b[0m 0us/step\n",
            "Num GPUs Available:  1\n",
            "X_valid_processed_Nasnet shape: (1000, 224, 224, 3)\n",
            "Y_valid2 shape: (1000,)\n"
          ]
        }
      ],
      "source": [
        "### Nasnet implementation avec 0.7 de Dropout and with 1 trainable layer\n",
        "early_stopping_Nasnet = tf.keras.callbacks.EarlyStopping(monitor='val_loss', mode='min', verbose=1, patience=6)\n",
        "# Load NASNetMobile with pre-trained ImageNet weights, excluding the top layer\n",
        "base_model = tf.keras.applications.NASNetMobile(input_shape=(224, 224, 3), weights='imagenet', include_top=False)\n",
        "#preprocess_input = tf.keras.applications.mobilenet.preprocess_input\n",
        "preprocess_input_Nasnet = tf.keras.applications.nasnet.preprocess_input\n",
        "base_model.trainable = False\n",
        "for layer in base_model.layers[-1:]:\n",
        "    layer.trainable = True\n",
        "# Adding custom layers\n",
        "x = tf.keras.layers.GlobalAveragePooling2D()(base_model.output)\n",
        "x = tf.keras.layers.Dense(1024, activation='relu')(x)\n",
        "x = tf.keras.layers.Dropout(0.7)(x)\n",
        "output = tf.keras.layers.Dense(1, activation='sigmoid')(x)\n",
        "# Create the new model with NASNetMobile as the base\n",
        "Nasnet_model = tf.keras.models.Model(inputs=base_model.input, outputs=output)\n",
        "# Preprocess the data\n",
        "X_train_processed_Nasnet = preprocess_input_Nasnet(np.copy(X_train))\n",
        "X_valid_processed_Nasnet = preprocess_input_Nasnet(np.copy(X_valid))\n",
        "print(\"Num GPUs Available: \", len(tf.config.list_physical_devices('GPU')))\n",
        "print(\"X_valid_processed_Nasnet shape:\", X_valid_processed_Nasnet.shape)\n",
        "print(\"Y_valid2 shape:\", Y_valid.shape)\n"
      ]
    },
    {
      "cell_type": "code",
      "execution_count": null,
      "metadata": {
        "colab": {
          "background_save": true,
          "base_uri": "https://localhost:8080/"
        },
        "id": "6eik1MbXqChH",
        "outputId": "7452e106-d8f9-4f55-c2b5-0f4faae4fe72"
      },
      "outputs": [
        {
          "name": "stdout",
          "output_type": "stream",
          "text": [
            "Epoch 1/100\n",
            "\u001b[1m125/125\u001b[0m \u001b[32m━━━━━━━━━━━━━━━━━━━━\u001b[0m\u001b[37m\u001b[0m \u001b[1m86s\u001b[0m 330ms/step - loss: 10.2763 - mae: 0.1316 - val_loss: 9.7772 - val_mae: 0.1294\n",
            "Epoch 2/100\n",
            "\u001b[1m125/125\u001b[0m \u001b[32m━━━━━━━━━━━━━━━━━━━━\u001b[0m\u001b[37m\u001b[0m \u001b[1m32s\u001b[0m 137ms/step - loss: 9.6151 - mae: 0.1233 - val_loss: 9.1445 - val_mae: 0.1266\n",
            "Epoch 3/100\n",
            "\u001b[1m125/125\u001b[0m \u001b[32m━━━━━━━━━━━━━━━━━━━━\u001b[0m\u001b[37m\u001b[0m \u001b[1m20s\u001b[0m 130ms/step - loss: 8.9931 - mae: 0.1229 - val_loss: 8.5484 - val_mae: 0.1229\n",
            "Epoch 4/100\n",
            "\u001b[1m125/125\u001b[0m \u001b[32m━━━━━━━━━━━━━━━━━━━━\u001b[0m\u001b[37m\u001b[0m \u001b[1m17s\u001b[0m 138ms/step - loss: 8.4047 - mae: 0.1184 - val_loss: 7.9866 - val_mae: 0.1206\n",
            "Epoch 5/100\n",
            "\u001b[1m125/125\u001b[0m \u001b[32m━━━━━━━━━━━━━━━━━━━━\u001b[0m\u001b[37m\u001b[0m \u001b[1m20s\u001b[0m 133ms/step - loss: 7.8512 - mae: 0.1150 - val_loss: 7.4573 - val_mae: 0.1194\n",
            "Epoch 6/100\n",
            "\u001b[1m125/125\u001b[0m \u001b[32m━━━━━━━━━━━━━━━━━━━━\u001b[0m\u001b[37m\u001b[0m \u001b[1m22s\u001b[0m 142ms/step - loss: 7.3297 - mae: 0.1157 - val_loss: 6.9586 - val_mae: 0.1171\n",
            "Epoch 7/100\n",
            "\u001b[1m125/125\u001b[0m \u001b[32m━━━━━━━━━━━━━━━━━━━━\u001b[0m\u001b[37m\u001b[0m \u001b[1m17s\u001b[0m 135ms/step - loss: 6.8379 - mae: 0.1115 - val_loss: 6.4887 - val_mae: 0.1167\n",
            "Epoch 8/100\n",
            "\u001b[1m125/125\u001b[0m \u001b[32m━━━━━━━━━━━━━━━━━━━━\u001b[0m\u001b[37m\u001b[0m \u001b[1m21s\u001b[0m 140ms/step - loss: 6.3737 - mae: 0.1093 - val_loss: 6.0459 - val_mae: 0.1169\n",
            "Epoch 9/100\n",
            "\u001b[1m125/125\u001b[0m \u001b[32m━━━━━━━━━━━━━━━━━━━━\u001b[0m\u001b[37m\u001b[0m \u001b[1m20s\u001b[0m 136ms/step - loss: 5.9386 - mae: 0.1118 - val_loss: 5.6287 - val_mae: 0.1151\n",
            "Epoch 10/100\n",
            "\u001b[1m125/125\u001b[0m \u001b[32m━━━━━━━━━━━━━━━━━━━━\u001b[0m\u001b[37m\u001b[0m \u001b[1m21s\u001b[0m 141ms/step - loss: 5.5270 - mae: 0.1088 - val_loss: 5.2359 - val_mae: 0.1135\n",
            "Epoch 11/100\n",
            "\u001b[1m125/125\u001b[0m \u001b[32m━━━━━━━━━━━━━━━━━━━━\u001b[0m\u001b[37m\u001b[0m \u001b[1m20s\u001b[0m 134ms/step - loss: 5.1407 - mae: 0.1093 - val_loss: 4.8661 - val_mae: 0.1138\n",
            "Epoch 12/100\n",
            "\u001b[1m125/125\u001b[0m \u001b[32m━━━━━━━━━━━━━━━━━━━━\u001b[0m\u001b[37m\u001b[0m \u001b[1m21s\u001b[0m 142ms/step - loss: 4.7750 - mae: 0.1051 - val_loss: 4.5181 - val_mae: 0.1139\n",
            "Epoch 13/100\n",
            "\u001b[1m125/125\u001b[0m \u001b[32m━━━━━━━━━━━━━━━━━━━━\u001b[0m\u001b[37m\u001b[0m \u001b[1m20s\u001b[0m 141ms/step - loss: 4.4339 - mae: 0.1097 - val_loss: 4.1906 - val_mae: 0.1124\n",
            "Epoch 14/100\n",
            "\u001b[1m125/125\u001b[0m \u001b[32m━━━━━━━━━━━━━━━━━━━━\u001b[0m\u001b[37m\u001b[0m \u001b[1m20s\u001b[0m 134ms/step - loss: 4.1103 - mae: 0.1070 - val_loss: 3.8825 - val_mae: 0.1114\n",
            "Epoch 15/100\n",
            "\u001b[1m125/125\u001b[0m \u001b[32m━━━━━━━━━━━━━━━━━━━━\u001b[0m\u001b[37m\u001b[0m \u001b[1m18s\u001b[0m 141ms/step - loss: 3.8066 - mae: 0.1041 - val_loss: 3.5932 - val_mae: 0.1125\n",
            "Epoch 16/100\n",
            "\u001b[1m125/125\u001b[0m \u001b[32m━━━━━━━━━━━━━━━━━━━━\u001b[0m\u001b[37m\u001b[0m \u001b[1m20s\u001b[0m 140ms/step - loss: 3.5218 - mae: 0.1049 - val_loss: 3.3213 - val_mae: 0.1118\n",
            "Epoch 17/100\n",
            "\u001b[1m125/125\u001b[0m \u001b[32m━━━━━━━━━━━━━━━━━━━━\u001b[0m\u001b[37m\u001b[0m \u001b[1m21s\u001b[0m 141ms/step - loss: 3.2538 - mae: 0.1039 - val_loss: 3.0660 - val_mae: 0.1102\n",
            "Epoch 18/100\n",
            "\u001b[1m125/125\u001b[0m \u001b[32m━━━━━━━━━━━━━━━━━━━━\u001b[0m\u001b[37m\u001b[0m \u001b[1m20s\u001b[0m 133ms/step - loss: 3.0017 - mae: 0.0997 - val_loss: 2.8269 - val_mae: 0.1119\n",
            "Epoch 19/100\n",
            "\u001b[1m125/125\u001b[0m \u001b[32m━━━━━━━━━━━━━━━━━━━━\u001b[0m\u001b[37m\u001b[0m \u001b[1m21s\u001b[0m 134ms/step - loss: 2.7671 - mae: 0.1027 - val_loss: 2.6026 - val_mae: 0.1115\n",
            "Epoch 20/100\n",
            "\u001b[1m125/125\u001b[0m \u001b[32m━━━━━━━━━━━━━━━━━━━━\u001b[0m\u001b[37m\u001b[0m \u001b[1m21s\u001b[0m 141ms/step - loss: 2.5463 - mae: 0.1014 - val_loss: 2.3927 - val_mae: 0.1106\n",
            "Epoch 21/100\n",
            "\u001b[1m125/125\u001b[0m \u001b[32m━━━━━━━━━━━━━━━━━━━━\u001b[0m\u001b[37m\u001b[0m \u001b[1m20s\u001b[0m 133ms/step - loss: 2.3399 - mae: 0.1014 - val_loss: 2.1963 - val_mae: 0.1088\n",
            "Epoch 22/100\n",
            "\u001b[1m125/125\u001b[0m \u001b[32m━━━━━━━━━━━━━━━━━━━━\u001b[0m\u001b[37m\u001b[0m \u001b[1m17s\u001b[0m 136ms/step - loss: 2.1464 - mae: 0.0994 - val_loss: 2.0131 - val_mae: 0.1101\n",
            "Epoch 23/100\n",
            "\u001b[1m125/125\u001b[0m \u001b[32m━━━━━━━━━━━━━━━━━━━━\u001b[0m\u001b[37m\u001b[0m \u001b[1m21s\u001b[0m 141ms/step - loss: 1.9670 - mae: 0.1006 - val_loss: 1.8420 - val_mae: 0.1084\n",
            "Epoch 24/100\n",
            "\u001b[1m125/125\u001b[0m \u001b[32m━━━━━━━━━━━━━━━━━━━━\u001b[0m\u001b[37m\u001b[0m \u001b[1m20s\u001b[0m 133ms/step - loss: 1.7994 - mae: 0.1028 - val_loss: 1.6827 - val_mae: 0.1082\n",
            "Epoch 25/100\n",
            "\u001b[1m125/125\u001b[0m \u001b[32m━━━━━━━━━━━━━━━━━━━━\u001b[0m\u001b[37m\u001b[0m \u001b[1m21s\u001b[0m 141ms/step - loss: 1.6419 - mae: 0.0996 - val_loss: 1.5344 - val_mae: 0.1082\n",
            "Epoch 26/100\n",
            "\u001b[1m125/125\u001b[0m \u001b[32m━━━━━━━━━━━━━━━━━━━━\u001b[0m\u001b[37m\u001b[0m \u001b[1m20s\u001b[0m 133ms/step - loss: 1.4971 - mae: 0.1005 - val_loss: 1.3968 - val_mae: 0.1088\n",
            "Epoch 27/100\n",
            "\u001b[1m125/125\u001b[0m \u001b[32m━━━━━━━━━━━━━━━━━━━━\u001b[0m\u001b[37m\u001b[0m \u001b[1m21s\u001b[0m 140ms/step - loss: 1.3613 - mae: 0.0992 - val_loss: 1.2691 - val_mae: 0.1071\n",
            "Epoch 28/100\n",
            "\u001b[1m125/125\u001b[0m \u001b[32m━━━━━━━━━━━━━━━━━━━━\u001b[0m\u001b[37m\u001b[0m \u001b[1m18s\u001b[0m 141ms/step - loss: 1.2360 - mae: 0.0978 - val_loss: 1.1509 - val_mae: 0.1081\n",
            "Epoch 29/100\n",
            "\u001b[1m125/125\u001b[0m \u001b[32m━━━━━━━━━━━━━━━━━━━━\u001b[0m\u001b[37m\u001b[0m \u001b[1m21s\u001b[0m 141ms/step - loss: 1.1211 - mae: 0.1015 - val_loss: 1.0417 - val_mae: 0.1084\n",
            "Epoch 30/100\n",
            "\u001b[1m125/125\u001b[0m \u001b[32m━━━━━━━━━━━━━━━━━━━━\u001b[0m\u001b[37m\u001b[0m \u001b[1m21s\u001b[0m 141ms/step - loss: 1.0134 - mae: 0.0992 - val_loss: 0.9408 - val_mae: 0.1079\n",
            "Epoch 31/100\n",
            "\u001b[1m125/125\u001b[0m \u001b[32m━━━━━━━━━━━━━━━━━━━━\u001b[0m\u001b[37m\u001b[0m \u001b[1m20s\u001b[0m 134ms/step - loss: 0.9138 - mae: 0.0977 - val_loss: 0.8481 - val_mae: 0.1087\n",
            "Epoch 32/100\n",
            "\u001b[1m125/125\u001b[0m \u001b[32m━━━━━━━━━━━━━━━━━━━━\u001b[0m\u001b[37m\u001b[0m \u001b[1m20s\u001b[0m 133ms/step - loss: 0.8236 - mae: 0.0994 - val_loss: 0.7626 - val_mae: 0.1058\n",
            "Epoch 33/100\n",
            "\u001b[1m125/125\u001b[0m \u001b[32m━━━━━━━━━━━━━━━━━━━━\u001b[0m\u001b[37m\u001b[0m \u001b[1m21s\u001b[0m 136ms/step - loss: 0.7403 - mae: 0.0987 - val_loss: 0.6846 - val_mae: 0.1080\n",
            "Epoch 34/100\n",
            "\u001b[1m125/125\u001b[0m \u001b[32m━━━━━━━━━━━━━━━━━━━━\u001b[0m\u001b[37m\u001b[0m \u001b[1m20s\u001b[0m 133ms/step - loss: 0.6629 - mae: 0.0972 - val_loss: 0.6133 - val_mae: 0.1093\n",
            "Epoch 35/100\n",
            "\u001b[1m125/125\u001b[0m \u001b[32m━━━━━━━━━━━━━━━━━━━━\u001b[0m\u001b[37m\u001b[0m \u001b[1m21s\u001b[0m 134ms/step - loss: 0.5927 - mae: 0.0963 - val_loss: 0.5479 - val_mae: 0.1083\n",
            "Epoch 36/100\n",
            "\u001b[1m125/125\u001b[0m \u001b[32m━━━━━━━━━━━━━━━━━━━━\u001b[0m\u001b[37m\u001b[0m \u001b[1m21s\u001b[0m 136ms/step - loss: 0.5297 - mae: 0.0973 - val_loss: 0.4887 - val_mae: 0.1091\n",
            "Epoch 37/100\n",
            "\u001b[1m125/125\u001b[0m \u001b[32m━━━━━━━━━━━━━━━━━━━━\u001b[0m\u001b[37m\u001b[0m \u001b[1m21s\u001b[0m 141ms/step - loss: 0.4713 - mae: 0.0975 - val_loss: 0.4345 - val_mae: 0.1071\n",
            "Epoch 38/100\n",
            "\u001b[1m125/125\u001b[0m \u001b[32m━━━━━━━━━━━━━━━━━━━━\u001b[0m\u001b[37m\u001b[0m \u001b[1m19s\u001b[0m 133ms/step - loss: 0.4193 - mae: 0.0976 - val_loss: 0.3859 - val_mae: 0.1073\n",
            "Epoch 39/100\n",
            "\u001b[1m125/125\u001b[0m \u001b[32m━━━━━━━━━━━━━━━━━━━━\u001b[0m\u001b[37m\u001b[0m \u001b[1m21s\u001b[0m 135ms/step - loss: 0.3720 - mae: 0.0986 - val_loss: 0.3418 - val_mae: 0.1060\n",
            "Epoch 40/100\n",
            "\u001b[1m125/125\u001b[0m \u001b[32m━━━━━━━━━━━━━━━━━━━━\u001b[0m\u001b[37m\u001b[0m \u001b[1m21s\u001b[0m 141ms/step - loss: 0.3281 - mae: 0.0955 - val_loss: 0.3027 - val_mae: 0.1053\n",
            "Epoch 41/100\n",
            "\u001b[1m125/125\u001b[0m \u001b[32m━━━━━━━━━━━━━━━━━━━━\u001b[0m\u001b[37m\u001b[0m \u001b[1m18s\u001b[0m 142ms/step - loss: 0.2902 - mae: 0.0959 - val_loss: 0.2675 - val_mae: 0.1100\n",
            "Epoch 42/100\n",
            "\u001b[1m125/125\u001b[0m \u001b[32m━━━━━━━━━━━━━━━━━━━━\u001b[0m\u001b[37m\u001b[0m \u001b[1m19s\u001b[0m 133ms/step - loss: 0.2559 - mae: 0.0974 - val_loss: 0.2352 - val_mae: 0.1051\n",
            "Epoch 43/100\n",
            "\u001b[1m125/125\u001b[0m \u001b[32m━━━━━━━━━━━━━━━━━━━━\u001b[0m\u001b[37m\u001b[0m \u001b[1m21s\u001b[0m 133ms/step - loss: 0.2246 - mae: 0.0945 - val_loss: 0.2075 - val_mae: 0.1088\n",
            "Epoch 44/100\n",
            "\u001b[1m125/125\u001b[0m \u001b[32m━━━━━━━━━━━━━━━━━━━━\u001b[0m\u001b[37m\u001b[0m \u001b[1m21s\u001b[0m 135ms/step - loss: 0.1979 - mae: 0.0964 - val_loss: 0.1822 - val_mae: 0.1065\n",
            "Epoch 45/100\n",
            "\u001b[1m125/125\u001b[0m \u001b[32m━━━━━━━━━━━━━━━━━━━━\u001b[0m\u001b[37m\u001b[0m \u001b[1m21s\u001b[0m 141ms/step - loss: 0.1734 - mae: 0.0963 - val_loss: 0.1602 - val_mae: 0.1072\n",
            "Epoch 46/100\n",
            "\u001b[1m125/125\u001b[0m \u001b[32m━━━━━━━━━━━━━━━━━━━━\u001b[0m\u001b[37m\u001b[0m \u001b[1m20s\u001b[0m 134ms/step - loss: 0.1519 - mae: 0.0961 - val_loss: 0.1407 - val_mae: 0.1067\n",
            "Epoch 47/100\n",
            "\u001b[1m125/125\u001b[0m \u001b[32m━━━━━━━━━━━━━━━━━━━━\u001b[0m\u001b[37m\u001b[0m \u001b[1m17s\u001b[0m 133ms/step - loss: 0.1335 - mae: 0.0979 - val_loss: 0.1236 - val_mae: 0.1061\n",
            "Epoch 48/100\n",
            "\u001b[1m125/125\u001b[0m \u001b[32m━━━━━━━━━━━━━━━━━━━━\u001b[0m\u001b[37m\u001b[0m \u001b[1m17s\u001b[0m 134ms/step - loss: 0.1161 - mae: 0.0937 - val_loss: 0.1087 - val_mae: 0.1053\n",
            "Epoch 49/100\n",
            "\u001b[1m125/125\u001b[0m \u001b[32m━━━━━━━━━━━━━━━━━━━━\u001b[0m\u001b[37m\u001b[0m \u001b[1m20s\u001b[0m 133ms/step - loss: 0.1022 - mae: 0.0951 - val_loss: 0.0959 - val_mae: 0.1046\n",
            "Epoch 50/100\n",
            "\u001b[1m125/125\u001b[0m \u001b[32m━━━━━━━━━━━━━━━━━━━━\u001b[0m\u001b[37m\u001b[0m \u001b[1m18s\u001b[0m 142ms/step - loss: 0.0900 - mae: 0.0969 - val_loss: 0.0847 - val_mae: 0.1042\n",
            "Epoch 51/100\n",
            "\u001b[1m125/125\u001b[0m \u001b[32m━━━━━━━━━━━━━━━━━━━━\u001b[0m\u001b[37m\u001b[0m \u001b[1m19s\u001b[0m 133ms/step - loss: 0.0794 - mae: 0.0956 - val_loss: 0.0752 - val_mae: 0.1043\n",
            "Epoch 52/100\n",
            "\u001b[1m125/125\u001b[0m \u001b[32m━━━━━━━━━━━━━━━━━━━━\u001b[0m\u001b[37m\u001b[0m \u001b[1m20s\u001b[0m 133ms/step - loss: 0.0705 - mae: 0.0965 - val_loss: 0.0673 - val_mae: 0.1035\n",
            "Epoch 53/100\n",
            "\u001b[1m125/125\u001b[0m \u001b[32m━━━━━━━━━━━━━━━━━━━━\u001b[0m\u001b[37m\u001b[0m \u001b[1m21s\u001b[0m 135ms/step - loss: 0.0620 - mae: 0.0943 - val_loss: 0.0600 - val_mae: 0.1055\n",
            "Epoch 54/100\n",
            "\u001b[1m125/125\u001b[0m \u001b[32m━━━━━━━━━━━━━━━━━━━━\u001b[0m\u001b[37m\u001b[0m \u001b[1m21s\u001b[0m 141ms/step - loss: 0.0552 - mae: 0.0952 - val_loss: 0.0539 - val_mae: 0.1039\n",
            "Epoch 55/100\n",
            "\u001b[1m125/125\u001b[0m \u001b[32m━━━━━━━━━━━━━━━━━━━━\u001b[0m\u001b[37m\u001b[0m \u001b[1m20s\u001b[0m 141ms/step - loss: 0.0490 - mae: 0.0933 - val_loss: 0.0490 - val_mae: 0.1057\n",
            "Epoch 56/100\n",
            "\u001b[1m125/125\u001b[0m \u001b[32m━━━━━━━━━━━━━━━━━━━━\u001b[0m\u001b[37m\u001b[0m \u001b[1m20s\u001b[0m 141ms/step - loss: 0.0445 - mae: 0.0947 - val_loss: 0.0446 - val_mae: 0.1050\n",
            "Epoch 57/100\n",
            "\u001b[1m125/125\u001b[0m \u001b[32m━━━━━━━━━━━━━━━━━━━━\u001b[0m\u001b[37m\u001b[0m \u001b[1m20s\u001b[0m 141ms/step - loss: 0.0407 - mae: 0.0948 - val_loss: 0.0421 - val_mae: 0.1108\n",
            "Epoch 58/100\n",
            "\u001b[1m125/125\u001b[0m \u001b[32m━━━━━━━━━━━━━━━━━━━━\u001b[0m\u001b[37m\u001b[0m \u001b[1m20s\u001b[0m 134ms/step - loss: 0.0369 - mae: 0.0950 - val_loss: 0.0384 - val_mae: 0.1079\n",
            "Epoch 59/100\n",
            "\u001b[1m125/125\u001b[0m \u001b[32m━━━━━━━━━━━━━━━━━━━━\u001b[0m\u001b[37m\u001b[0m \u001b[1m21s\u001b[0m 135ms/step - loss: 0.0340 - mae: 0.0958 - val_loss: 0.0356 - val_mae: 0.1069\n",
            "Epoch 60/100\n",
            "\u001b[1m125/125\u001b[0m \u001b[32m━━━━━━━━━━━━━━━━━━━━\u001b[0m\u001b[37m\u001b[0m \u001b[1m20s\u001b[0m 135ms/step - loss: 0.0313 - mae: 0.0945 - val_loss: 0.0332 - val_mae: 0.1052\n",
            "Epoch 61/100\n",
            "\u001b[1m125/125\u001b[0m \u001b[32m━━━━━━━━━━━━━━━━━━━━\u001b[0m\u001b[37m\u001b[0m \u001b[1m21s\u001b[0m 140ms/step - loss: 0.0297 - mae: 0.0950 - val_loss: 0.0314 - val_mae: 0.1035\n",
            "Epoch 62/100\n",
            "\u001b[1m125/125\u001b[0m \u001b[32m━━━━━━━━━━━━━━━━━━━━\u001b[0m\u001b[37m\u001b[0m \u001b[1m20s\u001b[0m 136ms/step - loss: 0.0288 - mae: 0.0972 - val_loss: 0.0298 - val_mae: 0.1033\n",
            "Epoch 63/100\n",
            "\u001b[1m125/125\u001b[0m \u001b[32m━━━━━━━━━━━━━━━━━━━━\u001b[0m\u001b[37m\u001b[0m \u001b[1m20s\u001b[0m 134ms/step - loss: 0.0259 - mae: 0.0928 - val_loss: 0.0285 - val_mae: 0.1037\n",
            "Epoch 64/100\n",
            "\u001b[1m125/125\u001b[0m \u001b[32m━━━━━━━━━━━━━━━━━━━━\u001b[0m\u001b[37m\u001b[0m \u001b[1m21s\u001b[0m 135ms/step - loss: 0.0244 - mae: 0.0915 - val_loss: 0.0273 - val_mae: 0.1042\n",
            "Epoch 65/100\n",
            "\u001b[1m125/125\u001b[0m \u001b[32m━━━━━━━━━━━━━━━━━━━━\u001b[0m\u001b[37m\u001b[0m \u001b[1m17s\u001b[0m 136ms/step - loss: 0.0239 - mae: 0.0947 - val_loss: 0.0264 - val_mae: 0.1033\n",
            "Epoch 66/100\n",
            "\u001b[1m125/125\u001b[0m \u001b[32m━━━━━━━━━━━━━━━━━━━━\u001b[0m\u001b[37m\u001b[0m \u001b[1m18s\u001b[0m 144ms/step - loss: 0.0227 - mae: 0.0931 - val_loss: 0.0259 - val_mae: 0.1063\n",
            "Epoch 67/100\n",
            "\u001b[1m125/125\u001b[0m \u001b[32m━━━━━━━━━━━━━━━━━━━━\u001b[0m\u001b[37m\u001b[0m \u001b[1m20s\u001b[0m 142ms/step - loss: 0.0225 - mae: 0.0958 - val_loss: 0.0259 - val_mae: 0.1091\n",
            "Epoch 68/100\n",
            "\u001b[1m125/125\u001b[0m \u001b[32m━━━━━━━━━━━━━━━━━━━━\u001b[0m\u001b[37m\u001b[0m \u001b[1m20s\u001b[0m 141ms/step - loss: 0.0215 - mae: 0.0933 - val_loss: 0.0243 - val_mae: 0.1040\n",
            "Epoch 69/100\n",
            "\u001b[1m125/125\u001b[0m \u001b[32m━━━━━━━━━━━━━━━━━━━━\u001b[0m\u001b[37m\u001b[0m \u001b[1m20s\u001b[0m 136ms/step - loss: 0.0216 - mae: 0.0968 - val_loss: 0.0244 - val_mae: 0.1075\n",
            "Epoch 70/100\n",
            "\u001b[1m125/125\u001b[0m \u001b[32m━━━━━━━━━━━━━━━━━━━━\u001b[0m\u001b[37m\u001b[0m \u001b[1m20s\u001b[0m 133ms/step - loss: 0.0202 - mae: 0.0935 - val_loss: 0.0233 - val_mae: 0.1041\n",
            "Epoch 71/100\n",
            "\u001b[1m125/125\u001b[0m \u001b[32m━━━━━━━━━━━━━━━━━━━━\u001b[0m\u001b[37m\u001b[0m \u001b[1m21s\u001b[0m 135ms/step - loss: 0.0202 - mae: 0.0937 - val_loss: 0.0230 - val_mae: 0.1028\n",
            "Epoch 72/100\n",
            "\u001b[1m125/125\u001b[0m \u001b[32m━━━━━━━━━━━━━━━━━━━━\u001b[0m\u001b[37m\u001b[0m \u001b[1m21s\u001b[0m 141ms/step - loss: 0.0190 - mae: 0.0918 - val_loss: 0.0225 - val_mae: 0.1030\n",
            "Epoch 73/100\n",
            "\u001b[1m125/125\u001b[0m \u001b[32m━━━━━━━━━━━━━━━━━━━━\u001b[0m\u001b[37m\u001b[0m \u001b[1m20s\u001b[0m 140ms/step - loss: 0.0190 - mae: 0.0928 - val_loss: 0.0222 - val_mae: 0.1039\n",
            "Epoch 74/100\n",
            "\u001b[1m125/125\u001b[0m \u001b[32m━━━━━━━━━━━━━━━━━━━━\u001b[0m\u001b[37m\u001b[0m \u001b[1m20s\u001b[0m 133ms/step - loss: 0.0192 - mae: 0.0942 - val_loss: 0.0219 - val_mae: 0.1026\n",
            "Epoch 75/100\n",
            "\u001b[1m125/125\u001b[0m \u001b[32m━━━━━━━━━━━━━━━━━━━━\u001b[0m\u001b[37m\u001b[0m \u001b[1m21s\u001b[0m 135ms/step - loss: 0.0182 - mae: 0.0915 - val_loss: 0.0218 - val_mae: 0.1056\n",
            "Epoch 76/100\n",
            "\u001b[1m125/125\u001b[0m \u001b[32m━━━━━━━━━━━━━━━━━━━━\u001b[0m\u001b[37m\u001b[0m \u001b[1m20s\u001b[0m 133ms/step - loss: 0.0182 - mae: 0.0945 - val_loss: 0.0220 - val_mae: 0.1066\n",
            "Epoch 77/100\n",
            "\u001b[1m125/125\u001b[0m \u001b[32m━━━━━━━━━━━━━━━━━━━━\u001b[0m\u001b[37m\u001b[0m \u001b[1m20s\u001b[0m 133ms/step - loss: 0.0187 - mae: 0.0947 - val_loss: 0.0212 - val_mae: 0.1039\n",
            "Epoch 78/100\n",
            "\u001b[1m125/125\u001b[0m \u001b[32m━━━━━━━━━━━━━━━━━━━━\u001b[0m\u001b[37m\u001b[0m \u001b[1m17s\u001b[0m 140ms/step - loss: 0.0182 - mae: 0.0939 - val_loss: 0.0210 - val_mae: 0.1036\n",
            "Epoch 79/100\n",
            "\u001b[1m125/125\u001b[0m \u001b[32m━━━━━━━━━━━━━━━━━━━━\u001b[0m\u001b[37m\u001b[0m \u001b[1m17s\u001b[0m 137ms/step - loss: 0.0181 - mae: 0.0939 - val_loss: 0.0213 - val_mae: 0.1065\n",
            "Epoch 80/100\n",
            "\u001b[1m125/125\u001b[0m \u001b[32m━━━━━━━━━━━━━━━━━━━━\u001b[0m\u001b[37m\u001b[0m \u001b[1m17s\u001b[0m 140ms/step - loss: 0.0175 - mae: 0.0932 - val_loss: 0.0207 - val_mae: 0.1031\n",
            "Epoch 81/100\n",
            "\u001b[1m125/125\u001b[0m \u001b[32m━━━━━━━━━━━━━━━━━━━━\u001b[0m\u001b[37m\u001b[0m \u001b[1m20s\u001b[0m 135ms/step - loss: 0.0170 - mae: 0.0913 - val_loss: 0.0206 - val_mae: 0.1026\n",
            "Epoch 82/100\n",
            "\u001b[1m125/125\u001b[0m \u001b[32m━━━━━━━━━━━━━━━━━━━━\u001b[0m\u001b[37m\u001b[0m \u001b[1m17s\u001b[0m 133ms/step - loss: 0.0178 - mae: 0.0944 - val_loss: 0.0211 - val_mae: 0.1068\n",
            "Epoch 83/100\n",
            "\u001b[1m125/125\u001b[0m \u001b[32m━━━━━━━━━━━━━━━━━━━━\u001b[0m\u001b[37m\u001b[0m \u001b[1m21s\u001b[0m 134ms/step - loss: 0.0169 - mae: 0.0927 - val_loss: 0.0203 - val_mae: 0.1030\n",
            "Epoch 84/100\n",
            "\u001b[1m125/125\u001b[0m \u001b[32m━━━━━━━━━━━━━━━━━━━━\u001b[0m\u001b[37m\u001b[0m \u001b[1m20s\u001b[0m 133ms/step - loss: 0.0169 - mae: 0.0926 - val_loss: 0.0203 - val_mae: 0.1032\n",
            "Epoch 85/100\n",
            "\u001b[1m125/125\u001b[0m \u001b[32m━━━━━━━━━━━━━━━━━━━━\u001b[0m\u001b[37m\u001b[0m \u001b[1m21s\u001b[0m 141ms/step - loss: 0.0165 - mae: 0.0918 - val_loss: 0.0202 - val_mae: 0.1027\n",
            "Epoch 86/100\n",
            "\u001b[1m125/125\u001b[0m \u001b[32m━━━━━━━━━━━━━━━━━━━━\u001b[0m\u001b[37m\u001b[0m \u001b[1m20s\u001b[0m 141ms/step - loss: 0.0170 - mae: 0.0931 - val_loss: 0.0201 - val_mae: 0.1028\n",
            "Epoch 87/100\n",
            "\u001b[1m125/125\u001b[0m \u001b[32m━━━━━━━━━━━━━━━━━━━━\u001b[0m\u001b[37m\u001b[0m \u001b[1m19s\u001b[0m 133ms/step - loss: 0.0166 - mae: 0.0921 - val_loss: 0.0203 - val_mae: 0.1050\n",
            "Epoch 88/100\n",
            "\u001b[1m125/125\u001b[0m \u001b[32m━━━━━━━━━━━━━━━━━━━━\u001b[0m\u001b[37m\u001b[0m \u001b[1m21s\u001b[0m 140ms/step - loss: 0.0163 - mae: 0.0917 - val_loss: 0.0199 - val_mae: 0.1031\n",
            "Epoch 89/100\n",
            "\u001b[1m125/125\u001b[0m \u001b[32m━━━━━━━━━━━━━━━━━━━━\u001b[0m\u001b[37m\u001b[0m \u001b[1m20s\u001b[0m 134ms/step - loss: 0.0156 - mae: 0.0892 - val_loss: 0.0203 - val_mae: 0.1063\n",
            "Epoch 90/100\n",
            "\u001b[1m125/125\u001b[0m \u001b[32m━━━━━━━━━━━━━━━━━━━━\u001b[0m\u001b[37m\u001b[0m \u001b[1m20s\u001b[0m 133ms/step - loss: 0.0164 - mae: 0.0926 - val_loss: 0.0198 - val_mae: 0.1020\n",
            "Epoch 91/100\n",
            "\u001b[1m125/125\u001b[0m \u001b[32m━━━━━━━━━━━━━━━━━━━━\u001b[0m\u001b[37m\u001b[0m \u001b[1m21s\u001b[0m 141ms/step - loss: 0.0161 - mae: 0.0909 - val_loss: 0.0201 - val_mae: 0.1057\n",
            "Epoch 92/100\n",
            "\u001b[1m125/125\u001b[0m \u001b[32m━━━━━━━━━━━━━━━━━━━━\u001b[0m\u001b[37m\u001b[0m \u001b[1m21s\u001b[0m 141ms/step - loss: 0.0158 - mae: 0.0914 - val_loss: 0.0197 - val_mae: 0.1029\n",
            "Epoch 93/100\n",
            "\u001b[1m125/125\u001b[0m \u001b[32m━━━━━━━━━━━━━━━━━━━━\u001b[0m\u001b[37m\u001b[0m \u001b[1m19s\u001b[0m 133ms/step - loss: 0.0159 - mae: 0.0911 - val_loss: 0.0203 - val_mae: 0.1062\n",
            "Epoch 94/100\n",
            "\u001b[1m125/125\u001b[0m \u001b[32m━━━━━━━━━━━━━━━━━━━━\u001b[0m\u001b[37m\u001b[0m \u001b[1m21s\u001b[0m 140ms/step - loss: 0.0166 - mae: 0.0937 - val_loss: 0.0197 - val_mae: 0.1025\n",
            "Epoch 95/100\n",
            "\u001b[1m125/125\u001b[0m \u001b[32m━━━━━━━━━━━━━━━━━━━━\u001b[0m\u001b[37m\u001b[0m \u001b[1m20s\u001b[0m 134ms/step - loss: 0.0158 - mae: 0.0907 - val_loss: 0.0197 - val_mae: 0.1041\n",
            "Epoch 96/100\n",
            "\u001b[1m125/125\u001b[0m \u001b[32m━━━━━━━━━━━━━━━━━━━━\u001b[0m\u001b[37m\u001b[0m \u001b[1m21s\u001b[0m 140ms/step - loss: 0.0159 - mae: 0.0919 - val_loss: 0.0196 - val_mae: 0.1037\n",
            "Epoch 97/100\n",
            "\u001b[1m125/125\u001b[0m \u001b[32m━━━━━━━━━━━━━━━━━━━━\u001b[0m\u001b[37m\u001b[0m \u001b[1m20s\u001b[0m 140ms/step - loss: 0.0161 - mae: 0.0925 - val_loss: 0.0196 - val_mae: 0.1034\n",
            "Epoch 98/100\n",
            "\u001b[1m125/125\u001b[0m \u001b[32m━━━━━━━━━━━━━━━━━━━━\u001b[0m\u001b[37m\u001b[0m \u001b[1m20s\u001b[0m 135ms/step - loss: 0.0158 - mae: 0.0916 - val_loss: 0.0197 - val_mae: 0.1042\n",
            "Epoch 99/100\n",
            "\u001b[1m125/125\u001b[0m \u001b[32m━━━━━━━━━━━━━━━━━━━━\u001b[0m\u001b[37m\u001b[0m \u001b[1m20s\u001b[0m 132ms/step - loss: 0.0158 - mae: 0.0918 - val_loss: 0.0195 - val_mae: 0.1026\n",
            "Epoch 100/100\n",
            "\u001b[1m125/125\u001b[0m \u001b[32m━━━━━━━━━━━━━━━━━━━━\u001b[0m\u001b[37m\u001b[0m \u001b[1m20s\u001b[0m 132ms/step - loss: 0.0150 - mae: 0.0889 - val_loss: 0.0195 - val_mae: 0.1020\n"
          ]
        }
      ],
      "source": [
        "Nasnet_model.compile(optimizer=tf.keras.optimizers.Adam(learning_rate=1e-5), loss='mse', metrics=['mae'])\n",
        "history = Nasnet_model.fit(X_train_processed_Nasnet, Y_train, validation_data=(X_valid_processed_Nasnet, Y_valid), batch_size=32, epochs=100, shuffle=True, verbose=1)"
      ]
    },
    {
      "cell_type": "code",
      "execution_count": null,
      "metadata": {
        "colab": {
          "base_uri": "https://localhost:8080/"
        },
        "id": "wQCdqbemGwh0",
        "outputId": "1d091d09-090f-4a3a-a34a-bf96b25c2ef1"
      },
      "outputs": [
        {
          "name": "stdout",
          "output_type": "stream",
          "text": [
            "(1, 224, 224, 3)\n",
            "\u001b[1m1/1\u001b[0m \u001b[32m━━━━━━━━━━━━━━━━━━━━\u001b[0m\u001b[37m\u001b[0m \u001b[1m0s\u001b[0m 41ms/step\n"
          ]
        },
        {
          "data": {
            "text/plain": [
              "array([[0.3931699]], dtype=float32)"
            ]
          },
          "execution_count": 52,
          "metadata": {},
          "output_type": "execute_result"
        }
      ],
      "source": [
        "img = Image.open('/content/appa-real-release/test/005614.jpg').convert('RGB')\n",
        "img = img.resize((224,224))\n",
        "img_array = np.array(img)\n",
        "img = np.expand_dims(img_array, axis=0)\n",
        "print(np.shape(img))\n",
        "Nasnet_model.predict(img)"
      ]
    },
    {
      "cell_type": "code",
      "execution_count": null,
      "metadata": {
        "colab": {
          "base_uri": "https://localhost:8080/"
        },
        "id": "WGzJenc6n67-",
        "outputId": "09436e1f-6093-4be2-b552-355868edeb25"
      },
      "outputs": [
        {
          "name": "stdout",
          "output_type": "stream",
          "text": [
            "Num GPUs Available:  1\n"
          ]
        }
      ],
      "source": [
        "### Nasnet implementation avec 0.7 de Dropout and with 5 trainable layer\n",
        "early_stopping_Nasnet = tf.keras.callbacks.EarlyStopping(monitor='val_loss', mode='min', verbose=1, patience=6)\n",
        "# Load NASNetMobile with pre-trained ImageNet weights, excluding the top layer\n",
        "base_model = tf.keras.applications.NASNetMobile(input_shape=(400, 400, 3), weights='imagenet', include_top=False)\n",
        "#preprocess_input = tf.keras.applications.mobilenet.preprocess_input\n",
        "preprocess_input_Nasnet = tf.keras.applications.nasnet.preprocess_input\n",
        "\n",
        "base_model.trainable = False\n",
        "for layer in base_model.layers[-5:]:\n",
        "    layer.trainable = True\n",
        "\n",
        "# Adding custom layers\n",
        "x = tf.keras.layers.GlobalAveragePooling2D()(base_model.output)\n",
        "x = tf.keras.layers.Dense(1024, activation='relu')(x)\n",
        "#x = tf.keras.layers.Dropout(0.7)(x)  # Dropout with 50% probability\n",
        "output = tf.keras.layers.Dense(1, activation='sigmoid')(x)\n",
        "\n",
        "# Create the new model with NASNetMobile as the base\n",
        "Nasnet_model = tf.keras.models.Model(inputs=base_model.input, outputs=output)\n",
        "# Preprocess the data\n",
        "X_train_processed_Nasnet = preprocess_input_Nasnet(np.copy(X_train))\n",
        "X_valid_processed_Nasnet = preprocess_input_Nasnet(np.copy(X_valid))\n",
        "\n",
        "print(\"Num GPUs Available: \", len(tf.config.list_physical_devices('GPU')))"
      ]
    },
    {
      "cell_type": "code",
      "execution_count": null,
      "metadata": {
        "id": "DMCYkfdeGp7D"
      },
      "outputs": [],
      "source": [
        "Nasnet_model.compile(optimizer=tf.keras.optimizers.Adam(learning_rate=1e-5), loss='mse', metrics=['mae'])\n",
        "history = Nasnet_model.fit(X_train_processed_Nasnet, Y_train, validation_data=(X_valid_processed_Nasnet, Y_valid), batch_size=32, epochs=100, shuffle=True, verbose=1,callbacks=[early_stopping_Nasnet])"
      ]
    },
    {
      "cell_type": "code",
      "execution_count": null,
      "metadata": {
        "colab": {
          "base_uri": "https://localhost:8080/"
        },
        "id": "jTgWLMcBfCBD",
        "outputId": "979455c1-e14f-43e4-c1c0-16c62b213ae7"
      },
      "outputs": [
        {
          "name": "stdout",
          "output_type": "stream",
          "text": [
            "Num GPUs Available:  1\n"
          ]
        }
      ],
      "source": [
        "### Nasnet implementation avec 0.5 de Dropout and with 15 trainable layer\n",
        "early_stopping_Nasnet = tf.keras.callbacks.EarlyStopping(monitor='val_loss', mode='min', verbose=1, patience=6)\n",
        "# Load NASNetMobile with pre-trained ImageNet weights, excluding the top layer\n",
        "base_model = tf.keras.applications.NASNetMobile(input_shape=(224, 224, 3), weights='imagenet', include_top=False)\n",
        "#preprocess_input = tf.keras.applications.mobilenet.preprocess_input\n",
        "preprocess_input_Nasnet = tf.keras.applications.nasnet.preprocess_input\n",
        "\n",
        "base_model.trainable = False\n",
        "for layer in base_model.layers[-15:]:\n",
        "    layer.trainable = True\n",
        "\n",
        "# Adding custom layers\n",
        "x = tf.keras.layers.GlobalAveragePooling2D()(base_model.output)\n",
        "x = tf.keras.layers.Dense(1024, activation='relu')(x)\n",
        "x = tf.keras.layers.Dropout(0.6)(x)  # Dropout with 50% probability\n",
        "output = tf.keras.layers.Dense(1, activation='sigmoid')(x)\n",
        "\n",
        "# Create the new model with NASNetMobile as the base\n",
        "Nasnet_model = tf.keras.models.Model(inputs=base_model.input, outputs=output)\n",
        "# Preprocess the data\n",
        "X_train_processed_Nasnet = preprocess_input_Nasnet(np.copy(X_train))\n",
        "X_valid_processed_Nasnet = preprocess_input_Nasnet(np.copy(X_valid))\n",
        "\n",
        "print(\"Num GPUs Available: \", len(tf.config.list_physical_devices('GPU')))"
      ]
    },
    {
      "cell_type": "code",
      "execution_count": null,
      "metadata": {
        "id": "bcm0CFzDfl4b"
      },
      "outputs": [],
      "source": [
        "Nasnet_model.compile(optimizer=tf.keras.optimizers.Adam(learning_rate=1e-5), loss='mse', metrics=['mae'])\n",
        "history = Nasnet_model.fit(X_train_processed_Nasnet, Y_train, validation_data=(X_valid_processed_Nasnet, Y_valid), batch_size=32, epochs=100, shuffle=True, verbose=1,callbacks=[early_stopping_Nasnet])"
      ]
    },
    {
      "cell_type": "code",
      "execution_count": null,
      "metadata": {
        "colab": {
          "base_uri": "https://localhost:8080/"
        },
        "id": "mpsflZgLCE-F",
        "outputId": "4743356e-3fb8-43d4-9b41-d9d7c673de46"
      },
      "outputs": [
        {
          "name": "stdout",
          "output_type": "stream",
          "text": [
            "Downloading data from https://storage.googleapis.com/tensorflow/keras-applications/nasnet/NASNet-mobile-no-top.h5\n",
            "\u001b[1m19993432/19993432\u001b[0m \u001b[32m━━━━━━━━━━━━━━━━━━━━\u001b[0m\u001b[37m\u001b[0m \u001b[1m2s\u001b[0m 0us/step\n",
            "Num GPUs Available:  1\n"
          ]
        }
      ],
      "source": [
        "### Nasnet implementation avec 0.5 de Dropout and with 15 trainable layer\n",
        "early_stopping_Nasnet = tf.keras.callbacks.EarlyStopping(monitor='val_loss', mode='min', verbose=1, patience=6)\n",
        "# Load NASNetMobile with pre-trained ImageNet weights, excluding the top layer\n",
        "base_model = tf.keras.applications.NASNetMobile(input_shape=(224, 224, 3), weights='imagenet', include_top=False)\n",
        "#preprocess_input = tf.keras.applications.mobilenet.preprocess_input\n",
        "preprocess_input_Nasnet = tf.keras.applications.nasnet.preprocess_input\n",
        "\n",
        "base_model.trainable = False\n",
        "for layer in base_model.layers[-10:]:\n",
        "    layer.trainable = True\n",
        "\n",
        "# Adding custom layers\n",
        "x = tf.keras.layers.GlobalAveragePooling2D()(base_model.output)\n",
        "x = tf.keras.layers.Dense(1024, activation='relu')(x)\n",
        "x = tf.keras.layers.Dropout(0.6)(x)  # Dropout with 50% probability\n",
        "output = tf.keras.layers.Dense(1, activation='sigmoid')(x)\n",
        "\n",
        "# Create the new model with NASNetMobile as the base\n",
        "Nasnet_model = tf.keras.models.Model(inputs=base_model.input, outputs=output)\n",
        "# Preprocess the data\n",
        "X_train_processed_Nasnet = preprocess_input_Nasnet(np.copy(X_train))\n",
        "X_valid_processed_Nasnet = preprocess_input_Nasnet(np.copy(X_valid))\n",
        "\n",
        "print(\"Num GPUs Available: \", len(tf.config.list_physical_devices('GPU')))"
      ]
    },
    {
      "cell_type": "code",
      "execution_count": null,
      "metadata": {
        "colab": {
          "base_uri": "https://localhost:8080/"
        },
        "id": "kLLBpjx2y5-9",
        "outputId": "152b3c33-a1bc-45ec-a11d-a0cdba3f0a54"
      },
      "outputs": [
        {
          "name": "stderr",
          "output_type": "stream",
          "text": [
            "/usr/local/lib/python3.10/dist-packages/albumentations/__init__.py:24: UserWarning: A new version of Albumentations is available: 1.4.21 (you have 1.4.20). Upgrade using: pip install -U albumentations. To disable automatic update checks, set the environment variable NO_ALBUMENTATIONS_UPDATE to 1.\n",
            "  check_for_updates()\n"
          ]
        },
        {
          "name": "stdout",
          "output_type": "stream",
          "text": [
            "Epoch 1/100\n"
          ]
        },
        {
          "name": "stderr",
          "output_type": "stream",
          "text": [
            "/usr/local/lib/python3.10/dist-packages/keras/src/trainers/data_adapters/py_dataset_adapter.py:122: UserWarning: Your `PyDataset` class should call `super().__init__(**kwargs)` in its constructor. `**kwargs` can include `workers`, `use_multiprocessing`, `max_queue_size`. Do not pass these arguments to `fit()`, as they will be ignored.\n",
            "  self._warn_if_super_not_called()\n"
          ]
        },
        {
          "name": "stdout",
          "output_type": "stream",
          "text": [
            "\u001b[1m125/125\u001b[0m \u001b[32m━━━━━━━━━━━━━━━━━━━━\u001b[0m\u001b[37m\u001b[0m \u001b[1m95s\u001b[0m 463ms/step - loss: 0.0470 - mae: 0.1711 - val_loss: 0.0285 - val_mae: 0.1320\n",
            "Epoch 2/100\n",
            "\u001b[1m125/125\u001b[0m \u001b[32m━━━━━━━━━━━━━━━━━━━━\u001b[0m\u001b[37m\u001b[0m \u001b[1m19s\u001b[0m 91ms/step - loss: 0.0425 - mae: 0.1610 - val_loss: 0.0254 - val_mae: 0.1257\n",
            "Epoch 3/100\n",
            "\u001b[1m125/125\u001b[0m \u001b[32m━━━━━━━━━━━━━━━━━━━━\u001b[0m\u001b[37m\u001b[0m \u001b[1m12s\u001b[0m 92ms/step - loss: 0.0374 - mae: 0.1511 - val_loss: 0.0240 - val_mae: 0.1223\n",
            "Epoch 4/100\n",
            "\u001b[1m125/125\u001b[0m \u001b[32m━━━━━━━━━━━━━━━━━━━━\u001b[0m\u001b[37m\u001b[0m \u001b[1m12s\u001b[0m 94ms/step - loss: 0.0371 - mae: 0.1512 - val_loss: 0.0231 - val_mae: 0.1201\n",
            "Epoch 5/100\n",
            "\u001b[1m125/125\u001b[0m \u001b[32m━━━━━━━━━━━━━━━━━━━━\u001b[0m\u001b[37m\u001b[0m \u001b[1m20s\u001b[0m 90ms/step - loss: 0.0333 - mae: 0.1423 - val_loss: 0.0228 - val_mae: 0.1212\n",
            "Epoch 6/100\n",
            "\u001b[1m125/125\u001b[0m \u001b[32m━━━━━━━━━━━━━━━━━━━━\u001b[0m\u001b[37m\u001b[0m \u001b[1m12s\u001b[0m 90ms/step - loss: 0.0337 - mae: 0.1435 - val_loss: 0.0221 - val_mae: 0.1182\n",
            "Epoch 7/100\n",
            "\u001b[1m125/125\u001b[0m \u001b[32m━━━━━━━━━━━━━━━━━━━━\u001b[0m\u001b[37m\u001b[0m \u001b[1m12s\u001b[0m 90ms/step - loss: 0.0305 - mae: 0.1360 - val_loss: 0.0218 - val_mae: 0.1176\n",
            "Epoch 8/100\n",
            "\u001b[1m125/125\u001b[0m \u001b[32m━━━━━━━━━━━━━━━━━━━━\u001b[0m\u001b[37m\u001b[0m \u001b[1m11s\u001b[0m 85ms/step - loss: 0.0301 - mae: 0.1356 - val_loss: 0.0215 - val_mae: 0.1164\n",
            "Epoch 9/100\n",
            "\u001b[1m125/125\u001b[0m \u001b[32m━━━━━━━━━━━━━━━━━━━━\u001b[0m\u001b[37m\u001b[0m \u001b[1m12s\u001b[0m 94ms/step - loss: 0.0290 - mae: 0.1327 - val_loss: 0.0213 - val_mae: 0.1158\n",
            "Epoch 10/100\n",
            "\u001b[1m125/125\u001b[0m \u001b[32m━━━━━━━━━━━━━━━━━━━━\u001b[0m\u001b[37m\u001b[0m \u001b[1m12s\u001b[0m 88ms/step - loss: 0.0288 - mae: 0.1329 - val_loss: 0.0212 - val_mae: 0.1164\n",
            "Epoch 11/100\n",
            "\u001b[1m125/125\u001b[0m \u001b[32m━━━━━━━━━━━━━━━━━━━━\u001b[0m\u001b[37m\u001b[0m \u001b[1m12s\u001b[0m 94ms/step - loss: 0.0282 - mae: 0.1313 - val_loss: 0.0216 - val_mae: 0.1181\n",
            "Epoch 12/100\n",
            "\u001b[1m125/125\u001b[0m \u001b[32m━━━━━━━━━━━━━━━━━━━━\u001b[0m\u001b[37m\u001b[0m \u001b[1m13s\u001b[0m 98ms/step - loss: 0.0269 - mae: 0.1285 - val_loss: 0.0209 - val_mae: 0.1155\n",
            "Epoch 13/100\n",
            "\u001b[1m125/125\u001b[0m \u001b[32m━━━━━━━━━━━━━━━━━━━━\u001b[0m\u001b[37m\u001b[0m \u001b[1m20s\u001b[0m 95ms/step - loss: 0.0264 - mae: 0.1272 - val_loss: 0.0215 - val_mae: 0.1185\n",
            "Epoch 14/100\n",
            "\u001b[1m125/125\u001b[0m \u001b[32m━━━━━━━━━━━━━━━━━━━━\u001b[0m\u001b[37m\u001b[0m \u001b[1m13s\u001b[0m 102ms/step - loss: 0.0247 - mae: 0.1237 - val_loss: 0.0214 - val_mae: 0.1180\n",
            "Epoch 15/100\n",
            "\u001b[1m125/125\u001b[0m \u001b[32m━━━━━━━━━━━━━━━━━━━━\u001b[0m\u001b[37m\u001b[0m \u001b[1m12s\u001b[0m 92ms/step - loss: 0.0261 - mae: 0.1259 - val_loss: 0.0210 - val_mae: 0.1166\n",
            "Epoch 16/100\n",
            "\u001b[1m125/125\u001b[0m \u001b[32m━━━━━━━━━━━━━━━━━━━━\u001b[0m\u001b[37m\u001b[0m \u001b[1m12s\u001b[0m 94ms/step - loss: 0.0260 - mae: 0.1271 - val_loss: 0.0212 - val_mae: 0.1172\n",
            "Epoch 17/100\n",
            "\u001b[1m125/125\u001b[0m \u001b[32m━━━━━━━━━━━━━━━━━━━━\u001b[0m\u001b[37m\u001b[0m \u001b[1m11s\u001b[0m 86ms/step - loss: 0.0242 - mae: 0.1209 - val_loss: 0.0209 - val_mae: 0.1160\n",
            "Epoch 18/100\n",
            "\u001b[1m125/125\u001b[0m \u001b[32m━━━━━━━━━━━━━━━━━━━━\u001b[0m\u001b[37m\u001b[0m \u001b[1m12s\u001b[0m 92ms/step - loss: 0.0235 - mae: 0.1199 - val_loss: 0.0209 - val_mae: 0.1162\n",
            "Epoch 19/100\n",
            "\u001b[1m125/125\u001b[0m \u001b[32m━━━━━━━━━━━━━━━━━━━━\u001b[0m\u001b[37m\u001b[0m \u001b[1m11s\u001b[0m 88ms/step - loss: 0.0236 - mae: 0.1209 - val_loss: 0.0210 - val_mae: 0.1167\n",
            "Epoch 20/100\n",
            "\u001b[1m125/125\u001b[0m \u001b[32m━━━━━━━━━━━━━━━━━━━━\u001b[0m\u001b[37m\u001b[0m \u001b[1m11s\u001b[0m 83ms/step - loss: 0.0236 - mae: 0.1204 - val_loss: 0.0208 - val_mae: 0.1158\n",
            "Epoch 21/100\n",
            "\u001b[1m125/125\u001b[0m \u001b[32m━━━━━━━━━━━━━━━━━━━━\u001b[0m\u001b[37m\u001b[0m \u001b[1m21s\u001b[0m 90ms/step - loss: 0.0235 - mae: 0.1202 - val_loss: 0.0207 - val_mae: 0.1156\n",
            "Epoch 22/100\n",
            "\u001b[1m125/125\u001b[0m \u001b[32m━━━━━━━━━━━━━━━━━━━━\u001b[0m\u001b[37m\u001b[0m \u001b[1m11s\u001b[0m 88ms/step - loss: 0.0237 - mae: 0.1188 - val_loss: 0.0210 - val_mae: 0.1171\n",
            "Epoch 23/100\n",
            "\u001b[1m125/125\u001b[0m \u001b[32m━━━━━━━━━━━━━━━━━━━━\u001b[0m\u001b[37m\u001b[0m \u001b[1m22s\u001b[0m 99ms/step - loss: 0.0220 - mae: 0.1165 - val_loss: 0.0210 - val_mae: 0.1172\n",
            "Epoch 24/100\n",
            "\u001b[1m125/125\u001b[0m \u001b[32m━━━━━━━━━━━━━━━━━━━━\u001b[0m\u001b[37m\u001b[0m \u001b[1m12s\u001b[0m 96ms/step - loss: 0.0218 - mae: 0.1155 - val_loss: 0.0209 - val_mae: 0.1166\n",
            "Epoch 25/100\n",
            "\u001b[1m125/125\u001b[0m \u001b[32m━━━━━━━━━━━━━━━━━━━━\u001b[0m\u001b[37m\u001b[0m \u001b[1m20s\u001b[0m 86ms/step - loss: 0.0219 - mae: 0.1159 - val_loss: 0.0208 - val_mae: 0.1164\n",
            "Epoch 26/100\n",
            "\u001b[1m125/125\u001b[0m \u001b[32m━━━━━━━━━━━━━━━━━━━━\u001b[0m\u001b[37m\u001b[0m \u001b[1m21s\u001b[0m 90ms/step - loss: 0.0222 - mae: 0.1170 - val_loss: 0.0209 - val_mae: 0.1168\n",
            "Epoch 27/100\n",
            "\u001b[1m125/125\u001b[0m \u001b[32m━━━━━━━━━━━━━━━━━━━━\u001b[0m\u001b[37m\u001b[0m \u001b[1m21s\u001b[0m 91ms/step - loss: 0.0208 - mae: 0.1137 - val_loss: 0.0210 - val_mae: 0.1169\n",
            "Epoch 27: early stopping\n"
          ]
        }
      ],
      "source": [
        "import albumentations as A\n",
        "from albumentations.core.composition import Compose, OneOf\n",
        "from albumentations.pytorch import ToTensorV2\n",
        "import numpy as np\n",
        "import tensorflow as tf\n",
        "\n",
        "# Define the Albumentations augmentation pipeline\n",
        "augmentation_pipeline = A.Compose([\n",
        "    A.Rotate(limit=10, p=0.5),                 # Rotation range of 10 degrees\n",
        "    A.HorizontalFlip(p=0.5),                   # Horizontal flip\n",
        "    A.ShiftScaleRotate(shift_limit=0.1, scale_limit=0.1, rotate_limit=0, p=0.5),\n",
        "    A.RandomBrightnessContrast(brightness_limit=0.1, contrast_limit=0.1, p=0.5),\n",
        "#    A.RandomZoom(scale_limit=0.1, p=0.5),\n",
        "    A.Normalize(),                             # Normalization\n",
        "])\n",
        "\n",
        "# Custom data generator to apply Albumentations on-the-fly\n",
        "class AlbumentationsDataGenerator(tf.keras.utils.Sequence):\n",
        "    def __init__(self, images, labels, batch_size=32, augmentations=None, shuffle=True):\n",
        "        self.images = images\n",
        "        self.labels = labels\n",
        "        self.batch_size = batch_size\n",
        "        self.augmentations = augmentations\n",
        "        self.shuffle = shuffle\n",
        "        self.indices = np.arange(len(self.images))\n",
        "        self.on_epoch_end()\n",
        "\n",
        "    def __len__(self):\n",
        "         return len(self.images) // self.batch_size\n",
        "\n",
        "    def __getitem__(self, index):\n",
        "         batch_indices = self.indices[index * self.batch_size:(index + 1) * self.batch_size]\n",
        "         batch_images = [self.images[i] for i in batch_indices]\n",
        "         batch_labels = [self.labels[i] for i in batch_indices]\n",
        "\n",
        "         # Apply augmentations\n",
        "         if self.augmentations:\n",
        "             batch_images = [self.augmentations(image=image)['image'] for image in batch_images]\n",
        "         return np.array(batch_images), np.array(batch_labels)\n",
        "\n",
        "    def on_epoch_end(self):\n",
        "         if self.shuffle:\n",
        "             np.random.shuffle(self.indices)\n",
        "\n",
        "# Initialize the custom data generator with augmentations\n",
        "train_generator = AlbumentationsDataGenerator(\n",
        "    images=X_train,\n",
        "    labels=Y_train,\n",
        "    batch_size=32,\n",
        "    augmentations=augmentation_pipeline\n",
        ")\n",
        "Nasnet_model.compile(optimizer=tf.keras.optimizers.Adam(learning_rate=1e-5), loss='mse', metrics=['mae'])\n",
        "\n",
        "# Training the model\n",
        "history = Nasnet_model.fit(\n",
        "    train_generator,\n",
        "    validation_data=(X_valid_processed_Nasnet, Y_valid),\n",
        "    epochs=100,\n",
        "    shuffle=True,\n",
        "    verbose=1,\n",
        "    callbacks=[early_stopping_Nasnet]\n",
        ")\n"
      ]
    },
    {
      "cell_type": "code",
      "execution_count": null,
      "metadata": {
        "id": "6Bh4rERY7_Xr"
      },
      "outputs": [],
      "source": [
        "print(np.shape(train_generator))"
      ]
    },
    {
      "cell_type": "code",
      "execution_count": null,
      "metadata": {
        "colab": {
          "base_uri": "https://localhost:8080/",
          "height": 524
        },
        "id": "FrhZiD8BEkXD",
        "outputId": "6ceb98f7-9c1b-4f92-e05a-ec7a69010838"
      },
      "outputs": [
        {
          "data": {
            "image/png": "[encoded data removed]",
            "text/plain": [
              "<Figure size 1200x500 with 2 Axes>"
            ]
          },
          "metadata": {},
          "output_type": "display_data"
        },
        {
          "name": "stdout",
          "output_type": "stream",
          "text": [
            "Current learning rate: 1e-05\n"
          ]
        }
      ],
      "source": [
        "import matplotlib.pyplot as plt\n",
        "\n",
        "def plot_training_history(history):\n",
        "    \"\"\"\n",
        "    Plots training and validation metrics from the Keras History object.\n",
        "\n",
        "    Parameters:\n",
        "    - history: Keras History object returned by model.fit()\n",
        "    \"\"\"\n",
        "    # Extract metric names from history\n",
        "    metrics = list(history.history.keys())\n",
        "\n",
        "    # Identify training and validation metrics\n",
        "    train_metrics = [m for m in metrics if not m.startswith('val_')]\n",
        "    val_metrics = [m for m in metrics if m.startswith('val_')]\n",
        "\n",
        "    # Number of metrics to plot\n",
        "    num_metrics = len(train_metrics)\n",
        "\n",
        "    # Set up the matplotlib figure\n",
        "    plt.figure(figsize=(6 * num_metrics, 5))\n",
        "\n",
        "    for i, metric in enumerate(train_metrics):\n",
        "        plt.subplot(1, num_metrics, i + 1)\n",
        "        plt.plot(history.history[metric], label=f'Training {metric.capitalize()}')\n",
        "        # Check if validation metric exists\n",
        "        val_metric = f'val_{metric}'\n",
        "        if val_metric in history.history:\n",
        "            plt.plot(history.history[val_metric], label=f'Validation {metric.capitalize()}')\n",
        "        plt.title(f'{metric.capitalize()} over Epochs')\n",
        "        plt.xlabel('Epoch')\n",
        "        plt.ylabel(metric.capitalize())\n",
        "        plt.legend()\n",
        "        plt.grid(True)\n",
        "\n",
        "    plt.tight_layout()\n",
        "    plt.show()\n",
        "\n",
        "def plot_loss_mae(history):\n",
        "    \"\"\"\n",
        "    Plots training and validation MAE from the Keras history object.\n",
        "\n",
        "    Parameters:\n",
        "    - history: Keras History object from model.fit()\n",
        "    \"\"\"\n",
        "    plt.figure(figsize=(10, 6))\n",
        "\n",
        "    # Plot MAE for training and validation\n",
        "    plt.plot(history.history['mae'], label='Training MAE')\n",
        "    if 'val_mae' in history.history:\n",
        "        plt.plot(history.history['val_mae'], label='Validation MAE')\n",
        "\n",
        "    plt.title('Model Mean Absolute Error (MAE)')\n",
        "    plt.xlabel('Epoch')\n",
        "    plt.ylabel('MAE')\n",
        "    plt.legend()\n",
        "    plt.grid(True)\n",
        "    plt.show()\n",
        "\n",
        "# Example usage:\n",
        "#plot_loss_mae(history)\n",
        "plot_training_history(history)\n",
        "\n",
        "learning_rate = Nasnet_model.optimizer.learning_rate.numpy()\n",
        "print(\"Current learning rate:\", learning_rate)"
      ]
    },
    {
      "cell_type": "code",
      "execution_count": null,
      "metadata": {
        "colab": {
          "base_uri": "https://localhost:8080/"
        },
        "id": "VTRH6Ei0MIWG",
        "outputId": "1028d43e-1bbb-45b3-d353-3f3ece42ac42"
      },
      "outputs": [
        {
          "name": "stdout",
          "output_type": "stream",
          "text": [
            "Epoch 1/100\n"
          ]
        },
        {
          "name": "stderr",
          "output_type": "stream",
          "text": [
            "/usr/local/lib/python3.10/dist-packages/keras/src/trainers/data_adapters/py_dataset_adapter.py:122: UserWarning: Your `PyDataset` class should call `super().__init__(**kwargs)` in its constructor. `**kwargs` can include `workers`, `use_multiprocessing`, `max_queue_size`. Do not pass these arguments to `fit()`, as they will be ignored.\n",
            "  self._warn_if_super_not_called()\n"
          ]
        },
        {
          "name": "stdout",
          "output_type": "stream",
          "text": [
            "\u001b[1m125/125\u001b[0m \u001b[32m━━━━━━━━━━━━━━━━━━━━\u001b[0m\u001b[37m\u001b[0m \u001b[1m69s\u001b[0m 282ms/step - loss: 10.1378 - mae: 0.4395 - val_loss: 8.2140 - val_mae: 0.1767 - learning_rate: 1.0000e-04\n",
            "Epoch 2/100\n",
            "\u001b[1m125/125\u001b[0m \u001b[32m━━━━━━━━━━━━━━━━━━━━\u001b[0m\u001b[37m\u001b[0m \u001b[1m47s\u001b[0m 104ms/step - loss: 7.7669 - mae: 0.2510 - val_loss: 6.3180 - val_mae: 0.1598 - learning_rate: 1.0000e-04\n",
            "Epoch 3/100\n",
            "\u001b[1m125/125\u001b[0m \u001b[32m━━━━━━━━━━━━━━━━━━━━\u001b[0m\u001b[37m\u001b[0m \u001b[1m14s\u001b[0m 111ms/step - loss: 5.9398 - mae: 0.1952 - val_loss: 4.8175 - val_mae: 0.1438 - learning_rate: 1.0000e-04\n",
            "Epoch 4/100\n",
            "\u001b[1m125/125\u001b[0m \u001b[32m━━━━━━━━━━━━━━━━━━━━\u001b[0m\u001b[37m\u001b[0m \u001b[1m19s\u001b[0m 97ms/step - loss: 4.5165 - mae: 0.1613 - val_loss: 3.6588 - val_mae: 0.1385 - learning_rate: 1.0000e-04\n",
            "Epoch 5/100\n",
            "\u001b[1m125/125\u001b[0m \u001b[32m━━━━━━━━━━━━━━━━━━━━\u001b[0m\u001b[37m\u001b[0m \u001b[1m14s\u001b[0m 102ms/step - loss: 3.4263 - mae: 0.1455 - val_loss: 2.7721 - val_mae: 0.1340 - learning_rate: 1.0000e-04\n",
            "Epoch 6/100\n",
            "\u001b[1m125/125\u001b[0m \u001b[32m━━━━━━━━━━━━━━━━━━━━\u001b[0m\u001b[37m\u001b[0m \u001b[1m20s\u001b[0m 105ms/step - loss: 2.5919 - mae: 0.1310 - val_loss: 2.1030 - val_mae: 0.1480 - learning_rate: 1.0000e-04\n",
            "Epoch 7/100\n",
            "\u001b[1m125/125\u001b[0m \u001b[32m━━━━━━━━━━━━━━━━━━━━\u001b[0m\u001b[37m\u001b[0m \u001b[1m15s\u001b[0m 115ms/step - loss: 1.9576 - mae: 0.1272 - val_loss: 1.5817 - val_mae: 0.1300 - learning_rate: 1.0000e-04\n",
            "Epoch 8/100\n",
            "\u001b[1m125/125\u001b[0m \u001b[32m━━━━━━━━━━━━━━━━━━━━\u001b[0m\u001b[37m\u001b[0m \u001b[1m15s\u001b[0m 114ms/step - loss: 1.4757 - mae: 0.1225 - val_loss: 1.1930 - val_mae: 0.1367 - learning_rate: 1.0000e-04\n",
            "Epoch 9/100\n",
            "\u001b[1m125/125\u001b[0m \u001b[32m━━━━━━━━━━━━━━━━━━━━\u001b[0m\u001b[37m\u001b[0m \u001b[1m19s\u001b[0m 106ms/step - loss: 1.1106 - mae: 0.1231 - val_loss: 0.8955 - val_mae: 0.1330 - learning_rate: 1.0000e-04\n",
            "Epoch 10/100\n",
            "\u001b[1m125/125\u001b[0m \u001b[32m━━━━━━━━━━━━━━━━━━━━\u001b[0m\u001b[37m\u001b[0m \u001b[1m14s\u001b[0m 107ms/step - loss: 0.8311 - mae: 0.1177 - val_loss: 0.6679 - val_mae: 0.1238 - learning_rate: 1.0000e-04\n",
            "Epoch 11/100\n",
            "\u001b[1m125/125\u001b[0m \u001b[32m━━━━━━━━━━━━━━━━━━━━\u001b[0m\u001b[37m\u001b[0m \u001b[1m14s\u001b[0m 105ms/step - loss: 0.6232 - mae: 0.1198 - val_loss: 0.4985 - val_mae: 0.1210 - learning_rate: 1.0000e-04\n",
            "Epoch 12/100\n",
            "\u001b[1m125/125\u001b[0m \u001b[32m━━━━━━━━━━━━━━━━━━━━\u001b[0m\u001b[37m\u001b[0m \u001b[1m22s\u001b[0m 114ms/step - loss: 0.4652 - mae: 0.1195 - val_loss: 0.3741 - val_mae: 0.1272 - learning_rate: 1.0000e-04\n",
            "Epoch 13/100\n",
            "\u001b[1m125/125\u001b[0m \u001b[32m━━━━━━━━━━━━━━━━━━━━\u001b[0m\u001b[37m\u001b[0m \u001b[1m19s\u001b[0m 103ms/step - loss: 0.3491 - mae: 0.1205 - val_loss: 0.2792 - val_mae: 0.1212 - learning_rate: 1.0000e-04\n",
            "Epoch 14/100\n",
            "\u001b[1m125/125\u001b[0m \u001b[32m━━━━━━━━━━━━━━━━━━━━\u001b[0m\u001b[37m\u001b[0m \u001b[1m14s\u001b[0m 110ms/step - loss: 0.2620 - mae: 0.1211 - val_loss: 0.2075 - val_mae: 0.1133 - learning_rate: 1.0000e-04\n",
            "Epoch 15/100\n",
            "\u001b[1m125/125\u001b[0m \u001b[32m━━━━━━━━━━━━━━━━━━━━\u001b[0m\u001b[37m\u001b[0m \u001b[1m14s\u001b[0m 109ms/step - loss: 0.1965 - mae: 0.1187 - val_loss: 0.1591 - val_mae: 0.1219 - learning_rate: 1.0000e-04\n",
            "Epoch 16/100\n",
            "\u001b[1m125/125\u001b[0m \u001b[32m━━━━━━━━━━━━━━━━━━━━\u001b[0m\u001b[37m\u001b[0m \u001b[1m19s\u001b[0m 102ms/step - loss: 0.1499 - mae: 0.1194 - val_loss: 0.1237 - val_mae: 0.1288 - learning_rate: 1.0000e-04\n",
            "Epoch 17/100\n",
            "\u001b[1m125/125\u001b[0m \u001b[32m━━━━━━━━━━━━━━━━━━━━\u001b[0m\u001b[37m\u001b[0m \u001b[1m21s\u001b[0m 109ms/step - loss: 0.1144 - mae: 0.1173 - val_loss: 0.0990 - val_mae: 0.1364 - learning_rate: 1.0000e-04\n",
            "Epoch 18/100\n",
            "\u001b[1m125/125\u001b[0m \u001b[32m━━━━━━━━━━━━━━━━━━━━\u001b[0m\u001b[37m\u001b[0m \u001b[1m19s\u001b[0m 101ms/step - loss: 0.0891 - mae: 0.1175 - val_loss: 0.0796 - val_mae: 0.1368 - learning_rate: 1.0000e-04\n",
            "Epoch 19/100\n",
            "\u001b[1m125/125\u001b[0m \u001b[32m━━━━━━━━━━━━━━━━━━━━\u001b[0m\u001b[37m\u001b[0m \u001b[1m13s\u001b[0m 101ms/step - loss: 0.0723 - mae: 0.1197 - val_loss: 0.0581 - val_mae: 0.1111 - learning_rate: 1.0000e-04\n",
            "Epoch 20/100\n",
            "\u001b[1m125/125\u001b[0m \u001b[32m━━━━━━━━━━━━━━━━━━━━\u001b[0m\u001b[37m\u001b[0m \u001b[1m20s\u001b[0m 99ms/step - loss: 0.0587 - mae: 0.1181 - val_loss: 0.0530 - val_mae: 0.1267 - learning_rate: 1.0000e-04\n",
            "Epoch 21/100\n",
            "\u001b[1m125/125\u001b[0m \u001b[32m━━━━━━━━━━━━━━━━━━━━\u001b[0m\u001b[37m\u001b[0m \u001b[1m13s\u001b[0m 103ms/step - loss: 0.0505 - mae: 0.1190 - val_loss: 0.0498 - val_mae: 0.1386 - learning_rate: 1.0000e-04\n",
            "Epoch 22/100\n",
            "\u001b[1m125/125\u001b[0m \u001b[32m━━━━━━━━━━━━━━━━━━━━\u001b[0m\u001b[37m\u001b[0m \u001b[1m20s\u001b[0m 102ms/step - loss: 0.0420 - mae: 0.1174 - val_loss: 0.0378 - val_mae: 0.1186 - learning_rate: 1.0000e-04\n",
            "Epoch 23/100\n",
            "\u001b[1m125/125\u001b[0m \u001b[32m━━━━━━━━━━━━━━━━━━━━\u001b[0m\u001b[37m\u001b[0m \u001b[1m14s\u001b[0m 108ms/step - loss: 0.0378 - mae: 0.1171 - val_loss: 0.0350 - val_mae: 0.1226 - learning_rate: 1.0000e-04\n",
            "Epoch 24/100\n",
            "\u001b[1m125/125\u001b[0m \u001b[32m━━━━━━━━━━━━━━━━━━━━\u001b[0m\u001b[37m\u001b[0m \u001b[1m20s\u001b[0m 102ms/step - loss: 0.0339 - mae: 0.1163 - val_loss: 0.0367 - val_mae: 0.1354 - learning_rate: 1.0000e-04\n",
            "Epoch 25/100\n",
            "\u001b[1m125/125\u001b[0m \u001b[32m━━━━━━━━━━━━━━━━━━━━\u001b[0m\u001b[37m\u001b[0m \u001b[1m13s\u001b[0m 98ms/step - loss: 0.0314 - mae: 0.1157 - val_loss: 0.0387 - val_mae: 0.1437 - learning_rate: 1.0000e-04\n",
            "Epoch 26/100\n",
            "\u001b[1m125/125\u001b[0m \u001b[32m━━━━━━━━━━━━━━━━━━━━\u001b[0m\u001b[37m\u001b[0m \u001b[1m21s\u001b[0m 105ms/step - loss: 0.0298 - mae: 0.1153 - val_loss: 0.0276 - val_mae: 0.1165 - learning_rate: 1.0000e-04\n",
            "Epoch 27/100\n",
            "\u001b[1m125/125\u001b[0m \u001b[32m━━━━━━━━━━━━━━━━━━━━\u001b[0m\u001b[37m\u001b[0m \u001b[1m13s\u001b[0m 100ms/step - loss: 0.0301 - mae: 0.1205 - val_loss: 0.0312 - val_mae: 0.1322 - learning_rate: 1.0000e-04\n",
            "Epoch 28/100\n",
            "\u001b[1m125/125\u001b[0m \u001b[32m━━━━━━━━━━━━━━━━━━━━\u001b[0m\u001b[37m\u001b[0m \u001b[1m13s\u001b[0m 102ms/step - loss: 0.0296 - mae: 0.1207 - val_loss: 0.0313 - val_mae: 0.1336 - learning_rate: 1.0000e-04\n",
            "Epoch 29/100\n",
            "\u001b[1m125/125\u001b[0m \u001b[32m━━━━━━━━━━━━━━━━━━━━\u001b[0m\u001b[37m\u001b[0m \u001b[1m22s\u001b[0m 111ms/step - loss: 0.0260 - mae: 0.1137 - val_loss: 0.0256 - val_mae: 0.1186 - learning_rate: 1.0000e-04\n",
            "Epoch 30/100\n",
            "\u001b[1m125/125\u001b[0m \u001b[32m━━━━━━━━━━━━━━━━━━━━\u001b[0m\u001b[37m\u001b[0m \u001b[1m14s\u001b[0m 109ms/step - loss: 0.0261 - mae: 0.1147 - val_loss: 0.0234 - val_mae: 0.1096 - learning_rate: 1.0000e-04\n",
            "Epoch 31/100\n",
            "\u001b[1m125/125\u001b[0m \u001b[32m━━━━━━━━━━━━━━━━━━━━\u001b[0m\u001b[37m\u001b[0m \u001b[1m14s\u001b[0m 112ms/step - loss: 0.0260 - mae: 0.1161 - val_loss: 0.0283 - val_mae: 0.1275 - learning_rate: 1.0000e-04\n",
            "Epoch 32/100\n",
            "\u001b[1m125/125\u001b[0m \u001b[32m━━━━━━━━━━━━━━━━━━━━\u001b[0m\u001b[37m\u001b[0m \u001b[1m13s\u001b[0m 102ms/step - loss: 0.0257 - mae: 0.1168 - val_loss: 0.0246 - val_mae: 0.1177 - learning_rate: 1.0000e-04\n",
            "Epoch 33/100\n",
            "\u001b[1m125/125\u001b[0m \u001b[32m━━━━━━━━━━━━━━━━━━━━\u001b[0m\u001b[37m\u001b[0m \u001b[1m0s\u001b[0m 89ms/step - loss: 0.0248 - mae: 0.1143\n",
            "Epoch 33: ReduceLROnPlateau reducing learning rate to 4.999999873689376e-05.\n",
            "\u001b[1m125/125\u001b[0m \u001b[32m━━━━━━━━━━━━━━━━━━━━\u001b[0m\u001b[37m\u001b[0m \u001b[1m13s\u001b[0m 103ms/step - loss: 0.0248 - mae: 0.1143 - val_loss: 0.0294 - val_mae: 0.1336 - learning_rate: 1.0000e-04\n",
            "Epoch 34/100\n",
            "\u001b[1m125/125\u001b[0m \u001b[32m━━━━━━━━━━━━━━━━━━━━\u001b[0m\u001b[37m\u001b[0m \u001b[1m13s\u001b[0m 103ms/step - loss: 0.0245 - mae: 0.1140 - val_loss: 0.0300 - val_mae: 0.1352 - learning_rate: 5.0000e-05\n",
            "Epoch 35/100\n",
            "\u001b[1m125/125\u001b[0m \u001b[32m━━━━━━━━━━━━━━━━━━━━\u001b[0m\u001b[37m\u001b[0m \u001b[1m14s\u001b[0m 110ms/step - loss: 0.0240 - mae: 0.1141 - val_loss: 0.0272 - val_mae: 0.1283 - learning_rate: 5.0000e-05\n",
            "Epoch 36/100\n",
            "\u001b[1m125/125\u001b[0m \u001b[32m━━━━━━━━━━━━━━━━━━━━\u001b[0m\u001b[37m\u001b[0m \u001b[1m0s\u001b[0m 88ms/step - loss: 0.0237 - mae: 0.1143\n",
            "Epoch 36: ReduceLROnPlateau reducing learning rate to 2.499999936844688e-05.\n",
            "\u001b[1m125/125\u001b[0m \u001b[32m━━━━━━━━━━━━━━━━━━━━\u001b[0m\u001b[37m\u001b[0m \u001b[1m20s\u001b[0m 109ms/step - loss: 0.0237 - mae: 0.1143 - val_loss: 0.0282 - val_mae: 0.1317 - learning_rate: 5.0000e-05\n",
            "Epoch 37/100\n",
            "\u001b[1m125/125\u001b[0m \u001b[32m━━━━━━━━━━━━━━━━━━━━\u001b[0m\u001b[37m\u001b[0m \u001b[1m15s\u001b[0m 112ms/step - loss: 0.0226 - mae: 0.1107 - val_loss: 0.0316 - val_mae: 0.1412 - learning_rate: 2.5000e-05\n",
            "Epoch 38/100\n",
            "\u001b[1m125/125\u001b[0m \u001b[32m━━━━━━━━━━━━━━━━━━━━\u001b[0m\u001b[37m\u001b[0m \u001b[1m19s\u001b[0m 104ms/step - loss: 0.0227 - mae: 0.1132 - val_loss: 0.0282 - val_mae: 0.1317 - learning_rate: 2.5000e-05\n",
            "Epoch 39/100\n",
            "\u001b[1m125/125\u001b[0m \u001b[32m━━━━━━━━━━━━━━━━━━━━\u001b[0m\u001b[37m\u001b[0m \u001b[1m0s\u001b[0m 82ms/step - loss: 0.0239 - mae: 0.1152\n",
            "Epoch 39: ReduceLROnPlateau reducing learning rate to 1.249999968422344e-05.\n",
            "\u001b[1m125/125\u001b[0m \u001b[32m━━━━━━━━━━━━━━━━━━━━\u001b[0m\u001b[37m\u001b[0m \u001b[1m20s\u001b[0m 97ms/step - loss: 0.0239 - mae: 0.1152 - val_loss: 0.0257 - val_mae: 0.1259 - learning_rate: 2.5000e-05\n",
            "Epoch 40/100\n",
            "\u001b[1m125/125\u001b[0m \u001b[32m━━━━━━━━━━━━━━━━━━━━\u001b[0m\u001b[37m\u001b[0m \u001b[1m13s\u001b[0m 98ms/step - loss: 0.0224 - mae: 0.1118 - val_loss: 0.0242 - val_mae: 0.1206 - learning_rate: 1.2500e-05\n",
            "Epoch 40: early stopping\n"
          ]
        }
      ],
      "source": [
        "import tensorflow as tf\n",
        "import numpy as np\n",
        "import albumentations as A\n",
        "from albumentations.pytorch import ToTensorV2\n",
        "\n",
        "# Callback Definitions\n",
        "early_stopping_Nasnet = tf.keras.callbacks.EarlyStopping(\n",
        "    monitor='val_loss', mode='min', verbose=1, patience=10\n",
        ")\n",
        "lr_scheduler = tf.keras.callbacks.ReduceLROnPlateau(\n",
        "    monitor='val_loss', factor=0.5, patience=3, verbose=1, min_lr=1e-7\n",
        ")\n",
        "\n",
        "# Load NASNetMobile\n",
        "base_model = tf.keras.applications.NASNetMobile(\n",
        "    input_shape=(224, 224, 3), weights='imagenet', include_top=False\n",
        ")\n",
        "preprocess_input_Nasnet = tf.keras.applications.nasnet.preprocess_input\n",
        "\n",
        "# Unfreeze the last 20 layers\n",
        "base_model.trainable = False\n",
        "for layer in base_model.layers[-20:]:\n",
        "    layer.trainable = True\n",
        "\n",
        "# Add Custom Layers\n",
        "x = tf.keras.layers.GlobalAveragePooling2D()(base_model.output)\n",
        "x = tf.keras.layers.Dense(\n",
        "    1024, activation='relu', kernel_regularizer=tf.keras.regularizers.l2(0.01)\n",
        ")(x)\n",
        "x = tf.keras.layers.Dropout(0.5)(x)  # Dropout for regularization\n",
        "output = tf.keras.layers.Dense(1, activation='linear')(x)  # Regression output\n",
        "\n",
        "# Define Model\n",
        "Nasnet_model = tf.keras.models.Model(inputs=base_model.input, outputs=output)\n",
        "\n",
        "# Compile Model\n",
        "Nasnet_model.compile(\n",
        "    optimizer=tf.keras.optimizers.Adam(learning_rate=1e-4),\n",
        "    loss='mse',\n",
        "    metrics=['mae']\n",
        ")\n",
        "\n",
        "# Data Augmentation Pipeline\n",
        "augmentation_pipeline = A.Compose([\n",
        "    A.Rotate(limit=10, p=0.5),\n",
        "    A.HorizontalFlip(p=0.5),\n",
        "    A.ShiftScaleRotate(shift_limit=0.1, scale_limit=0.1, rotate_limit=10, p=0.5),\n",
        "    A.RandomBrightnessContrast(brightness_limit=0.2, contrast_limit=0.2, p=0.5),\n",
        "    A.GaussianBlur(blur_limit=(3, 5), p=0.3),\n",
        "    A.CoarseDropout(max_holes=8, max_height=8, max_width=8, p=0.5),\n",
        "    A.Normalize()\n",
        "])\n",
        "\n",
        "# Custom Data Generator with Augmentation\n",
        "class AlbumentationsDataGenerator(tf.keras.utils.Sequence):\n",
        "    def __init__(self, images, labels, batch_size=32, augmentations=None, shuffle=True):\n",
        "        self.images = images\n",
        "        self.labels = labels\n",
        "        self.batch_size = batch_size\n",
        "        self.augmentations = augmentations\n",
        "        self.shuffle = shuffle\n",
        "        self.indices = np.arange(len(self.images))\n",
        "        self.on_epoch_end()\n",
        "\n",
        "    def __len__(self):\n",
        "        return len(self.images) // self.batch_size\n",
        "\n",
        "    def __getitem__(self, index):\n",
        "        batch_indices = self.indices[index * self.batch_size:(index + 1) * self.batch_size]\n",
        "        batch_images = [self.images[i] for i in batch_indices]\n",
        "        batch_labels = [self.labels[i] for i in batch_indices]\n",
        "\n",
        "        # Apply augmentations\n",
        "        if self.augmentations:\n",
        "            batch_images = [self.augmentations(image=image)['image'] for image in batch_images]\n",
        "        return np.array(batch_images), np.array(batch_labels)\n",
        "\n",
        "    def on_epoch_end(self):\n",
        "        if self.shuffle:\n",
        "            np.random.shuffle(self.indices)\n",
        "\n",
        "# Initialize the custom data generator\n",
        "train_generator = AlbumentationsDataGenerator(\n",
        "    images=X_train, labels=Y_train, batch_size=32, augmentations=augmentation_pipeline\n",
        ")\n",
        "\n",
        "# Preprocess Validation Data\n",
        "X_valid_processed_Nasnet = preprocess_input_Nasnet(np.copy(X_valid))\n",
        "\n",
        "# Train Model\n",
        "history = Nasnet_model.fit(\n",
        "    train_generator,\n",
        "    validation_data=(X_valid_processed_Nasnet, Y_valid),\n",
        "    epochs=100,\n",
        "    verbose=1,\n",
        "    callbacks=[early_stopping_Nasnet, lr_scheduler]\n",
        ")\n"
      ]
    },
    {
      "cell_type": "code",
      "execution_count": null,
      "metadata": {
        "colab": {
          "base_uri": "https://localhost:8080/"
        },
        "id": "qDBll4QECMcz",
        "outputId": "80400de6-3a5c-48d5-e791-e93844359a2f"
      },
      "outputs": [
        {
          "output_type": "stream",
          "name": "stdout",
          "text": [
            "Downloading data from https://storage.googleapis.com/tensorflow/keras-applications/mobilenet_v3/weights_mobilenet_v3_small_224_1.0_float_no_top_v2.h5\n",
            "\u001b[1m4334752/4334752\u001b[0m \u001b[32m━━━━━━━━━━━━━━━━━━━━\u001b[0m\u001b[37m\u001b[0m \u001b[1m1s\u001b[0m 0us/step\n",
            "Num GPUs Available:  1\n",
            "Nb layer : 161\n"
          ]
        }
      ],
      "source": [
        "### Mobilenet basic\n",
        "early_stopping_MobileNet = tf.keras.callbacks.EarlyStopping(monitor='val_loss', mode='min', verbose=1, patience=7)\n",
        "#base_model = tf.keras.applications.ResNet50(input_shape=(224, 224, 3), weights='imagenet', include_top=False)\n",
        "base_model = tf.keras.applications.MobileNetV3Small(input_shape=(224, 224, 3), weights='imagenet', include_top=False)\n",
        "#preprocess_input = tf.keras.applications.mobilenet.preprocess_input\n",
        "preprocess_input_Mobilenet = tf.keras.applications.mobilenet_v3.preprocess_input\n",
        "base_model.trainable = False\n",
        "base_model.trainable = False\n",
        "for layer in base_model.layers[-1:]:\n",
        "    layer.trainable = True\n",
        "\n",
        "# Add custom layers\n",
        "x = tf.keras.layers.GlobalAveragePooling2D()(base_model.output)\n",
        "x = tf.keras.layers.Dense(1024, activation='relu')(x)\n",
        "x = tf.keras.layers.Dropout(0.7)(x)\n",
        "output = tf.keras.layers.Dense(1, activation='sigmoid')(x)\n",
        "\n",
        "# Create the new model with MobileNet as the base\n",
        "Mobilenet_model = tf.keras.models.Model(inputs=base_model.input, outputs=output)\n",
        "# Preprocess the data\n",
        "X_train_processed_Mobilenet = preprocess_input_Mobilenet(np.copy(X_train))\n",
        "X_valid_processed_Mobilenet = preprocess_input_Mobilenet(np.copy(X_valid))\n",
        "\n",
        "print(\"Num GPUs Available: \", len(tf.config.list_physical_devices('GPU')))\n",
        "\n",
        "print(f'Nb layer : {len(Mobilenet_model.layers)}')"
      ]
    },
    {
      "cell_type": "code",
      "execution_count": null,
      "metadata": {
        "colab": {
          "base_uri": "https://localhost:8080/"
        },
        "id": "Antuf0toCQiz",
        "outputId": "521a5f5d-af06-4a4d-93e8-f25fe94c67c3"
      },
      "outputs": [
        {
          "output_type": "stream",
          "name": "stdout",
          "text": [
            "Epoch 1/100\n",
            "\u001b[1m125/125\u001b[0m \u001b[32m━━━━━━━━━━━━━━━━━━━━\u001b[0m\u001b[37m\u001b[0m \u001b[1m23s\u001b[0m 81ms/step - loss: 0.0609 - mae: 0.1951 - val_loss: 0.0341 - val_mae: 0.1431\n",
            "Epoch 2/100\n",
            "\u001b[1m125/125\u001b[0m \u001b[32m━━━━━━━━━━━━━━━━━━━━\u001b[0m\u001b[37m\u001b[0m \u001b[1m1s\u001b[0m 7ms/step - loss: 0.0476 - mae: 0.1743 - val_loss: 0.0317 - val_mae: 0.1375\n",
            "Epoch 3/100\n",
            "\u001b[1m125/125\u001b[0m \u001b[32m━━━━━━━━━━━━━━━━━━━━\u001b[0m\u001b[37m\u001b[0m \u001b[1m1s\u001b[0m 7ms/step - loss: 0.0474 - mae: 0.1723 - val_loss: 0.0296 - val_mae: 0.1323\n",
            "Epoch 4/100\n",
            "\u001b[1m125/125\u001b[0m \u001b[32m━━━━━━━━━━━━━━━━━━━━\u001b[0m\u001b[37m\u001b[0m \u001b[1m1s\u001b[0m 7ms/step - loss: 0.0420 - mae: 0.1612 - val_loss: 0.0269 - val_mae: 0.1264\n",
            "Epoch 5/100\n",
            "\u001b[1m125/125\u001b[0m \u001b[32m━━━━━━━━━━━━━━━━━━━━\u001b[0m\u001b[37m\u001b[0m \u001b[1m1s\u001b[0m 7ms/step - loss: 0.0411 - mae: 0.1595 - val_loss: 0.0265 - val_mae: 0.1250\n",
            "Epoch 6/100\n",
            "\u001b[1m125/125\u001b[0m \u001b[32m━━━━━━━━━━━━━━━━━━━━\u001b[0m\u001b[37m\u001b[0m \u001b[1m1s\u001b[0m 7ms/step - loss: 0.0393 - mae: 0.1541 - val_loss: 0.0250 - val_mae: 0.1214\n",
            "Epoch 7/100\n",
            "\u001b[1m125/125\u001b[0m \u001b[32m━━━━━━━━━━━━━━━━━━━━\u001b[0m\u001b[37m\u001b[0m \u001b[1m1s\u001b[0m 7ms/step - loss: 0.0375 - mae: 0.1505 - val_loss: 0.0234 - val_mae: 0.1179\n",
            "Epoch 8/100\n",
            "\u001b[1m125/125\u001b[0m \u001b[32m━━━━━━━━━━━━━━━━━━━━\u001b[0m\u001b[37m\u001b[0m \u001b[1m1s\u001b[0m 7ms/step - loss: 0.0352 - mae: 0.1478 - val_loss: 0.0227 - val_mae: 0.1159\n",
            "Epoch 9/100\n",
            "\u001b[1m125/125\u001b[0m \u001b[32m━━━━━━━━━━━━━━━━━━━━\u001b[0m\u001b[37m\u001b[0m \u001b[1m1s\u001b[0m 7ms/step - loss: 0.0355 - mae: 0.1460 - val_loss: 0.0222 - val_mae: 0.1146\n",
            "Epoch 10/100\n",
            "\u001b[1m125/125\u001b[0m \u001b[32m━━━━━━━━━━━━━━━━━━━━\u001b[0m\u001b[37m\u001b[0m \u001b[1m1s\u001b[0m 7ms/step - loss: 0.0348 - mae: 0.1438 - val_loss: 0.0220 - val_mae: 0.1138\n",
            "Epoch 11/100\n",
            "\u001b[1m125/125\u001b[0m \u001b[32m━━━━━━━━━━━━━━━━━━━━\u001b[0m\u001b[37m\u001b[0m \u001b[1m1s\u001b[0m 7ms/step - loss: 0.0322 - mae: 0.1390 - val_loss: 0.0211 - val_mae: 0.1121\n",
            "Epoch 12/100\n",
            "\u001b[1m125/125\u001b[0m \u001b[32m━━━━━━━━━━━━━━━━━━━━\u001b[0m\u001b[37m\u001b[0m \u001b[1m1s\u001b[0m 7ms/step - loss: 0.0321 - mae: 0.1382 - val_loss: 0.0214 - val_mae: 0.1121\n",
            "Epoch 13/100\n",
            "\u001b[1m125/125\u001b[0m \u001b[32m━━━━━━━━━━━━━━━━━━━━\u001b[0m\u001b[37m\u001b[0m \u001b[1m1s\u001b[0m 7ms/step - loss: 0.0303 - mae: 0.1361 - val_loss: 0.0206 - val_mae: 0.1110\n",
            "Epoch 14/100\n",
            "\u001b[1m125/125\u001b[0m \u001b[32m━━━━━━━━━━━━━━━━━━━━\u001b[0m\u001b[37m\u001b[0m \u001b[1m1s\u001b[0m 7ms/step - loss: 0.0297 - mae: 0.1332 - val_loss: 0.0207 - val_mae: 0.1108\n",
            "Epoch 15/100\n",
            "\u001b[1m125/125\u001b[0m \u001b[32m━━━━━━━━━━━━━━━━━━━━\u001b[0m\u001b[37m\u001b[0m \u001b[1m1s\u001b[0m 7ms/step - loss: 0.0299 - mae: 0.1335 - val_loss: 0.0204 - val_mae: 0.1099\n",
            "Epoch 16/100\n",
            "\u001b[1m125/125\u001b[0m \u001b[32m━━━━━━━━━━━━━━━━━━━━\u001b[0m\u001b[37m\u001b[0m \u001b[1m1s\u001b[0m 7ms/step - loss: 0.0282 - mae: 0.1307 - val_loss: 0.0201 - val_mae: 0.1092\n",
            "Epoch 17/100\n",
            "\u001b[1m125/125\u001b[0m \u001b[32m━━━━━━━━━━━━━━━━━━━━\u001b[0m\u001b[37m\u001b[0m \u001b[1m1s\u001b[0m 7ms/step - loss: 0.0276 - mae: 0.1296 - val_loss: 0.0197 - val_mae: 0.1087\n",
            "Epoch 18/100\n",
            "\u001b[1m125/125\u001b[0m \u001b[32m━━━━━━━━━━━━━━━━━━━━\u001b[0m\u001b[37m\u001b[0m \u001b[1m1s\u001b[0m 7ms/step - loss: 0.0270 - mae: 0.1297 - val_loss: 0.0197 - val_mae: 0.1084\n",
            "Epoch 19/100\n",
            "\u001b[1m125/125\u001b[0m \u001b[32m━━━━━━━━━━━━━━━━━━━━\u001b[0m\u001b[37m\u001b[0m \u001b[1m1s\u001b[0m 7ms/step - loss: 0.0253 - mae: 0.1257 - val_loss: 0.0195 - val_mae: 0.1080\n",
            "Epoch 20/100\n",
            "\u001b[1m125/125\u001b[0m \u001b[32m━━━━━━━━━━━━━━━━━━━━\u001b[0m\u001b[37m\u001b[0m \u001b[1m1s\u001b[0m 7ms/step - loss: 0.0251 - mae: 0.1232 - val_loss: 0.0197 - val_mae: 0.1080\n",
            "Epoch 21/100\n",
            "\u001b[1m125/125\u001b[0m \u001b[32m━━━━━━━━━━━━━━━━━━━━\u001b[0m\u001b[37m\u001b[0m \u001b[1m1s\u001b[0m 7ms/step - loss: 0.0248 - mae: 0.1237 - val_loss: 0.0195 - val_mae: 0.1074\n",
            "Epoch 22/100\n",
            "\u001b[1m125/125\u001b[0m \u001b[32m━━━━━━━━━━━━━━━━━━━━\u001b[0m\u001b[37m\u001b[0m \u001b[1m1s\u001b[0m 7ms/step - loss: 0.0224 - mae: 0.1180 - val_loss: 0.0193 - val_mae: 0.1071\n",
            "Epoch 23/100\n",
            "\u001b[1m125/125\u001b[0m \u001b[32m━━━━━━━━━━━━━━━━━━━━\u001b[0m\u001b[37m\u001b[0m \u001b[1m1s\u001b[0m 7ms/step - loss: 0.0234 - mae: 0.1198 - val_loss: 0.0192 - val_mae: 0.1070\n",
            "Epoch 24/100\n",
            "\u001b[1m125/125\u001b[0m \u001b[32m━━━━━━━━━━━━━━━━━━━━\u001b[0m\u001b[37m\u001b[0m \u001b[1m1s\u001b[0m 7ms/step - loss: 0.0224 - mae: 0.1169 - val_loss: 0.0192 - val_mae: 0.1067\n",
            "Epoch 25/100\n",
            "\u001b[1m125/125\u001b[0m \u001b[32m━━━━━━━━━━━━━━━━━━━━\u001b[0m\u001b[37m\u001b[0m \u001b[1m1s\u001b[0m 7ms/step - loss: 0.0221 - mae: 0.1152 - val_loss: 0.0190 - val_mae: 0.1066\n",
            "Epoch 26/100\n",
            "\u001b[1m125/125\u001b[0m \u001b[32m━━━━━━━━━━━━━━━━━━━━\u001b[0m\u001b[37m\u001b[0m \u001b[1m1s\u001b[0m 7ms/step - loss: 0.0222 - mae: 0.1163 - val_loss: 0.0191 - val_mae: 0.1064\n",
            "Epoch 27/100\n",
            "\u001b[1m125/125\u001b[0m \u001b[32m━━━━━━━━━━━━━━━━━━━━\u001b[0m\u001b[37m\u001b[0m \u001b[1m1s\u001b[0m 7ms/step - loss: 0.0216 - mae: 0.1159 - val_loss: 0.0189 - val_mae: 0.1061\n",
            "Epoch 28/100\n",
            "\u001b[1m125/125\u001b[0m \u001b[32m━━━━━━━━━━━━━━━━━━━━\u001b[0m\u001b[37m\u001b[0m \u001b[1m1s\u001b[0m 7ms/step - loss: 0.0224 - mae: 0.1151 - val_loss: 0.0189 - val_mae: 0.1060\n",
            "Epoch 29/100\n",
            "\u001b[1m125/125\u001b[0m \u001b[32m━━━━━━━━━━━━━━━━━━━━\u001b[0m\u001b[37m\u001b[0m \u001b[1m1s\u001b[0m 7ms/step - loss: 0.0210 - mae: 0.1141 - val_loss: 0.0188 - val_mae: 0.1059\n",
            "Epoch 30/100\n",
            "\u001b[1m125/125\u001b[0m \u001b[32m━━━━━━━━━━━━━━━━━━━━\u001b[0m\u001b[37m\u001b[0m \u001b[1m1s\u001b[0m 7ms/step - loss: 0.0207 - mae: 0.1140 - val_loss: 0.0188 - val_mae: 0.1058\n",
            "Epoch 31/100\n",
            "\u001b[1m125/125\u001b[0m \u001b[32m━━━━━━━━━━━━━━━━━━━━\u001b[0m\u001b[37m\u001b[0m \u001b[1m1s\u001b[0m 7ms/step - loss: 0.0198 - mae: 0.1110 - val_loss: 0.0186 - val_mae: 0.1059\n",
            "Epoch 32/100\n",
            "\u001b[1m125/125\u001b[0m \u001b[32m━━━━━━━━━━━━━━━━━━━━\u001b[0m\u001b[37m\u001b[0m \u001b[1m1s\u001b[0m 7ms/step - loss: 0.0211 - mae: 0.1135 - val_loss: 0.0186 - val_mae: 0.1055\n",
            "Epoch 33/100\n",
            "\u001b[1m125/125\u001b[0m \u001b[32m━━━━━━━━━━━━━━━━━━━━\u001b[0m\u001b[37m\u001b[0m \u001b[1m1s\u001b[0m 7ms/step - loss: 0.0207 - mae: 0.1124 - val_loss: 0.0187 - val_mae: 0.1053\n",
            "Epoch 34/100\n",
            "\u001b[1m125/125\u001b[0m \u001b[32m━━━━━━━━━━━━━━━━━━━━\u001b[0m\u001b[37m\u001b[0m \u001b[1m1s\u001b[0m 7ms/step - loss: 0.0196 - mae: 0.1097 - val_loss: 0.0185 - val_mae: 0.1053\n",
            "Epoch 35/100\n",
            "\u001b[1m125/125\u001b[0m \u001b[32m━━━━━━━━━━━━━━━━━━━━\u001b[0m\u001b[37m\u001b[0m \u001b[1m1s\u001b[0m 7ms/step - loss: 0.0204 - mae: 0.1128 - val_loss: 0.0185 - val_mae: 0.1053\n",
            "Epoch 36/100\n",
            "\u001b[1m125/125\u001b[0m \u001b[32m━━━━━━━━━━━━━━━━━━━━\u001b[0m\u001b[37m\u001b[0m \u001b[1m1s\u001b[0m 8ms/step - loss: 0.0190 - mae: 0.1066 - val_loss: 0.0186 - val_mae: 0.1050\n",
            "Epoch 37/100\n",
            "\u001b[1m125/125\u001b[0m \u001b[32m━━━━━━━━━━━━━━━━━━━━\u001b[0m\u001b[37m\u001b[0m \u001b[1m1s\u001b[0m 7ms/step - loss: 0.0187 - mae: 0.1069 - val_loss: 0.0185 - val_mae: 0.1050\n",
            "Epoch 38/100\n",
            "\u001b[1m125/125\u001b[0m \u001b[32m━━━━━━━━━━━━━━━━━━━━\u001b[0m\u001b[37m\u001b[0m \u001b[1m1s\u001b[0m 7ms/step - loss: 0.0189 - mae: 0.1086 - val_loss: 0.0184 - val_mae: 0.1050\n",
            "Epoch 39/100\n",
            "\u001b[1m125/125\u001b[0m \u001b[32m━━━━━━━━━━━━━━━━━━━━\u001b[0m\u001b[37m\u001b[0m \u001b[1m1s\u001b[0m 7ms/step - loss: 0.0189 - mae: 0.1083 - val_loss: 0.0184 - val_mae: 0.1049\n",
            "Epoch 40/100\n",
            "\u001b[1m125/125\u001b[0m \u001b[32m━━━━━━━━━━━━━━━━━━━━\u001b[0m\u001b[37m\u001b[0m \u001b[1m1s\u001b[0m 7ms/step - loss: 0.0183 - mae: 0.1052 - val_loss: 0.0183 - val_mae: 0.1049\n",
            "Epoch 41/100\n",
            "\u001b[1m125/125\u001b[0m \u001b[32m━━━━━━━━━━━━━━━━━━━━\u001b[0m\u001b[37m\u001b[0m \u001b[1m1s\u001b[0m 7ms/step - loss: 0.0186 - mae: 0.1082 - val_loss: 0.0183 - val_mae: 0.1048\n",
            "Epoch 42/100\n",
            "\u001b[1m125/125\u001b[0m \u001b[32m━━━━━━━━━━━━━━━━━━━━\u001b[0m\u001b[37m\u001b[0m \u001b[1m1s\u001b[0m 7ms/step - loss: 0.0185 - mae: 0.1064 - val_loss: 0.0184 - val_mae: 0.1046\n",
            "Epoch 43/100\n",
            "\u001b[1m125/125\u001b[0m \u001b[32m━━━━━━━━━━━━━━━━━━━━\u001b[0m\u001b[37m\u001b[0m \u001b[1m1s\u001b[0m 7ms/step - loss: 0.0179 - mae: 0.1046 - val_loss: 0.0183 - val_mae: 0.1049\n",
            "Epoch 44/100\n",
            "\u001b[1m125/125\u001b[0m \u001b[32m━━━━━━━━━━━━━━━━━━━━\u001b[0m\u001b[37m\u001b[0m \u001b[1m1s\u001b[0m 7ms/step - loss: 0.0168 - mae: 0.1015 - val_loss: 0.0182 - val_mae: 0.1051\n",
            "Epoch 45/100\n",
            "\u001b[1m125/125\u001b[0m \u001b[32m━━━━━━━━━━━━━━━━━━━━\u001b[0m\u001b[37m\u001b[0m \u001b[1m1s\u001b[0m 7ms/step - loss: 0.0179 - mae: 0.1059 - val_loss: 0.0183 - val_mae: 0.1048\n",
            "Epoch 46/100\n",
            "\u001b[1m125/125\u001b[0m \u001b[32m━━━━━━━━━━━━━━━━━━━━\u001b[0m\u001b[37m\u001b[0m \u001b[1m1s\u001b[0m 7ms/step - loss: 0.0173 - mae: 0.1029 - val_loss: 0.0182 - val_mae: 0.1047\n",
            "Epoch 47/100\n",
            "\u001b[1m125/125\u001b[0m \u001b[32m━━━━━━━━━━━━━━━━━━━━\u001b[0m\u001b[37m\u001b[0m \u001b[1m1s\u001b[0m 7ms/step - loss: 0.0171 - mae: 0.1016 - val_loss: 0.0183 - val_mae: 0.1045\n",
            "Epoch 48/100\n",
            "\u001b[1m125/125\u001b[0m \u001b[32m━━━━━━━━━━━━━━━━━━━━\u001b[0m\u001b[37m\u001b[0m \u001b[1m1s\u001b[0m 7ms/step - loss: 0.0173 - mae: 0.1035 - val_loss: 0.0182 - val_mae: 0.1044\n",
            "Epoch 49/100\n",
            "\u001b[1m125/125\u001b[0m \u001b[32m━━━━━━━━━━━━━━━━━━━━\u001b[0m\u001b[37m\u001b[0m \u001b[1m1s\u001b[0m 7ms/step - loss: 0.0167 - mae: 0.1015 - val_loss: 0.0181 - val_mae: 0.1047\n",
            "Epoch 50/100\n",
            "\u001b[1m125/125\u001b[0m \u001b[32m━━━━━━━━━━━━━━━━━━━━\u001b[0m\u001b[37m\u001b[0m \u001b[1m1s\u001b[0m 7ms/step - loss: 0.0170 - mae: 0.1026 - val_loss: 0.0182 - val_mae: 0.1042\n",
            "Epoch 51/100\n",
            "\u001b[1m125/125\u001b[0m \u001b[32m━━━━━━━━━━━━━━━━━━━━\u001b[0m\u001b[37m\u001b[0m \u001b[1m1s\u001b[0m 7ms/step - loss: 0.0171 - mae: 0.1018 - val_loss: 0.0181 - val_mae: 0.1044\n",
            "Epoch 52/100\n",
            "\u001b[1m125/125\u001b[0m \u001b[32m━━━━━━━━━━━━━━━━━━━━\u001b[0m\u001b[37m\u001b[0m \u001b[1m1s\u001b[0m 7ms/step - loss: 0.0171 - mae: 0.1026 - val_loss: 0.0181 - val_mae: 0.1043\n",
            "Epoch 53/100\n",
            "\u001b[1m125/125\u001b[0m \u001b[32m━━━━━━━━━━━━━━━━━━━━\u001b[0m\u001b[37m\u001b[0m \u001b[1m1s\u001b[0m 7ms/step - loss: 0.0171 - mae: 0.1019 - val_loss: 0.0181 - val_mae: 0.1043\n",
            "Epoch 54/100\n",
            "\u001b[1m125/125\u001b[0m \u001b[32m━━━━━━━━━━━━━━━━━━━━\u001b[0m\u001b[37m\u001b[0m \u001b[1m1s\u001b[0m 7ms/step - loss: 0.0168 - mae: 0.1012 - val_loss: 0.0180 - val_mae: 0.1044\n",
            "Epoch 55/100\n",
            "\u001b[1m125/125\u001b[0m \u001b[32m━━━━━━━━━━━━━━━━━━━━\u001b[0m\u001b[37m\u001b[0m \u001b[1m1s\u001b[0m 7ms/step - loss: 0.0163 - mae: 0.1005 - val_loss: 0.0180 - val_mae: 0.1042\n",
            "Epoch 56/100\n",
            "\u001b[1m125/125\u001b[0m \u001b[32m━━━━━━━━━━━━━━━━━━━━\u001b[0m\u001b[37m\u001b[0m \u001b[1m1s\u001b[0m 7ms/step - loss: 0.0165 - mae: 0.1011 - val_loss: 0.0180 - val_mae: 0.1044\n",
            "Epoch 57/100\n",
            "\u001b[1m125/125\u001b[0m \u001b[32m━━━━━━━━━━━━━━━━━━━━\u001b[0m\u001b[37m\u001b[0m \u001b[1m1s\u001b[0m 7ms/step - loss: 0.0163 - mae: 0.1003 - val_loss: 0.0180 - val_mae: 0.1043\n",
            "Epoch 58/100\n",
            "\u001b[1m125/125\u001b[0m \u001b[32m━━━━━━━━━━━━━━━━━━━━\u001b[0m\u001b[37m\u001b[0m \u001b[1m1s\u001b[0m 7ms/step - loss: 0.0154 - mae: 0.0979 - val_loss: 0.0180 - val_mae: 0.1044\n",
            "Epoch 59/100\n",
            "\u001b[1m125/125\u001b[0m \u001b[32m━━━━━━━━━━━━━━━━━━━━\u001b[0m\u001b[37m\u001b[0m \u001b[1m1s\u001b[0m 7ms/step - loss: 0.0156 - mae: 0.0990 - val_loss: 0.0180 - val_mae: 0.1044\n",
            "Epoch 60/100\n",
            "\u001b[1m125/125\u001b[0m \u001b[32m━━━━━━━━━━━━━━━━━━━━\u001b[0m\u001b[37m\u001b[0m \u001b[1m1s\u001b[0m 7ms/step - loss: 0.0160 - mae: 0.0989 - val_loss: 0.0180 - val_mae: 0.1042\n",
            "Epoch 61/100\n",
            "\u001b[1m125/125\u001b[0m \u001b[32m━━━━━━━━━━━━━━━━━━━━\u001b[0m\u001b[37m\u001b[0m \u001b[1m1s\u001b[0m 7ms/step - loss: 0.0151 - mae: 0.0973 - val_loss: 0.0179 - val_mae: 0.1040\n",
            "Epoch 62/100\n",
            "\u001b[1m125/125\u001b[0m \u001b[32m━━━━━━━━━━━━━━━━━━━━\u001b[0m\u001b[37m\u001b[0m \u001b[1m1s\u001b[0m 7ms/step - loss: 0.0154 - mae: 0.0980 - val_loss: 0.0180 - val_mae: 0.1039\n",
            "Epoch 63/100\n",
            "\u001b[1m125/125\u001b[0m \u001b[32m━━━━━━━━━━━━━━━━━━━━\u001b[0m\u001b[37m\u001b[0m \u001b[1m1s\u001b[0m 7ms/step - loss: 0.0147 - mae: 0.0953 - val_loss: 0.0180 - val_mae: 0.1051\n",
            "Epoch 64/100\n",
            "\u001b[1m125/125\u001b[0m \u001b[32m━━━━━━━━━━━━━━━━━━━━\u001b[0m\u001b[37m\u001b[0m \u001b[1m1s\u001b[0m 7ms/step - loss: 0.0151 - mae: 0.0968 - val_loss: 0.0179 - val_mae: 0.1041\n",
            "Epoch 65/100\n",
            "\u001b[1m125/125\u001b[0m \u001b[32m━━━━━━━━━━━━━━━━━━━━\u001b[0m\u001b[37m\u001b[0m \u001b[1m1s\u001b[0m 7ms/step - loss: 0.0158 - mae: 0.0986 - val_loss: 0.0179 - val_mae: 0.1039\n",
            "Epoch 66/100\n",
            "\u001b[1m125/125\u001b[0m \u001b[32m━━━━━━━━━━━━━━━━━━━━\u001b[0m\u001b[37m\u001b[0m \u001b[1m1s\u001b[0m 7ms/step - loss: 0.0148 - mae: 0.0955 - val_loss: 0.0179 - val_mae: 0.1038\n",
            "Epoch 67/100\n",
            "\u001b[1m125/125\u001b[0m \u001b[32m━━━━━━━━━━━━━━━━━━━━\u001b[0m\u001b[37m\u001b[0m \u001b[1m1s\u001b[0m 7ms/step - loss: 0.0152 - mae: 0.0970 - val_loss: 0.0179 - val_mae: 0.1040\n",
            "Epoch 68/100\n",
            "\u001b[1m125/125\u001b[0m \u001b[32m━━━━━━━━━━━━━━━━━━━━\u001b[0m\u001b[37m\u001b[0m \u001b[1m1s\u001b[0m 7ms/step - loss: 0.0143 - mae: 0.0948 - val_loss: 0.0178 - val_mae: 0.1041\n",
            "Epoch 69/100\n",
            "\u001b[1m125/125\u001b[0m \u001b[32m━━━━━━━━━━━━━━━━━━━━\u001b[0m\u001b[37m\u001b[0m \u001b[1m1s\u001b[0m 7ms/step - loss: 0.0148 - mae: 0.0961 - val_loss: 0.0178 - val_mae: 0.1037\n",
            "Epoch 70/100\n",
            "\u001b[1m125/125\u001b[0m \u001b[32m━━━━━━━━━━━━━━━━━━━━\u001b[0m\u001b[37m\u001b[0m \u001b[1m1s\u001b[0m 7ms/step - loss: 0.0143 - mae: 0.0931 - val_loss: 0.0179 - val_mae: 0.1043\n",
            "Epoch 71/100\n",
            "\u001b[1m125/125\u001b[0m \u001b[32m━━━━━━━━━━━━━━━━━━━━\u001b[0m\u001b[37m\u001b[0m \u001b[1m1s\u001b[0m 7ms/step - loss: 0.0146 - mae: 0.0954 - val_loss: 0.0178 - val_mae: 0.1036\n",
            "Epoch 72/100\n",
            "\u001b[1m125/125\u001b[0m \u001b[32m━━━━━━━━━━━━━━━━━━━━\u001b[0m\u001b[37m\u001b[0m \u001b[1m1s\u001b[0m 7ms/step - loss: 0.0139 - mae: 0.0926 - val_loss: 0.0178 - val_mae: 0.1035\n",
            "Epoch 73/100\n",
            "\u001b[1m125/125\u001b[0m \u001b[32m━━━━━━━━━━━━━━━━━━━━\u001b[0m\u001b[37m\u001b[0m \u001b[1m1s\u001b[0m 7ms/step - loss: 0.0140 - mae: 0.0938 - val_loss: 0.0178 - val_mae: 0.1035\n",
            "Epoch 74/100\n",
            "\u001b[1m125/125\u001b[0m \u001b[32m━━━━━━━━━━━━━━━━━━━━\u001b[0m\u001b[37m\u001b[0m \u001b[1m1s\u001b[0m 7ms/step - loss: 0.0141 - mae: 0.0931 - val_loss: 0.0178 - val_mae: 0.1031\n",
            "Epoch 75/100\n",
            "\u001b[1m125/125\u001b[0m \u001b[32m━━━━━━━━━━━━━━━━━━━━\u001b[0m\u001b[37m\u001b[0m \u001b[1m1s\u001b[0m 7ms/step - loss: 0.0141 - mae: 0.0925 - val_loss: 0.0178 - val_mae: 0.1037\n",
            "Epoch 76/100\n",
            "\u001b[1m125/125\u001b[0m \u001b[32m━━━━━━━━━━━━━━━━━━━━\u001b[0m\u001b[37m\u001b[0m \u001b[1m1s\u001b[0m 7ms/step - loss: 0.0135 - mae: 0.0914 - val_loss: 0.0177 - val_mae: 0.1035\n",
            "Epoch 77/100\n",
            "\u001b[1m125/125\u001b[0m \u001b[32m━━━━━━━━━━━━━━━━━━━━\u001b[0m\u001b[37m\u001b[0m \u001b[1m1s\u001b[0m 7ms/step - loss: 0.0142 - mae: 0.0936 - val_loss: 0.0177 - val_mae: 0.1032\n",
            "Epoch 78/100\n",
            "\u001b[1m125/125\u001b[0m \u001b[32m━━━━━━━━━━━━━━━━━━━━\u001b[0m\u001b[37m\u001b[0m \u001b[1m1s\u001b[0m 7ms/step - loss: 0.0143 - mae: 0.0937 - val_loss: 0.0177 - val_mae: 0.1036\n",
            "Epoch 79/100\n",
            "\u001b[1m125/125\u001b[0m \u001b[32m━━━━━━━━━━━━━━━━━━━━\u001b[0m\u001b[37m\u001b[0m \u001b[1m1s\u001b[0m 7ms/step - loss: 0.0138 - mae: 0.0924 - val_loss: 0.0177 - val_mae: 0.1033\n",
            "Epoch 80/100\n",
            "\u001b[1m125/125\u001b[0m \u001b[32m━━━━━━━━━━━━━━━━━━━━\u001b[0m\u001b[37m\u001b[0m \u001b[1m1s\u001b[0m 7ms/step - loss: 0.0136 - mae: 0.0919 - val_loss: 0.0177 - val_mae: 0.1035\n",
            "Epoch 81/100\n",
            "\u001b[1m125/125\u001b[0m \u001b[32m━━━━━━━━━━━━━━━━━━━━\u001b[0m\u001b[37m\u001b[0m \u001b[1m1s\u001b[0m 7ms/step - loss: 0.0139 - mae: 0.0918 - val_loss: 0.0177 - val_mae: 0.1034\n",
            "Epoch 82/100\n",
            "\u001b[1m125/125\u001b[0m \u001b[32m━━━━━━━━━━━━━━━━━━━━\u001b[0m\u001b[37m\u001b[0m \u001b[1m1s\u001b[0m 7ms/step - loss: 0.0134 - mae: 0.0904 - val_loss: 0.0177 - val_mae: 0.1031\n",
            "Epoch 83/100\n",
            "\u001b[1m125/125\u001b[0m \u001b[32m━━━━━━━━━━━━━━━━━━━━\u001b[0m\u001b[37m\u001b[0m \u001b[1m1s\u001b[0m 7ms/step - loss: 0.0132 - mae: 0.0910 - val_loss: 0.0177 - val_mae: 0.1037\n",
            "Epoch 84/100\n",
            "\u001b[1m125/125\u001b[0m \u001b[32m━━━━━━━━━━━━━━━━━━━━\u001b[0m\u001b[37m\u001b[0m \u001b[1m1s\u001b[0m 7ms/step - loss: 0.0138 - mae: 0.0920 - val_loss: 0.0177 - val_mae: 0.1036\n",
            "Epoch 85/100\n",
            "\u001b[1m125/125\u001b[0m \u001b[32m━━━━━━━━━━━━━━━━━━━━\u001b[0m\u001b[37m\u001b[0m \u001b[1m1s\u001b[0m 7ms/step - loss: 0.0136 - mae: 0.0915 - val_loss: 0.0176 - val_mae: 0.1034\n",
            "Epoch 86/100\n",
            "\u001b[1m125/125\u001b[0m \u001b[32m━━━━━━━━━━━━━━━━━━━━\u001b[0m\u001b[37m\u001b[0m \u001b[1m1s\u001b[0m 7ms/step - loss: 0.0130 - mae: 0.0900 - val_loss: 0.0176 - val_mae: 0.1031\n",
            "Epoch 87/100\n",
            "\u001b[1m125/125\u001b[0m \u001b[32m━━━━━━━━━━━━━━━━━━━━\u001b[0m\u001b[37m\u001b[0m \u001b[1m1s\u001b[0m 7ms/step - loss: 0.0128 - mae: 0.0885 - val_loss: 0.0176 - val_mae: 0.1032\n",
            "Epoch 88/100\n",
            "\u001b[1m125/125\u001b[0m \u001b[32m━━━━━━━━━━━━━━━━━━━━\u001b[0m\u001b[37m\u001b[0m \u001b[1m1s\u001b[0m 7ms/step - loss: 0.0127 - mae: 0.0888 - val_loss: 0.0176 - val_mae: 0.1031\n",
            "Epoch 89/100\n",
            "\u001b[1m125/125\u001b[0m \u001b[32m━━━━━━━━━━━━━━━━━━━━\u001b[0m\u001b[37m\u001b[0m \u001b[1m1s\u001b[0m 7ms/step - loss: 0.0130 - mae: 0.0891 - val_loss: 0.0176 - val_mae: 0.1031\n",
            "Epoch 90/100\n",
            "\u001b[1m125/125\u001b[0m \u001b[32m━━━━━━━━━━━━━━━━━━━━\u001b[0m\u001b[37m\u001b[0m \u001b[1m1s\u001b[0m 7ms/step - loss: 0.0129 - mae: 0.0889 - val_loss: 0.0176 - val_mae: 0.1033\n",
            "Epoch 91/100\n",
            "\u001b[1m125/125\u001b[0m \u001b[32m━━━━━━━━━━━━━━━━━━━━\u001b[0m\u001b[37m\u001b[0m \u001b[1m1s\u001b[0m 7ms/step - loss: 0.0128 - mae: 0.0885 - val_loss: 0.0176 - val_mae: 0.1033\n",
            "Epoch 92/100\n",
            "\u001b[1m125/125\u001b[0m \u001b[32m━━━━━━━━━━━━━━━━━━━━\u001b[0m\u001b[37m\u001b[0m \u001b[1m1s\u001b[0m 7ms/step - loss: 0.0125 - mae: 0.0876 - val_loss: 0.0176 - val_mae: 0.1032\n",
            "Epoch 93/100\n",
            "\u001b[1m125/125\u001b[0m \u001b[32m━━━━━━━━━━━━━━━━━━━━\u001b[0m\u001b[37m\u001b[0m \u001b[1m1s\u001b[0m 7ms/step - loss: 0.0122 - mae: 0.0867 - val_loss: 0.0176 - val_mae: 0.1029\n",
            "Epoch 94/100\n",
            "\u001b[1m125/125\u001b[0m \u001b[32m━━━━━━━━━━━━━━━━━━━━\u001b[0m\u001b[37m\u001b[0m \u001b[1m1s\u001b[0m 7ms/step - loss: 0.0124 - mae: 0.0876 - val_loss: 0.0176 - val_mae: 0.1028\n",
            "Epoch 95/100\n",
            "\u001b[1m125/125\u001b[0m \u001b[32m━━━━━━━━━━━━━━━━━━━━\u001b[0m\u001b[37m\u001b[0m \u001b[1m1s\u001b[0m 7ms/step - loss: 0.0129 - mae: 0.0894 - val_loss: 0.0176 - val_mae: 0.1030\n",
            "Epoch 96/100\n",
            "\u001b[1m125/125\u001b[0m \u001b[32m━━━━━━━━━━━━━━━━━━━━\u001b[0m\u001b[37m\u001b[0m \u001b[1m1s\u001b[0m 7ms/step - loss: 0.0127 - mae: 0.0898 - val_loss: 0.0176 - val_mae: 0.1028\n",
            "Epoch 97/100\n",
            "\u001b[1m125/125\u001b[0m \u001b[32m━━━━━━━━━━━━━━━━━━━━\u001b[0m\u001b[37m\u001b[0m \u001b[1m1s\u001b[0m 7ms/step - loss: 0.0126 - mae: 0.0883 - val_loss: 0.0176 - val_mae: 0.1027\n",
            "Epoch 98/100\n",
            "\u001b[1m125/125\u001b[0m \u001b[32m━━━━━━━━━━━━━━━━━━━━\u001b[0m\u001b[37m\u001b[0m \u001b[1m1s\u001b[0m 7ms/step - loss: 0.0126 - mae: 0.0888 - val_loss: 0.0176 - val_mae: 0.1032\n",
            "Epoch 99/100\n",
            "\u001b[1m125/125\u001b[0m \u001b[32m━━━━━━━━━━━━━━━━━━━━\u001b[0m\u001b[37m\u001b[0m \u001b[1m1s\u001b[0m 7ms/step - loss: 0.0123 - mae: 0.0880 - val_loss: 0.0176 - val_mae: 0.1031\n",
            "Epoch 100/100\n",
            "\u001b[1m125/125\u001b[0m \u001b[32m━━━━━━━━━━━━━━━━━━━━\u001b[0m\u001b[37m\u001b[0m \u001b[1m1s\u001b[0m 7ms/step - loss: 0.0126 - mae: 0.0878 - val_loss: 0.0176 - val_mae: 0.1029\n"
          ]
        }
      ],
      "source": [
        "Mobilenet_model.compile(optimizer=tf.keras.optimizers.Adam(learning_rate=1e-5), loss='mse', metrics=['mae'])\n",
        "history = Mobilenet_model.fit(X_train_processed_Mobilenet, Y_train, validation_data=(X_valid_processed_Mobilenet, Y_valid), batch_size=32, epochs=100, shuffle=True, verbose=1)"
      ]
    },
    {
      "cell_type": "code",
      "execution_count": null,
      "metadata": {
        "colab": {
          "base_uri": "https://localhost:8080/"
        },
        "id": "4T7LIxeCrIpe",
        "outputId": "d35f579f-d51d-4a48-e4d6-debbbf89aab6"
      },
      "outputs": [
        {
          "name": "stdout",
          "output_type": "stream",
          "text": [
            "Num GPUs Available:  1\n",
            "Nb layer : 161\n"
          ]
        }
      ],
      "source": [
        "### Mobilenet Small implementation with 0.5 Dropout and -10\n",
        "early_stopping_MobileNet = tf.keras.callbacks.EarlyStopping(monitor='val_loss', mode='min', verbose=1, patience=7)\n",
        "\n",
        "#base_model = tf.keras.applications.ResNet50(input_shape=(224, 224, 3), weights='imagenet', include_top=False)\n",
        "base_model = tf.keras.applications.MobileNetV3Small(input_shape=(224, 224, 3), weights='imagenet', include_top=False)\n",
        "\n",
        "#preprocess_input = tf.keras.applications.mobilenet.preprocess_input\n",
        "preprocess_input_Mobilenet = tf.keras.applications.mobilenet_v3.preprocess_input\n",
        "\n",
        "base_model.trainable = False\n",
        "for layer in base_model.layers[-10:]:\n",
        "    layer.trainable = True\n",
        "\n",
        "# Add custom layers\n",
        "x = tf.keras.layers.GlobalAveragePooling2D()(base_model.output)\n",
        "x = tf.keras.layers.Dense(1024, activation='relu')(x)\n",
        "x = tf.keras.layers.Dropout(0.5)(x)\n",
        "output = tf.keras.layers.Dense(1, activation='sigmoid')(x)\n",
        "\n",
        "# Create the new model with MobileNet as the base\n",
        "Mobilenet_model = tf.keras.models.Model(inputs=base_model.input, outputs=output)\n",
        "# Preprocess the data\n",
        "X_train_processed_Mobilenet = preprocess_input_Mobilenet(np.copy(X_train))\n",
        "X_valid_processed_Mobilenet = preprocess_input_Mobilenet(np.copy(X_valid))\n",
        "\n",
        "print(\"Num GPUs Available: \", len(tf.config.list_physical_devices('GPU')))\n",
        "\n",
        "print(f'Nb layer : {len(Mobilenet_model.layers)}')"
      ]
    },
    {
      "cell_type": "code",
      "execution_count": null,
      "metadata": {
        "colab": {
          "base_uri": "https://localhost:8080/"
        },
        "id": "H3aS837qqQmh",
        "outputId": "6be865bc-7e11-4b2c-ed68-106247bf34a9"
      },
      "outputs": [
        {
          "name": "stdout",
          "output_type": "stream",
          "text": [
            "Epoch 1/100\n",
            "\u001b[1m125/125\u001b[0m \u001b[32m━━━━━━━━━━━━━━━━━━━━\u001b[0m\u001b[37m\u001b[0m \u001b[1m17s\u001b[0m 56ms/step - loss: 0.0520 - mae: 0.1816 - val_loss: 0.0286 - val_mae: 0.1349\n",
            "Epoch 2/100\n",
            "\u001b[1m125/125\u001b[0m \u001b[32m━━━━━━━━━━━━━━━━━━━━\u001b[0m\u001b[37m\u001b[0m \u001b[1m1s\u001b[0m 9ms/step - loss: 0.0415 - mae: 0.1591 - val_loss: 0.0261 - val_mae: 0.1252\n",
            "Epoch 3/100\n",
            "\u001b[1m125/125\u001b[0m \u001b[32m━━━━━━━━━━━━━━━━━━━━\u001b[0m\u001b[37m\u001b[0m \u001b[1m1s\u001b[0m 9ms/step - loss: 0.0371 - mae: 0.1491 - val_loss: 0.0248 - val_mae: 0.1223\n",
            "Epoch 4/100\n",
            "\u001b[1m125/125\u001b[0m \u001b[32m━━━━━━━━━━━━━━━━━━━━\u001b[0m\u001b[37m\u001b[0m \u001b[1m1s\u001b[0m 9ms/step - loss: 0.0355 - mae: 0.1478 - val_loss: 0.0239 - val_mae: 0.1191\n",
            "Epoch 5/100\n",
            "\u001b[1m125/125\u001b[0m \u001b[32m━━━━━━━━━━━━━━━━━━━━\u001b[0m\u001b[37m\u001b[0m \u001b[1m1s\u001b[0m 8ms/step - loss: 0.0332 - mae: 0.1395 - val_loss: 0.0229 - val_mae: 0.1171\n",
            "Epoch 6/100\n",
            "\u001b[1m125/125\u001b[0m \u001b[32m━━━━━━━━━━━━━━━━━━━━\u001b[0m\u001b[37m\u001b[0m \u001b[1m1s\u001b[0m 8ms/step - loss: 0.0327 - mae: 0.1416 - val_loss: 0.0225 - val_mae: 0.1155\n",
            "Epoch 7/100\n",
            "\u001b[1m125/125\u001b[0m \u001b[32m━━━━━━━━━━━━━━━━━━━━\u001b[0m\u001b[37m\u001b[0m \u001b[1m1s\u001b[0m 8ms/step - loss: 0.0292 - mae: 0.1328 - val_loss: 0.0223 - val_mae: 0.1145\n",
            "Epoch 8/100\n",
            "\u001b[1m125/125\u001b[0m \u001b[32m━━━━━━━━━━━━━━━━━━━━\u001b[0m\u001b[37m\u001b[0m \u001b[1m1s\u001b[0m 8ms/step - loss: 0.0268 - mae: 0.1286 - val_loss: 0.0214 - val_mae: 0.1133\n",
            "Epoch 9/100\n",
            "\u001b[1m125/125\u001b[0m \u001b[32m━━━━━━━━━━━━━━━━━━━━\u001b[0m\u001b[37m\u001b[0m \u001b[1m1s\u001b[0m 8ms/step - loss: 0.0262 - mae: 0.1266 - val_loss: 0.0212 - val_mae: 0.1123\n",
            "Epoch 10/100\n",
            "\u001b[1m125/125\u001b[0m \u001b[32m━━━━━━━━━━━━━━━━━━━━\u001b[0m\u001b[37m\u001b[0m \u001b[1m1s\u001b[0m 8ms/step - loss: 0.0266 - mae: 0.1269 - val_loss: 0.0208 - val_mae: 0.1115\n",
            "Epoch 11/100\n",
            "\u001b[1m125/125\u001b[0m \u001b[32m━━━━━━━━━━━━━━━━━━━━\u001b[0m\u001b[37m\u001b[0m \u001b[1m1s\u001b[0m 8ms/step - loss: 0.0247 - mae: 0.1215 - val_loss: 0.0205 - val_mae: 0.1107\n",
            "Epoch 12/100\n",
            "\u001b[1m125/125\u001b[0m \u001b[32m━━━━━━━━━━━━━━━━━━━━\u001b[0m\u001b[37m\u001b[0m \u001b[1m1s\u001b[0m 8ms/step - loss: 0.0244 - mae: 0.1212 - val_loss: 0.0202 - val_mae: 0.1096\n",
            "Epoch 13/100\n",
            "\u001b[1m125/125\u001b[0m \u001b[32m━━━━━━━━━━━━━━━━━━━━\u001b[0m\u001b[37m\u001b[0m \u001b[1m1s\u001b[0m 8ms/step - loss: 0.0226 - mae: 0.1144 - val_loss: 0.0203 - val_mae: 0.1093\n",
            "Epoch 14/100\n",
            "\u001b[1m125/125\u001b[0m \u001b[32m━━━━━━━━━━━━━━━━━━━━\u001b[0m\u001b[37m\u001b[0m \u001b[1m1s\u001b[0m 8ms/step - loss: 0.0228 - mae: 0.1166 - val_loss: 0.0200 - val_mae: 0.1086\n",
            "Epoch 15/100\n",
            "\u001b[1m125/125\u001b[0m \u001b[32m━━━━━━━━━━━━━━━━━━━━\u001b[0m\u001b[37m\u001b[0m \u001b[1m1s\u001b[0m 8ms/step - loss: 0.0215 - mae: 0.1128 - val_loss: 0.0195 - val_mae: 0.1080\n",
            "Epoch 16/100\n",
            "\u001b[1m125/125\u001b[0m \u001b[32m━━━━━━━━━━━━━━━━━━━━\u001b[0m\u001b[37m\u001b[0m \u001b[1m1s\u001b[0m 8ms/step - loss: 0.0217 - mae: 0.1156 - val_loss: 0.0196 - val_mae: 0.1076\n",
            "Epoch 17/100\n",
            "\u001b[1m125/125\u001b[0m \u001b[32m━━━━━━━━━━━━━━━━━━━━\u001b[0m\u001b[37m\u001b[0m \u001b[1m1s\u001b[0m 8ms/step - loss: 0.0207 - mae: 0.1115 - val_loss: 0.0192 - val_mae: 0.1080\n",
            "Epoch 18/100\n",
            "\u001b[1m125/125\u001b[0m \u001b[32m━━━━━━━━━━━━━━━━━━━━\u001b[0m\u001b[37m\u001b[0m \u001b[1m1s\u001b[0m 8ms/step - loss: 0.0207 - mae: 0.1125 - val_loss: 0.0193 - val_mae: 0.1067\n",
            "Epoch 19/100\n",
            "\u001b[1m125/125\u001b[0m \u001b[32m━━━━━━━━━━━━━━━━━━━━\u001b[0m\u001b[37m\u001b[0m \u001b[1m1s\u001b[0m 7ms/step - loss: 0.0192 - mae: 0.1086 - val_loss: 0.0190 - val_mae: 0.1064\n",
            "Epoch 20/100\n",
            "\u001b[1m125/125\u001b[0m \u001b[32m━━━━━━━━━━━━━━━━━━━━\u001b[0m\u001b[37m\u001b[0m \u001b[1m1s\u001b[0m 7ms/step - loss: 0.0195 - mae: 0.1075 - val_loss: 0.0187 - val_mae: 0.1062\n",
            "Epoch 21/100\n",
            "\u001b[1m125/125\u001b[0m \u001b[32m━━━━━━━━━━━━━━━━━━━━\u001b[0m\u001b[37m\u001b[0m \u001b[1m1s\u001b[0m 8ms/step - loss: 0.0187 - mae: 0.1063 - val_loss: 0.0187 - val_mae: 0.1056\n",
            "Epoch 22/100\n",
            "\u001b[1m125/125\u001b[0m \u001b[32m━━━━━━━━━━━━━━━━━━━━\u001b[0m\u001b[37m\u001b[0m \u001b[1m1s\u001b[0m 8ms/step - loss: 0.0182 - mae: 0.1050 - val_loss: 0.0187 - val_mae: 0.1053\n",
            "Epoch 23/100\n",
            "\u001b[1m125/125\u001b[0m \u001b[32m━━━━━━━━━━━━━━━━━━━━\u001b[0m\u001b[37m\u001b[0m \u001b[1m1s\u001b[0m 8ms/step - loss: 0.0179 - mae: 0.1040 - val_loss: 0.0185 - val_mae: 0.1053\n",
            "Epoch 24/100\n",
            "\u001b[1m125/125\u001b[0m \u001b[32m━━━━━━━━━━━━━━━━━━━━\u001b[0m\u001b[37m\u001b[0m \u001b[1m1s\u001b[0m 8ms/step - loss: 0.0170 - mae: 0.1022 - val_loss: 0.0185 - val_mae: 0.1048\n",
            "Epoch 25/100\n",
            "\u001b[1m125/125\u001b[0m \u001b[32m━━━━━━━━━━━━━━━━━━━━\u001b[0m\u001b[37m\u001b[0m \u001b[1m1s\u001b[0m 8ms/step - loss: 0.0167 - mae: 0.1012 - val_loss: 0.0184 - val_mae: 0.1045\n",
            "Epoch 26/100\n",
            "\u001b[1m125/125\u001b[0m \u001b[32m━━━━━━━━━━━━━━━━━━━━\u001b[0m\u001b[37m\u001b[0m \u001b[1m1s\u001b[0m 8ms/step - loss: 0.0171 - mae: 0.1023 - val_loss: 0.0182 - val_mae: 0.1050\n",
            "Epoch 27/100\n",
            "\u001b[1m125/125\u001b[0m \u001b[32m━━━━━━━━━━━━━━━━━━━━\u001b[0m\u001b[37m\u001b[0m \u001b[1m1s\u001b[0m 8ms/step - loss: 0.0161 - mae: 0.1002 - val_loss: 0.0180 - val_mae: 0.1040\n",
            "Epoch 28/100\n",
            "\u001b[1m125/125\u001b[0m \u001b[32m━━━━━━━━━━━━━━━━━━━━\u001b[0m\u001b[37m\u001b[0m \u001b[1m1s\u001b[0m 8ms/step - loss: 0.0163 - mae: 0.1001 - val_loss: 0.0179 - val_mae: 0.1038\n",
            "Epoch 29/100\n",
            "\u001b[1m125/125\u001b[0m \u001b[32m━━━━━━━━━━━━━━━━━━━━\u001b[0m\u001b[37m\u001b[0m \u001b[1m1s\u001b[0m 8ms/step - loss: 0.0161 - mae: 0.0991 - val_loss: 0.0180 - val_mae: 0.1032\n",
            "Epoch 30/100\n",
            "\u001b[1m125/125\u001b[0m \u001b[32m━━━━━━━━━━━━━━━━━━━━\u001b[0m\u001b[37m\u001b[0m \u001b[1m1s\u001b[0m 8ms/step - loss: 0.0154 - mae: 0.0966 - val_loss: 0.0179 - val_mae: 0.1031\n",
            "Epoch 31/100\n",
            "\u001b[1m125/125\u001b[0m \u001b[32m━━━━━━━━━━━━━━━━━━━━\u001b[0m\u001b[37m\u001b[0m \u001b[1m1s\u001b[0m 8ms/step - loss: 0.0153 - mae: 0.0963 - val_loss: 0.0177 - val_mae: 0.1029\n",
            "Epoch 32/100\n",
            "\u001b[1m125/125\u001b[0m \u001b[32m━━━━━━━━━━━━━━━━━━━━\u001b[0m\u001b[37m\u001b[0m \u001b[1m1s\u001b[0m 8ms/step - loss: 0.0154 - mae: 0.0958 - val_loss: 0.0176 - val_mae: 0.1026\n",
            "Epoch 33/100\n",
            "\u001b[1m125/125\u001b[0m \u001b[32m━━━━━━━━━━━━━━━━━━━━\u001b[0m\u001b[37m\u001b[0m \u001b[1m1s\u001b[0m 7ms/step - loss: 0.0152 - mae: 0.0965 - val_loss: 0.0176 - val_mae: 0.1034\n",
            "Epoch 34/100\n",
            "\u001b[1m125/125\u001b[0m \u001b[32m━━━━━━━━━━━━━━━━━━━━\u001b[0m\u001b[37m\u001b[0m \u001b[1m1s\u001b[0m 8ms/step - loss: 0.0147 - mae: 0.0948 - val_loss: 0.0175 - val_mae: 0.1036\n",
            "Epoch 35/100\n",
            "\u001b[1m125/125\u001b[0m \u001b[32m━━━━━━━━━━━━━━━━━━━━\u001b[0m\u001b[37m\u001b[0m \u001b[1m1s\u001b[0m 7ms/step - loss: 0.0143 - mae: 0.0941 - val_loss: 0.0174 - val_mae: 0.1019\n",
            "Epoch 36/100\n",
            "\u001b[1m125/125\u001b[0m \u001b[32m━━━━━━━━━━━━━━━━━━━━\u001b[0m\u001b[37m\u001b[0m \u001b[1m1s\u001b[0m 8ms/step - loss: 0.0141 - mae: 0.0928 - val_loss: 0.0173 - val_mae: 0.1022\n",
            "Epoch 37/100\n",
            "\u001b[1m125/125\u001b[0m \u001b[32m━━━━━━━━━━━━━━━━━━━━\u001b[0m\u001b[37m\u001b[0m \u001b[1m1s\u001b[0m 8ms/step - loss: 0.0141 - mae: 0.0933 - val_loss: 0.0173 - val_mae: 0.1019\n",
            "Epoch 38/100\n",
            "\u001b[1m125/125\u001b[0m \u001b[32m━━━━━━━━━━━━━━━━━━━━\u001b[0m\u001b[37m\u001b[0m \u001b[1m1s\u001b[0m 8ms/step - loss: 0.0150 - mae: 0.0955 - val_loss: 0.0172 - val_mae: 0.1020\n",
            "Epoch 39/100\n",
            "\u001b[1m125/125\u001b[0m \u001b[32m━━━━━━━━━━━━━━━━━━━━\u001b[0m\u001b[37m\u001b[0m \u001b[1m1s\u001b[0m 8ms/step - loss: 0.0142 - mae: 0.0937 - val_loss: 0.0172 - val_mae: 0.1013\n",
            "Epoch 40/100\n",
            "\u001b[1m125/125\u001b[0m \u001b[32m━━━━━━━━━━━━━━━━━━━━\u001b[0m\u001b[37m\u001b[0m \u001b[1m1s\u001b[0m 8ms/step - loss: 0.0131 - mae: 0.0894 - val_loss: 0.0171 - val_mae: 0.1018\n",
            "Epoch 41/100\n",
            "\u001b[1m125/125\u001b[0m \u001b[32m━━━━━━━━━━━━━━━━━━━━\u001b[0m\u001b[37m\u001b[0m \u001b[1m1s\u001b[0m 8ms/step - loss: 0.0134 - mae: 0.0920 - val_loss: 0.0171 - val_mae: 0.1009\n",
            "Epoch 42/100\n",
            "\u001b[1m125/125\u001b[0m \u001b[32m━━━━━━━━━━━━━━━━━━━━\u001b[0m\u001b[37m\u001b[0m \u001b[1m1s\u001b[0m 8ms/step - loss: 0.0125 - mae: 0.0882 - val_loss: 0.0171 - val_mae: 0.1024\n",
            "Epoch 43/100\n",
            "\u001b[1m125/125\u001b[0m \u001b[32m━━━━━━━━━━━━━━━━━━━━\u001b[0m\u001b[37m\u001b[0m \u001b[1m1s\u001b[0m 8ms/step - loss: 0.0129 - mae: 0.0902 - val_loss: 0.0169 - val_mae: 0.1009\n",
            "Epoch 44/100\n",
            "\u001b[1m125/125\u001b[0m \u001b[32m━━━━━━━━━━━━━━━━━━━━\u001b[0m\u001b[37m\u001b[0m \u001b[1m1s\u001b[0m 8ms/step - loss: 0.0125 - mae: 0.0885 - val_loss: 0.0169 - val_mae: 0.1011\n",
            "Epoch 45/100\n",
            "\u001b[1m125/125\u001b[0m \u001b[32m━━━━━━━━━━━━━━━━━━━━\u001b[0m\u001b[37m\u001b[0m \u001b[1m1s\u001b[0m 8ms/step - loss: 0.0123 - mae: 0.0883 - val_loss: 0.0169 - val_mae: 0.1020\n",
            "Epoch 46/100\n",
            "\u001b[1m125/125\u001b[0m \u001b[32m━━━━━━━━━━━━━━━━━━━━\u001b[0m\u001b[37m\u001b[0m \u001b[1m1s\u001b[0m 8ms/step - loss: 0.0128 - mae: 0.0894 - val_loss: 0.0168 - val_mae: 0.1004\n",
            "Epoch 47/100\n",
            "\u001b[1m125/125\u001b[0m \u001b[32m━━━━━━━━━━━━━━━━━━━━\u001b[0m\u001b[37m\u001b[0m \u001b[1m1s\u001b[0m 8ms/step - loss: 0.0123 - mae: 0.0873 - val_loss: 0.0168 - val_mae: 0.1000\n",
            "Epoch 48/100\n",
            "\u001b[1m125/125\u001b[0m \u001b[32m━━━━━━━━━━━━━━━━━━━━\u001b[0m\u001b[37m\u001b[0m \u001b[1m1s\u001b[0m 8ms/step - loss: 0.0119 - mae: 0.0852 - val_loss: 0.0167 - val_mae: 0.0997\n",
            "Epoch 49/100\n",
            "\u001b[1m125/125\u001b[0m \u001b[32m━━━━━━━━━━━━━━━━━━━━\u001b[0m\u001b[37m\u001b[0m \u001b[1m1s\u001b[0m 8ms/step - loss: 0.0118 - mae: 0.0843 - val_loss: 0.0167 - val_mae: 0.0999\n",
            "Epoch 50/100\n",
            "\u001b[1m125/125\u001b[0m \u001b[32m━━━━━━━━━━━━━━━━━━━━\u001b[0m\u001b[37m\u001b[0m \u001b[1m1s\u001b[0m 8ms/step - loss: 0.0119 - mae: 0.0864 - val_loss: 0.0166 - val_mae: 0.1000\n",
            "Epoch 51/100\n",
            "\u001b[1m125/125\u001b[0m \u001b[32m━━━━━━━━━━━━━━━━━━━━\u001b[0m\u001b[37m\u001b[0m \u001b[1m1s\u001b[0m 8ms/step - loss: 0.0115 - mae: 0.0838 - val_loss: 0.0166 - val_mae: 0.0993\n",
            "Epoch 52/100\n",
            "\u001b[1m125/125\u001b[0m \u001b[32m━━━━━━━━━━━━━━━━━━━━\u001b[0m\u001b[37m\u001b[0m \u001b[1m1s\u001b[0m 8ms/step - loss: 0.0117 - mae: 0.0847 - val_loss: 0.0165 - val_mae: 0.0997\n",
            "Epoch 53/100\n",
            "\u001b[1m125/125\u001b[0m \u001b[32m━━━━━━━━━━━━━━━━━━━━\u001b[0m\u001b[37m\u001b[0m \u001b[1m1s\u001b[0m 8ms/step - loss: 0.0117 - mae: 0.0855 - val_loss: 0.0165 - val_mae: 0.0994\n",
            "Epoch 54/100\n",
            "\u001b[1m125/125\u001b[0m \u001b[32m━━━━━━━━━━━━━━━━━━━━\u001b[0m\u001b[37m\u001b[0m \u001b[1m1s\u001b[0m 8ms/step - loss: 0.0111 - mae: 0.0822 - val_loss: 0.0165 - val_mae: 0.0992\n",
            "Epoch 55/100\n",
            "\u001b[1m125/125\u001b[0m \u001b[32m━━━━━━━━━━━━━━━━━━━━\u001b[0m\u001b[37m\u001b[0m \u001b[1m1s\u001b[0m 8ms/step - loss: 0.0110 - mae: 0.0822 - val_loss: 0.0165 - val_mae: 0.0996\n",
            "Epoch 56/100\n",
            "\u001b[1m125/125\u001b[0m \u001b[32m━━━━━━━━━━━━━━━━━━━━\u001b[0m\u001b[37m\u001b[0m \u001b[1m1s\u001b[0m 8ms/step - loss: 0.0104 - mae: 0.0799 - val_loss: 0.0164 - val_mae: 0.0993\n",
            "Epoch 57/100\n",
            "\u001b[1m125/125\u001b[0m \u001b[32m━━━━━━━━━━━━━━━━━━━━\u001b[0m\u001b[37m\u001b[0m \u001b[1m1s\u001b[0m 8ms/step - loss: 0.0106 - mae: 0.0807 - val_loss: 0.0164 - val_mae: 0.0990\n",
            "Epoch 58/100\n",
            "\u001b[1m125/125\u001b[0m \u001b[32m━━━━━━━━━━━━━━━━━━━━\u001b[0m\u001b[37m\u001b[0m \u001b[1m1s\u001b[0m 8ms/step - loss: 0.0108 - mae: 0.0811 - val_loss: 0.0166 - val_mae: 0.1010\n",
            "Epoch 59/100\n",
            "\u001b[1m125/125\u001b[0m \u001b[32m━━━━━━━━━━━━━━━━━━━━\u001b[0m\u001b[37m\u001b[0m \u001b[1m1s\u001b[0m 8ms/step - loss: 0.0108 - mae: 0.0818 - val_loss: 0.0165 - val_mae: 0.1002\n",
            "Epoch 60/100\n",
            "\u001b[1m125/125\u001b[0m \u001b[32m━━━━━━━━━━━━━━━━━━━━\u001b[0m\u001b[37m\u001b[0m \u001b[1m1s\u001b[0m 9ms/step - loss: 0.0101 - mae: 0.0791 - val_loss: 0.0164 - val_mae: 0.0994\n",
            "Epoch 61/100\n",
            "\u001b[1m125/125\u001b[0m \u001b[32m━━━━━━━━━━━━━━━━━━━━\u001b[0m\u001b[37m\u001b[0m \u001b[1m1s\u001b[0m 8ms/step - loss: 0.0104 - mae: 0.0800 - val_loss: 0.0163 - val_mae: 0.0995\n",
            "Epoch 62/100\n",
            "\u001b[1m125/125\u001b[0m \u001b[32m━━━━━━━━━━━━━━━━━━━━\u001b[0m\u001b[37m\u001b[0m \u001b[1m1s\u001b[0m 7ms/step - loss: 0.0098 - mae: 0.0780 - val_loss: 0.0163 - val_mae: 0.0993\n",
            "Epoch 63/100\n",
            "\u001b[1m125/125\u001b[0m \u001b[32m━━━━━━━━━━━━━━━━━━━━\u001b[0m\u001b[37m\u001b[0m \u001b[1m1s\u001b[0m 8ms/step - loss: 0.0100 - mae: 0.0789 - val_loss: 0.0163 - val_mae: 0.0988\n",
            "Epoch 64/100\n",
            "\u001b[1m125/125\u001b[0m \u001b[32m━━━━━━━━━━━━━━━━━━━━\u001b[0m\u001b[37m\u001b[0m \u001b[1m1s\u001b[0m 7ms/step - loss: 0.0102 - mae: 0.0796 - val_loss: 0.0162 - val_mae: 0.0982\n",
            "Epoch 65/100\n",
            "\u001b[1m125/125\u001b[0m \u001b[32m━━━━━━━━━━━━━━━━━━━━\u001b[0m\u001b[37m\u001b[0m \u001b[1m1s\u001b[0m 8ms/step - loss: 0.0095 - mae: 0.0764 - val_loss: 0.0162 - val_mae: 0.0990\n",
            "Epoch 66/100\n",
            "\u001b[1m125/125\u001b[0m \u001b[32m━━━━━━━━━━━━━━━━━━━━\u001b[0m\u001b[37m\u001b[0m \u001b[1m1s\u001b[0m 8ms/step - loss: 0.0098 - mae: 0.0776 - val_loss: 0.0162 - val_mae: 0.0988\n",
            "Epoch 67/100\n",
            "\u001b[1m125/125\u001b[0m \u001b[32m━━━━━━━━━━━━━━━━━━━━\u001b[0m\u001b[37m\u001b[0m \u001b[1m1s\u001b[0m 8ms/step - loss: 0.0103 - mae: 0.0800 - val_loss: 0.0161 - val_mae: 0.0983\n",
            "Epoch 68/100\n",
            "\u001b[1m125/125\u001b[0m \u001b[32m━━━━━━━━━━━━━━━━━━━━\u001b[0m\u001b[37m\u001b[0m \u001b[1m1s\u001b[0m 8ms/step - loss: 0.0096 - mae: 0.0772 - val_loss: 0.0161 - val_mae: 0.0978\n",
            "Epoch 69/100\n",
            "\u001b[1m125/125\u001b[0m \u001b[32m━━━━━━━━━━━━━━━━━━━━\u001b[0m\u001b[37m\u001b[0m \u001b[1m1s\u001b[0m 8ms/step - loss: 0.0093 - mae: 0.0751 - val_loss: 0.0161 - val_mae: 0.0980\n",
            "Epoch 70/100\n",
            "\u001b[1m125/125\u001b[0m \u001b[32m━━━━━━━━━━━━━━━━━━━━\u001b[0m\u001b[37m\u001b[0m \u001b[1m1s\u001b[0m 8ms/step - loss: 0.0095 - mae: 0.0752 - val_loss: 0.0161 - val_mae: 0.0981\n",
            "Epoch 71/100\n",
            "\u001b[1m125/125\u001b[0m \u001b[32m━━━━━━━━━━━━━━━━━━━━\u001b[0m\u001b[37m\u001b[0m \u001b[1m1s\u001b[0m 8ms/step - loss: 0.0095 - mae: 0.0770 - val_loss: 0.0163 - val_mae: 0.0991\n",
            "Epoch 72/100\n",
            "\u001b[1m125/125\u001b[0m \u001b[32m━━━━━━━━━━━━━━━━━━━━\u001b[0m\u001b[37m\u001b[0m \u001b[1m1s\u001b[0m 7ms/step - loss: 0.0090 - mae: 0.0741 - val_loss: 0.0161 - val_mae: 0.0979\n",
            "Epoch 73/100\n",
            "\u001b[1m125/125\u001b[0m \u001b[32m━━━━━━━━━━━━━━━━━━━━\u001b[0m\u001b[37m\u001b[0m \u001b[1m1s\u001b[0m 7ms/step - loss: 0.0090 - mae: 0.0750 - val_loss: 0.0161 - val_mae: 0.0987\n",
            "Epoch 74/100\n",
            "\u001b[1m125/125\u001b[0m \u001b[32m━━━━━━━━━━━━━━━━━━━━\u001b[0m\u001b[37m\u001b[0m \u001b[1m1s\u001b[0m 8ms/step - loss: 0.0089 - mae: 0.0738 - val_loss: 0.0161 - val_mae: 0.0987\n",
            "Epoch 75/100\n",
            "\u001b[1m125/125\u001b[0m \u001b[32m━━━━━━━━━━━━━━━━━━━━\u001b[0m\u001b[37m\u001b[0m \u001b[1m1s\u001b[0m 7ms/step - loss: 0.0090 - mae: 0.0749 - val_loss: 0.0161 - val_mae: 0.0983\n",
            "Epoch 76/100\n",
            "\u001b[1m125/125\u001b[0m \u001b[32m━━━━━━━━━━━━━━━━━━━━\u001b[0m\u001b[37m\u001b[0m \u001b[1m1s\u001b[0m 8ms/step - loss: 0.0089 - mae: 0.0746 - val_loss: 0.0160 - val_mae: 0.0979\n",
            "Epoch 77/100\n",
            "\u001b[1m125/125\u001b[0m \u001b[32m━━━━━━━━━━━━━━━━━━━━\u001b[0m\u001b[37m\u001b[0m \u001b[1m1s\u001b[0m 8ms/step - loss: 0.0086 - mae: 0.0730 - val_loss: 0.0160 - val_mae: 0.0982\n",
            "Epoch 78/100\n",
            "\u001b[1m125/125\u001b[0m \u001b[32m━━━━━━━━━━━━━━━━━━━━\u001b[0m\u001b[37m\u001b[0m \u001b[1m1s\u001b[0m 7ms/step - loss: 0.0087 - mae: 0.0731 - val_loss: 0.0160 - val_mae: 0.0969\n",
            "Epoch 79/100\n",
            "\u001b[1m125/125\u001b[0m \u001b[32m━━━━━━━━━━━━━━━━━━━━\u001b[0m\u001b[37m\u001b[0m \u001b[1m1s\u001b[0m 8ms/step - loss: 0.0086 - mae: 0.0734 - val_loss: 0.0159 - val_mae: 0.0975\n",
            "Epoch 80/100\n",
            "\u001b[1m125/125\u001b[0m \u001b[32m━━━━━━━━━━━━━━━━━━━━\u001b[0m\u001b[37m\u001b[0m \u001b[1m1s\u001b[0m 8ms/step - loss: 0.0084 - mae: 0.0724 - val_loss: 0.0159 - val_mae: 0.0972\n",
            "Epoch 81/100\n",
            "\u001b[1m125/125\u001b[0m \u001b[32m━━━━━━━━━━━━━━━━━━━━\u001b[0m\u001b[37m\u001b[0m \u001b[1m1s\u001b[0m 8ms/step - loss: 0.0081 - mae: 0.0703 - val_loss: 0.0161 - val_mae: 0.0983\n",
            "Epoch 82/100\n",
            "\u001b[1m125/125\u001b[0m \u001b[32m━━━━━━━━━━━━━━━━━━━━\u001b[0m\u001b[37m\u001b[0m \u001b[1m1s\u001b[0m 8ms/step - loss: 0.0079 - mae: 0.0697 - val_loss: 0.0159 - val_mae: 0.0970\n",
            "Epoch 83/100\n",
            "\u001b[1m125/125\u001b[0m \u001b[32m━━━━━━━━━━━━━━━━━━━━\u001b[0m\u001b[37m\u001b[0m \u001b[1m1s\u001b[0m 8ms/step - loss: 0.0079 - mae: 0.0697 - val_loss: 0.0159 - val_mae: 0.0971\n",
            "Epoch 84/100\n",
            "\u001b[1m125/125\u001b[0m \u001b[32m━━━━━━━━━━━━━━━━━━━━\u001b[0m\u001b[37m\u001b[0m \u001b[1m1s\u001b[0m 8ms/step - loss: 0.0080 - mae: 0.0704 - val_loss: 0.0159 - val_mae: 0.0972\n",
            "Epoch 85/100\n",
            "\u001b[1m125/125\u001b[0m \u001b[32m━━━━━━━━━━━━━━━━━━━━\u001b[0m\u001b[37m\u001b[0m \u001b[1m1s\u001b[0m 8ms/step - loss: 0.0081 - mae: 0.0717 - val_loss: 0.0159 - val_mae: 0.0975\n",
            "Epoch 86/100\n",
            "\u001b[1m125/125\u001b[0m \u001b[32m━━━━━━━━━━━━━━━━━━━━\u001b[0m\u001b[37m\u001b[0m \u001b[1m1s\u001b[0m 8ms/step - loss: 0.0077 - mae: 0.0693 - val_loss: 0.0159 - val_mae: 0.0977\n",
            "Epoch 87/100\n",
            "\u001b[1m125/125\u001b[0m \u001b[32m━━━━━━━━━━━━━━━━━━━━\u001b[0m\u001b[37m\u001b[0m \u001b[1m1s\u001b[0m 7ms/step - loss: 0.0079 - mae: 0.0706 - val_loss: 0.0158 - val_mae: 0.0959\n",
            "Epoch 88/100\n",
            "\u001b[1m125/125\u001b[0m \u001b[32m━━━━━━━━━━━━━━━━━━━━\u001b[0m\u001b[37m\u001b[0m \u001b[1m1s\u001b[0m 8ms/step - loss: 0.0075 - mae: 0.0683 - val_loss: 0.0157 - val_mae: 0.0966\n",
            "Epoch 89/100\n",
            "\u001b[1m125/125\u001b[0m \u001b[32m━━━━━━━━━━━━━━━━━━━━\u001b[0m\u001b[37m\u001b[0m \u001b[1m1s\u001b[0m 7ms/step - loss: 0.0077 - mae: 0.0697 - val_loss: 0.0157 - val_mae: 0.0960\n",
            "Epoch 90/100\n",
            "\u001b[1m125/125\u001b[0m \u001b[32m━━━━━━━━━━━━━━━━━━━━\u001b[0m\u001b[37m\u001b[0m \u001b[1m1s\u001b[0m 8ms/step - loss: 0.0077 - mae: 0.0691 - val_loss: 0.0158 - val_mae: 0.0964\n",
            "Epoch 91/100\n",
            "\u001b[1m125/125\u001b[0m \u001b[32m━━━━━━━━━━━━━━━━━━━━\u001b[0m\u001b[37m\u001b[0m \u001b[1m1s\u001b[0m 8ms/step - loss: 0.0077 - mae: 0.0694 - val_loss: 0.0157 - val_mae: 0.0961\n",
            "Epoch 92/100\n",
            "\u001b[1m125/125\u001b[0m \u001b[32m━━━━━━━━━━━━━━━━━━━━\u001b[0m\u001b[37m\u001b[0m \u001b[1m1s\u001b[0m 8ms/step - loss: 0.0074 - mae: 0.0682 - val_loss: 0.0157 - val_mae: 0.0965\n",
            "Epoch 93/100\n",
            "\u001b[1m125/125\u001b[0m \u001b[32m━━━━━━━━━━━━━━━━━━━━\u001b[0m\u001b[37m\u001b[0m \u001b[1m1s\u001b[0m 8ms/step - loss: 0.0074 - mae: 0.0677 - val_loss: 0.0157 - val_mae: 0.0962\n",
            "Epoch 94/100\n",
            "\u001b[1m125/125\u001b[0m \u001b[32m━━━━━━━━━━━━━━━━━━━━\u001b[0m\u001b[37m\u001b[0m \u001b[1m1s\u001b[0m 8ms/step - loss: 0.0072 - mae: 0.0668 - val_loss: 0.0158 - val_mae: 0.0969\n",
            "Epoch 95/100\n",
            "\u001b[1m125/125\u001b[0m \u001b[32m━━━━━━━━━━━━━━━━━━━━\u001b[0m\u001b[37m\u001b[0m \u001b[1m1s\u001b[0m 8ms/step - loss: 0.0074 - mae: 0.0682 - val_loss: 0.0157 - val_mae: 0.0962\n",
            "Epoch 96/100\n",
            "\u001b[1m125/125\u001b[0m \u001b[32m━━━━━━━━━━━━━━━━━━━━\u001b[0m\u001b[37m\u001b[0m \u001b[1m1s\u001b[0m 8ms/step - loss: 0.0074 - mae: 0.0674 - val_loss: 0.0157 - val_mae: 0.0956\n",
            "Epoch 97/100\n",
            "\u001b[1m125/125\u001b[0m \u001b[32m━━━━━━━━━━━━━━━━━━━━\u001b[0m\u001b[37m\u001b[0m \u001b[1m1s\u001b[0m 8ms/step - loss: 0.0069 - mae: 0.0651 - val_loss: 0.0157 - val_mae: 0.0957\n",
            "Epoch 98/100\n",
            "\u001b[1m125/125\u001b[0m \u001b[32m━━━━━━━━━━━━━━━━━━━━\u001b[0m\u001b[37m\u001b[0m \u001b[1m1s\u001b[0m 8ms/step - loss: 0.0070 - mae: 0.0663 - val_loss: 0.0156 - val_mae: 0.0956\n",
            "Epoch 99/100\n",
            "\u001b[1m125/125\u001b[0m \u001b[32m━━━━━━━━━━━━━━━━━━━━\u001b[0m\u001b[37m\u001b[0m \u001b[1m1s\u001b[0m 8ms/step - loss: 0.0068 - mae: 0.0649 - val_loss: 0.0157 - val_mae: 0.0951\n",
            "Epoch 100/100\n",
            "\u001b[1m125/125\u001b[0m \u001b[32m━━━━━━━━━━━━━━━━━━━━\u001b[0m\u001b[37m\u001b[0m \u001b[1m1s\u001b[0m 8ms/step - loss: 0.0074 - mae: 0.0675 - val_loss: 0.0156 - val_mae: 0.0955\n"
          ]
        }
      ],
      "source": [
        "Mobilenet_model.compile(optimizer=tf.keras.optimizers.Adam(learning_rate=1e-5), loss='mse', metrics=['mae'])\n",
        "history = Mobilenet_model.fit(X_train_processed_Mobilenet, Y_train, validation_data=(X_valid_processed_Mobilenet, Y_valid), batch_size=32, epochs=100, shuffle=True, verbose=1)"
      ]
    },
    {
      "cell_type": "markdown",
      "metadata": {
        "id": "_Ci7jsSRYVLX"
      },
      "source": []
    },
    {
      "cell_type": "code",
      "execution_count": null,
      "metadata": {
        "colab": {
          "base_uri": "https://localhost:8080/"
        },
        "id": "gK1Kqf6eqId8",
        "outputId": "7028f325-39c4-451e-bade-f32e2bdace09"
      },
      "outputs": [
        {
          "name": "stdout",
          "output_type": "stream",
          "text": [
            "Downloading data from https://storage.googleapis.com/tensorflow/keras-applications/mobilenet_v3/weights_mobilenet_v3_small_224_1.0_float_no_top_v2.h5\n",
            "\u001b[1m4334752/4334752\u001b[0m \u001b[32m━━━━━━━━━━━━━━━━━━━━\u001b[0m\u001b[37m\u001b[0m \u001b[1m1s\u001b[0m 0us/step\n",
            "Num GPUs Available:  1\n"
          ]
        }
      ],
      "source": [
        "### Mobilenet Small implementation with 0.7 Dropout and -5\n",
        "early_stopping_MobileNet = tf.keras.callbacks.EarlyStopping(monitor='val_loss', mode='min', verbose=1, patience=3)\n",
        "\n",
        "#base_model = tf.keras.applications.ResNet50(input_shape=(224, 224, 3), weights='imagenet', include_top=False)\n",
        "base_model = tf.keras.applications.MobileNetV3Small(input_shape=(224, 224, 3), weights='imagenet', include_top=False)\n",
        "\n",
        "#preprocess_input = tf.keras.applications.mobilenet.preprocess_input\n",
        "preprocess_input_Mobilenet = tf.keras.applications.mobilenet_v3.preprocess_input\n",
        "\n",
        "base_model.trainable = False\n",
        "for layer in base_model.layers[-3:]:\n",
        "    layer.trainable = True\n",
        "\n",
        "# Add custom layers\n",
        "x = tf.keras.layers.GlobalAveragePooling2D()(base_model.output)\n",
        "x = tf.keras.layers.Dense(1024, activation='relu')(x)\n",
        "x = tf.keras.layers.Dropout(0.5)(x)\n",
        "output = tf.keras.layers.Dense(1, activation='sigmoid')(x)\n",
        "\n",
        "# Create the new model with NASNetMobile as the base\n",
        "Mobilenet_model = tf.keras.models.Model(inputs=base_model.input, outputs=output)\n",
        "# Preprocess the data\n",
        "X_train_processed_Mobilenet = preprocess_input_Mobilenet(np.copy(X_train))\n",
        "X_valid_processed_Mobilenet = preprocess_input_Mobilenet(np.copy(X_valid))\n",
        "\n",
        "print(\"Num GPUs Available: \", len(tf.config.list_physical_devices('GPU')))"
      ]
    },
    {
      "cell_type": "code",
      "execution_count": null,
      "metadata": {
        "colab": {
          "base_uri": "https://localhost:8080/",
          "height": 824
        },
        "id": "bYnUuygcqaPS",
        "outputId": "90aad137-cf41-4c2a-98eb-cf60a45bc99f"
      },
      "outputs": [
        {
          "name": "stdout",
          "output_type": "stream",
          "text": [
            "Epoch 1/100\n",
            "\u001b[1m125/125\u001b[0m \u001b[32m━━━━━━━━━━━━━━━━━━━━\u001b[0m\u001b[37m\u001b[0m \u001b[1m23s\u001b[0m 82ms/step - accuracy: 0.0000e+00 - loss: 0.0533 - val_accuracy: 0.0000e+00 - val_loss: 0.0293\n",
            "Epoch 2/100\n",
            "\u001b[1m125/125\u001b[0m \u001b[32m━━━━━━━━━━━━━━━━━━━━\u001b[0m\u001b[37m\u001b[0m \u001b[1m1s\u001b[0m 8ms/step - accuracy: 0.0000e+00 - loss: 0.0414 - val_accuracy: 0.0000e+00 - val_loss: 0.0261\n",
            "Epoch 3/100\n",
            "\u001b[1m125/125\u001b[0m \u001b[32m━━━━━━━━━━━━━━━━━━━━\u001b[0m\u001b[37m\u001b[0m \u001b[1m1s\u001b[0m 8ms/step - accuracy: 0.0000e+00 - loss: 0.0410 - val_accuracy: 0.0000e+00 - val_loss: 0.0244\n",
            "Epoch 4/100\n",
            "\u001b[1m125/125\u001b[0m \u001b[32m━━━━━━━━━━━━━━━━━━━━\u001b[0m\u001b[37m\u001b[0m \u001b[1m1s\u001b[0m 8ms/step - accuracy: 0.0000e+00 - loss: 0.0361 - val_accuracy: 0.0000e+00 - val_loss: 0.0231\n",
            "Epoch 5/100\n",
            "\u001b[1m125/125\u001b[0m \u001b[32m━━━━━━━━━━━━━━━━━━━━\u001b[0m\u001b[37m\u001b[0m \u001b[1m1s\u001b[0m 7ms/step - accuracy: 0.0000e+00 - loss: 0.0346 - val_accuracy: 0.0000e+00 - val_loss: 0.0223\n",
            "Epoch 6/100\n",
            "\u001b[1m125/125\u001b[0m \u001b[32m━━━━━━━━━━━━━━━━━━━━\u001b[0m\u001b[37m\u001b[0m \u001b[1m1s\u001b[0m 7ms/step - accuracy: 0.0000e+00 - loss: 0.0324 - val_accuracy: 0.0000e+00 - val_loss: 0.0218\n",
            "Epoch 7/100\n",
            "\u001b[1m125/125\u001b[0m \u001b[32m━━━━━━━━━━━━━━━━━━━━\u001b[0m\u001b[37m\u001b[0m \u001b[1m1s\u001b[0m 7ms/step - accuracy: 0.0000e+00 - loss: 0.0299 - val_accuracy: 0.0000e+00 - val_loss: 0.0212\n",
            "Epoch 8/100\n",
            "\u001b[1m125/125\u001b[0m \u001b[32m━━━━━━━━━━━━━━━━━━━━\u001b[0m\u001b[37m\u001b[0m \u001b[1m1s\u001b[0m 7ms/step - accuracy: 0.0000e+00 - loss: 0.0303 - val_accuracy: 0.0000e+00 - val_loss: 0.0206\n",
            "Epoch 9/100\n",
            "\u001b[1m125/125\u001b[0m \u001b[32m━━━━━━━━━━━━━━━━━━━━\u001b[0m\u001b[37m\u001b[0m \u001b[1m1s\u001b[0m 7ms/step - accuracy: 0.0000e+00 - loss: 0.0286 - val_accuracy: 0.0000e+00 - val_loss: 0.0204\n",
            "Epoch 10/100\n",
            "\u001b[1m125/125\u001b[0m \u001b[32m━━━━━━━━━━━━━━━━━━━━\u001b[0m\u001b[37m\u001b[0m \u001b[1m1s\u001b[0m 7ms/step - accuracy: 0.0000e+00 - loss: 0.0271 - val_accuracy: 0.0000e+00 - val_loss: 0.0200\n",
            "Epoch 11/100\n",
            "\u001b[1m125/125\u001b[0m \u001b[32m━━━━━━━━━━━━━━━━━━━━\u001b[0m\u001b[37m\u001b[0m \u001b[1m1s\u001b[0m 7ms/step - accuracy: 0.0000e+00 - loss: 0.0265 - val_accuracy: 0.0000e+00 - val_loss: 0.0198\n",
            "Epoch 12/100\n",
            "\u001b[1m125/125\u001b[0m \u001b[32m━━━━━━━━━━━━━━━━━━━━\u001b[0m\u001b[37m\u001b[0m \u001b[1m1s\u001b[0m 7ms/step - accuracy: 0.0000e+00 - loss: 0.0244 - val_accuracy: 0.0000e+00 - val_loss: 0.0196\n",
            "Epoch 13/100\n",
            "\u001b[1m125/125\u001b[0m \u001b[32m━━━━━━━━━━━━━━━━━━━━\u001b[0m\u001b[37m\u001b[0m \u001b[1m1s\u001b[0m 7ms/step - accuracy: 0.0000e+00 - loss: 0.0247 - val_accuracy: 0.0000e+00 - val_loss: 0.0192\n",
            "Epoch 14/100\n",
            "\u001b[1m125/125\u001b[0m \u001b[32m━━━━━━━━━━━━━━━━━━━━\u001b[0m\u001b[37m\u001b[0m \u001b[1m1s\u001b[0m 7ms/step - accuracy: 0.0000e+00 - loss: 0.0243 - val_accuracy: 0.0000e+00 - val_loss: 0.0191\n",
            "Epoch 15/100\n",
            "\u001b[1m121/125\u001b[0m \u001b[32m━━━━━━━━━━━━━━━━━━━\u001b[0m\u001b[37m━\u001b[0m \u001b[1m0s\u001b[0m 6ms/step - accuracy: 0.0000e+00 - loss: 0.0228"
          ]
        },
        {
          "ename": "KeyboardInterrupt",
          "evalue": "",
          "output_type": "error",
          "traceback": [
            "\u001b[0;31m---------------------------------------------------------------------------\u001b[0m",
            "\u001b[0;31mKeyboardInterrupt\u001b[0m                         Traceback (most recent call last)",
            "\u001b[0;32m<ipython-input-101-a1a3883e5c95>\u001b[0m in \u001b[0;36m<cell line: 2>\u001b[0;34m()\u001b[0m\n\u001b[1;32m      1\u001b[0m \u001b[0mMobilenet_model\u001b[0m\u001b[0;34m.\u001b[0m\u001b[0mcompile\u001b[0m\u001b[0;34m(\u001b[0m\u001b[0moptimizer\u001b[0m\u001b[0;34m=\u001b[0m\u001b[0mtf\u001b[0m\u001b[0;34m.\u001b[0m\u001b[0mkeras\u001b[0m\u001b[0;34m.\u001b[0m\u001b[0moptimizers\u001b[0m\u001b[0;34m.\u001b[0m\u001b[0mAdam\u001b[0m\u001b[0;34m(\u001b[0m\u001b[0mlearning_rate\u001b[0m\u001b[0;34m=\u001b[0m\u001b[0;36m1e-5\u001b[0m\u001b[0;34m)\u001b[0m\u001b[0;34m,\u001b[0m \u001b[0mloss\u001b[0m\u001b[0;34m=\u001b[0m\u001b[0;34m'mse'\u001b[0m\u001b[0;34m,\u001b[0m \u001b[0mmetrics\u001b[0m\u001b[0;34m=\u001b[0m\u001b[0;34m[\u001b[0m\u001b[0;34m'accuracy'\u001b[0m\u001b[0;34m]\u001b[0m\u001b[0;34m)\u001b[0m\u001b[0;34m\u001b[0m\u001b[0;34m\u001b[0m\u001b[0m\n\u001b[0;32m----> 2\u001b[0;31m \u001b[0mhistory\u001b[0m \u001b[0;34m=\u001b[0m \u001b[0mMobilenet_model\u001b[0m\u001b[0;34m.\u001b[0m\u001b[0mfit\u001b[0m\u001b[0;34m(\u001b[0m\u001b[0mX_train_processed_Mobilenet\u001b[0m\u001b[0;34m,\u001b[0m \u001b[0mY_train\u001b[0m\u001b[0;34m,\u001b[0m \u001b[0mvalidation_data\u001b[0m\u001b[0;34m=\u001b[0m\u001b[0;34m(\u001b[0m\u001b[0mX_valid_processed_Mobilenet\u001b[0m\u001b[0;34m,\u001b[0m \u001b[0mY_valid\u001b[0m\u001b[0;34m)\u001b[0m\u001b[0;34m,\u001b[0m \u001b[0mbatch_size\u001b[0m\u001b[0;34m=\u001b[0m\u001b[0;36m32\u001b[0m\u001b[0;34m,\u001b[0m \u001b[0mepochs\u001b[0m\u001b[0;34m=\u001b[0m\u001b[0;36m100\u001b[0m\u001b[0;34m,\u001b[0m \u001b[0mshuffle\u001b[0m\u001b[0;34m=\u001b[0m\u001b[0;32mTrue\u001b[0m\u001b[0;34m,\u001b[0m \u001b[0mverbose\u001b[0m\u001b[0;34m=\u001b[0m\u001b[0;36m1\u001b[0m\u001b[0;34m,\u001b[0m\u001b[0mcallbacks\u001b[0m\u001b[0;34m=\u001b[0m\u001b[0;34m[\u001b[0m\u001b[0mearly_stopping_Nasnet\u001b[0m\u001b[0;34m]\u001b[0m\u001b[0;34m)\u001b[0m\u001b[0;34m\u001b[0m\u001b[0;34m\u001b[0m\u001b[0m\n\u001b[0m",
            "\u001b[0;32m/usr/local/lib/python3.10/dist-packages/keras/src/utils/traceback_utils.py\u001b[0m in \u001b[0;36merror_handler\u001b[0;34m(*args, **kwargs)\u001b[0m\n\u001b[1;32m    115\u001b[0m         \u001b[0mfiltered_tb\u001b[0m \u001b[0;34m=\u001b[0m \u001b[0;32mNone\u001b[0m\u001b[0;34m\u001b[0m\u001b[0;34m\u001b[0m\u001b[0m\n\u001b[1;32m    116\u001b[0m         \u001b[0;32mtry\u001b[0m\u001b[0;34m:\u001b[0m\u001b[0;34m\u001b[0m\u001b[0;34m\u001b[0m\u001b[0m\n\u001b[0;32m--> 117\u001b[0;31m             \u001b[0;32mreturn\u001b[0m \u001b[0mfn\u001b[0m\u001b[0;34m(\u001b[0m\u001b[0;34m*\u001b[0m\u001b[0margs\u001b[0m\u001b[0;34m,\u001b[0m \u001b[0;34m**\u001b[0m\u001b[0mkwargs\u001b[0m\u001b[0;34m)\u001b[0m\u001b[0;34m\u001b[0m\u001b[0;34m\u001b[0m\u001b[0m\n\u001b[0m\u001b[1;32m    118\u001b[0m         \u001b[0;32mexcept\u001b[0m \u001b[0mException\u001b[0m \u001b[0;32mas\u001b[0m \u001b[0me\u001b[0m\u001b[0;34m:\u001b[0m\u001b[0;34m\u001b[0m\u001b[0;34m\u001b[0m\u001b[0m\n\u001b[1;32m    119\u001b[0m             \u001b[0mfiltered_tb\u001b[0m \u001b[0;34m=\u001b[0m \u001b[0m_process_traceback_frames\u001b[0m\u001b[0;34m(\u001b[0m\u001b[0me\u001b[0m\u001b[0;34m.\u001b[0m\u001b[0m__traceback__\u001b[0m\u001b[0;34m)\u001b[0m\u001b[0;34m\u001b[0m\u001b[0;34m\u001b[0m\u001b[0m\n",
            "\u001b[0;32m/usr/local/lib/python3.10/dist-packages/keras/src/backend/tensorflow/trainer.py\u001b[0m in \u001b[0;36mfit\u001b[0;34m(self, x, y, batch_size, epochs, verbose, callbacks, validation_split, validation_data, shuffle, class_weight, sample_weight, initial_epoch, steps_per_epoch, validation_steps, validation_batch_size, validation_freq)\u001b[0m\n\u001b[1;32m    341\u001b[0m                         \u001b[0mshuffle\u001b[0m\u001b[0;34m=\u001b[0m\u001b[0;32mFalse\u001b[0m\u001b[0;34m,\u001b[0m\u001b[0;34m\u001b[0m\u001b[0;34m\u001b[0m\u001b[0m\n\u001b[1;32m    342\u001b[0m                     )\n\u001b[0;32m--> 343\u001b[0;31m                 val_logs = self.evaluate(\n\u001b[0m\u001b[1;32m    344\u001b[0m                     \u001b[0mx\u001b[0m\u001b[0;34m=\u001b[0m\u001b[0mval_x\u001b[0m\u001b[0;34m,\u001b[0m\u001b[0;34m\u001b[0m\u001b[0;34m\u001b[0m\u001b[0m\n\u001b[1;32m    345\u001b[0m                     \u001b[0my\u001b[0m\u001b[0;34m=\u001b[0m\u001b[0mval_y\u001b[0m\u001b[0;34m,\u001b[0m\u001b[0;34m\u001b[0m\u001b[0;34m\u001b[0m\u001b[0m\n",
            "\u001b[0;32m/usr/local/lib/python3.10/dist-packages/keras/src/utils/traceback_utils.py\u001b[0m in \u001b[0;36merror_handler\u001b[0;34m(*args, **kwargs)\u001b[0m\n\u001b[1;32m    115\u001b[0m         \u001b[0mfiltered_tb\u001b[0m \u001b[0;34m=\u001b[0m \u001b[0;32mNone\u001b[0m\u001b[0;34m\u001b[0m\u001b[0;34m\u001b[0m\u001b[0m\n\u001b[1;32m    116\u001b[0m         \u001b[0;32mtry\u001b[0m\u001b[0;34m:\u001b[0m\u001b[0;34m\u001b[0m\u001b[0;34m\u001b[0m\u001b[0m\n\u001b[0;32m--> 117\u001b[0;31m             \u001b[0;32mreturn\u001b[0m \u001b[0mfn\u001b[0m\u001b[0;34m(\u001b[0m\u001b[0;34m*\u001b[0m\u001b[0margs\u001b[0m\u001b[0;34m,\u001b[0m \u001b[0;34m**\u001b[0m\u001b[0mkwargs\u001b[0m\u001b[0;34m)\u001b[0m\u001b[0;34m\u001b[0m\u001b[0;34m\u001b[0m\u001b[0m\n\u001b[0m\u001b[1;32m    118\u001b[0m         \u001b[0;32mexcept\u001b[0m \u001b[0mException\u001b[0m \u001b[0;32mas\u001b[0m \u001b[0me\u001b[0m\u001b[0;34m:\u001b[0m\u001b[0;34m\u001b[0m\u001b[0;34m\u001b[0m\u001b[0m\n\u001b[1;32m    119\u001b[0m             \u001b[0mfiltered_tb\u001b[0m \u001b[0;34m=\u001b[0m \u001b[0m_process_traceback_frames\u001b[0m\u001b[0;34m(\u001b[0m\u001b[0me\u001b[0m\u001b[0;34m.\u001b[0m\u001b[0m__traceback__\u001b[0m\u001b[0;34m)\u001b[0m\u001b[0;34m\u001b[0m\u001b[0;34m\u001b[0m\u001b[0m\n",
            "\u001b[0;32m/usr/local/lib/python3.10/dist-packages/keras/src/backend/tensorflow/trainer.py\u001b[0m in \u001b[0;36mevaluate\u001b[0;34m(self, x, y, batch_size, verbose, sample_weight, steps, callbacks, return_dict, **kwargs)\u001b[0m\n\u001b[1;32m    427\u001b[0m             \u001b[0;32mfor\u001b[0m \u001b[0mstep\u001b[0m\u001b[0;34m,\u001b[0m \u001b[0miterator\u001b[0m \u001b[0;32min\u001b[0m \u001b[0mepoch_iterator\u001b[0m\u001b[0;34m.\u001b[0m\u001b[0menumerate_epoch\u001b[0m\u001b[0;34m(\u001b[0m\u001b[0;34m)\u001b[0m\u001b[0;34m:\u001b[0m\u001b[0;34m\u001b[0m\u001b[0;34m\u001b[0m\u001b[0m\n\u001b[1;32m    428\u001b[0m                 \u001b[0mcallbacks\u001b[0m\u001b[0;34m.\u001b[0m\u001b[0mon_test_batch_begin\u001b[0m\u001b[0;34m(\u001b[0m\u001b[0mstep\u001b[0m\u001b[0;34m)\u001b[0m\u001b[0;34m\u001b[0m\u001b[0;34m\u001b[0m\u001b[0m\n\u001b[0;32m--> 429\u001b[0;31m                 \u001b[0mlogs\u001b[0m \u001b[0;34m=\u001b[0m \u001b[0mself\u001b[0m\u001b[0;34m.\u001b[0m\u001b[0mtest_function\u001b[0m\u001b[0;34m(\u001b[0m\u001b[0miterator\u001b[0m\u001b[0;34m)\u001b[0m\u001b[0;34m\u001b[0m\u001b[0;34m\u001b[0m\u001b[0m\n\u001b[0m\u001b[1;32m    430\u001b[0m                 \u001b[0mlogs\u001b[0m \u001b[0;34m=\u001b[0m \u001b[0mself\u001b[0m\u001b[0;34m.\u001b[0m\u001b[0m_pythonify_logs\u001b[0m\u001b[0;34m(\u001b[0m\u001b[0mlogs\u001b[0m\u001b[0;34m)\u001b[0m\u001b[0;34m\u001b[0m\u001b[0;34m\u001b[0m\u001b[0m\n\u001b[1;32m    431\u001b[0m                 \u001b[0mcallbacks\u001b[0m\u001b[0;34m.\u001b[0m\u001b[0mon_test_batch_end\u001b[0m\u001b[0;34m(\u001b[0m\u001b[0mstep\u001b[0m\u001b[0;34m,\u001b[0m \u001b[0mlogs\u001b[0m\u001b[0;34m)\u001b[0m\u001b[0;34m\u001b[0m\u001b[0;34m\u001b[0m\u001b[0m\n",
            "\u001b[0;32m/usr/local/lib/python3.10/dist-packages/tensorflow/python/util/traceback_utils.py\u001b[0m in \u001b[0;36merror_handler\u001b[0;34m(*args, **kwargs)\u001b[0m\n\u001b[1;32m    148\u001b[0m     \u001b[0mfiltered_tb\u001b[0m \u001b[0;34m=\u001b[0m \u001b[0;32mNone\u001b[0m\u001b[0;34m\u001b[0m\u001b[0;34m\u001b[0m\u001b[0m\n\u001b[1;32m    149\u001b[0m     \u001b[0;32mtry\u001b[0m\u001b[0;34m:\u001b[0m\u001b[0;34m\u001b[0m\u001b[0;34m\u001b[0m\u001b[0m\n\u001b[0;32m--> 150\u001b[0;31m       \u001b[0;32mreturn\u001b[0m \u001b[0mfn\u001b[0m\u001b[0;34m(\u001b[0m\u001b[0;34m*\u001b[0m\u001b[0margs\u001b[0m\u001b[0;34m,\u001b[0m \u001b[0;34m**\u001b[0m\u001b[0mkwargs\u001b[0m\u001b[0;34m)\u001b[0m\u001b[0;34m\u001b[0m\u001b[0;34m\u001b[0m\u001b[0m\n\u001b[0m\u001b[1;32m    151\u001b[0m     \u001b[0;32mexcept\u001b[0m \u001b[0mException\u001b[0m \u001b[0;32mas\u001b[0m \u001b[0me\u001b[0m\u001b[0;34m:\u001b[0m\u001b[0;34m\u001b[0m\u001b[0;34m\u001b[0m\u001b[0m\n\u001b[1;32m    152\u001b[0m       \u001b[0mfiltered_tb\u001b[0m \u001b[0;34m=\u001b[0m \u001b[0m_process_traceback_frames\u001b[0m\u001b[0;34m(\u001b[0m\u001b[0me\u001b[0m\u001b[0;34m.\u001b[0m\u001b[0m__traceback__\u001b[0m\u001b[0;34m)\u001b[0m\u001b[0;34m\u001b[0m\u001b[0;34m\u001b[0m\u001b[0m\n",
            "\u001b[0;32m/usr/local/lib/python3.10/dist-packages/tensorflow/python/eager/polymorphic_function/polymorphic_function.py\u001b[0m in \u001b[0;36m__call__\u001b[0;34m(self, *args, **kwds)\u001b[0m\n\u001b[1;32m    831\u001b[0m \u001b[0;34m\u001b[0m\u001b[0m\n\u001b[1;32m    832\u001b[0m       \u001b[0;32mwith\u001b[0m \u001b[0mOptionalXlaContext\u001b[0m\u001b[0;34m(\u001b[0m\u001b[0mself\u001b[0m\u001b[0;34m.\u001b[0m\u001b[0m_jit_compile\u001b[0m\u001b[0;34m)\u001b[0m\u001b[0;34m:\u001b[0m\u001b[0;34m\u001b[0m\u001b[0;34m\u001b[0m\u001b[0m\n\u001b[0;32m--> 833\u001b[0;31m         \u001b[0mresult\u001b[0m \u001b[0;34m=\u001b[0m \u001b[0mself\u001b[0m\u001b[0;34m.\u001b[0m\u001b[0m_call\u001b[0m\u001b[0;34m(\u001b[0m\u001b[0;34m*\u001b[0m\u001b[0margs\u001b[0m\u001b[0;34m,\u001b[0m \u001b[0;34m**\u001b[0m\u001b[0mkwds\u001b[0m\u001b[0;34m)\u001b[0m\u001b[0;34m\u001b[0m\u001b[0;34m\u001b[0m\u001b[0m\n\u001b[0m\u001b[1;32m    834\u001b[0m \u001b[0;34m\u001b[0m\u001b[0m\n\u001b[1;32m    835\u001b[0m       \u001b[0mnew_tracing_count\u001b[0m \u001b[0;34m=\u001b[0m \u001b[0mself\u001b[0m\u001b[0;34m.\u001b[0m\u001b[0mexperimental_get_tracing_count\u001b[0m\u001b[0;34m(\u001b[0m\u001b[0;34m)\u001b[0m\u001b[0;34m\u001b[0m\u001b[0;34m\u001b[0m\u001b[0m\n",
            "\u001b[0;32m/usr/local/lib/python3.10/dist-packages/tensorflow/python/eager/polymorphic_function/polymorphic_function.py\u001b[0m in \u001b[0;36m_call\u001b[0;34m(self, *args, **kwds)\u001b[0m\n\u001b[1;32m    876\u001b[0m       \u001b[0;31m# In this case we have not created variables on the first call. So we can\u001b[0m\u001b[0;34m\u001b[0m\u001b[0;34m\u001b[0m\u001b[0m\n\u001b[1;32m    877\u001b[0m       \u001b[0;31m# run the first trace but we should fail if variables are created.\u001b[0m\u001b[0;34m\u001b[0m\u001b[0;34m\u001b[0m\u001b[0m\n\u001b[0;32m--> 878\u001b[0;31m       results = tracing_compilation.call_function(\n\u001b[0m\u001b[1;32m    879\u001b[0m           \u001b[0margs\u001b[0m\u001b[0;34m,\u001b[0m \u001b[0mkwds\u001b[0m\u001b[0;34m,\u001b[0m \u001b[0mself\u001b[0m\u001b[0;34m.\u001b[0m\u001b[0m_variable_creation_config\u001b[0m\u001b[0;34m\u001b[0m\u001b[0;34m\u001b[0m\u001b[0m\n\u001b[1;32m    880\u001b[0m       )\n",
            "\u001b[0;32m/usr/local/lib/python3.10/dist-packages/tensorflow/python/eager/polymorphic_function/tracing_compilation.py\u001b[0m in \u001b[0;36mcall_function\u001b[0;34m(args, kwargs, tracing_options)\u001b[0m\n\u001b[1;32m    137\u001b[0m   \u001b[0mbound_args\u001b[0m \u001b[0;34m=\u001b[0m \u001b[0mfunction\u001b[0m\u001b[0;34m.\u001b[0m\u001b[0mfunction_type\u001b[0m\u001b[0;34m.\u001b[0m\u001b[0mbind\u001b[0m\u001b[0;34m(\u001b[0m\u001b[0;34m*\u001b[0m\u001b[0margs\u001b[0m\u001b[0;34m,\u001b[0m \u001b[0;34m**\u001b[0m\u001b[0mkwargs\u001b[0m\u001b[0;34m)\u001b[0m\u001b[0;34m\u001b[0m\u001b[0;34m\u001b[0m\u001b[0m\n\u001b[1;32m    138\u001b[0m   \u001b[0mflat_inputs\u001b[0m \u001b[0;34m=\u001b[0m \u001b[0mfunction\u001b[0m\u001b[0;34m.\u001b[0m\u001b[0mfunction_type\u001b[0m\u001b[0;34m.\u001b[0m\u001b[0munpack_inputs\u001b[0m\u001b[0;34m(\u001b[0m\u001b[0mbound_args\u001b[0m\u001b[0;34m)\u001b[0m\u001b[0;34m\u001b[0m\u001b[0;34m\u001b[0m\u001b[0m\n\u001b[0;32m--> 139\u001b[0;31m   return function._call_flat(  # pylint: disable=protected-access\n\u001b[0m\u001b[1;32m    140\u001b[0m       \u001b[0mflat_inputs\u001b[0m\u001b[0;34m,\u001b[0m \u001b[0mcaptured_inputs\u001b[0m\u001b[0;34m=\u001b[0m\u001b[0mfunction\u001b[0m\u001b[0;34m.\u001b[0m\u001b[0mcaptured_inputs\u001b[0m\u001b[0;34m\u001b[0m\u001b[0;34m\u001b[0m\u001b[0m\n\u001b[1;32m    141\u001b[0m   )\n",
            "\u001b[0;32m/usr/local/lib/python3.10/dist-packages/tensorflow/python/eager/polymorphic_function/concrete_function.py\u001b[0m in \u001b[0;36m_call_flat\u001b[0;34m(self, tensor_inputs, captured_inputs)\u001b[0m\n\u001b[1;32m   1320\u001b[0m         and executing_eagerly):\n\u001b[1;32m   1321\u001b[0m       \u001b[0;31m# No tape is watching; skip to running the function.\u001b[0m\u001b[0;34m\u001b[0m\u001b[0;34m\u001b[0m\u001b[0m\n\u001b[0;32m-> 1322\u001b[0;31m       \u001b[0;32mreturn\u001b[0m \u001b[0mself\u001b[0m\u001b[0;34m.\u001b[0m\u001b[0m_inference_function\u001b[0m\u001b[0;34m.\u001b[0m\u001b[0mcall_preflattened\u001b[0m\u001b[0;34m(\u001b[0m\u001b[0margs\u001b[0m\u001b[0;34m)\u001b[0m\u001b[0;34m\u001b[0m\u001b[0;34m\u001b[0m\u001b[0m\n\u001b[0m\u001b[1;32m   1323\u001b[0m     forward_backward = self._select_forward_and_backward_functions(\n\u001b[1;32m   1324\u001b[0m         \u001b[0margs\u001b[0m\u001b[0;34m,\u001b[0m\u001b[0;34m\u001b[0m\u001b[0;34m\u001b[0m\u001b[0m\n",
            "\u001b[0;32m/usr/local/lib/python3.10/dist-packages/tensorflow/python/eager/polymorphic_function/atomic_function.py\u001b[0m in \u001b[0;36mcall_preflattened\u001b[0;34m(self, args)\u001b[0m\n\u001b[1;32m    214\u001b[0m   \u001b[0;32mdef\u001b[0m \u001b[0mcall_preflattened\u001b[0m\u001b[0;34m(\u001b[0m\u001b[0mself\u001b[0m\u001b[0;34m,\u001b[0m \u001b[0margs\u001b[0m\u001b[0;34m:\u001b[0m \u001b[0mSequence\u001b[0m\u001b[0;34m[\u001b[0m\u001b[0mcore\u001b[0m\u001b[0;34m.\u001b[0m\u001b[0mTensor\u001b[0m\u001b[0;34m]\u001b[0m\u001b[0;34m)\u001b[0m \u001b[0;34m->\u001b[0m \u001b[0mAny\u001b[0m\u001b[0;34m:\u001b[0m\u001b[0;34m\u001b[0m\u001b[0;34m\u001b[0m\u001b[0m\n\u001b[1;32m    215\u001b[0m     \u001b[0;34m\"\"\"Calls with flattened tensor inputs and returns the structured output.\"\"\"\u001b[0m\u001b[0;34m\u001b[0m\u001b[0;34m\u001b[0m\u001b[0m\n\u001b[0;32m--> 216\u001b[0;31m     \u001b[0mflat_outputs\u001b[0m \u001b[0;34m=\u001b[0m \u001b[0mself\u001b[0m\u001b[0;34m.\u001b[0m\u001b[0mcall_flat\u001b[0m\u001b[0;34m(\u001b[0m\u001b[0;34m*\u001b[0m\u001b[0margs\u001b[0m\u001b[0;34m)\u001b[0m\u001b[0;34m\u001b[0m\u001b[0;34m\u001b[0m\u001b[0m\n\u001b[0m\u001b[1;32m    217\u001b[0m     \u001b[0;32mreturn\u001b[0m \u001b[0mself\u001b[0m\u001b[0;34m.\u001b[0m\u001b[0mfunction_type\u001b[0m\u001b[0;34m.\u001b[0m\u001b[0mpack_output\u001b[0m\u001b[0;34m(\u001b[0m\u001b[0mflat_outputs\u001b[0m\u001b[0;34m)\u001b[0m\u001b[0;34m\u001b[0m\u001b[0;34m\u001b[0m\u001b[0m\n\u001b[1;32m    218\u001b[0m \u001b[0;34m\u001b[0m\u001b[0m\n",
            "\u001b[0;32m/usr/local/lib/python3.10/dist-packages/tensorflow/python/eager/polymorphic_function/atomic_function.py\u001b[0m in \u001b[0;36mcall_flat\u001b[0;34m(self, *args)\u001b[0m\n\u001b[1;32m    249\u001b[0m         \u001b[0;32mwith\u001b[0m \u001b[0mrecord\u001b[0m\u001b[0;34m.\u001b[0m\u001b[0mstop_recording\u001b[0m\u001b[0;34m(\u001b[0m\u001b[0;34m)\u001b[0m\u001b[0;34m:\u001b[0m\u001b[0;34m\u001b[0m\u001b[0;34m\u001b[0m\u001b[0m\n\u001b[1;32m    250\u001b[0m           \u001b[0;32mif\u001b[0m \u001b[0mself\u001b[0m\u001b[0;34m.\u001b[0m\u001b[0m_bound_context\u001b[0m\u001b[0;34m.\u001b[0m\u001b[0mexecuting_eagerly\u001b[0m\u001b[0;34m(\u001b[0m\u001b[0;34m)\u001b[0m\u001b[0;34m:\u001b[0m\u001b[0;34m\u001b[0m\u001b[0;34m\u001b[0m\u001b[0m\n\u001b[0;32m--> 251\u001b[0;31m             outputs = self._bound_context.call_function(\n\u001b[0m\u001b[1;32m    252\u001b[0m                 \u001b[0mself\u001b[0m\u001b[0;34m.\u001b[0m\u001b[0mname\u001b[0m\u001b[0;34m,\u001b[0m\u001b[0;34m\u001b[0m\u001b[0;34m\u001b[0m\u001b[0m\n\u001b[1;32m    253\u001b[0m                 \u001b[0mlist\u001b[0m\u001b[0;34m(\u001b[0m\u001b[0margs\u001b[0m\u001b[0;34m)\u001b[0m\u001b[0;34m,\u001b[0m\u001b[0;34m\u001b[0m\u001b[0;34m\u001b[0m\u001b[0m\n",
            "\u001b[0;32m/usr/local/lib/python3.10/dist-packages/tensorflow/python/eager/context.py\u001b[0m in \u001b[0;36mcall_function\u001b[0;34m(self, name, tensor_inputs, num_outputs)\u001b[0m\n\u001b[1;32m   1550\u001b[0m     \u001b[0mcancellation_context\u001b[0m \u001b[0;34m=\u001b[0m \u001b[0mcancellation\u001b[0m\u001b[0;34m.\u001b[0m\u001b[0mcontext\u001b[0m\u001b[0;34m(\u001b[0m\u001b[0;34m)\u001b[0m\u001b[0;34m\u001b[0m\u001b[0;34m\u001b[0m\u001b[0m\n\u001b[1;32m   1551\u001b[0m     \u001b[0;32mif\u001b[0m \u001b[0mcancellation_context\u001b[0m \u001b[0;32mis\u001b[0m \u001b[0;32mNone\u001b[0m\u001b[0;34m:\u001b[0m\u001b[0;34m\u001b[0m\u001b[0;34m\u001b[0m\u001b[0m\n\u001b[0;32m-> 1552\u001b[0;31m       outputs = execute.execute(\n\u001b[0m\u001b[1;32m   1553\u001b[0m           \u001b[0mname\u001b[0m\u001b[0;34m.\u001b[0m\u001b[0mdecode\u001b[0m\u001b[0;34m(\u001b[0m\u001b[0;34m\"utf-8\"\u001b[0m\u001b[0;34m)\u001b[0m\u001b[0;34m,\u001b[0m\u001b[0;34m\u001b[0m\u001b[0;34m\u001b[0m\u001b[0m\n\u001b[1;32m   1554\u001b[0m           \u001b[0mnum_outputs\u001b[0m\u001b[0;34m=\u001b[0m\u001b[0mnum_outputs\u001b[0m\u001b[0;34m,\u001b[0m\u001b[0;34m\u001b[0m\u001b[0;34m\u001b[0m\u001b[0m\n",
            "\u001b[0;32m/usr/local/lib/python3.10/dist-packages/tensorflow/python/eager/execute.py\u001b[0m in \u001b[0;36mquick_execute\u001b[0;34m(op_name, num_outputs, inputs, attrs, ctx, name)\u001b[0m\n\u001b[1;32m     51\u001b[0m   \u001b[0;32mtry\u001b[0m\u001b[0;34m:\u001b[0m\u001b[0;34m\u001b[0m\u001b[0;34m\u001b[0m\u001b[0m\n\u001b[1;32m     52\u001b[0m     \u001b[0mctx\u001b[0m\u001b[0;34m.\u001b[0m\u001b[0mensure_initialized\u001b[0m\u001b[0;34m(\u001b[0m\u001b[0;34m)\u001b[0m\u001b[0;34m\u001b[0m\u001b[0;34m\u001b[0m\u001b[0m\n\u001b[0;32m---> 53\u001b[0;31m     tensors = pywrap_tfe.TFE_Py_Execute(ctx._handle, device_name, op_name,\n\u001b[0m\u001b[1;32m     54\u001b[0m                                         inputs, attrs, num_outputs)\n\u001b[1;32m     55\u001b[0m   \u001b[0;32mexcept\u001b[0m \u001b[0mcore\u001b[0m\u001b[0;34m.\u001b[0m\u001b[0m_NotOkStatusException\u001b[0m \u001b[0;32mas\u001b[0m \u001b[0me\u001b[0m\u001b[0;34m:\u001b[0m\u001b[0;34m\u001b[0m\u001b[0;34m\u001b[0m\u001b[0m\n",
            "\u001b[0;31mKeyboardInterrupt\u001b[0m: "
          ]
        }
      ],
      "source": [
        "Mobilenet_model.compile(optimizer=tf.keras.optimizers.Adam(learning_rate=1e-5), loss='mse', metrics=['accuracy'])\n",
        "history = Mobilenet_model.fit(X_train_processed_Mobilenet, Y_train, validation_data=(X_valid_processed_Mobilenet, Y_valid), batch_size=32, epochs=100, shuffle=True, verbose=1,callbacks=[early_stopping_Nasnet])"
      ]
    },
    {
      "cell_type": "code",
      "execution_count": null,
      "metadata": {
        "id": "yfp_OhplWuqa"
      },
      "outputs": [],
      "source": [
        "# defining category\n",
        "\n",
        "def age_to_class(age):\n",
        "    age = int(age)\n",
        "    if 0 <= age <= 2:\n",
        "        return 0\n",
        "    elif 3 <= age <= 9:\n",
        "        return 1\n",
        "    elif 10 <= age <= 20:\n",
        "        return 2\n",
        "    elif 21 <= age <= 27:\n",
        "        return 3\n",
        "    elif 28 <= age <= 45:\n",
        "        return 4\n",
        "    elif 46 <= age <= 65:\n",
        "        return 5\n",
        "    else:\n",
        "      return 6"
      ]
    },
    {
      "cell_type": "code",
      "execution_count": null,
      "metadata": {
        "colab": {
          "base_uri": "https://localhost:8080/"
        },
        "id": "YK6T-b8Bj_OV",
        "outputId": "870870d7-552d-4eaa-a9de-341d8c413082"
      },
      "outputs": [
        {
          "name": "stdout",
          "output_type": "stream",
          "text": [
            "Y_train class distribution:\n",
            "class\n",
            "0.0    1882\n",
            "1.0    1634\n",
            "2.0    1849\n",
            "3.0    4111\n",
            "4.0    5620\n",
            "5.0    3315\n",
            "6.0    1589\n",
            "Name: count, dtype: int64\n",
            "\n",
            "Y_valid class distribution:\n",
            "class\n",
            "0.0     82\n",
            "1.0     80\n",
            "2.0    100\n",
            "3.0    192\n",
            "4.0    299\n",
            "5.0    172\n",
            "6.0     75\n",
            "Name: count, dtype: int64\n"
          ]
        }
      ],
      "source": [
        "# Ensure Y_train and Y_valid are scaled correctly before applying the function\n",
        "Y_train = pd.DataFrame(Y_train2 * 100)\n",
        "Y_valid = pd.DataFrame(Y_valid2 * 100)\n",
        "\n",
        "# Initialize arrays for class labels\n",
        "Y_train_class = np.zeros(Y_train.shape[0])\n",
        "Y_valid_class = np.zeros(Y_valid.shape[0])\n",
        "\n",
        "# Loop over Y_train and apply age_to_class\n",
        "for i in range(Y_train.shape[0]):\n",
        "    age = Y_train.iloc[i, 0]  # Access the age value in the first column\n",
        "    Y_train_class[i] = age_to_class(age)\n",
        "\n",
        "# Loop over Y_valid and apply age_to_class\n",
        "for i in range(Y_valid.shape[0]):\n",
        "    age = Y_valid.iloc[i, 0]  # Access the age value in the first column\n",
        "    Y_valid_class[i] = age_to_class(age)\n",
        "\n",
        "Y_train = pd.DataFrame(Y_train / 100)\n",
        "Y_valid = pd.DataFrame(Y_valid / 100)\n",
        "\n",
        "\n",
        "# Convert the class arrays to DataFrames for easy counting and analysis\n",
        "Y_train_class_df = pd.DataFrame(Y_train_class, columns=['class'])\n",
        "Y_valid_class_df = pd.DataFrame(Y_valid_class, columns=['class'])\n",
        "\n",
        "Y_train_class_np = np.array(Y_train_class)\n",
        "Y_valid_class_np = np.array(Y_valid_class)\n",
        "\n",
        "# Get and print the counts of each class\n",
        "print(\"Y_train class distribution:\")\n",
        "print(Y_train_class_df['class'].value_counts().sort_index())\n",
        "\n",
        "print(\"\\nY_valid class distribution:\")\n",
        "print(Y_valid_class_df['class'].value_counts().sort_index())\n",
        "\n",
        "num_classes = len(np.unique(Y_train_class_np))\n",
        "\n",
        "# Convert class labels to one-hot encoding\n",
        "Y_train_class_np_onehot = tf.keras.utils.to_categorical(Y_train_class_np, num_classes=7)\n",
        "Y_valid_class_np_onehot = tf.keras.utils.to_categorical(Y_valid_class_np, num_classes=7)"
      ]
    },
    {
      "cell_type": "code",
      "execution_count": null,
      "metadata": {
        "colab": {
          "base_uri": "https://localhost:8080/"
        },
        "id": "jbpM4NO6rZ8O",
        "outputId": "aeeb5496-3164-47e9-f8dd-96e7e189c837"
      },
      "outputs": [
        {
          "data": {
            "text/plain": [
              "array([2., 2., 9., 7., 2., 1., 2., 0., 0., 0., 2., 5., 2., 2., 0., 4., 0.,\n",
              "       5., 4., 2.])"
            ]
          },
          "execution_count": 51,
          "metadata": {},
          "output_type": "execute_result"
        }
      ],
      "source": [
        "Y_valid_class_np[:20]"
      ]
    },
    {
      "cell_type": "code",
      "execution_count": null,
      "metadata": {
        "id": "LVj0eYWU7D6T"
      },
      "outputs": [],
      "source": [
        "import matplotlib.pyplot as plt\n",
        "\n",
        "def plot_training_history(history):\n",
        "    \"\"\"\n",
        "    Plots training and validation metrics from the Keras History object.\n",
        "\n",
        "    Parameters:\n",
        "    - history: Keras History object returned by model.fit()\n",
        "    \"\"\"\n",
        "    # Extract metric names from history\n",
        "    metrics = list(history.history.keys())\n",
        "\n",
        "    # Identify training and validation metrics\n",
        "    train_metrics = [m for m in metrics if not m.startswith('val_')]\n",
        "    val_metrics = [m for m in metrics if m.startswith('val_')]\n",
        "\n",
        "    # Number of metrics to plot\n",
        "    num_metrics = len(train_metrics)\n",
        "\n",
        "    # Set up the matplotlib figure\n",
        "    plt.figure(figsize=(6 * num_metrics, 5))\n",
        "\n",
        "    for i, metric in enumerate(train_metrics):\n",
        "        plt.subplot(1, num_metrics, i + 1)\n",
        "        plt.plot(history.history[metric], label=f'Training {metric.capitalize()}')\n",
        "\n",
        "        # Check if validation metric exists\n",
        "        val_metric = f'val_{metric}'\n",
        "        if val_metric in history.history:\n",
        "            plt.plot(history.history[val_metric], label=f'Validation {metric.capitalize()}')\n",
        "        plt.title(f'{metric.capitalize()} over Epochs')\n",
        "        plt.xlabel('Epoch')\n",
        "        plt.ylabel(metric.capitalize())\n",
        "        plt.legend()\n",
        "        plt.grid(True)\n",
        "\n",
        "    plt.tight_layout()\n",
        "    plt.show()\n",
        "\n",
        "def plot_loss_mae(history):\n",
        "    \"\"\"\n",
        "    Plots training and validation MAE from the Keras history object.\n",
        "\n",
        "    Parameters:\n",
        "    - history: Keras History object from model.fit()\n",
        "    \"\"\"\n",
        "    plt.figure(figsize=(10, 6))\n",
        "\n",
        "    # Plot MAE for training and validation\n",
        "    plt.plot(history.history['val_accuracy'], label='Training accuracy')\n",
        "    if 'val_accuracy' in history.history:\n",
        "        plt.plot(history.history['val_accuracy'], label='Validation accuracy')\n",
        "\n",
        "    plt.title('Model Mean Absolute Error (MAE)')\n",
        "    plt.xlabel('Epoch')\n",
        "    plt.ylabel('accuracy')\n",
        "    plt.legend()\n",
        "    plt.grid(True)\n",
        "    plt.show()\n",
        "\n",
        "# Example usage:\n",
        "#plot_loss_mae(history)\n",
        "plot_training_history(history)\n",
        "\n",
        "learning_rate = Nasnet_model.optimizer.learning_rate.numpy()\n",
        "print(\"Current learning rate:\", learning_rate)"
      ]
    },
    {
      "cell_type": "code",
      "execution_count": null,
      "metadata": {
        "colab": {
          "base_uri": "https://localhost:8080/"
        },
        "id": "47BO8UqglICN",
        "outputId": "c2b31d95-99b9-43a7-af64-1c9149554a95"
      },
      "outputs": [
        {
          "name": "stdout",
          "output_type": "stream",
          "text": [
            "Num GPUs Available:  1\n"
          ]
        }
      ],
      "source": [
        "# Early stopping callback\n",
        "early_stopping_Nasnet = tf.keras.callbacks.EarlyStopping(monitor='val_loss', mode='min', verbose=1, patience=6)\n",
        "\n",
        "# Load NASNetMobile with pre-trained ImageNet weights, excluding the top layer\n",
        "base_model = tf.keras.applications.NASNetMobile(input_shape=(224, 224, 3), weights='imagenet', include_top=False)\n",
        "preprocess_input_Nasnet = tf.keras.applications.nasnet.preprocess_input\n",
        "\n",
        "# Set trainable layers\n",
        "base_model.trainable = False\n",
        "for layer in base_model.layers[-5:]:\n",
        "    layer.trainable = True\n",
        "\n",
        "# Adding custom layers\n",
        "x = tf.keras.layers.GlobalAveragePooling2D()(base_model.output)\n",
        "#x = tf.keras.layers.Dropout(0.5)(x)  # Dropout with 50% probability\n",
        "x = tf.keras.layers.Dense(1024, activation='relu')(x)\n",
        "x = tf.keras.layers.Dropout(0.5)(x)  # Dropout with 50% probability\n",
        "output = tf.keras.layers.Dense(10, activation='softmax')(x)  # Sigmoid for binary classification\n",
        "\n",
        "# Create the new model with NASNetMobile as the base\n",
        "Nasnet_model = tf.keras.models.Model(inputs=base_model.input, outputs=output)\n",
        "\n",
        "\n",
        "\n",
        "# Preprocess the data\n",
        "X_train_processed_Nasnet = preprocess_input_Nasnet(np.copy(X_train2))\n",
        "X_valid_processed_Nasnet = preprocess_input_Nasnet(np.copy(X_valid2))\n",
        "\n",
        "print(\"Num GPUs Available: \", len(tf.config.list_physical_devices('GPU')))"
      ]
    },
    {
      "cell_type": "code",
      "execution_count": null,
      "metadata": {
        "colab": {
          "base_uri": "https://localhost:8080/",
          "height": 1000
        },
        "id": "YhS8H8DflUSh",
        "outputId": "c27c01a9-fd3f-4215-ccd7-fbc185a14cf9"
      },
      "outputs": [
        {
          "name": "stdout",
          "output_type": "stream",
          "text": [
            "Epoch 1/100\n",
            "\u001b[1m625/625\u001b[0m \u001b[32m━━━━━━━━━━━━━━━━━━━━\u001b[0m\u001b[37m\u001b[0m \u001b[1m66s\u001b[0m 59ms/step - accuracy: 0.2479 - loss: 1.8870 - val_accuracy: 0.4060 - val_loss: 1.5163\n",
            "Epoch 2/100\n",
            "\u001b[1m625/625\u001b[0m \u001b[32m━━━━━━━━━━━━━━━━━━━━\u001b[0m\u001b[37m\u001b[0m \u001b[1m16s\u001b[0m 26ms/step - accuracy: 0.3591 - loss: 1.5877 - val_accuracy: 0.4430 - val_loss: 1.4155\n",
            "Epoch 3/100\n",
            "\u001b[1m625/625\u001b[0m \u001b[32m━━━━━━━━━━━━━━━━━━━━\u001b[0m\u001b[37m\u001b[0m \u001b[1m16s\u001b[0m 26ms/step - accuracy: 0.3869 - loss: 1.4966 - val_accuracy: 0.4550 - val_loss: 1.3587\n",
            "Epoch 4/100\n",
            "\u001b[1m625/625\u001b[0m \u001b[32m━━━━━━━━━━━━━━━━━━━━\u001b[0m\u001b[37m\u001b[0m \u001b[1m16s\u001b[0m 25ms/step - accuracy: 0.4291 - loss: 1.4089 - val_accuracy: 0.4750 - val_loss: 1.3245\n",
            "Epoch 5/100\n",
            "\u001b[1m625/625\u001b[0m \u001b[32m━━━━━━━━━━━━━━━━━━━━\u001b[0m\u001b[37m\u001b[0m \u001b[1m16s\u001b[0m 26ms/step - accuracy: 0.4355 - loss: 1.3721 - val_accuracy: 0.4930 - val_loss: 1.2984\n",
            "Epoch 6/100\n",
            "\u001b[1m625/625\u001b[0m \u001b[32m━━━━━━━━━━━━━━━━━━━━\u001b[0m\u001b[37m\u001b[0m \u001b[1m16s\u001b[0m 26ms/step - accuracy: 0.4517 - loss: 1.3339 - val_accuracy: 0.4950 - val_loss: 1.2781\n",
            "Epoch 7/100\n",
            "\u001b[1m625/625\u001b[0m \u001b[32m━━━━━━━━━━━━━━━━━━━━\u001b[0m\u001b[37m\u001b[0m \u001b[1m16s\u001b[0m 26ms/step - accuracy: 0.4569 - loss: 1.3158 - val_accuracy: 0.4820 - val_loss: 1.2689\n",
            "Epoch 8/100\n",
            "\u001b[1m625/625\u001b[0m \u001b[32m━━━━━━━━━━━━━━━━━━━━\u001b[0m\u001b[37m\u001b[0m \u001b[1m16s\u001b[0m 25ms/step - accuracy: 0.4715 - loss: 1.2897 - val_accuracy: 0.4910 - val_loss: 1.2518\n",
            "Epoch 9/100\n",
            "\u001b[1m625/625\u001b[0m \u001b[32m━━━━━━━━━━━━━━━━━━━━\u001b[0m\u001b[37m\u001b[0m \u001b[1m16s\u001b[0m 26ms/step - accuracy: 0.4762 - loss: 1.2741 - val_accuracy: 0.5030 - val_loss: 1.2415\n",
            "Epoch 10/100\n",
            "\u001b[1m625/625\u001b[0m \u001b[32m━━━━━━━━━━━━━━━━━━━━\u001b[0m\u001b[37m\u001b[0m \u001b[1m16s\u001b[0m 26ms/step - accuracy: 0.4842 - loss: 1.2556 - val_accuracy: 0.5090 - val_loss: 1.2327\n",
            "Epoch 11/100\n",
            "\u001b[1m625/625\u001b[0m \u001b[32m━━━━━━━━━━━━━━━━━━━━\u001b[0m\u001b[37m\u001b[0m \u001b[1m16s\u001b[0m 25ms/step - accuracy: 0.4878 - loss: 1.2460 - val_accuracy: 0.4930 - val_loss: 1.2280\n",
            "Epoch 12/100\n",
            "\u001b[1m625/625\u001b[0m \u001b[32m━━━━━━━━━━━━━━━━━━━━\u001b[0m\u001b[37m\u001b[0m \u001b[1m16s\u001b[0m 25ms/step - accuracy: 0.4923 - loss: 1.2284 - val_accuracy: 0.5070 - val_loss: 1.2194\n",
            "Epoch 13/100\n",
            "\u001b[1m625/625\u001b[0m \u001b[32m━━━━━━━━━━━━━━━━━━━━\u001b[0m\u001b[37m\u001b[0m \u001b[1m16s\u001b[0m 26ms/step - accuracy: 0.5012 - loss: 1.2249 - val_accuracy: 0.5050 - val_loss: 1.2133\n",
            "Epoch 14/100\n",
            "\u001b[1m625/625\u001b[0m \u001b[32m━━━━━━━━━━━━━━━━━━━━\u001b[0m\u001b[37m\u001b[0m \u001b[1m16s\u001b[0m 25ms/step - accuracy: 0.5125 - loss: 1.2080 - val_accuracy: 0.5130 - val_loss: 1.2095\n",
            "Epoch 15/100\n",
            "\u001b[1m625/625\u001b[0m \u001b[32m━━━━━━━━━━━━━━━━━━━━\u001b[0m\u001b[37m\u001b[0m \u001b[1m16s\u001b[0m 26ms/step - accuracy: 0.5099 - loss: 1.2063 - val_accuracy: 0.5080 - val_loss: 1.2038\n",
            "Epoch 16/100\n",
            "\u001b[1m625/625\u001b[0m \u001b[32m━━━━━━━━━━━━━━━━━━━━\u001b[0m\u001b[37m\u001b[0m \u001b[1m16s\u001b[0m 25ms/step - accuracy: 0.5182 - loss: 1.1985 - val_accuracy: 0.5170 - val_loss: 1.1990\n",
            "Epoch 17/100\n",
            "\u001b[1m625/625\u001b[0m \u001b[32m━━━━━━━━━━━━━━━━━━━━\u001b[0m\u001b[37m\u001b[0m \u001b[1m16s\u001b[0m 25ms/step - accuracy: 0.5133 - loss: 1.1828 - val_accuracy: 0.5140 - val_loss: 1.1958\n",
            "Epoch 18/100\n",
            "\u001b[1m625/625\u001b[0m \u001b[32m━━━━━━━━━━━━━━━━━━━━\u001b[0m\u001b[37m\u001b[0m \u001b[1m16s\u001b[0m 25ms/step - accuracy: 0.5152 - loss: 1.1859 - val_accuracy: 0.5190 - val_loss: 1.1899\n",
            "Epoch 19/100\n",
            "\u001b[1m625/625\u001b[0m \u001b[32m━━━━━━━━━━━━━━━━━━━━\u001b[0m\u001b[37m\u001b[0m \u001b[1m16s\u001b[0m 25ms/step - accuracy: 0.5224 - loss: 1.1691 - val_accuracy: 0.5200 - val_loss: 1.1883\n",
            "Epoch 20/100\n",
            "\u001b[1m625/625\u001b[0m \u001b[32m━━━━━━━━━━━━━━━━━━━━\u001b[0m\u001b[37m\u001b[0m \u001b[1m16s\u001b[0m 25ms/step - accuracy: 0.5215 - loss: 1.1670 - val_accuracy: 0.5220 - val_loss: 1.1835\n",
            "Epoch 21/100\n",
            "\u001b[1m625/625\u001b[0m \u001b[32m━━━━━━━━━━━━━━━━━━━━\u001b[0m\u001b[37m\u001b[0m \u001b[1m16s\u001b[0m 25ms/step - accuracy: 0.5237 - loss: 1.1634 - val_accuracy: 0.5130 - val_loss: 1.1840\n",
            "Epoch 22/100\n",
            "\u001b[1m625/625\u001b[0m \u001b[32m━━━━━━━━━━━━━━━━━━━━\u001b[0m\u001b[37m\u001b[0m \u001b[1m16s\u001b[0m 26ms/step - accuracy: 0.5226 - loss: 1.1628 - val_accuracy: 0.5180 - val_loss: 1.1792\n",
            "Epoch 23/100\n",
            "\u001b[1m625/625\u001b[0m \u001b[32m━━━━━━━━━━━━━━━━━━━━\u001b[0m\u001b[37m\u001b[0m \u001b[1m16s\u001b[0m 25ms/step - accuracy: 0.5293 - loss: 1.1640 - val_accuracy: 0.5130 - val_loss: 1.1772\n",
            "Epoch 24/100\n",
            "\u001b[1m625/625\u001b[0m \u001b[32m━━━━━━━━━━━━━━━━━━━━\u001b[0m\u001b[37m\u001b[0m \u001b[1m16s\u001b[0m 26ms/step - accuracy: 0.5368 - loss: 1.1367 - val_accuracy: 0.5200 - val_loss: 1.1733\n",
            "Epoch 25/100\n",
            "\u001b[1m625/625\u001b[0m \u001b[32m━━━━━━━━━━━━━━━━━━━━\u001b[0m\u001b[37m\u001b[0m \u001b[1m16s\u001b[0m 25ms/step - accuracy: 0.5377 - loss: 1.1437 - val_accuracy: 0.5230 - val_loss: 1.1708\n",
            "Epoch 26/100\n",
            "\u001b[1m625/625\u001b[0m \u001b[32m━━━━━━━━━━━━━━━━━━━━\u001b[0m\u001b[37m\u001b[0m \u001b[1m16s\u001b[0m 26ms/step - accuracy: 0.5438 - loss: 1.1291 - val_accuracy: 0.5180 - val_loss: 1.1719\n",
            "Epoch 27/100\n",
            "\u001b[1m625/625\u001b[0m \u001b[32m━━━━━━━━━━━━━━━━━━━━\u001b[0m\u001b[37m\u001b[0m \u001b[1m16s\u001b[0m 25ms/step - accuracy: 0.5392 - loss: 1.1334 - val_accuracy: 0.5170 - val_loss: 1.1702\n",
            "Epoch 28/100\n",
            "\u001b[1m625/625\u001b[0m \u001b[32m━━━━━━━━━━━━━━━━━━━━\u001b[0m\u001b[37m\u001b[0m \u001b[1m16s\u001b[0m 26ms/step - accuracy: 0.5480 - loss: 1.1216 - val_accuracy: 0.5190 - val_loss: 1.1646\n",
            "Epoch 29/100\n",
            "\u001b[1m625/625\u001b[0m \u001b[32m━━━━━━━━━━━━━━━━━━━━\u001b[0m\u001b[37m\u001b[0m \u001b[1m16s\u001b[0m 25ms/step - accuracy: 0.5469 - loss: 1.1310 - val_accuracy: 0.5190 - val_loss: 1.1647\n",
            "Epoch 30/100\n",
            "\u001b[1m220/625\u001b[0m \u001b[32m━━━━━━━\u001b[0m\u001b[37m━━━━━━━━━━━━━\u001b[0m \u001b[1m10s\u001b[0m 25ms/step - accuracy: 0.5551 - loss: 1.1006"
          ]
        },
        {
          "ename": "KeyboardInterrupt",
          "evalue": "",
          "output_type": "error",
          "traceback": [
            "\u001b[0;31m---------------------------------------------------------------------------\u001b[0m",
            "\u001b[0;31mKeyboardInterrupt\u001b[0m                         Traceback (most recent call last)",
            "\u001b[0;32m<ipython-input-18-5d50e37e4b13>\u001b[0m in \u001b[0;36m<cell line: 3>\u001b[0;34m()\u001b[0m\n\u001b[1;32m      1\u001b[0m \u001b[0;31m# Compile the model with crossentropy loss for binary classification\u001b[0m\u001b[0;34m\u001b[0m\u001b[0;34m\u001b[0m\u001b[0m\n\u001b[1;32m      2\u001b[0m \u001b[0mNasnet_model\u001b[0m\u001b[0;34m.\u001b[0m\u001b[0mcompile\u001b[0m\u001b[0;34m(\u001b[0m\u001b[0moptimizer\u001b[0m\u001b[0;34m=\u001b[0m\u001b[0mtf\u001b[0m\u001b[0;34m.\u001b[0m\u001b[0mkeras\u001b[0m\u001b[0;34m.\u001b[0m\u001b[0moptimizers\u001b[0m\u001b[0;34m.\u001b[0m\u001b[0mAdam\u001b[0m\u001b[0;34m(\u001b[0m\u001b[0mlearning_rate\u001b[0m\u001b[0;34m=\u001b[0m\u001b[0;36m1e-5\u001b[0m\u001b[0;34m)\u001b[0m\u001b[0;34m,\u001b[0m\u001b[0mloss\u001b[0m\u001b[0;34m=\u001b[0m\u001b[0;34m'categorical_crossentropy'\u001b[0m\u001b[0;34m,\u001b[0m \u001b[0mmetrics\u001b[0m\u001b[0;34m=\u001b[0m\u001b[0;34m[\u001b[0m\u001b[0;34m'accuracy'\u001b[0m\u001b[0;34m]\u001b[0m\u001b[0;34m)\u001b[0m\u001b[0;34m\u001b[0m\u001b[0;34m\u001b[0m\u001b[0m\n\u001b[0;32m----> 3\u001b[0;31m \u001b[0mhistory\u001b[0m \u001b[0;34m=\u001b[0m \u001b[0mNasnet_model\u001b[0m\u001b[0;34m.\u001b[0m\u001b[0mfit\u001b[0m\u001b[0;34m(\u001b[0m\u001b[0mX_train_processed_Nasnet\u001b[0m\u001b[0;34m,\u001b[0m \u001b[0mY_train_class_np_onehot\u001b[0m\u001b[0;34m,\u001b[0m \u001b[0mvalidation_data\u001b[0m\u001b[0;34m=\u001b[0m\u001b[0;34m(\u001b[0m\u001b[0mX_valid_processed_Nasnet\u001b[0m\u001b[0;34m,\u001b[0m \u001b[0mY_valid_class_np_onehot\u001b[0m\u001b[0;34m)\u001b[0m\u001b[0;34m,\u001b[0m \u001b[0mbatch_size\u001b[0m\u001b[0;34m=\u001b[0m\u001b[0;36m32\u001b[0m\u001b[0;34m,\u001b[0m \u001b[0mepochs\u001b[0m\u001b[0;34m=\u001b[0m\u001b[0;36m100\u001b[0m\u001b[0;34m,\u001b[0m \u001b[0mshuffle\u001b[0m\u001b[0;34m=\u001b[0m\u001b[0;32mTrue\u001b[0m\u001b[0;34m,\u001b[0m \u001b[0mverbose\u001b[0m\u001b[0;34m=\u001b[0m\u001b[0;36m1\u001b[0m\u001b[0;34m)\u001b[0m\u001b[0;34m\u001b[0m\u001b[0;34m\u001b[0m\u001b[0m\n\u001b[0m",
            "\u001b[0;32m/usr/local/lib/python3.10/dist-packages/keras/src/utils/traceback_utils.py\u001b[0m in \u001b[0;36merror_handler\u001b[0;34m(*args, **kwargs)\u001b[0m\n\u001b[1;32m    115\u001b[0m         \u001b[0mfiltered_tb\u001b[0m \u001b[0;34m=\u001b[0m \u001b[0;32mNone\u001b[0m\u001b[0;34m\u001b[0m\u001b[0;34m\u001b[0m\u001b[0m\n\u001b[1;32m    116\u001b[0m         \u001b[0;32mtry\u001b[0m\u001b[0;34m:\u001b[0m\u001b[0;34m\u001b[0m\u001b[0;34m\u001b[0m\u001b[0m\n\u001b[0;32m--> 117\u001b[0;31m             \u001b[0;32mreturn\u001b[0m \u001b[0mfn\u001b[0m\u001b[0;34m(\u001b[0m\u001b[0;34m*\u001b[0m\u001b[0margs\u001b[0m\u001b[0;34m,\u001b[0m \u001b[0;34m**\u001b[0m\u001b[0mkwargs\u001b[0m\u001b[0;34m)\u001b[0m\u001b[0;34m\u001b[0m\u001b[0;34m\u001b[0m\u001b[0m\n\u001b[0m\u001b[1;32m    118\u001b[0m         \u001b[0;32mexcept\u001b[0m \u001b[0mException\u001b[0m \u001b[0;32mas\u001b[0m \u001b[0me\u001b[0m\u001b[0;34m:\u001b[0m\u001b[0;34m\u001b[0m\u001b[0;34m\u001b[0m\u001b[0m\n\u001b[1;32m    119\u001b[0m             \u001b[0mfiltered_tb\u001b[0m \u001b[0;34m=\u001b[0m \u001b[0m_process_traceback_frames\u001b[0m\u001b[0;34m(\u001b[0m\u001b[0me\u001b[0m\u001b[0;34m.\u001b[0m\u001b[0m__traceback__\u001b[0m\u001b[0;34m)\u001b[0m\u001b[0;34m\u001b[0m\u001b[0;34m\u001b[0m\u001b[0m\n",
            "\u001b[0;32m/usr/local/lib/python3.10/dist-packages/keras/src/backend/tensorflow/trainer.py\u001b[0m in \u001b[0;36mfit\u001b[0;34m(self, x, y, batch_size, epochs, verbose, callbacks, validation_split, validation_data, shuffle, class_weight, sample_weight, initial_epoch, steps_per_epoch, validation_steps, validation_batch_size, validation_freq)\u001b[0m\n\u001b[1;32m    318\u001b[0m                 \u001b[0;32mfor\u001b[0m \u001b[0mstep\u001b[0m\u001b[0;34m,\u001b[0m \u001b[0miterator\u001b[0m \u001b[0;32min\u001b[0m \u001b[0mepoch_iterator\u001b[0m\u001b[0;34m.\u001b[0m\u001b[0menumerate_epoch\u001b[0m\u001b[0;34m(\u001b[0m\u001b[0;34m)\u001b[0m\u001b[0;34m:\u001b[0m\u001b[0;34m\u001b[0m\u001b[0;34m\u001b[0m\u001b[0m\n\u001b[1;32m    319\u001b[0m                     \u001b[0mcallbacks\u001b[0m\u001b[0;34m.\u001b[0m\u001b[0mon_train_batch_begin\u001b[0m\u001b[0;34m(\u001b[0m\u001b[0mstep\u001b[0m\u001b[0;34m)\u001b[0m\u001b[0;34m\u001b[0m\u001b[0;34m\u001b[0m\u001b[0m\n\u001b[0;32m--> 320\u001b[0;31m                     \u001b[0mlogs\u001b[0m \u001b[0;34m=\u001b[0m \u001b[0mself\u001b[0m\u001b[0;34m.\u001b[0m\u001b[0mtrain_function\u001b[0m\u001b[0;34m(\u001b[0m\u001b[0miterator\u001b[0m\u001b[0;34m)\u001b[0m\u001b[0;34m\u001b[0m\u001b[0;34m\u001b[0m\u001b[0m\n\u001b[0m\u001b[1;32m    321\u001b[0m                     \u001b[0mlogs\u001b[0m \u001b[0;34m=\u001b[0m \u001b[0mself\u001b[0m\u001b[0;34m.\u001b[0m\u001b[0m_pythonify_logs\u001b[0m\u001b[0;34m(\u001b[0m\u001b[0mlogs\u001b[0m\u001b[0;34m)\u001b[0m\u001b[0;34m\u001b[0m\u001b[0;34m\u001b[0m\u001b[0m\n\u001b[1;32m    322\u001b[0m                     \u001b[0mcallbacks\u001b[0m\u001b[0;34m.\u001b[0m\u001b[0mon_train_batch_end\u001b[0m\u001b[0;34m(\u001b[0m\u001b[0mstep\u001b[0m\u001b[0;34m,\u001b[0m \u001b[0mlogs\u001b[0m\u001b[0;34m)\u001b[0m\u001b[0;34m\u001b[0m\u001b[0;34m\u001b[0m\u001b[0m\n",
            "\u001b[0;32m/usr/local/lib/python3.10/dist-packages/tensorflow/python/util/traceback_utils.py\u001b[0m in \u001b[0;36merror_handler\u001b[0;34m(*args, **kwargs)\u001b[0m\n\u001b[1;32m    148\u001b[0m     \u001b[0mfiltered_tb\u001b[0m \u001b[0;34m=\u001b[0m \u001b[0;32mNone\u001b[0m\u001b[0;34m\u001b[0m\u001b[0;34m\u001b[0m\u001b[0m\n\u001b[1;32m    149\u001b[0m     \u001b[0;32mtry\u001b[0m\u001b[0;34m:\u001b[0m\u001b[0;34m\u001b[0m\u001b[0;34m\u001b[0m\u001b[0m\n\u001b[0;32m--> 150\u001b[0;31m       \u001b[0;32mreturn\u001b[0m \u001b[0mfn\u001b[0m\u001b[0;34m(\u001b[0m\u001b[0;34m*\u001b[0m\u001b[0margs\u001b[0m\u001b[0;34m,\u001b[0m \u001b[0;34m**\u001b[0m\u001b[0mkwargs\u001b[0m\u001b[0;34m)\u001b[0m\u001b[0;34m\u001b[0m\u001b[0;34m\u001b[0m\u001b[0m\n\u001b[0m\u001b[1;32m    151\u001b[0m     \u001b[0;32mexcept\u001b[0m \u001b[0mException\u001b[0m \u001b[0;32mas\u001b[0m \u001b[0me\u001b[0m\u001b[0;34m:\u001b[0m\u001b[0;34m\u001b[0m\u001b[0;34m\u001b[0m\u001b[0m\n\u001b[1;32m    152\u001b[0m       \u001b[0mfiltered_tb\u001b[0m \u001b[0;34m=\u001b[0m \u001b[0m_process_traceback_frames\u001b[0m\u001b[0;34m(\u001b[0m\u001b[0me\u001b[0m\u001b[0;34m.\u001b[0m\u001b[0m__traceback__\u001b[0m\u001b[0;34m)\u001b[0m\u001b[0;34m\u001b[0m\u001b[0;34m\u001b[0m\u001b[0m\n",
            "\u001b[0;32m/usr/local/lib/python3.10/dist-packages/tensorflow/python/eager/polymorphic_function/polymorphic_function.py\u001b[0m in \u001b[0;36m__call__\u001b[0;34m(self, *args, **kwds)\u001b[0m\n\u001b[1;32m    831\u001b[0m \u001b[0;34m\u001b[0m\u001b[0m\n\u001b[1;32m    832\u001b[0m       \u001b[0;32mwith\u001b[0m \u001b[0mOptionalXlaContext\u001b[0m\u001b[0;34m(\u001b[0m\u001b[0mself\u001b[0m\u001b[0;34m.\u001b[0m\u001b[0m_jit_compile\u001b[0m\u001b[0;34m)\u001b[0m\u001b[0;34m:\u001b[0m\u001b[0;34m\u001b[0m\u001b[0;34m\u001b[0m\u001b[0m\n\u001b[0;32m--> 833\u001b[0;31m         \u001b[0mresult\u001b[0m \u001b[0;34m=\u001b[0m \u001b[0mself\u001b[0m\u001b[0;34m.\u001b[0m\u001b[0m_call\u001b[0m\u001b[0;34m(\u001b[0m\u001b[0;34m*\u001b[0m\u001b[0margs\u001b[0m\u001b[0;34m,\u001b[0m \u001b[0;34m**\u001b[0m\u001b[0mkwds\u001b[0m\u001b[0;34m)\u001b[0m\u001b[0;34m\u001b[0m\u001b[0;34m\u001b[0m\u001b[0m\n\u001b[0m\u001b[1;32m    834\u001b[0m \u001b[0;34m\u001b[0m\u001b[0m\n\u001b[1;32m    835\u001b[0m       \u001b[0mnew_tracing_count\u001b[0m \u001b[0;34m=\u001b[0m \u001b[0mself\u001b[0m\u001b[0;34m.\u001b[0m\u001b[0mexperimental_get_tracing_count\u001b[0m\u001b[0;34m(\u001b[0m\u001b[0;34m)\u001b[0m\u001b[0;34m\u001b[0m\u001b[0;34m\u001b[0m\u001b[0m\n",
            "\u001b[0;32m/usr/local/lib/python3.10/dist-packages/tensorflow/python/eager/polymorphic_function/polymorphic_function.py\u001b[0m in \u001b[0;36m_call\u001b[0;34m(self, *args, **kwds)\u001b[0m\n\u001b[1;32m    876\u001b[0m       \u001b[0;31m# In this case we have not created variables on the first call. So we can\u001b[0m\u001b[0;34m\u001b[0m\u001b[0;34m\u001b[0m\u001b[0m\n\u001b[1;32m    877\u001b[0m       \u001b[0;31m# run the first trace but we should fail if variables are created.\u001b[0m\u001b[0;34m\u001b[0m\u001b[0;34m\u001b[0m\u001b[0m\n\u001b[0;32m--> 878\u001b[0;31m       results = tracing_compilation.call_function(\n\u001b[0m\u001b[1;32m    879\u001b[0m           \u001b[0margs\u001b[0m\u001b[0;34m,\u001b[0m \u001b[0mkwds\u001b[0m\u001b[0;34m,\u001b[0m \u001b[0mself\u001b[0m\u001b[0;34m.\u001b[0m\u001b[0m_variable_creation_config\u001b[0m\u001b[0;34m\u001b[0m\u001b[0;34m\u001b[0m\u001b[0m\n\u001b[1;32m    880\u001b[0m       )\n",
            "\u001b[0;32m/usr/local/lib/python3.10/dist-packages/tensorflow/python/eager/polymorphic_function/tracing_compilation.py\u001b[0m in \u001b[0;36mcall_function\u001b[0;34m(args, kwargs, tracing_options)\u001b[0m\n\u001b[1;32m    137\u001b[0m   \u001b[0mbound_args\u001b[0m \u001b[0;34m=\u001b[0m \u001b[0mfunction\u001b[0m\u001b[0;34m.\u001b[0m\u001b[0mfunction_type\u001b[0m\u001b[0;34m.\u001b[0m\u001b[0mbind\u001b[0m\u001b[0;34m(\u001b[0m\u001b[0;34m*\u001b[0m\u001b[0margs\u001b[0m\u001b[0;34m,\u001b[0m \u001b[0;34m**\u001b[0m\u001b[0mkwargs\u001b[0m\u001b[0;34m)\u001b[0m\u001b[0;34m\u001b[0m\u001b[0;34m\u001b[0m\u001b[0m\n\u001b[1;32m    138\u001b[0m   \u001b[0mflat_inputs\u001b[0m \u001b[0;34m=\u001b[0m \u001b[0mfunction\u001b[0m\u001b[0;34m.\u001b[0m\u001b[0mfunction_type\u001b[0m\u001b[0;34m.\u001b[0m\u001b[0munpack_inputs\u001b[0m\u001b[0;34m(\u001b[0m\u001b[0mbound_args\u001b[0m\u001b[0;34m)\u001b[0m\u001b[0;34m\u001b[0m\u001b[0;34m\u001b[0m\u001b[0m\n\u001b[0;32m--> 139\u001b[0;31m   return function._call_flat(  # pylint: disable=protected-access\n\u001b[0m\u001b[1;32m    140\u001b[0m       \u001b[0mflat_inputs\u001b[0m\u001b[0;34m,\u001b[0m \u001b[0mcaptured_inputs\u001b[0m\u001b[0;34m=\u001b[0m\u001b[0mfunction\u001b[0m\u001b[0;34m.\u001b[0m\u001b[0mcaptured_inputs\u001b[0m\u001b[0;34m\u001b[0m\u001b[0;34m\u001b[0m\u001b[0m\n\u001b[1;32m    141\u001b[0m   )\n",
            "\u001b[0;32m/usr/local/lib/python3.10/dist-packages/tensorflow/python/eager/polymorphic_function/concrete_function.py\u001b[0m in \u001b[0;36m_call_flat\u001b[0;34m(self, tensor_inputs, captured_inputs)\u001b[0m\n\u001b[1;32m   1320\u001b[0m         and executing_eagerly):\n\u001b[1;32m   1321\u001b[0m       \u001b[0;31m# No tape is watching; skip to running the function.\u001b[0m\u001b[0;34m\u001b[0m\u001b[0;34m\u001b[0m\u001b[0m\n\u001b[0;32m-> 1322\u001b[0;31m       \u001b[0;32mreturn\u001b[0m \u001b[0mself\u001b[0m\u001b[0;34m.\u001b[0m\u001b[0m_inference_function\u001b[0m\u001b[0;34m.\u001b[0m\u001b[0mcall_preflattened\u001b[0m\u001b[0;34m(\u001b[0m\u001b[0margs\u001b[0m\u001b[0;34m)\u001b[0m\u001b[0;34m\u001b[0m\u001b[0;34m\u001b[0m\u001b[0m\n\u001b[0m\u001b[1;32m   1323\u001b[0m     forward_backward = self._select_forward_and_backward_functions(\n\u001b[1;32m   1324\u001b[0m         \u001b[0margs\u001b[0m\u001b[0;34m,\u001b[0m\u001b[0;34m\u001b[0m\u001b[0;34m\u001b[0m\u001b[0m\n",
            "\u001b[0;32m/usr/local/lib/python3.10/dist-packages/tensorflow/python/eager/polymorphic_function/atomic_function.py\u001b[0m in \u001b[0;36mcall_preflattened\u001b[0;34m(self, args)\u001b[0m\n\u001b[1;32m    214\u001b[0m   \u001b[0;32mdef\u001b[0m \u001b[0mcall_preflattened\u001b[0m\u001b[0;34m(\u001b[0m\u001b[0mself\u001b[0m\u001b[0;34m,\u001b[0m \u001b[0margs\u001b[0m\u001b[0;34m:\u001b[0m \u001b[0mSequence\u001b[0m\u001b[0;34m[\u001b[0m\u001b[0mcore\u001b[0m\u001b[0;34m.\u001b[0m\u001b[0mTensor\u001b[0m\u001b[0;34m]\u001b[0m\u001b[0;34m)\u001b[0m \u001b[0;34m->\u001b[0m \u001b[0mAny\u001b[0m\u001b[0;34m:\u001b[0m\u001b[0;34m\u001b[0m\u001b[0;34m\u001b[0m\u001b[0m\n\u001b[1;32m    215\u001b[0m     \u001b[0;34m\"\"\"Calls with flattened tensor inputs and returns the structured output.\"\"\"\u001b[0m\u001b[0;34m\u001b[0m\u001b[0;34m\u001b[0m\u001b[0m\n\u001b[0;32m--> 216\u001b[0;31m     \u001b[0mflat_outputs\u001b[0m \u001b[0;34m=\u001b[0m \u001b[0mself\u001b[0m\u001b[0;34m.\u001b[0m\u001b[0mcall_flat\u001b[0m\u001b[0;34m(\u001b[0m\u001b[0;34m*\u001b[0m\u001b[0margs\u001b[0m\u001b[0;34m)\u001b[0m\u001b[0;34m\u001b[0m\u001b[0;34m\u001b[0m\u001b[0m\n\u001b[0m\u001b[1;32m    217\u001b[0m     \u001b[0;32mreturn\u001b[0m \u001b[0mself\u001b[0m\u001b[0;34m.\u001b[0m\u001b[0mfunction_type\u001b[0m\u001b[0;34m.\u001b[0m\u001b[0mpack_output\u001b[0m\u001b[0;34m(\u001b[0m\u001b[0mflat_outputs\u001b[0m\u001b[0;34m)\u001b[0m\u001b[0;34m\u001b[0m\u001b[0;34m\u001b[0m\u001b[0m\n\u001b[1;32m    218\u001b[0m \u001b[0;34m\u001b[0m\u001b[0m\n",
            "\u001b[0;32m/usr/local/lib/python3.10/dist-packages/tensorflow/python/eager/polymorphic_function/atomic_function.py\u001b[0m in \u001b[0;36mcall_flat\u001b[0;34m(self, *args)\u001b[0m\n\u001b[1;32m    249\u001b[0m         \u001b[0;32mwith\u001b[0m \u001b[0mrecord\u001b[0m\u001b[0;34m.\u001b[0m\u001b[0mstop_recording\u001b[0m\u001b[0;34m(\u001b[0m\u001b[0;34m)\u001b[0m\u001b[0;34m:\u001b[0m\u001b[0;34m\u001b[0m\u001b[0;34m\u001b[0m\u001b[0m\n\u001b[1;32m    250\u001b[0m           \u001b[0;32mif\u001b[0m \u001b[0mself\u001b[0m\u001b[0;34m.\u001b[0m\u001b[0m_bound_context\u001b[0m\u001b[0;34m.\u001b[0m\u001b[0mexecuting_eagerly\u001b[0m\u001b[0;34m(\u001b[0m\u001b[0;34m)\u001b[0m\u001b[0;34m:\u001b[0m\u001b[0;34m\u001b[0m\u001b[0;34m\u001b[0m\u001b[0m\n\u001b[0;32m--> 251\u001b[0;31m             outputs = self._bound_context.call_function(\n\u001b[0m\u001b[1;32m    252\u001b[0m                 \u001b[0mself\u001b[0m\u001b[0;34m.\u001b[0m\u001b[0mname\u001b[0m\u001b[0;34m,\u001b[0m\u001b[0;34m\u001b[0m\u001b[0;34m\u001b[0m\u001b[0m\n\u001b[1;32m    253\u001b[0m                 \u001b[0mlist\u001b[0m\u001b[0;34m(\u001b[0m\u001b[0margs\u001b[0m\u001b[0;34m)\u001b[0m\u001b[0;34m,\u001b[0m\u001b[0;34m\u001b[0m\u001b[0;34m\u001b[0m\u001b[0m\n",
            "\u001b[0;32m/usr/local/lib/python3.10/dist-packages/tensorflow/python/eager/context.py\u001b[0m in \u001b[0;36mcall_function\u001b[0;34m(self, name, tensor_inputs, num_outputs)\u001b[0m\n\u001b[1;32m   1550\u001b[0m     \u001b[0mcancellation_context\u001b[0m \u001b[0;34m=\u001b[0m \u001b[0mcancellation\u001b[0m\u001b[0;34m.\u001b[0m\u001b[0mcontext\u001b[0m\u001b[0;34m(\u001b[0m\u001b[0;34m)\u001b[0m\u001b[0;34m\u001b[0m\u001b[0;34m\u001b[0m\u001b[0m\n\u001b[1;32m   1551\u001b[0m     \u001b[0;32mif\u001b[0m \u001b[0mcancellation_context\u001b[0m \u001b[0;32mis\u001b[0m \u001b[0;32mNone\u001b[0m\u001b[0;34m:\u001b[0m\u001b[0;34m\u001b[0m\u001b[0;34m\u001b[0m\u001b[0m\n\u001b[0;32m-> 1552\u001b[0;31m       outputs = execute.execute(\n\u001b[0m\u001b[1;32m   1553\u001b[0m           \u001b[0mname\u001b[0m\u001b[0;34m.\u001b[0m\u001b[0mdecode\u001b[0m\u001b[0;34m(\u001b[0m\u001b[0;34m\"utf-8\"\u001b[0m\u001b[0;34m)\u001b[0m\u001b[0;34m,\u001b[0m\u001b[0;34m\u001b[0m\u001b[0;34m\u001b[0m\u001b[0m\n\u001b[1;32m   1554\u001b[0m           \u001b[0mnum_outputs\u001b[0m\u001b[0;34m=\u001b[0m\u001b[0mnum_outputs\u001b[0m\u001b[0;34m,\u001b[0m\u001b[0;34m\u001b[0m\u001b[0;34m\u001b[0m\u001b[0m\n",
            "\u001b[0;32m/usr/local/lib/python3.10/dist-packages/tensorflow/python/eager/execute.py\u001b[0m in \u001b[0;36mquick_execute\u001b[0;34m(op_name, num_outputs, inputs, attrs, ctx, name)\u001b[0m\n\u001b[1;32m     51\u001b[0m   \u001b[0;32mtry\u001b[0m\u001b[0;34m:\u001b[0m\u001b[0;34m\u001b[0m\u001b[0;34m\u001b[0m\u001b[0m\n\u001b[1;32m     52\u001b[0m     \u001b[0mctx\u001b[0m\u001b[0;34m.\u001b[0m\u001b[0mensure_initialized\u001b[0m\u001b[0;34m(\u001b[0m\u001b[0;34m)\u001b[0m\u001b[0;34m\u001b[0m\u001b[0;34m\u001b[0m\u001b[0m\n\u001b[0;32m---> 53\u001b[0;31m     tensors = pywrap_tfe.TFE_Py_Execute(ctx._handle, device_name, op_name,\n\u001b[0m\u001b[1;32m     54\u001b[0m                                         inputs, attrs, num_outputs)\n\u001b[1;32m     55\u001b[0m   \u001b[0;32mexcept\u001b[0m \u001b[0mcore\u001b[0m\u001b[0;34m.\u001b[0m\u001b[0m_NotOkStatusException\u001b[0m \u001b[0;32mas\u001b[0m \u001b[0me\u001b[0m\u001b[0;34m:\u001b[0m\u001b[0;34m\u001b[0m\u001b[0;34m\u001b[0m\u001b[0m\n",
            "\u001b[0;31mKeyboardInterrupt\u001b[0m: "
          ]
        }
      ],
      "source": [
        "# Compile the model with crossentropy loss for binary classification\n",
        "Nasnet_model.compile(optimizer=tf.keras.optimizers.Adam(learning_rate=1e-5),loss='categorical_crossentropy', metrics=['accuracy'])\n",
        "history = Nasnet_model.fit(X_train_processed_Nasnet, Y_train_class_np_onehot, validation_data=(X_valid_processed_Nasnet, Y_valid_class_np_onehot), batch_size=32, epochs=100, shuffle=True, verbose=1)"
      ]
    },
    {
      "cell_type": "code",
      "execution_count": null,
      "metadata": {
        "id": "SXb7j-yskwPX"
      },
      "outputs": [],
      "source": []
    },
    {
      "cell_type": "code",
      "execution_count": null,
      "metadata": {
        "id": "zBgqkHo9vh0M"
      },
      "outputs": [],
      "source": []
    },
    {
      "cell_type": "code",
      "execution_count": null,
      "metadata": {
        "colab": {
          "base_uri": "https://localhost:8080/"
        },
        "id": "39qXAbECviFd",
        "outputId": "f840220c-ed13-44a0-eeb4-40d6001d1f7a"
      },
      "outputs": [
        {
          "name": "stdout",
          "output_type": "stream",
          "text": [
            "Downloading data from https://storage.googleapis.com/tensorflow/keras-applications/mobilenet_v3/weights_mobilenet_v3_small_224_1.0_float_no_top_v2.h5\n",
            "\u001b[1m4334752/4334752\u001b[0m \u001b[32m━━━━━━━━━━━━━━━━━━━━\u001b[0m\u001b[37m\u001b[0m \u001b[1m0s\u001b[0m 0us/step\n",
            "Num GPUs Available:  1\n"
          ]
        }
      ],
      "source": [
        "# Early stopping callback\n",
        "early_stopping_Nasnet = tf.keras.callbacks.EarlyStopping(monitor='val_loss', mode='min', verbose=1, patience=6)\n",
        "\n",
        "# Load MobileNet with pre-trained ImageNet weights, excluding the top layer\n",
        "base_model = tf.keras.applications.MobileNetV3Small(input_shape=(224, 224, 3), weights='imagenet', include_top=False)\n",
        "preprocess_input_MobileNet = tf.keras.applications.mobilenet_v3.preprocess_input\n",
        "\n",
        "\n",
        "# Set trainable layers\n",
        "base_model.trainable = False\n",
        "for layer in base_model.layers[-3:]:\n",
        "    layer.trainable = True\n",
        "\n",
        "for layer in base_model.layers[:5]:\n",
        "    layer.trainable = True\n",
        "\n",
        "# Adding custom layers\n",
        "x = tf.keras.layers.GlobalAveragePooling2D()(base_model.output)\n",
        "x = tf.keras.layers.Dense(1024, activation='relu',kernel_regularizer=tf.keras.regularizers.l2(0.01))(x)\n",
        "x = tf.keras.layers.Dropout(0.5)(x)  # Dropout with 50% probability\n",
        "output = tf.keras.layers.Dense(10, activation='softmax')(x)  # Sigmoid for binary classification\n",
        "\n",
        "# Create the new model with NASNetMobile as the base\n",
        "MobileNet_model = tf.keras.models.Model(inputs=base_model.input, outputs=output)\n",
        "\n",
        "\n",
        "\n",
        "# Preprocess the data\n",
        "X_train_processed_MobileNet = preprocess_input_MobileNet(np.copy(X_train2))\n",
        "X_valid_processed_MobileNet = preprocess_input_MobileNet(np.copy(X_valid2))\n",
        "\n",
        "print(\"Num GPUs Available: \", len(tf.config.list_physical_devices('GPU')))"
      ]
    },
    {
      "cell_type": "code",
      "execution_count": null,
      "metadata": {
        "colab": {
          "base_uri": "https://localhost:8080/"
        },
        "id": "wzWyq9hswbZL",
        "outputId": "fb850c68-d776-472c-981e-9eb31c7ce9c1"
      },
      "outputs": [
        {
          "name": "stdout",
          "output_type": "stream",
          "text": [
            "Epoch 1/100\n",
            "\u001b[1m125/125\u001b[0m \u001b[32m━━━━━━━━━━━━━━━━━━━━\u001b[0m\u001b[37m\u001b[0m \u001b[1m20s\u001b[0m 66ms/step - accuracy: 0.1422 - loss: 31.7731 - val_accuracy: 0.2820 - val_loss: 30.7141\n",
            "Epoch 2/100\n",
            "\u001b[1m125/125\u001b[0m \u001b[32m━━━━━━━━━━━━━━━━━━━━\u001b[0m\u001b[37m\u001b[0m \u001b[1m1s\u001b[0m 10ms/step - accuracy: 0.2391 - loss: 30.5120 - val_accuracy: 0.2850 - val_loss: 29.6856\n",
            "Epoch 3/100\n",
            "\u001b[1m125/125\u001b[0m \u001b[32m━━━━━━━━━━━━━━━━━━━━\u001b[0m\u001b[37m\u001b[0m \u001b[1m1s\u001b[0m 10ms/step - accuracy: 0.2445 - loss: 29.5197 - val_accuracy: 0.2850 - val_loss: 28.7188\n",
            "Epoch 4/100\n",
            "\u001b[1m125/125\u001b[0m \u001b[32m━━━━━━━━━━━━━━━━━━━━\u001b[0m\u001b[37m\u001b[0m \u001b[1m1s\u001b[0m 10ms/step - accuracy: 0.2537 - loss: 28.5327 - val_accuracy: 0.2930 - val_loss: 27.7910\n",
            "Epoch 5/100\n",
            "\u001b[1m125/125\u001b[0m \u001b[32m━━━━━━━━━━━━━━━━━━━━\u001b[0m\u001b[37m\u001b[0m \u001b[1m1s\u001b[0m 9ms/step - accuracy: 0.2723 - loss: 27.6182 - val_accuracy: 0.2930 - val_loss: 26.8959\n",
            "Epoch 6/100\n",
            "\u001b[1m125/125\u001b[0m \u001b[32m━━━━━━━━━━━━━━━━━━━━\u001b[0m\u001b[37m\u001b[0m \u001b[1m1s\u001b[0m 9ms/step - accuracy: 0.2663 - loss: 26.7426 - val_accuracy: 0.2960 - val_loss: 26.0311\n",
            "Epoch 7/100\n",
            "\u001b[1m125/125\u001b[0m \u001b[32m━━━━━━━━━━━━━━━━━━━━\u001b[0m\u001b[37m\u001b[0m \u001b[1m1s\u001b[0m 10ms/step - accuracy: 0.2983 - loss: 25.8390 - val_accuracy: 0.3040 - val_loss: 25.1897\n",
            "Epoch 8/100\n",
            "\u001b[1m125/125\u001b[0m \u001b[32m━━━━━━━━━━━━━━━━━━━━\u001b[0m\u001b[37m\u001b[0m \u001b[1m1s\u001b[0m 9ms/step - accuracy: 0.3013 - loss: 24.9944 - val_accuracy: 0.3080 - val_loss: 24.3773\n",
            "Epoch 9/100\n",
            "\u001b[1m125/125\u001b[0m \u001b[32m━━━━━━━━━━━━━━━━━━━━\u001b[0m\u001b[37m\u001b[0m \u001b[1m1s\u001b[0m 9ms/step - accuracy: 0.3023 - loss: 24.2257 - val_accuracy: 0.3070 - val_loss: 23.5973\n",
            "Epoch 10/100\n",
            "\u001b[1m125/125\u001b[0m \u001b[32m━━━━━━━━━━━━━━━━━━━━\u001b[0m\u001b[37m\u001b[0m \u001b[1m1s\u001b[0m 9ms/step - accuracy: 0.3130 - loss: 23.4345 - val_accuracy: 0.3130 - val_loss: 22.8387\n",
            "Epoch 11/100\n",
            "\u001b[1m125/125\u001b[0m \u001b[32m━━━━━━━━━━━━━━━━━━━━\u001b[0m\u001b[37m\u001b[0m \u001b[1m1s\u001b[0m 9ms/step - accuracy: 0.3242 - loss: 22.6369 - val_accuracy: 0.3120 - val_loss: 22.0997\n",
            "Epoch 12/100\n",
            "\u001b[1m125/125\u001b[0m \u001b[32m━━━━━━━━━━━━━━━━━━━━\u001b[0m\u001b[37m\u001b[0m \u001b[1m1s\u001b[0m 10ms/step - accuracy: 0.3158 - loss: 21.9381 - val_accuracy: 0.3140 - val_loss: 21.3890\n",
            "Epoch 13/100\n",
            "\u001b[1m125/125\u001b[0m \u001b[32m━━━━━━━━━━━━━━━━━━━━\u001b[0m\u001b[37m\u001b[0m \u001b[1m1s\u001b[0m 10ms/step - accuracy: 0.3182 - loss: 21.2560 - val_accuracy: 0.3180 - val_loss: 20.6984\n",
            "Epoch 14/100\n",
            "\u001b[1m125/125\u001b[0m \u001b[32m━━━━━━━━━━━━━━━━━━━━\u001b[0m\u001b[37m\u001b[0m \u001b[1m1s\u001b[0m 9ms/step - accuracy: 0.3459 - loss: 20.5421 - val_accuracy: 0.3210 - val_loss: 20.0288\n",
            "Epoch 15/100\n",
            "\u001b[1m125/125\u001b[0m \u001b[32m━━━━━━━━━━━━━━━━━━━━\u001b[0m\u001b[37m\u001b[0m \u001b[1m1s\u001b[0m 9ms/step - accuracy: 0.3248 - loss: 19.8812 - val_accuracy: 0.3300 - val_loss: 19.3835\n",
            "Epoch 16/100\n",
            "\u001b[1m125/125\u001b[0m \u001b[32m━━━━━━━━━━━━━━━━━━━━\u001b[0m\u001b[37m\u001b[0m \u001b[1m1s\u001b[0m 9ms/step - accuracy: 0.3567 - loss: 19.2100 - val_accuracy: 0.3340 - val_loss: 18.7575\n",
            "Epoch 17/100\n",
            "\u001b[1m125/125\u001b[0m \u001b[32m━━━━━━━━━━━━━━━━━━━━\u001b[0m\u001b[37m\u001b[0m \u001b[1m1s\u001b[0m 9ms/step - accuracy: 0.3722 - loss: 18.5950 - val_accuracy: 0.3500 - val_loss: 18.1531\n",
            "Epoch 18/100\n",
            "\u001b[1m125/125\u001b[0m \u001b[32m━━━━━━━━━━━━━━━━━━━━\u001b[0m\u001b[37m\u001b[0m \u001b[1m1s\u001b[0m 9ms/step - accuracy: 0.3421 - loss: 18.0070 - val_accuracy: 0.3470 - val_loss: 17.5660\n",
            "Epoch 19/100\n",
            "\u001b[1m125/125\u001b[0m \u001b[32m━━━━━━━━━━━━━━━━━━━━\u001b[0m\u001b[37m\u001b[0m \u001b[1m1s\u001b[0m 10ms/step - accuracy: 0.3730 - loss: 17.4123 - val_accuracy: 0.3510 - val_loss: 17.0037\n",
            "Epoch 20/100\n",
            "\u001b[1m125/125\u001b[0m \u001b[32m━━━━━━━━━━━━━━━━━━━━\u001b[0m\u001b[37m\u001b[0m \u001b[1m1s\u001b[0m 10ms/step - accuracy: 0.3401 - loss: 16.8556 - val_accuracy: 0.3540 - val_loss: 16.4554\n",
            "Epoch 21/100\n",
            "\u001b[1m125/125\u001b[0m \u001b[32m━━━━━━━━━━━━━━━━━━━━\u001b[0m\u001b[37m\u001b[0m \u001b[1m1s\u001b[0m 10ms/step - accuracy: 0.3744 - loss: 16.3109 - val_accuracy: 0.3560 - val_loss: 15.9285\n",
            "Epoch 22/100\n",
            "\u001b[1m125/125\u001b[0m \u001b[32m━━━━━━━━━━━━━━━━━━━━\u001b[0m\u001b[37m\u001b[0m \u001b[1m1s\u001b[0m 10ms/step - accuracy: 0.3581 - loss: 15.7982 - val_accuracy: 0.3620 - val_loss: 15.4189\n",
            "Epoch 23/100\n",
            "\u001b[1m125/125\u001b[0m \u001b[32m━━━━━━━━━━━━━━━━━━━━\u001b[0m\u001b[37m\u001b[0m \u001b[1m1s\u001b[0m 9ms/step - accuracy: 0.3900 - loss: 15.2575 - val_accuracy: 0.3720 - val_loss: 14.9236\n",
            "Epoch 24/100\n",
            "\u001b[1m125/125\u001b[0m \u001b[32m━━━━━━━━━━━━━━━━━━━━\u001b[0m\u001b[37m\u001b[0m \u001b[1m1s\u001b[0m 9ms/step - accuracy: 0.3682 - loss: 14.7663 - val_accuracy: 0.3640 - val_loss: 14.4500\n",
            "Epoch 25/100\n",
            "\u001b[1m125/125\u001b[0m \u001b[32m━━━━━━━━━━━━━━━━━━━━\u001b[0m\u001b[37m\u001b[0m \u001b[1m1s\u001b[0m 9ms/step - accuracy: 0.3611 - loss: 14.2988 - val_accuracy: 0.3690 - val_loss: 13.9896\n",
            "Epoch 26/100\n",
            "\u001b[1m125/125\u001b[0m \u001b[32m━━━━━━━━━━━━━━━━━━━━\u001b[0m\u001b[37m\u001b[0m \u001b[1m1s\u001b[0m 9ms/step - accuracy: 0.3728 - loss: 13.8414 - val_accuracy: 0.3630 - val_loss: 13.5491\n",
            "Epoch 27/100\n",
            "\u001b[1m125/125\u001b[0m \u001b[32m━━━━━━━━━━━━━━━━━━━━\u001b[0m\u001b[37m\u001b[0m \u001b[1m1s\u001b[0m 9ms/step - accuracy: 0.3776 - loss: 13.3810 - val_accuracy: 0.3720 - val_loss: 13.1204\n",
            "Epoch 28/100\n",
            "\u001b[1m125/125\u001b[0m \u001b[32m━━━━━━━━━━━━━━━━━━━━\u001b[0m\u001b[37m\u001b[0m \u001b[1m1s\u001b[0m 10ms/step - accuracy: 0.3880 - loss: 12.9654 - val_accuracy: 0.3660 - val_loss: 12.7061\n",
            "Epoch 29/100\n",
            "\u001b[1m125/125\u001b[0m \u001b[32m━━━━━━━━━━━━━━━━━━━━\u001b[0m\u001b[37m\u001b[0m \u001b[1m1s\u001b[0m 9ms/step - accuracy: 0.3817 - loss: 12.5623 - val_accuracy: 0.3750 - val_loss: 12.3080\n",
            "Epoch 30/100\n",
            "\u001b[1m125/125\u001b[0m \u001b[32m━━━━━━━━━━━━━━━━━━━━\u001b[0m\u001b[37m\u001b[0m \u001b[1m1s\u001b[0m 10ms/step - accuracy: 0.3851 - loss: 12.1738 - val_accuracy: 0.3720 - val_loss: 11.9232\n",
            "Epoch 31/100\n",
            "\u001b[1m125/125\u001b[0m \u001b[32m━━━━━━━━━━━━━━━━━━━━\u001b[0m\u001b[37m\u001b[0m \u001b[1m1s\u001b[0m 10ms/step - accuracy: 0.3975 - loss: 11.7640 - val_accuracy: 0.3880 - val_loss: 11.5551\n",
            "Epoch 32/100\n",
            "\u001b[1m125/125\u001b[0m \u001b[32m━━━━━━━━━━━━━━━━━━━━\u001b[0m\u001b[37m\u001b[0m \u001b[1m1s\u001b[0m 10ms/step - accuracy: 0.3989 - loss: 11.4123 - val_accuracy: 0.3810 - val_loss: 11.2000\n",
            "Epoch 33/100\n",
            "\u001b[1m125/125\u001b[0m \u001b[32m━━━━━━━━━━━━━━━━━━━━\u001b[0m\u001b[37m\u001b[0m \u001b[1m1s\u001b[0m 9ms/step - accuracy: 0.3904 - loss: 11.0758 - val_accuracy: 0.3770 - val_loss: 10.8541\n",
            "Epoch 34/100\n",
            "\u001b[1m125/125\u001b[0m \u001b[32m━━━━━━━━━━━━━━━━━━━━\u001b[0m\u001b[37m\u001b[0m \u001b[1m1s\u001b[0m 10ms/step - accuracy: 0.3979 - loss: 10.7207 - val_accuracy: 0.3800 - val_loss: 10.5252\n",
            "Epoch 35/100\n",
            "\u001b[1m125/125\u001b[0m \u001b[32m━━━━━━━━━━━━━━━━━━━━\u001b[0m\u001b[37m\u001b[0m \u001b[1m1s\u001b[0m 10ms/step - accuracy: 0.4079 - loss: 10.3762 - val_accuracy: 0.3780 - val_loss: 10.2038\n",
            "Epoch 36/100\n",
            "\u001b[1m125/125\u001b[0m \u001b[32m━━━━━━━━━━━━━━━━━━━━\u001b[0m\u001b[37m\u001b[0m \u001b[1m1s\u001b[0m 9ms/step - accuracy: 0.4105 - loss: 10.0579 - val_accuracy: 0.3820 - val_loss: 9.8968\n",
            "Epoch 37/100\n",
            "\u001b[1m125/125\u001b[0m \u001b[32m━━━━━━━━━━━━━━━━━━━━\u001b[0m\u001b[37m\u001b[0m \u001b[1m1s\u001b[0m 10ms/step - accuracy: 0.4091 - loss: 9.7581 - val_accuracy: 0.3720 - val_loss: 9.6026\n",
            "Epoch 38/100\n",
            "\u001b[1m125/125\u001b[0m \u001b[32m━━━━━━━━━━━━━━━━━━━━\u001b[0m\u001b[37m\u001b[0m \u001b[1m1s\u001b[0m 10ms/step - accuracy: 0.4074 - loss: 9.4648 - val_accuracy: 0.3810 - val_loss: 9.3205\n",
            "Epoch 39/100\n",
            "\u001b[1m125/125\u001b[0m \u001b[32m━━━━━━━━━━━━━━━━━━━━\u001b[0m\u001b[37m\u001b[0m \u001b[1m1s\u001b[0m 10ms/step - accuracy: 0.4252 - loss: 9.1795 - val_accuracy: 0.3850 - val_loss: 9.0434\n",
            "Epoch 40/100\n",
            "\u001b[1m125/125\u001b[0m \u001b[32m━━━━━━━━━━━━━━━━━━━━\u001b[0m\u001b[37m\u001b[0m \u001b[1m1s\u001b[0m 10ms/step - accuracy: 0.4163 - loss: 8.8923 - val_accuracy: 0.3880 - val_loss: 8.7800\n",
            "Epoch 41/100\n",
            "\u001b[1m125/125\u001b[0m \u001b[32m━━━━━━━━━━━━━━━━━━━━\u001b[0m\u001b[37m\u001b[0m \u001b[1m1s\u001b[0m 10ms/step - accuracy: 0.4332 - loss: 8.6333 - val_accuracy: 0.3790 - val_loss: 8.5295\n",
            "Epoch 42/100\n",
            "\u001b[1m125/125\u001b[0m \u001b[32m━━━━━━━━━━━━━━━━━━━━\u001b[0m\u001b[37m\u001b[0m \u001b[1m1s\u001b[0m 10ms/step - accuracy: 0.4191 - loss: 8.3921 - val_accuracy: 0.3770 - val_loss: 8.2853\n",
            "Epoch 43/100\n",
            "\u001b[1m125/125\u001b[0m \u001b[32m━━━━━━━━━━━━━━━━━━━━\u001b[0m\u001b[37m\u001b[0m \u001b[1m1s\u001b[0m 10ms/step - accuracy: 0.4244 - loss: 8.1496 - val_accuracy: 0.3760 - val_loss: 8.0511\n",
            "Epoch 44/100\n",
            "\u001b[1m125/125\u001b[0m \u001b[32m━━━━━━━━━━━━━━━━━━━━\u001b[0m\u001b[37m\u001b[0m \u001b[1m1s\u001b[0m 9ms/step - accuracy: 0.4260 - loss: 7.9296 - val_accuracy: 0.3840 - val_loss: 7.8232\n",
            "Epoch 45/100\n",
            "\u001b[1m125/125\u001b[0m \u001b[32m━━━━━━━━━━━━━━━━━━━━\u001b[0m\u001b[37m\u001b[0m \u001b[1m1s\u001b[0m 10ms/step - accuracy: 0.4129 - loss: 7.7022 - val_accuracy: 0.3890 - val_loss: 7.6060\n",
            "Epoch 46/100\n",
            "\u001b[1m125/125\u001b[0m \u001b[32m━━━━━━━━━━━━━━━━━━━━\u001b[0m\u001b[37m\u001b[0m \u001b[1m1s\u001b[0m 9ms/step - accuracy: 0.4307 - loss: 7.4637 - val_accuracy: 0.3920 - val_loss: 7.3984\n",
            "Epoch 47/100\n",
            "\u001b[1m125/125\u001b[0m \u001b[32m━━━━━━━━━━━━━━━━━━━━\u001b[0m\u001b[37m\u001b[0m \u001b[1m1s\u001b[0m 9ms/step - accuracy: 0.4377 - loss: 7.2576 - val_accuracy: 0.3900 - val_loss: 7.1964\n",
            "Epoch 48/100\n",
            "\u001b[1m125/125\u001b[0m \u001b[32m━━━━━━━━━━━━━━━━━━━━\u001b[0m\u001b[37m\u001b[0m \u001b[1m1s\u001b[0m 10ms/step - accuracy: 0.4232 - loss: 7.0817 - val_accuracy: 0.3830 - val_loss: 7.0101\n",
            "Epoch 49/100\n",
            "\u001b[1m125/125\u001b[0m \u001b[32m━━━━━━━━━━━━━━━━━━━━\u001b[0m\u001b[37m\u001b[0m \u001b[1m1s\u001b[0m 10ms/step - accuracy: 0.4379 - loss: 6.8651 - val_accuracy: 0.3900 - val_loss: 6.8211\n",
            "Epoch 50/100\n",
            "\u001b[1m125/125\u001b[0m \u001b[32m━━━━━━━━━━━━━━━━━━━━\u001b[0m\u001b[37m\u001b[0m \u001b[1m1s\u001b[0m 10ms/step - accuracy: 0.4152 - loss: 6.6982 - val_accuracy: 0.3980 - val_loss: 6.6413\n",
            "Epoch 51/100\n",
            "\u001b[1m125/125\u001b[0m \u001b[32m━━━━━━━━━━━━━━━━━━━━\u001b[0m\u001b[37m\u001b[0m \u001b[1m1s\u001b[0m 10ms/step - accuracy: 0.4291 - loss: 6.5377 - val_accuracy: 0.3910 - val_loss: 6.4722\n",
            "Epoch 52/100\n",
            "\u001b[1m125/125\u001b[0m \u001b[32m━━━━━━━━━━━━━━━━━━━━\u001b[0m\u001b[37m\u001b[0m \u001b[1m1s\u001b[0m 10ms/step - accuracy: 0.4342 - loss: 6.3268 - val_accuracy: 0.3920 - val_loss: 6.3045\n",
            "Epoch 53/100\n",
            "\u001b[1m125/125\u001b[0m \u001b[32m━━━━━━━━━━━━━━━━━━━━\u001b[0m\u001b[37m\u001b[0m \u001b[1m1s\u001b[0m 10ms/step - accuracy: 0.4335 - loss: 6.1577 - val_accuracy: 0.3890 - val_loss: 6.1472\n",
            "Epoch 54/100\n",
            "\u001b[1m125/125\u001b[0m \u001b[32m━━━━━━━━━━━━━━━━━━━━\u001b[0m\u001b[37m\u001b[0m \u001b[1m1s\u001b[0m 10ms/step - accuracy: 0.4370 - loss: 6.0043 - val_accuracy: 0.3860 - val_loss: 5.9928\n",
            "Epoch 55/100\n",
            "\u001b[1m125/125\u001b[0m \u001b[32m━━━━━━━━━━━━━━━━━━━━\u001b[0m\u001b[37m\u001b[0m \u001b[1m1s\u001b[0m 10ms/step - accuracy: 0.4395 - loss: 5.8649 - val_accuracy: 0.3850 - val_loss: 5.8500\n",
            "Epoch 56/100\n",
            "\u001b[1m125/125\u001b[0m \u001b[32m━━━━━━━━━━━━━━━━━━━━\u001b[0m\u001b[37m\u001b[0m \u001b[1m1s\u001b[0m 10ms/step - accuracy: 0.4294 - loss: 5.7037 - val_accuracy: 0.3920 - val_loss: 5.7036\n",
            "Epoch 57/100\n",
            "\u001b[1m125/125\u001b[0m \u001b[32m━━━━━━━━━━━━━━━━━━━━\u001b[0m\u001b[37m\u001b[0m \u001b[1m1s\u001b[0m 10ms/step - accuracy: 0.4438 - loss: 5.5679 - val_accuracy: 0.3940 - val_loss: 5.5679\n",
            "Epoch 58/100\n",
            "\u001b[1m125/125\u001b[0m \u001b[32m━━━━━━━━━━━━━━━━━━━━\u001b[0m\u001b[37m\u001b[0m \u001b[1m1s\u001b[0m 10ms/step - accuracy: 0.4437 - loss: 5.4311 - val_accuracy: 0.3940 - val_loss: 5.4324\n",
            "Epoch 59/100\n",
            "\u001b[1m125/125\u001b[0m \u001b[32m━━━━━━━━━━━━━━━━━━━━\u001b[0m\u001b[37m\u001b[0m \u001b[1m1s\u001b[0m 10ms/step - accuracy: 0.4415 - loss: 5.3117 - val_accuracy: 0.3900 - val_loss: 5.3089\n",
            "Epoch 60/100\n",
            "\u001b[1m125/125\u001b[0m \u001b[32m━━━━━━━━━━━━━━━━━━━━\u001b[0m\u001b[37m\u001b[0m \u001b[1m1s\u001b[0m 10ms/step - accuracy: 0.4337 - loss: 5.1848 - val_accuracy: 0.3910 - val_loss: 5.1856\n",
            "Epoch 61/100\n",
            "\u001b[1m125/125\u001b[0m \u001b[32m━━━━━━━━━━━━━━━━━━━━\u001b[0m\u001b[37m\u001b[0m \u001b[1m1s\u001b[0m 10ms/step - accuracy: 0.4414 - loss: 5.0514 - val_accuracy: 0.3910 - val_loss: 5.0702\n",
            "Epoch 62/100\n",
            "\u001b[1m125/125\u001b[0m \u001b[32m━━━━━━━━━━━━━━━━━━━━\u001b[0m\u001b[37m\u001b[0m \u001b[1m1s\u001b[0m 10ms/step - accuracy: 0.4542 - loss: 4.9282 - val_accuracy: 0.3910 - val_loss: 4.9586\n",
            "Epoch 63/100\n",
            "\u001b[1m125/125\u001b[0m \u001b[32m━━━━━━━━━━━━━━━━━━━━\u001b[0m\u001b[37m\u001b[0m \u001b[1m1s\u001b[0m 10ms/step - accuracy: 0.4562 - loss: 4.8220 - val_accuracy: 0.3930 - val_loss: 4.8488\n",
            "Epoch 64/100\n",
            "\u001b[1m125/125\u001b[0m \u001b[32m━━━━━━━━━━━━━━━━━━━━\u001b[0m\u001b[37m\u001b[0m \u001b[1m1s\u001b[0m 10ms/step - accuracy: 0.4444 - loss: 4.7168 - val_accuracy: 0.3880 - val_loss: 4.7425\n",
            "Epoch 65/100\n",
            "\u001b[1m125/125\u001b[0m \u001b[32m━━━━━━━━━━━━━━━━━━━━\u001b[0m\u001b[37m\u001b[0m \u001b[1m1s\u001b[0m 10ms/step - accuracy: 0.4731 - loss: 4.5789 - val_accuracy: 0.3980 - val_loss: 4.6402\n",
            "Epoch 66/100\n",
            "\u001b[1m125/125\u001b[0m \u001b[32m━━━━━━━━━━━━━━━━━━━━\u001b[0m\u001b[37m\u001b[0m \u001b[1m1s\u001b[0m 10ms/step - accuracy: 0.4672 - loss: 4.4861 - val_accuracy: 0.3850 - val_loss: 4.5484\n",
            "Epoch 67/100\n",
            "\u001b[1m125/125\u001b[0m \u001b[32m━━━━━━━━━━━━━━━━━━━━\u001b[0m\u001b[37m\u001b[0m \u001b[1m1s\u001b[0m 10ms/step - accuracy: 0.4686 - loss: 4.3894 - val_accuracy: 0.3970 - val_loss: 4.4481\n",
            "Epoch 68/100\n",
            "\u001b[1m125/125\u001b[0m \u001b[32m━━━━━━━━━━━━━━━━━━━━\u001b[0m\u001b[37m\u001b[0m \u001b[1m1s\u001b[0m 10ms/step - accuracy: 0.4608 - loss: 4.3060 - val_accuracy: 0.3970 - val_loss: 4.3611\n",
            "Epoch 69/100\n",
            "\u001b[1m125/125\u001b[0m \u001b[32m━━━━━━━━━━━━━━━━━━━━\u001b[0m\u001b[37m\u001b[0m \u001b[1m1s\u001b[0m 10ms/step - accuracy: 0.4727 - loss: 4.1924 - val_accuracy: 0.3980 - val_loss: 4.2737\n",
            "Epoch 70/100\n",
            "\u001b[1m125/125\u001b[0m \u001b[32m━━━━━━━━━━━━━━━━━━━━\u001b[0m\u001b[37m\u001b[0m \u001b[1m1s\u001b[0m 10ms/step - accuracy: 0.4698 - loss: 4.1352 - val_accuracy: 0.3970 - val_loss: 4.1893\n",
            "Epoch 71/100\n",
            "\u001b[1m125/125\u001b[0m \u001b[32m━━━━━━━━━━━━━━━━━━━━\u001b[0m\u001b[37m\u001b[0m \u001b[1m1s\u001b[0m 10ms/step - accuracy: 0.4804 - loss: 4.0539 - val_accuracy: 0.3980 - val_loss: 4.1067\n",
            "Epoch 72/100\n",
            "\u001b[1m125/125\u001b[0m \u001b[32m━━━━━━━━━━━━━━━━━━━━\u001b[0m\u001b[37m\u001b[0m \u001b[1m1s\u001b[0m 9ms/step - accuracy: 0.4667 - loss: 3.9656 - val_accuracy: 0.3980 - val_loss: 4.0274\n",
            "Epoch 73/100\n",
            "\u001b[1m125/125\u001b[0m \u001b[32m━━━━━━━━━━━━━━━━━━━━\u001b[0m\u001b[37m\u001b[0m \u001b[1m1s\u001b[0m 10ms/step - accuracy: 0.4600 - loss: 3.8920 - val_accuracy: 0.3970 - val_loss: 3.9540\n",
            "Epoch 74/100\n",
            "\u001b[1m125/125\u001b[0m \u001b[32m━━━━━━━━━━━━━━━━━━━━\u001b[0m\u001b[37m\u001b[0m \u001b[1m1s\u001b[0m 10ms/step - accuracy: 0.4707 - loss: 3.7967 - val_accuracy: 0.3990 - val_loss: 3.8796\n",
            "Epoch 75/100\n",
            "\u001b[1m125/125\u001b[0m \u001b[32m━━━━━━━━━━━━━━━━━━━━\u001b[0m\u001b[37m\u001b[0m \u001b[1m1s\u001b[0m 9ms/step - accuracy: 0.4735 - loss: 3.7191 - val_accuracy: 0.3970 - val_loss: 3.8080\n",
            "Epoch 76/100\n",
            "\u001b[1m125/125\u001b[0m \u001b[32m━━━━━━━━━━━━━━━━━━━━\u001b[0m\u001b[37m\u001b[0m \u001b[1m1s\u001b[0m 10ms/step - accuracy: 0.4662 - loss: 3.6481 - val_accuracy: 0.4050 - val_loss: 3.7385\n",
            "Epoch 77/100\n",
            "\u001b[1m125/125\u001b[0m \u001b[32m━━━━━━━━━━━━━━━━━━━━\u001b[0m\u001b[37m\u001b[0m \u001b[1m1s\u001b[0m 10ms/step - accuracy: 0.4744 - loss: 3.5841 - val_accuracy: 0.3990 - val_loss: 3.6771\n",
            "Epoch 78/100\n",
            "\u001b[1m125/125\u001b[0m \u001b[32m━━━━━━━━━━━━━━━━━━━━\u001b[0m\u001b[37m\u001b[0m \u001b[1m1s\u001b[0m 9ms/step - accuracy: 0.4709 - loss: 3.5411 - val_accuracy: 0.3950 - val_loss: 3.6127\n",
            "Epoch 79/100\n",
            "\u001b[1m125/125\u001b[0m \u001b[32m━━━━━━━━━━━━━━━━━━━━\u001b[0m\u001b[37m\u001b[0m \u001b[1m1s\u001b[0m 10ms/step - accuracy: 0.4724 - loss: 3.4667 - val_accuracy: 0.3930 - val_loss: 3.5500\n",
            "Epoch 80/100\n",
            "\u001b[1m125/125\u001b[0m \u001b[32m━━━━━━━━━━━━━━━━━━━━\u001b[0m\u001b[37m\u001b[0m \u001b[1m1s\u001b[0m 10ms/step - accuracy: 0.4802 - loss: 3.4025 - val_accuracy: 0.3970 - val_loss: 3.4956\n",
            "Epoch 81/100\n",
            "\u001b[1m125/125\u001b[0m \u001b[32m━━━━━━━━━━━━━━━━━━━━\u001b[0m\u001b[37m\u001b[0m \u001b[1m1s\u001b[0m 9ms/step - accuracy: 0.4761 - loss: 3.3433 - val_accuracy: 0.4010 - val_loss: 3.4371\n",
            "Epoch 82/100\n",
            "\u001b[1m125/125\u001b[0m \u001b[32m━━━━━━━━━━━━━━━━━━━━\u001b[0m\u001b[37m\u001b[0m \u001b[1m1s\u001b[0m 9ms/step - accuracy: 0.4770 - loss: 3.2870 - val_accuracy: 0.3960 - val_loss: 3.3816\n",
            "Epoch 83/100\n",
            "\u001b[1m125/125\u001b[0m \u001b[32m━━━━━━━━━━━━━━━━━━━━\u001b[0m\u001b[37m\u001b[0m \u001b[1m1s\u001b[0m 9ms/step - accuracy: 0.4690 - loss: 3.2342 - val_accuracy: 0.4010 - val_loss: 3.3252\n",
            "Epoch 84/100\n",
            "\u001b[1m125/125\u001b[0m \u001b[32m━━━━━━━━━━━━━━━━━━━━\u001b[0m\u001b[37m\u001b[0m \u001b[1m1s\u001b[0m 10ms/step - accuracy: 0.4668 - loss: 3.1817 - val_accuracy: 0.4050 - val_loss: 3.2735\n",
            "Epoch 85/100\n",
            "\u001b[1m125/125\u001b[0m \u001b[32m━━━━━━━━━━━━━━━━━━━━\u001b[0m\u001b[37m\u001b[0m \u001b[1m1s\u001b[0m 10ms/step - accuracy: 0.4840 - loss: 3.1043 - val_accuracy: 0.3960 - val_loss: 3.2256\n",
            "Epoch 86/100\n",
            "\u001b[1m125/125\u001b[0m \u001b[32m━━━━━━━━━━━━━━━━━━━━\u001b[0m\u001b[37m\u001b[0m \u001b[1m1s\u001b[0m 10ms/step - accuracy: 0.4847 - loss: 3.0486 - val_accuracy: 0.3900 - val_loss: 3.1788\n",
            "Epoch 87/100\n",
            "\u001b[1m125/125\u001b[0m \u001b[32m━━━━━━━━━━━━━━━━━━━━\u001b[0m\u001b[37m\u001b[0m \u001b[1m1s\u001b[0m 9ms/step - accuracy: 0.5030 - loss: 2.9957 - val_accuracy: 0.4020 - val_loss: 3.1326\n",
            "Epoch 88/100\n",
            "\u001b[1m125/125\u001b[0m \u001b[32m━━━━━━━━━━━━━━━━━━━━\u001b[0m\u001b[37m\u001b[0m \u001b[1m1s\u001b[0m 10ms/step - accuracy: 0.4744 - loss: 2.9629 - val_accuracy: 0.4050 - val_loss: 3.0886\n",
            "Epoch 89/100\n",
            "\u001b[1m125/125\u001b[0m \u001b[32m━━━━━━━━━━━━━━━━━━━━\u001b[0m\u001b[37m\u001b[0m \u001b[1m1s\u001b[0m 10ms/step - accuracy: 0.4762 - loss: 2.9259 - val_accuracy: 0.4000 - val_loss: 3.0424\n",
            "Epoch 90/100\n",
            "\u001b[1m125/125\u001b[0m \u001b[32m━━━━━━━━━━━━━━━━━━━━\u001b[0m\u001b[37m\u001b[0m \u001b[1m1s\u001b[0m 10ms/step - accuracy: 0.4861 - loss: 2.8711 - val_accuracy: 0.4080 - val_loss: 2.9974\n",
            "Epoch 91/100\n",
            "\u001b[1m125/125\u001b[0m \u001b[32m━━━━━━━━━━━━━━━━━━━━\u001b[0m\u001b[37m\u001b[0m \u001b[1m1s\u001b[0m 9ms/step - accuracy: 0.4844 - loss: 2.8305 - val_accuracy: 0.4090 - val_loss: 2.9581\n",
            "Epoch 92/100\n",
            "\u001b[1m125/125\u001b[0m \u001b[32m━━━━━━━━━━━━━━━━━━━━\u001b[0m\u001b[37m\u001b[0m \u001b[1m1s\u001b[0m 9ms/step - accuracy: 0.4896 - loss: 2.7868 - val_accuracy: 0.4000 - val_loss: 2.9225\n",
            "Epoch 93/100\n",
            "\u001b[1m125/125\u001b[0m \u001b[32m━━━━━━━━━━━━━━━━━━━━\u001b[0m\u001b[37m\u001b[0m \u001b[1m1s\u001b[0m 10ms/step - accuracy: 0.5072 - loss: 2.7337 - val_accuracy: 0.4060 - val_loss: 2.8833\n",
            "Epoch 94/100\n",
            "\u001b[1m125/125\u001b[0m \u001b[32m━━━━━━━━━━━━━━━━━━━━\u001b[0m\u001b[37m\u001b[0m \u001b[1m1s\u001b[0m 9ms/step - accuracy: 0.4967 - loss: 2.7131 - val_accuracy: 0.4040 - val_loss: 2.8478\n",
            "Epoch 95/100\n",
            "\u001b[1m125/125\u001b[0m \u001b[32m━━━━━━━━━━━━━━━━━━━━\u001b[0m\u001b[37m\u001b[0m \u001b[1m1s\u001b[0m 9ms/step - accuracy: 0.4891 - loss: 2.6870 - val_accuracy: 0.4010 - val_loss: 2.8093\n",
            "Epoch 96/100\n",
            "\u001b[1m125/125\u001b[0m \u001b[32m━━━━━━━━━━━━━━━━━━━━\u001b[0m\u001b[37m\u001b[0m \u001b[1m1s\u001b[0m 9ms/step - accuracy: 0.4986 - loss: 2.6243 - val_accuracy: 0.4060 - val_loss: 2.7743\n",
            "Epoch 97/100\n",
            "\u001b[1m125/125\u001b[0m \u001b[32m━━━━━━━━━━━━━━━━━━━━\u001b[0m\u001b[37m\u001b[0m \u001b[1m1s\u001b[0m 10ms/step - accuracy: 0.5078 - loss: 2.5927 - val_accuracy: 0.3990 - val_loss: 2.7438\n",
            "Epoch 98/100\n",
            "\u001b[1m125/125\u001b[0m \u001b[32m━━━━━━━━━━━━━━━━━━━━\u001b[0m\u001b[37m\u001b[0m \u001b[1m1s\u001b[0m 10ms/step - accuracy: 0.4858 - loss: 2.5769 - val_accuracy: 0.4030 - val_loss: 2.7112\n",
            "Epoch 99/100\n",
            "\u001b[1m125/125\u001b[0m \u001b[32m━━━━━━━━━━━━━━━━━━━━\u001b[0m\u001b[37m\u001b[0m \u001b[1m1s\u001b[0m 10ms/step - accuracy: 0.4944 - loss: 2.5419 - val_accuracy: 0.3960 - val_loss: 2.6843\n",
            "Epoch 100/100\n",
            "\u001b[1m125/125\u001b[0m \u001b[32m━━━━━━━━━━━━━━━━━━━━\u001b[0m\u001b[37m\u001b[0m \u001b[1m1s\u001b[0m 10ms/step - accuracy: 0.4898 - loss: 2.4932 - val_accuracy: 0.3990 - val_loss: 2.6465\n"
          ]
        }
      ],
      "source": [
        "# Compile the model with crossentropy loss for binary classification\n",
        "MobileNet_model.compile(optimizer=tf.keras.optimizers.Adam(learning_rate=1e-5),loss='categorical_crossentropy', metrics=['accuracy'])\n",
        "history = MobileNet_model.fit(X_train_processed_MobileNet, Y_train_class_np_onehot, validation_data=(X_valid_processed_MobileNet, Y_valid_class_np_onehot), batch_size=32, epochs=100, shuffle=True, verbose=1)"
      ]
    },
    {
      "cell_type": "code",
      "execution_count": null,
      "metadata": {
        "id": "Xtf4b2lXvw-R"
      },
      "outputs": [],
      "source": [
        "import numpy as np\n",
        "from sklearn.metrics import confusion_matrix\n",
        "import seaborn as sns\n",
        "import matplotlib.pyplot as plt\n",
        "\n",
        "# Step 1: Generate predictions on the validation set\n",
        "predictions = Nasnet_model.predict(X_valid_processed_Nasnet)\n",
        "\n",
        "# Step 2: Convert predictions to class labels\n",
        "# Each prediction is an array of probabilities for each class; take the class with the highest probability\n",
        "predicted_labels = np.argmax(predictions, axis=1)\n",
        "\n",
        "# Ensure Y_valid_class_np is the true label array for validation set\n",
        "true_labels = Y_valid_class_np  # Assuming Y_valid_class_np contains true class labels\n",
        "\n",
        "# Step 3: Compute the confusion matrix\n",
        "conf_matrix = confusion_matrix(true_labels, predicted_labels)\n",
        "\n",
        "# Optional: Visualize the confusion matrix\n",
        "plt.figure(figsize=(10, 8))\n",
        "sns.heatmap(conf_matrix, annot=True, fmt=\"d\", cmap=\"Blues\", xticklabels=range(10), yticklabels=range(10))\n",
        "plt.xlabel('Predicted Class')\n",
        "plt.ylabel('True Class')\n",
        "plt.title('Confusion Matrix')\n",
        "plt.show()\n"
      ]
    },
    {
      "cell_type": "code",
      "execution_count": null,
      "metadata": {
        "id": "WFuO02uvbkMv"
      },
      "outputs": [],
      "source": [
        "import numpy as np\n",
        "import matplotlib.pyplot as plt\n",
        "import seaborn as sns\n",
        "from sklearn.metrics import confusion_matrix\n",
        "\n",
        "# Assume y_true and y_pred are your true and predicted labels respectively\n",
        "y_true = np.array([0, 1, 0, 1, 0, 1, 0, 1])  # Example true labels\n",
        "y_pred = np.array([0, 0, 0, 1, 1, 1, 0, 1])  # Example predicted labels\n",
        "\n",
        "# Compute confusion matrix\n",
        "cm = confusion_matrix(y_true, y_pred)\n",
        "\n",
        "# Normalize confusion matrix to percentage (by rows)\n",
        "cm_percentage = cm.astype('float') / cm.sum(axis=1)[:, np.newaxis] * 100\n",
        "\n",
        "# Print the confusion matrix with percentages\n",
        "print(\"Confusion Matrix (in %):\")\n",
        "print(np.round(cm_percentage, 2))  # Round to 2 decimal places for better readability\n",
        "\n",
        "# Optionally, you can plot the confusion matrix for better visualization\n",
        "plt.figure(figsize=(6, 5))\n",
        "sns.heatmap(cm_percentage, annot=True, fmt='.2f', cmap='Blues', cbar=False,\n",
        "            xticklabels=['Pred: 0', 'Pred: 1'], yticklabels=['True: 0', 'True: 1'])\n",
        "plt.title(\"Confusion Matrix (Percentage)\")\n",
        "plt.xlabel('Predicted Labels')\n",
        "plt.ylabel('True Labels')\n",
        "plt.show()"
      ]
    },
    {
      "cell_type": "code",
      "execution_count": null,
      "metadata": {
        "colab": {
          "base_uri": "https://localhost:8080/"
        },
        "id": "NSe-0-Xl8Ez8",
        "outputId": "5992992e-4a0b-486d-9a55-61777bb1a89d"
      },
      "outputs": [
        {
          "name": "stdout",
          "output_type": "stream",
          "text": [
            "\u001b[1m62/62\u001b[0m \u001b[32m━━━━━━━━━━━━━━━━━━━━\u001b[0m\u001b[37m\u001b[0m \u001b[1m13s\u001b[0m 205ms/step - loss: 0.1217 - mae: 0.1217\n",
            "Test Loss: 0.12220822274684906\n",
            "Test MAE: 0.12220822274684906\n"
          ]
        }
      ],
      "source": [
        "# Evaluate on the test set\n",
        "X_test = np.load(f'{base_dir}/data_test.npy')\n",
        "X_test_processed = preprocess_input(np.copy(X_test))\n",
        "Y_test = np.load(f'{base_dir}/labels_test.npy')\n",
        "Y_test = Y_test / 100\n",
        "\n",
        "test_loss, test_mae = Nasnet_model.evaluate(X_test_processed, Y_test, verbose=1)\n",
        "print(f\"Test Loss: {test_loss}\")\n",
        "print(f\"Test MAE: {test_mae}\")"
      ]
    },
    {
      "cell_type": "code",
      "execution_count": null,
      "metadata": {
        "colab": {
          "base_uri": "https://localhost:8080/"
        },
        "id": "2jPtilDuO2S8",
        "outputId": "f86966c1-22d0-48f0-ce6b-caeb0d24f0f3"
      },
      "outputs": [
        {
          "name": "stdout",
          "output_type": "stream",
          "text": [
            "\u001b[1m13/13\u001b[0m \u001b[32m━━━━━━━━━━━━━━━━━━━━\u001b[0m\u001b[37m\u001b[0m \u001b[1m0s\u001b[0m 28ms/step - loss: 0.1219 - mae: 0.1219\n"
          ]
        },
        {
          "data": {
            "text/plain": [
              "[<Mean name=loss>, <CompileMetrics name=compile_metrics>]"
            ]
          },
          "execution_count": 65,
          "metadata": {},
          "output_type": "execute_result"
        }
      ],
      "source": [
        "results = Nasnet_model.evaluate(X_test_processed, Y_test, verbose=1)\n",
        "\n",
        "Nasnet_model.metrics"
      ]
    },
    {
      "cell_type": "markdown",
      "metadata": {
        "id": "q-vqZEfx8wH6"
      },
      "source": []
    },
    {
      "cell_type": "code",
      "execution_count": null,
      "metadata": {
        "colab": {
          "base_uri": "https://localhost:8080/"
        },
        "id": "on82j9We8qZd",
        "outputId": "768f7c24-808e-43ff-9f9d-c924892d20e9"
      },
      "outputs": [
        {
          "name": "stdout",
          "output_type": "stream",
          "text": [
            "Mounted at /content/drive/\n"
          ]
        }
      ],
      "source": [
        "from google.colab import drive\n",
        "drive.mount('/content/drive/',force_remount=True)"
      ]
    },
    {
      "cell_type": "markdown",
      "metadata": {
        "id": "BrLFL1lyBqSI"
      },
      "source": []
    },
    {
      "cell_type": "code",
      "execution_count": null,
      "metadata": {
        "colab": {
          "base_uri": "https://localhost:8080/"
        },
        "id": "TL4Lfk2iAnqZ",
        "outputId": "1ad44777-dfd1-4807-ccd0-587fed8adfca"
      },
      "outputs": [
        {
          "name": "stdout",
          "output_type": "stream",
          "text": [
            "Data decompressed successfully\n"
          ]
        }
      ],
      "source": [
        "from zipfile import ZipFile\n",
        "with ZipFile('/content/drive/MyDrive/combined_faces_train_augmented.zip','r') as zip:\n",
        "   zip.extractall()\n",
        "   print('Data decompressed successfully')"
      ]
    },
    {
      "cell_type": "code",
      "execution_count": null,
      "metadata": {
        "colab": {
          "base_uri": "https://localhost:8080/"
        },
        "collapsed": true,
        "id": "4n6SkHDsPsGI",
        "outputId": "7e79652c-a394-46fc-9946-07843bf23321"
      },
      "outputs": [
        {
          "name": "stdout",
          "output_type": "stream",
          "text": [
            "[['/content/content/combined_faces_train_augmented/43_77_rot_pos40.jpg']\n",
            " ['/content/content/combined_faces_train_augmented/71_50_fliplr_rot_neg20.jpg']\n",
            " ['/content/content/combined_faces_train_augmented/6_51_fliplr_rot_pos40.jpg']\n",
            " ['/content/content/combined_faces_train_augmented/18_301_fliplr_rot_neg20.jpg']\n",
            " ['/content/content/combined_faces_train_augmented/25_686_rot_neg40.jpg']\n",
            " ['/content/content/combined_faces_train_augmented/26_2143_fliplr.jpg']\n",
            " ['/content/content/combined_faces_train_augmented/26_1542.jpg']\n",
            " ['/content/content/combined_faces_train_augmented/3_463_fliplr_rot_neg40.jpg']\n",
            " ['/content/content/combined_faces_train_augmented/33_84_rot_pos20.jpg']\n",
            " ['/content/content/combined_faces_train_augmented/39_35_fliplr_rot_neg40.jpg']\n",
            " ['/content/content/combined_faces_train_augmented/1_343_rot_pos40.jpg']\n",
            " ['/content/content/combined_faces_train_augmented/78_50_rot_neg40.jpg']\n",
            " ['/content/content/combined_faces_train_augmented/44_59_rot_neg20.jpg']\n",
            " ['/content/content/combined_faces_train_augmented/26_1657_fliplr_rot_pos20.jpg']\n",
            " ['/content/content/combined_faces_train_augmented/2_455_fliplr_rot_pos20.jpg']\n",
            " ['/content/content/combined_faces_train_augmented/27_167_rot_pos40.jpg']\n",
            " ['/content/content/combined_faces_train_augmented/30_451_fliplr_rot_neg20.jpg']\n",
            " ['/content/content/combined_faces_train_augmented/25_454_rot_neg20.jpg']\n",
            " ['/content/content/combined_faces_train_augmented/25_339.jpg']\n",
            " ['/content/content/combined_faces_train_augmented/59_118_rot_pos40.jpg']]\n",
            "completed 1000 images\n",
            "completed 2000 images\n",
            "completed 3000 images\n",
            "completed 4000 images\n",
            "completed 5000 images\n",
            "completed 6000 images\n",
            "completed 7000 images\n",
            "completed 8000 images\n",
            "completed 9000 images\n",
            "completed 10000 images\n",
            "completed 11000 images\n",
            "completed 12000 images\n",
            "completed 13000 images\n",
            "completed 14000 images\n",
            "completed 15000 images\n",
            "completed 16000 images\n",
            "completed 17000 images\n",
            "completed 18000 images\n",
            "completed 19000 images\n",
            "completed 20000 images\n",
            "completed 21000 images\n"
          ]
        }
      ],
      "source": [
        "import os\n",
        "base_dir2 = '/content/content/combined_faces_train_augmented/'\n",
        "\n",
        "X_train2_df = pd.read_csv(f'/content/images_filenames_labels_train_augmented.csv')\n",
        "\n",
        "Y_train2 = X_train2_df['age'].copy().to_numpy()\n",
        "Y_valid2 = Y_train2[20000:21000]\n",
        "Y_train2 = Y_train2[:20000]\n",
        "Y_train2 = Y_train2 / 100\n",
        "Y_valid2 = Y_valid2 / 100\n",
        "\n",
        "\n",
        "X_train2_df = X_train2_df.drop(columns=['age'])\n",
        "X_train2 = X_train2_df.to_numpy()\n",
        "\n",
        "print(X_train2[:20])\n",
        "image_list = []\n",
        "nb = 0\n",
        "for i in X_train2_df['filename'][:20000]:\n",
        "     img = Image.open(i).convert(\"RGB\")\n",
        "     img = img.resize((224,224))\n",
        "     #image_list = np.append(image_list,img)\n",
        "     img_array = np.array(img)\n",
        "     image_list.append(img_array)\n",
        "     nb+=1\n",
        "     if ( nb % 1000==0):\n",
        "         print(f\"completed {nb} images\")\n",
        "np.save(f'{base_dir2}/data2_train.npy', image_list)\n",
        "\n",
        "image_list = []\n",
        "\n",
        "for i in X_train2_df['filename'][20000:21000]:\n",
        "     img = Image.open(i).convert(\"RGB\")\n",
        "     img = img.resize((224,224))\n",
        "     #image_list = np.append(image_list,img)\n",
        "     img_array = np.array(img)\n",
        "     image_list.append(img_array)\n",
        "     nb+=1\n",
        "     if ( nb % 1000==0):\n",
        "         print(f\"completed {nb} images\")\n",
        "\n",
        "np.save(f'{base_dir2}/data2_valid.npy', image_list)\n",
        "\n",
        "X_train2 = np.load(f'{base_dir2}/data2_train.npy')\n",
        "X_valid2 = np.load(f'{base_dir2}/data2_valid.npy')\n",
        "\n"
      ]
    },
    {
      "cell_type": "code",
      "execution_count": null,
      "metadata": {
        "colab": {
          "base_uri": "https://localhost:8080/"
        },
        "id": "xv3OgoN7DTR8",
        "outputId": "93edff65-657a-4167-b3b2-933bdd0f5b8a"
      },
      "outputs": [
        {
          "name": "stdout",
          "output_type": "stream",
          "text": [
            "(20000, 224, 224, 3)\n",
            "[0.43 0.71 0.06 0.18 0.25 0.26 0.26 0.03 0.33 0.39 0.01 0.78 0.44 0.26\n",
            " 0.02 0.27 0.3  0.25 0.25 0.59]\n"
          ]
        }
      ],
      "source": [
        "print(np.shape(X_train2))\n",
        "Y_train2 = Y_train2[:20000]\n",
        "\n",
        "print(Y_train2[:20])"
      ]
    },
    {
      "cell_type": "code",
      "execution_count": null,
      "metadata": {
        "colab": {
          "base_uri": "https://localhost:8080/"
        },
        "id": "TFeZOyOmurIy",
        "outputId": "a3b3de1a-9462-467d-a907-dcb6f9c28734"
      },
      "outputs": [
        {
          "name": "stdout",
          "output_type": "stream",
          "text": [
            "\u001b[1m32/32\u001b[0m \u001b[32m━━━━━━━━━━━━━━━━━━━━\u001b[0m\u001b[37m\u001b[0m \u001b[1m1s\u001b[0m 20ms/step\n",
            "\u001b[1m32/32\u001b[0m \u001b[32m━━━━━━━━━━━━━━━━━━━━\u001b[0m\u001b[37m\u001b[0m \u001b[1m0s\u001b[0m 5ms/step\n"
          ]
        }
      ],
      "source": [
        "from sklearn.metrics import mean_absolute_error\n",
        "Nasnet_prediction = Nasnet_model.predict(X_valid2)\n",
        "Mobilenet_prediction = Mobilenet_model.predict(X_valid2)\n",
        "predictions = (Nasnet_prediction*0.4 ) + (0.6*Mobilenet_prediction)"
      ]
    },
    {
      "cell_type": "code",
      "execution_count": null,
      "metadata": {
        "id": "VGsl6DC47JJt"
      },
      "outputs": [],
      "source": [
        "\n",
        "mae = mean_absolute_error(Y_valid2, predictions)\n",
        "print(f\"Mean Absolute Error (MAE): {mae}\")"
      ]
    },
    {
      "cell_type": "code",
      "source": [
        "# loading the train data (with labels)\n",
        "X_train = np.load(f'{base_dir}data_train.npy')\n",
        "Y_train = np.load(f'{base_dir}/labels_train.npy')\n",
        "M_train = np.load(f'{base_dir}/meta_data_train.npy')\n",
        "\n",
        "# loading the validation data (with labels)\n",
        "X_valid = np.load(f'{base_dir}/data_valid.npy')\n",
        "Y_valid = np.load(f'{base_dir}/labels_valid.npy')\n",
        "M_valid = np.load(f'{base_dir}/meta_data_valid.npy')\n",
        "# train labels are real numbers, ranging from ~0.9 to ~89 (years old);\n",
        "# we will re-scale the labels to [0,1] by using a normalization factor of 100,\n",
        "# assuming there is no sample with age > 100.\n",
        "Y_train = Y_train/100\n",
        "Y_valid = Y_valid/100\n",
        "# them using the raw data, i.e., the apparent age values\n",
        "print('Train data size and shape', X_train.shape)\n",
        "print('Train labels size and shape', Y_train.shape)\n",
        "print('Train metadata size and shape', M_train.shape)\n",
        "print('----')\n",
        "print('Valid data size and shape', X_valid.shape)\n",
        "print('Valid labels size and shape', Y_valid.shape)\n",
        "print('Valid metadata size and shape', M_valid.shape)\n",
        "\n",
        "base_model = tf.keras.applications.NASNetMobile(input_shape=(224, 224, 3), weights='imagenet', include_top=False)\n",
        "preprocess_input_Nasnet = tf.keras.applications.nasnet.preprocess_input\n",
        "Nasnet_model = tf.keras.models.Model(inputs=base_model.input, outputs=output)\n",
        "X_train_processed_Nasnet = preprocess_input_Nasnet(np.copy(X_train))\n",
        "X_valid_processed_Nasnet = preprocess_input_Nasnet(np.copy(X_valid))\n",
        "\n",
        "\n",
        "base_model1 = tf.keras.applications.MobileNetV3Small(input_shape=(224, 224, 3), weights='imagenet', include_top=False)\n",
        "preprocess_input_Mobilenet = tf.keras.applications.mobilenet_v3.preprocess_input\n",
        "X_train_processed_Mobilenet = preprocess_input_Mobilenet(np.copy(X_train))\n",
        "X_valid_processed_Mobilenet = preprocess_input_Mobilenet(np.copy(X_valid))"
      ],
      "metadata": {
        "id": "wHKYIvGPjiZ5"
      },
      "execution_count": null,
      "outputs": []
    }
  ],
  "metadata": {
    "accelerator": "GPU",
    "colab": {
      "gpuType": "A100",
      "provenance": []
    },
    "kernelspec": {
      "display_name": "Python 3",
      "name": "python3"
    },
    "language_info": {
      "codemirror_mode": {
        "name": "ipython",
        "version": 3
      },
      "file_extension": ".py",
      "mimetype": "text/x-python",
      "name": "python",
      "nbconvert_exporter": "python",
      "pygments_lexer": "ipython3",
      "version": "3.12.3"
    }
  },
  "nbformat": 4,
  "nbformat_minor": 0
}