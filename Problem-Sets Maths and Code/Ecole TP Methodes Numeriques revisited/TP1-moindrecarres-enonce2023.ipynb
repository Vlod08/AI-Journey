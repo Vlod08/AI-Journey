{
 "cells": [
  {
   "cell_type": "markdown",
   "id": "f0bb8c9f",
   "metadata": {
    "deletable": false,
    "editable": false
   },
   "source": [
    "<center><font size=\"5\"> TP 1 : Approximation polynomiale par les moindres carrés </font> </center>"
   ]
  },
  {
   "cell_type": "markdown",
   "id": "a5c8679a",
   "metadata": {
    "deletable": false,
    "editable": false
   },
   "source": [
    "\n",
    "On considère une suite d’observations $b = \\{b_i\\}_{i=1,\\dots ,m}$ dépendant d'une suite de données $t = \\{t_i\\}_{i=1,\\dots ,m}$, où les $t_i$ sont des nombres distincts. Notre objectif est de trouver un polynôme\n",
    "$$ p(t) = x_0 + x_1 t + x_2 t^2 + \\dots + x_{n-1} t^{n-1} $$\n",
    "qui approxime au mieux les points $\\{(t_i , b_i)\\}_{i=1,\\dots,m}$ au sens des moindres carrés."
   ]
  },
  {
   "cell_type": "markdown",
   "id": "96fa98be",
   "metadata": {
    "deletable": false,
    "editable": false
   },
   "source": [
    "Exprimer le problème à résoudre sous la forme d’un problème de moindres carrés linéaire\n",
    "$$\\min_{x\\in \\mathbb{R}^n} \\Vert Ax - b\\Vert_2, A \\in \\mathbb{R}^{m\\times n}, b \\in \\mathbb{R}^m$$\n",
    "Vérifier que la solution est unique."
   ]
  },
  {
   "cell_type": "code",
   "execution_count": null,
   "id": "9d14095a",
   "metadata": {},
   "outputs": [],
   "source": []
  },
  {
   "cell_type": "code",
   "execution_count": null,
   "id": "af7d5702",
   "metadata": {
    "deletable": false,
    "editable": false
   },
   "outputs": [],
   "source": [
    "import numpy as np\n",
    "from numpy import linalg as la"
   ]
  },
  {
   "cell_type": "markdown",
   "id": "c35eac7d-08db-4cf7-9cf9-6d17531382eb",
   "metadata": {},
   "source": [
    "Nous allons utiliser différentes fonctionnalités de la bibliothèque numpy. En voici quelques unes, toutes ne sont pas nécessaires, allez voir leur documentation et faites vos choix. \n",
    "\n",
    "<ul>\n",
    "    <li><tt>np.array</tt> : tableau manipulable, mais le * n'est pas la multiplication matricielle. </li>\n",
    "    <li><tt> A.T</tt> : donne la transposée</li>\n",
    "    <li><tt> A[i,j]</tt> </li>\n",
    "    <li><tt> A.shape</tt> </li>\n",
    "    <li><tt> A.dot(B)</tt> : multiplication entre array </li>\n",
    "    <li><tt> A@B</tt> : multiplication entre array </li>\n",
    "    <li><tt>np.zeros</tt> : attention crée un array </li>\n",
    "    <li><tt>la.inv</tt> : donne l'inverse</li>\n",
    "    <li><tt>la.pinv</tt> : donne un pseudo-inverse pour une matrice non carrée (typiquement triangulaire supérieure)</li>\n",
    "    <li><tt>la.cholesky</tt></li>\n",
    "    <li><tt>la.qr</tt></li>\n",
    "    <li><tt>la.norm</tt></li>\n",
    "</ul>\n",
    "\n"
   ]
  },
  {
   "cell_type": "markdown",
   "id": "5246f617-8041-472f-b139-a601247af105",
   "metadata": {
    "deletable": false,
    "editable": false
   },
   "source": []
  },
  {
   "cell_type": "raw",
   "id": "338b7d56-0467-4f7e-9295-7aad64374be8",
   "metadata": {
    "deletable": false,
    "editable": false
   },
   "source": [
    "Nous allons utiliser différentes fonctionnalités de la bibliothèque numpy. En voici quelques unes, toutes ne sont pas nécessaires, allez voir leur documentation et faites vos choix. \n",
    "\n",
    "<ul>\n",
    "    <li><tt>np.array</tt> : tableau manipulable, mais le * ne serait pas la multiplication matricielle. </li>\n",
    "    <ul>\n",
    "        <li><tt> A.T</tt> : donne la transposée</li>\n",
    "        <li><tt> A[i,j]</tt> </li>\n",
    "        <li><tt> A.shape</tt> </li>\n",
    "        <li><tt> A.dot(B)</tt> : multiplication entre array </li><li><tt> A.dot(B)</tt> : multiplication entre array </li>\n",
    "    </ul>\n",
    "    <li><tt>np.matrix</tt> : matrice, le * est la multiplication</li>\n",
    "    <ul>\n",
    "        <li><tt> A.T</tt> : donne la transposée</li>\n",
    "        <li><tt> A[i,j]</tt> </li>\n",
    "        <li><tt> A.shape</tt> </li>\n",
    "    </ul>\n",
    "    <li><tt>np.asmatrix</tt> : gère la conversion array vers matrix</li>\n",
    "    <li><tt>np.zeros</tt> : attention crée un array </li>\n",
    "    <li><tt>la.inv</tt> : donne l'inverse</li>\n",
    "    <li><tt>la.pinv</tt> : donne un pseudo-inverse pour une matrice non carrée (typiquement triangulaire supérieure)</li>\n",
    "    <li><tt>la.cholesky</tt></li>\n",
    "    <li><tt>la.qr</tt> : bien lire la documentation et comprendre qu'il faut mettre l'option <tt> 'complete' </tt></li>\n",
    "    <li><tt>la.norm</tt></li>\n",
    "</ul>\n",
    "\n",
    "**Exemple numé"
   ]
  },
  {
   "cell_type": "markdown",
   "id": "ecf16c54-a7be-4828-b94b-558812e3208e",
   "metadata": {
    "deletable": false,
    "editable": false
   },
   "source": [
    "**Exemple numérique:**"
   ]
  },
  {
   "cell_type": "markdown",
   "id": "b6ebf7a1",
   "metadata": {
    "deletable": false,
    "editable": false
   },
   "source": [
    "Supposons que nous avons les données suivantes : "
   ]
  },
  {
   "cell_type": "markdown",
   "id": "9ff6a606",
   "metadata": {
    "deletable": false,
    "editable": false
   },
   "source": [
    "$$\\begin{array}{c|ccccccccccc}\n",
    "t & 11 & 12 & 13 & 14 & 15 & 16 & 17 & 18 & 19 & 20 & 21 \\\\ \\hline\n",
    "b & 2 & 7 & 9 & 12 & 13 & 14 & 14 & 13 & 10 & 8 & 4 \n",
    "\\end{array}$$"
   ]
  },
  {
   "cell_type": "markdown",
   "id": "efd5454b",
   "metadata": {
    "deletable": false,
    "editable": false
   },
   "source": [
    "Commencer par donner la fonction <tt>Vandermonde(n,t)</tt> permettant de calculer la matrice $A$ du système de taille $n$ avec les données $t$. Cette matrice est ce qu'on appelle une matrice de Vandermonde. "
   ]
  },
  {
   "cell_type": "code",
   "execution_count": null,
   "id": "f67a45b2",
   "metadata": {},
   "outputs": [],
   "source": []
  },
  {
   "cell_type": "code",
   "execution_count": null,
   "id": "b77371ed",
   "metadata": {},
   "outputs": [],
   "source": []
  },
  {
   "cell_type": "markdown",
   "id": "47b35767",
   "metadata": {
    "deletable": false,
    "editable": false
   },
   "source": [
    "Pour différentes valeurs de n (de $n = 2$ à $n = 5$), calculer en utilisant la méthode\n",
    "des équations normales le polynôme $p(t)$ qui approxime au mieux les données\n",
    "fournies (solution $x_{ne}$ ).\n",
    "\n",
    "Pour cela écrivez une fonction <tt> equanorm(B, t, n) </tt>. Cette fonction renverra également l'erreur relative :\n",
    "$$\\frac{\\Vert Ax_{ne} - B\\Vert}{\\Vert B\\Vert}$$"
   ]
  },
  {
   "cell_type": "code",
   "execution_count": null,
   "id": "0956f59b",
   "metadata": {},
   "outputs": [],
   "source": []
  },
  {
   "cell_type": "code",
   "execution_count": null,
   "id": "1d139de3",
   "metadata": {},
   "outputs": [],
   "source": []
  },
  {
   "cell_type": "markdown",
   "id": "caa5e2de",
   "metadata": {
    "deletable": false,
    "editable": false
   },
   "source": [
    "Pour différentes valeurs de n (de $n = 2$ à $n = 5$), calculer en utilisant la factorisation QR le polynôme $p(t)$ qui approxime au mieux les données\n",
    "fournies (solution $x_{qr}$ ).\n",
    "\n",
    "Pour cela écrivez une fonction <tt> factoQR(B, t, n) </tt>. Cette fonction renverra également l'erreur relative :\n",
    "$$\\frac{\\Vert Ax_{qr} - B\\Vert}{\\Vert B\\Vert}$$"
   ]
  },
  {
   "cell_type": "code",
   "execution_count": null,
   "id": "8627e9e0",
   "metadata": {},
   "outputs": [],
   "source": []
  },
  {
   "cell_type": "code",
   "execution_count": null,
   "id": "c272ab15",
   "metadata": {},
   "outputs": [],
   "source": []
  },
  {
   "cell_type": "markdown",
   "id": "be0fc780",
   "metadata": {
    "deletable": false,
    "editable": false
   },
   "source": [
    "Ecrire un programme <tt>compare(B,t,n)</tt> affichant de 2 à n les erreurs relatives pour la méthode qr, la méthode des équations normales, et la différence entre les deux normes :\n",
    "$$\\frac{\\Vert x_{qr} - x_{ne}\\Vert}{\\Vert x_{ne}\\Vert}$$\n",
    "\n",
    "Vous afficherez ensuite dans un <tt>plot</tt> les points des erreurs relatives des deux méthodes en fonction de $n$, et dans un autre plot la différence des normes en fonction de $n$.\n",
    "\n",
    "(utilisez <tt>import matplotlib.pyplot as plt</tt>, et allez voir les fonctionnalités)"
   ]
  },
  {
   "cell_type": "markdown",
   "id": "04d0b413",
   "metadata": {
    "deletable": false,
    "editable": false
   },
   "source": [
    "Pour les fonctionnalités on pense notamment à :\n",
    "<ul>\n",
    "    <li><tt>plt.plot</tt> </li>\n",
    "    <li><tt>plt.show()</tt></li>\n",
    "    <li><tt>plt.figure</tt></li>\n",
    "    <li><tt>np.linspace</tt> : utile pour faire un plot de fonctions, il permet de définir plein d'abscisses réparties équitablement.\n",
    "</ul>"
   ]
  },
  {
   "cell_type": "code",
   "execution_count": null,
   "id": "fe346e02",
   "metadata": {},
   "outputs": [],
   "source": []
  },
  {
   "cell_type": "code",
   "execution_count": null,
   "id": "6d77aae1",
   "metadata": {},
   "outputs": [],
   "source": []
  },
  {
   "cell_type": "markdown",
   "id": "b0625bf0",
   "metadata": {
    "deletable": false,
    "editable": false
   },
   "source": [
    "**Pour mieux visualiser**\n",
    "\n",
    "Toujours en utilisant les fonctionnalités dans matplotlib, faites une fonction <tt>plotapprox(B,t, n)</tt> permettant de visualiser les points initiaux du système (définis par la suite d'abscisses $t$ et d'ordonnées $B$) et la fonction définie par <tt>factoQR(B, t,n)</tt>."
   ]
  },
  {
   "cell_type": "markdown",
   "id": "31b9739a",
   "metadata": {
    "deletable": false,
    "editable": false
   },
   "source": [
    "Testez aussi sur les données suivantes : \n",
    "$$\\begin{array}{c|ccccccccccc}\n",
    "t & 11 & 12 & 13 & 14 & 15 & 16 & 17 & 18 & 19 & 20 & 21 \\\\ \\hline\n",
    "b & 1 & 7 & 10 & 8 & 5 & 4 & 3 & 9 & 12 & 4 & 2\n",
    "\\end{array}$$"
   ]
  },
  {
   "cell_type": "code",
   "execution_count": null,
   "id": "481263bb",
   "metadata": {},
   "outputs": [],
   "source": []
  },
  {
   "cell_type": "code",
   "execution_count": null,
   "id": "02a3ce1c",
   "metadata": {},
   "outputs": [],
   "source": []
  }
 ],
 "metadata": {
  "celltoolbar": "Format de la Cellule Texte Brut",
  "kernelspec": {
   "display_name": "Python 3 (ipykernel)",
   "language": "python",
   "name": "python3"
  },
  "language_info": {
   "codemirror_mode": {
    "name": "ipython",
    "version": 3
   },
   "file_extension": ".py",
   "mimetype": "text/x-python",
   "name": "python",
   "nbconvert_exporter": "python",
   "pygments_lexer": "ipython3",
   "version": "3.8.17"
  }
 },
 "nbformat": 4,
 "nbformat_minor": 5
}
