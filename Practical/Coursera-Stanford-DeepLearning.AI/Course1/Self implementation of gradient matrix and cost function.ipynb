{
 "cells": [
  {
   "cell_type": "code",
   "execution_count": 1,
   "metadata": {},
   "outputs": [],
   "source": [
    "import numpy as np\n",
    "import matplotlib.pyplot as plt\n",
    "\n",
    "\n",
    "\"\"\"\n",
    "importing the modules of coursera to check the functions\n",
    "\n",
    "\"\"\"\n",
    "\n",
    "from lab_utils_multi import  *\n",
    "from lab_utils_common import *\n",
    "np.set_printoptions(precision=2)\n",
    "plt.style.use('./deeplearning.mplstyle')"
   ]
  },
  {
   "cell_type": "markdown",
   "metadata": {},
   "source": [
    "## Structure of the matrices x, w, and y :\n",
    "\n",
    "#### x : A mxn matrix where m is the number of data samples and n is the number of features plus one \n",
    "#### w : A nx1 matrix where each element is the parameter\n",
    "#### y : A mx1 matrix where each element is the expected output\n"
   ]
  },
  {
   "cell_type": "markdown",
   "metadata": {},
   "source": [
    "## Cost function for single data sample"
   ]
  },
  {
   "cell_type": "code",
   "execution_count": 2,
   "metadata": {},
   "outputs": [
    {
     "data": {
      "text/plain": [
       "242.0"
      ]
     },
     "execution_count": 2,
     "metadata": {},
     "output_type": "execute_result"
    }
   ],
   "source": [
    "def cost_1xn(x,y,w): \n",
    "    \"\"\"\n",
    "    This function calculates the cost of a single data sample\n",
    "    dim(x): 1xn\n",
    "    dim(w): nx1\n",
    "    dim(y): 1x1 \n",
    "    \"\"\" \n",
    "    x = np.array(x)\n",
    "    w = np.array(w)\n",
    "    cost = (x@w) - y\n",
    "    cost = 0.5*(cost**2)\n",
    "    return cost\n",
    "\n",
    "x = [1,2,3]\n",
    "w = [4,5,6]\n",
    "y = 10\n",
    "cost_1xn(x,y,w)\n"
   ]
  },
  {
   "cell_type": "markdown",
   "metadata": {},
   "source": [
    "## Cost function for m data samples"
   ]
  },
  {
   "cell_type": "code",
   "execution_count": 3,
   "metadata": {},
   "outputs": [
    {
     "name": "stdout",
     "output_type": "stream",
     "text": [
      "Cost calculated by the coursera ressources : 1.3333333333333333\n",
      "Cost calculated by the personal implementation : 1.3333333333333333\n"
     ]
    }
   ],
   "source": [
    "def cost_mxn(x,y,w): \n",
    "    \"\"\" \n",
    "    number of samples = m ; \n",
    "    number of features n+1 (x should be a matrice of dim: mxn;\n",
    "    w should be an array of dim (nx1)\n",
    "    \n",
    "    \"\"\"\n",
    "    \n",
    "    x = np.array(x)\n",
    "    y = np.array(y)\n",
    "    w = np.array(w)\n",
    "    m,n = x.shape\n",
    "    cost = y - (x@w)\n",
    "    cost = cost.T @ cost \n",
    "    # (or) \n",
    "    #cost = (cost**2).sum()   \n",
    "    cost = cost/(2*m) \n",
    "    return cost\n",
    "\n",
    "x = [[1,1,1],\n",
    "     [2,2,1],\n",
    "     [3,3,1]]\n",
    "\n",
    "w = [4,4,4]\n",
    "\n",
    "y = [ 10,20,30]\n",
    "\n",
    "\n",
    "x = np.array(x)\n",
    "w = np.array(w)\n",
    "y = np.array(y)\n",
    "\n",
    "# print(np.array(x[:,:2]))\n",
    "      \n",
    "C_cost=compute_cost_matrix(np.array(x[:,:2]),np.array(y),np.array(w[:2]),np.array(w[-1]))\n",
    "S_cost=cost_mxn(x,y,w)\n",
    "\n",
    "print(\"Cost calculated by the coursera ressources : \"+str(C_cost))\n",
    "\n",
    "print(\"Cost calculated by the personal implementation : \"+str(S_cost))\n",
    "\n",
    "    "
   ]
  },
  {
   "cell_type": "markdown",
   "metadata": {},
   "source": [
    "## Gradient calculator for a single data sample\n",
    "\n",
    "computes the gradient matrix for the gradient descent \n",
    "\n",
    "update :  w<sub>i</sub> = w<sub>i</sub> - a d(J(x,y,w,b)/dw<sub>i</sub>)  \n",
    "= > d(J(x,y,w)/dw<sub>i</sub>) = ()/dw<sub>i</sub>) \n",
    "\n",
    "a          :  learning rate of the algotrithm  \n",
    "J(x,y,w) :  cost function  \n",
    "w          : parameters \n",
    "\n"
   ]
  },
  {
   "cell_type": "code",
   "execution_count": 4,
   "metadata": {},
   "outputs": [
    {
     "name": "stdout",
     "output_type": "stream",
     "text": [
      "[18 24 30]\n"
     ]
    }
   ],
   "source": [
    "x = [1,2,3]\n",
    "w = [3,4,5]\n",
    "y = 20\n",
    "def gradient_1xn(x,y,w):\n",
    "    \"\"\" \n",
    "    This funxction returns the \n",
    "    gradient matrix of the cost function \n",
    "    with respect to w \n",
    "    dim(x) = nx1\n",
    "    dim(w) = nx1\n",
    "    dim(y) = 1x1\n",
    "    \"\"\"\n",
    "    x = np.array(x)\n",
    "    y = np.array(y)\n",
    "    w = np.array(w)\n",
    "    w = ( (x@w) -y ) * w\n",
    "    \n",
    "    return w\n",
    "\n",
    "print (gradient_1xn(x,y,w))\n",
    "    "
   ]
  },
  {
   "cell_type": "markdown",
   "metadata": {},
   "source": [
    "## Gradient calculator for a batch fo data"
   ]
  },
  {
   "cell_type": "code",
   "execution_count": 5,
   "metadata": {},
   "outputs": [
    {
     "name": "stdout",
     "output_type": "stream",
     "text": [
      "Cost calculated by the coursera ressources : (37.0, array([180.  , 217.  , 254.  , 206.33]))\n",
      "Cost calculated by the personal implementation : [180.   217.   254.   206.33  37.  ]\n"
     ]
    }
   ],
   "source": [
    "def gradient_mxn(x,y,w):\n",
    "    \"\"\" \n",
    "    This funxction returns the \n",
    "    gradient matrix of the cost function \n",
    "    with respect to w \n",
    "    dim(x) = mxn\n",
    "    dim(w) = nx1\n",
    "    dim(y) = mxn\n",
    "    \"\"\"\n",
    "    x = np.array(x)\n",
    "    y = np.array(y)\n",
    "    w = np.array(w)\n",
    "    \n",
    "    w =  ( x.T@x@w ) - ( x.T@y )\n",
    "    w = w/x.shape[0]\n",
    "    return w\n",
    "\n",
    "x = [[1,2,3,3,1],\n",
    "     [4,5,6,5,1],\n",
    "     [7,8,9,7,1]]\n",
    "\n",
    "w = [1,2,3,4,5]\n",
    "\n",
    "y = [10,20,30]\n",
    "\n",
    "\n",
    "\n",
    "x = np.array(x)\n",
    "w = np.array(w)\n",
    "y = np.array(y)\n",
    "\n",
    "      \n",
    "C_grad = compute_gradient_matrix(x[:,:-1],y,w[:-1],w[-1])\n",
    "\n",
    "S_grad = gradient_mxn(x=x,y=y,w=w)\n",
    "\n",
    "print(\"Cost calculated by the coursera ressources : \"+str(C_grad))\n",
    "\n",
    "print(\"Cost calculated by the personal implementation : \"+str(S_grad))\n",
    "\n",
    "\n",
    "    "
   ]
  },
  {
   "cell_type": "markdown",
   "metadata": {},
   "source": [
    "### The ouptut of the self-implemented and coursera functions are equivalent !!!"
   ]
  },
  {
   "cell_type": "code",
   "execution_count": null,
   "metadata": {},
   "outputs": [],
   "source": []
  }
 ],
 "metadata": {
  "kernelspec": {
   "display_name": "Python 3 (ipykernel)",
   "language": "python",
   "name": "python3"
  },
  "language_info": {
   "codemirror_mode": {
    "name": "ipython",
    "version": 3
   },
   "file_extension": ".py",
   "mimetype": "text/x-python",
   "name": "python",
   "nbconvert_exporter": "python",
   "pygments_lexer": "ipython3",
   "version": "3.11.5"
  }
 },
 "nbformat": 4,
 "nbformat_minor": 4
}
