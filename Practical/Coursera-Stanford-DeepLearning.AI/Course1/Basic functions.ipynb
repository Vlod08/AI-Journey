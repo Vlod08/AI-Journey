{
  "metadata": {
    "kernelspec": {
      "name": "python",
      "display_name": "Python (Pyodide)",
      "language": "python"
    },
    "language_info": {
      "codemirror_mode": {
        "name": "python",
        "version": 3
      },
      "file_extension": ".py",
      "mimetype": "text/x-python",
      "name": "python",
      "nbconvert_exporter": "python",
      "pygments_lexer": "ipython3",
      "version": "3.8"
    }
  },
  "nbformat_minor": 4,
  "nbformat": 4,
  "cells": [
    {
      "cell_type": "code",
      "source": "import numpy as np",
      "metadata": {
        "trusted": true
      },
      "outputs": [],
      "execution_count": 1
    },
    {
      "cell_type": "markdown",
      "source": "Structure of the matrices X, w, and Y to be explained and the results are to be verified by the examples of coursera",
      "metadata": {}
    },
    {
      "cell_type": "markdown",
      "source": "## Cost function for single data sample",
      "metadata": {}
    },
    {
      "cell_type": "code",
      "source": "def cost_1xn(x,y,w): \n    \"\"\"\n    This function calculates the cost of a single data sample\n    dim(x): 1xn\n    dim(w): nx1\n    dim(y): 1x1 \n    \"\"\" \n    x = np.array(x)\n    w = np.array(w)\n    cost = (x@w) - y\n    cost = 0.5*(cost**2)\n    return cost\n\nx = [1,2,3]\nw = [4,5,6]\ny = 10\ncost_1xn(x,y,w)\n    \n    ",
      "metadata": {
        "trusted": true
      },
      "outputs": [
        {
          "execution_count": 2,
          "output_type": "execute_result",
          "data": {
            "text/plain": "242.0"
          },
          "metadata": {}
        }
      ],
      "execution_count": 2
    },
    {
      "cell_type": "markdown",
      "source": "## Cost function for m data samples",
      "metadata": {}
    },
    {
      "cell_type": "code",
      "source": "def cost_mxn(x,y,w): \n    # number of samples = m ; \n    # number of features n+1 (x should be a matrice of dim: mxn;\n    # w should be an array of dim (nx1)\n    \n    x = np.array(x)\n    y = np.array(y)\n    w = np.array(w)\n    m,n = x.shape\n    cost = y - (x@w)\n    cost = cost.T @ cost \n    # (or) \n    #cost = (cost**2).sum()   \n    cost = cost/(2*m) \n    return cost\n\nx = [[1,1],\n     [2,2],\n     [3,3]]\nw = [4,4]\ny = [ 10,20,30 ]\n\ncost_mxn(x,y,w)\n\n    ",
      "metadata": {
        "trusted": true
      },
      "outputs": [
        {
          "execution_count": 6,
          "output_type": "execute_result",
          "data": {
            "text/plain": "9.333333333333334"
          },
          "metadata": {}
        }
      ],
      "execution_count": 6
    },
    {
      "cell_type": "markdown",
      "source": "## Gradient calculator for a single data sample\n\ncomputes the gradient matrix for the gradient descent \n\nupdate :  w<sub>i</sub> = w<sub>i</sub> - a d(J(x,y,w,b)/dw<sub>i</sub>)  \n= > d(J(x,y,w)/dw<sub>i</sub>) = ()/dw<sub>i</sub>) \n\na          :  learning rate of the algotrithm  \nJ(x,y,w) :  cost function  \nw          : parameters \n\n",
      "metadata": {}
    },
    {
      "cell_type": "code",
      "source": "x = [1,2,3]\nw = [3,4,5]\n\ny = 20\ndef gradient_1xn(x,y,w):\n    \"\"\" \n    This funxction returns the \n    gradient matrix of the cost function \n    with respect to w \n    dim(x) = nx1\n    dim(w) = nx1\n    dim(y) = 1x1\n    \"\"\"\n    x = np.array(x)\n    y = np.array(y)\n    w = np.array(w)\n    w = ( (x@w) -y ) * w\n    \n    return w\n\nprint (gradient_1xn(x,y,w))\n    ",
      "metadata": {
        "trusted": true
      },
      "outputs": [
        {
          "name": "stdout",
          "text": "[18 24 30]\n",
          "output_type": "stream"
        }
      ],
      "execution_count": 7
    },
    {
      "cell_type": "markdown",
      "source": "## Gradient calculator for a batch fo data",
      "metadata": {}
    },
    {
      "cell_type": "code",
      "source": "def gradient_mxn(x,y,w):\n    \"\"\" \n    This funxction returns the \n    gradient matrix of the cost function \n    with respect to w \n    dim(x) = mxn\n    dim(w) = nx1\n    dim(y) = mxn\n    \"\"\"\n    x = np.array(x)\n    y = np.array(y)\n    w = np.array(w)\n    \n    w =  ( x.T@x@w ) - ( x.T@y )\n    return w\n\nx = [[1,1],\n     [2,2],\n     [3,3]]\nw = [4,4]\ny = [10,20,30]\ngradient_mxn(x=x,y=y,w=w)\n    ",
      "metadata": {
        "trusted": true
      },
      "outputs": [
        {
          "execution_count": 8,
          "output_type": "execute_result",
          "data": {
            "text/plain": "array([-28, -28])"
          },
          "metadata": {}
        }
      ],
      "execution_count": 8
    },
    {
      "cell_type": "code",
      "source": "",
      "metadata": {
        "trusted": true
      },
      "outputs": [],
      "execution_count": null
    },
    {
      "cell_type": "code",
      "source": "",
      "metadata": {
        "trusted": true
      },
      "outputs": [],
      "execution_count": null
    },
    {
      "cell_type": "code",
      "source": "",
      "metadata": {
        "trusted": true
      },
      "outputs": [],
      "execution_count": null
    }
  ]
}