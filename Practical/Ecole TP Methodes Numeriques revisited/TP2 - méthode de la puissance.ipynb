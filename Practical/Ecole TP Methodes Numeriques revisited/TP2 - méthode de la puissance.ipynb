{
 "cells": [
  {
   "cell_type": "markdown",
   "metadata": {},
   "source": [
    "<center><font size=\"5\"> TP 2 : Approximation des valeurs propres </font> </center>"
   ]
  },
  {
   "cell_type": "markdown",
   "metadata": {},
   "source": [
    "\n",
    "Soient les matrices suivantes : \n",
    "$$\n",
    "A_1 = \\begin{pmatrix}\n",
    "-4 & 14 & 0 \\\\\n",
    "-3 & 13 & 0 \\\\\n",
    "-1 & 0 & 2\n",
    "\\end{pmatrix}, \\qquad\n",
    "A_2 = \\begin{pmatrix}\n",
    "2 & 0 & 0 \\\\\n",
    "0 & 0 & 0 \\\\\n",
    "0 & -2 & 1\n",
    "\\end{pmatrix}, \\qquad\n",
    "A_3 = \\begin{pmatrix}\n",
    "2 & 1 & 0 \\\\\n",
    "0 & 2 & 0 \\\\\n",
    "0 & 0 & 1\n",
    "\\end{pmatrix}\n",
    "$$"
   ]
  },
  {
   "cell_type": "markdown",
   "metadata": {},
   "source": [
    "On rappelle l'algorithme suivant, vu en cours : \n",
    "\n",
    "<font size=\"3\">**Algorithme : Méthode de la puissance**</font><br>\n",
    "**Nécessite** : $A$ une matrice, $x_0$ un vecteur <br>\n",
    "$\\text{} \\qquad k \\leftarrow 0 $ <br>\n",
    "$\\text{} \\qquad$ **Répéter** <br>\n",
    "$\\text{} \\qquad \\qquad x_{k+1} \\leftarrow \\frac{Ax_k}{\\Vert Ax_k \\Vert_2}$ <br>\n",
    "$\\text{} \\qquad \\qquad \\lambda_{k+1} \\leftarrow\\ x_{k+1}^TAx_{k+1}$ <br>\n",
    "$\\text{} \\qquad \\qquad k \\leftarrow k + 1$ <br>\n",
    "$\\text{} \\qquad $ **jusqu'à convergence** <br>\n",
    "**Retourne** $\\lambda_{k+1}$, $x_{k+1}$ et $k$"
   ]
  },
  {
   "cell_type": "markdown",
   "metadata": {},
   "source": [
    "Écrire une fonction <tt>puissance(A, x0, tol, itermax)</tt> dont les paramètres sont la matrice <tt>A</tt>, un vecteur initial <tt>x0</tt>, une tolérance <tt>tol</tt> et un nombre d’itérations maximal <tt>itermax</tt>. Cette fonction retourne la valeur propre de plus grand module, le vecteur propre associé et le nombre d’itérations nécessaires."
   ]
  },
  {
   "cell_type": "code",
   "execution_count": 1,
   "metadata": {},
   "outputs": [],
   "source": [
    "import numpy as np\n",
    "from numpy import linalg as la"
   ]
  },
  {
   "cell_type": "code",
   "execution_count": null,
   "metadata": {},
   "outputs": [],
   "source": []
  },
  {
   "cell_type": "markdown",
   "metadata": {},
   "source": [
    "Valider votre résultat en appliquant la fonction sur les matrices ci-dessus et en comparant les résultats à ceux obtenus en utilisant la fonction <tt>eig</tt> ou <tt>eigvals</tt> de <tt>Python</tt>."
   ]
  },
  {
   "cell_type": "code",
   "execution_count": null,
   "metadata": {},
   "outputs": [],
   "source": []
  },
  {
   "cell_type": "code",
   "execution_count": null,
   "metadata": {},
   "outputs": [],
   "source": []
  },
  {
   "cell_type": "markdown",
   "metadata": {},
   "source": [
    "Calculer la vitesse de convergence et la comparer avec la valeur théorique. Tracer deux courbes représentant la convergence et la convergence théorique."
   ]
  },
  {
   "cell_type": "code",
   "execution_count": null,
   "metadata": {},
   "outputs": [],
   "source": []
  },
  {
   "cell_type": "code",
   "execution_count": null,
   "metadata": {},
   "outputs": [],
   "source": []
  },
  {
   "cell_type": "code",
   "execution_count": null,
   "metadata": {},
   "outputs": [],
   "source": []
  },
  {
   "cell_type": "markdown",
   "metadata": {},
   "source": [
    "On rappelle l'algorithme suivant, vu en cours. Il ne s’agit ni plus ni moins que du précédent\n",
    "algorithme appliqué à la matrice inverse (d’où son nom)\n",
    "\n",
    "<font size=\"3\">**Algorithme : Méthode de la puissance inverse**</font><br>\n",
    "**Nécessite** : $A$ une matrice, $x_0$ un vecteur <br>\n",
    "$\\text{} \\qquad k \\leftarrow 0 $ <br>\n",
    "$\\text{} \\qquad$ **Répéter** <br>\n",
    "$\\text{} \\qquad \\qquad x_{k+1} \\leftarrow \\frac{Ax_k}{\\Vert Ax_k \\Vert_2}$ <br>\n",
    "$\\text{} \\qquad \\qquad \\lambda_{k+1} \\leftarrow\\ x_{k+1}^TAx_{k+1}$ <br>\n",
    "$\\text{} \\qquad \\qquad k \\leftarrow k + 1$ <br>\n",
    "$\\text{} \\qquad $ **jusqu'à convergence** <br>\n",
    "**Retourne** $\\lambda_{k+1}$, $x_{k+1}$ et $k$"
   ]
  },
  {
   "cell_type": "markdown",
   "metadata": {},
   "source": [
    "Écrire une fonction <tt>puissanceInv(A, x0, tol, itermax)</tt> dont les paramètres sont la matrice <tt>A</tt>, un vecteur initial <tt>x0</tt>, une tolérance <tt>tol</tt> et un nombre d’itérations maximal <tt>itermax</tt>. Cette fonction retourne la valeur propre de plus grand module, le vecteur propre associé et le nombre d’itérations nécessaires."
   ]
  },
  {
   "cell_type": "code",
   "execution_count": null,
   "metadata": {},
   "outputs": [],
   "source": []
  },
  {
   "cell_type": "code",
   "execution_count": null,
   "metadata": {},
   "outputs": [],
   "source": []
  },
  {
   "cell_type": "markdown",
   "metadata": {},
   "source": [
    "Valider votre résultat en appliquant la fonction sur les matrices ci-dessus et en comparant les résultats à ceux obtenus en utilisant la fonction <tt>eig</tt> ou <tt>eigvals</tt> de <tt>Python</tt>."
   ]
  },
  {
   "cell_type": "code",
   "execution_count": null,
   "metadata": {},
   "outputs": [],
   "source": []
  },
  {
   "cell_type": "code",
   "execution_count": null,
   "metadata": {},
   "outputs": [],
   "source": []
  },
  {
   "cell_type": "markdown",
   "metadata": {},
   "source": [
    "Calculer la vitesse de convergence et la comparer avec la valeur théorique. Tracer deux courbes représentant la convergence et la convergence théorique."
   ]
  },
  {
   "cell_type": "code",
   "execution_count": null,
   "metadata": {},
   "outputs": [],
   "source": []
  },
  {
   "cell_type": "code",
   "execution_count": null,
   "metadata": {},
   "outputs": [],
   "source": []
  },
  {
   "cell_type": "markdown",
   "metadata": {},
   "source": [
    "**PageRank et distribution stationnaire**"
   ]
  },
  {
   "cell_type": "markdown",
   "metadata": {},
   "source": [
    "L'algorithme PageRank de google fonctionne sur le principe suivant : on considère le graphe G défini par l'ensemble des sites du web comme sommets, avec une flèche d'un site A vers un site B à chaque fois que la page A à un hyperlien qui pointe vers B. \n",
    "L'idée de l'algorithme PageRank est de dire qu'une page a plus d'importance si elle est beaucoup pointée par des pages elles-mêmes beaucoup pointées. C'est donc une définition récurrente. \n",
    "\n",
    "Pour résoudre ce problème mathématique, on va modéliser notre graphe par une marche aléatoire. On part d'un sommet aléatoire, et on se demande quelle est la probabilité d'être dans un site donné à très long terme. Cette probabilité donne donc l'importance du site en question.\n",
    "\n",
    "Pour faire cela on considère la matrice d'adjacence du graphe G que l'on rend stochastique : sur chaque ligne on divise par une constante pour que la somme fasse 1. \n",
    "Le théorème de Perron Frobenius nous donne alors que cette matrice va posséder 1 comme plus grande valeur propre, avec et le vecteur propre associé (dont la somme des coefficients vaut 1) donne alors la probabilité de répartition à très long terme. \n",
    "\n",
    "On se donne différents graphes, faites un premier programme <tt>matriceadj(G)</tt> donnant la matrice d'adjacence stochastique des graphes, puis appliquer la méthode de la puissance pour en déduire la répartition probabiliste (le pagerank donc)"
   ]
  },
  {
   "cell_type": "code",
   "execution_count": 2,
   "metadata": {},
   "outputs": [],
   "source": [
    "import networkx as nx\n",
    "import matplotlib.pyplot as plt "
   ]
  },
  {
   "cell_type": "code",
   "execution_count": 3,
   "metadata": {},
   "outputs": [
    {
     "data": {
      "image/png": "[encoded data removed]",
      "text/plain": [
       "<Figure size 432x288 with 1 Axes>"
      ]
     },
     "metadata": {},
     "output_type": "display_data"
    }
   ],
   "source": [
    "G1 = nx.DiGraph()\n",
    "G1.add_edges_from([(1,1), (1,3), (3,1), (3,3), (2,2), (2,1), (2,3)])\n",
    "nx.draw(G1)\n",
    "plt.show()"
   ]
  },
  {
   "cell_type": "code",
   "execution_count": 4,
   "metadata": {},
   "outputs": [
    {
     "data": {
      "image/png": "[encoded data removed]",
      "text/plain": [
       "<Figure size 432x288 with 1 Axes>"
      ]
     },
     "metadata": {},
     "output_type": "display_data"
    }
   ],
   "source": [
    "G2 = nx.DiGraph()\n",
    "G2.add_edges_from([(1,2), (1,3), (3,1), (3,2), (3,5), (5,4), (4,5), (4,6), (6,4), (5,6)])\n",
    "nx.draw(G2)\n",
    "plt.show()"
   ]
  },
  {
   "cell_type": "code",
   "execution_count": null,
   "metadata": {},
   "outputs": [],
   "source": []
  }
 ],
 "metadata": {
  "kernelspec": {
   "display_name": "Python 3",
   "language": "python",
   "name": "python3"
  },
  "language_info": {
   "codemirror_mode": {
    "name": "ipython",
    "version": 3
   },
   "file_extension": ".py",
   "mimetype": "text/x-python",
   "name": "python",
   "nbconvert_exporter": "python",
   "pygments_lexer": "ipython3",
   "version": "3.8.10"
  }
 },
 "nbformat": 4,
 "nbformat_minor": 5
}
